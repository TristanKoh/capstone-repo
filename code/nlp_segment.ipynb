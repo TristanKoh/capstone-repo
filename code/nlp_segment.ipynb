{
 "cells": [
  {
   "cell_type": "code",
   "execution_count": 1,
   "metadata": {},
   "outputs": [],
   "source": [
    "SEED = 1\n",
    "\n",
    "import pandas as pd\n",
    "import sklearn\n",
    "import seaborn as sns\n",
    "\n",
    "PATH_SENTENCE_TEXT = r\"../dataset/concat_sentence_text.csv\"\n",
    "PATH_SEGMENT_TEXT = r\"../dataset/concat_segment_text.csv\""
   ]
  },
  {
   "cell_type": "code",
   "execution_count": 2,
   "metadata": {},
   "outputs": [
    {
     "data": {
      "text/html": [
       "<div>\n",
       "<style scoped>\n",
       "    .dataframe tbody tr th:only-of-type {\n",
       "        vertical-align: middle;\n",
       "    }\n",
       "\n",
       "    .dataframe tbody tr th {\n",
       "        vertical-align: top;\n",
       "    }\n",
       "\n",
       "    .dataframe thead th {\n",
       "        text-align: right;\n",
       "    }\n",
       "</style>\n",
       "<table border=\"1\" class=\"dataframe\">\n",
       "  <thead>\n",
       "    <tr style=\"text-align: right;\">\n",
       "      <th></th>\n",
       "      <th>segment_text</th>\n",
       "      <th>practice</th>\n",
       "      <th>modality</th>\n",
       "    </tr>\n",
       "  </thead>\n",
       "  <tbody>\n",
       "    <tr>\n",
       "      <th>0</th>\n",
       "      <td>PRIVACY POLICY This privacy policy (hereafter ...</td>\n",
       "      <td>NaN</td>\n",
       "      <td>NaN</td>\n",
       "    </tr>\n",
       "    <tr>\n",
       "      <th>1</th>\n",
       "      <td>1. ABOUT OUR PRODUCTS 1.1 Our products offer a...</td>\n",
       "      <td>NaN</td>\n",
       "      <td>NaN</td>\n",
       "    </tr>\n",
       "    <tr>\n",
       "      <th>2</th>\n",
       "      <td>2. THE INFORMATION WE COLLECT The information ...</td>\n",
       "      <td>Identifier_Cookie_or_similar_Tech_1stParty</td>\n",
       "      <td>PERFORMED</td>\n",
       "    </tr>\n",
       "    <tr>\n",
       "      <th>3</th>\n",
       "      <td>2. THE INFORMATION WE COLLECT The information ...</td>\n",
       "      <td>Identifier_IP_Address_1stParty</td>\n",
       "      <td>PERFORMED</td>\n",
       "    </tr>\n",
       "    <tr>\n",
       "      <th>4</th>\n",
       "      <td>2.2 In addition, we store certain information ...</td>\n",
       "      <td>Identifier_Cookie_or_similar_Tech_1stParty</td>\n",
       "      <td>PERFORMED</td>\n",
       "    </tr>\n",
       "  </tbody>\n",
       "</table>\n",
       "</div>"
      ],
      "text/plain": [
       "                                        segment_text  \\\n",
       "0  PRIVACY POLICY This privacy policy (hereafter ...   \n",
       "1  1. ABOUT OUR PRODUCTS 1.1 Our products offer a...   \n",
       "2  2. THE INFORMATION WE COLLECT The information ...   \n",
       "3  2. THE INFORMATION WE COLLECT The information ...   \n",
       "4  2.2 In addition, we store certain information ...   \n",
       "\n",
       "                                     practice   modality  \n",
       "0                                         NaN        NaN  \n",
       "1                                         NaN        NaN  \n",
       "2  Identifier_Cookie_or_similar_Tech_1stParty  PERFORMED  \n",
       "3              Identifier_IP_Address_1stParty  PERFORMED  \n",
       "4  Identifier_Cookie_or_similar_Tech_1stParty  PERFORMED  "
      ]
     },
     "execution_count": 2,
     "metadata": {},
     "output_type": "execute_result"
    }
   ],
   "source": [
    "df_segments = pd.read_csv(PATH_SEGMENT_TEXT)\n",
    "df_segments.head()"
   ]
  },
  {
   "cell_type": "markdown",
   "metadata": {},
   "source": [
    "### There are NaNs in the data\n",
    "Because some segments do not have an associated privacy practice. \n",
    "Tried fill na with \"none\", but performance was not that different."
   ]
  },
  {
   "cell_type": "code",
   "execution_count": 3,
   "metadata": {},
   "outputs": [
    {
     "data": {
      "text/html": [
       "<div>\n",
       "<style scoped>\n",
       "    .dataframe tbody tr th:only-of-type {\n",
       "        vertical-align: middle;\n",
       "    }\n",
       "\n",
       "    .dataframe tbody tr th {\n",
       "        vertical-align: top;\n",
       "    }\n",
       "\n",
       "    .dataframe thead th {\n",
       "        text-align: right;\n",
       "    }\n",
       "</style>\n",
       "<table border=\"1\" class=\"dataframe\">\n",
       "  <thead>\n",
       "    <tr style=\"text-align: right;\">\n",
       "      <th></th>\n",
       "      <th>segment_text</th>\n",
       "      <th>practice</th>\n",
       "      <th>modality</th>\n",
       "    </tr>\n",
       "  </thead>\n",
       "  <tbody>\n",
       "    <tr>\n",
       "      <th>2</th>\n",
       "      <td>2. THE INFORMATION WE COLLECT The information ...</td>\n",
       "      <td>Identifier_Cookie_or_similar_Tech_1stParty</td>\n",
       "      <td>PERFORMED</td>\n",
       "    </tr>\n",
       "    <tr>\n",
       "      <th>3</th>\n",
       "      <td>2. THE INFORMATION WE COLLECT The information ...</td>\n",
       "      <td>Identifier_IP_Address_1stParty</td>\n",
       "      <td>PERFORMED</td>\n",
       "    </tr>\n",
       "    <tr>\n",
       "      <th>4</th>\n",
       "      <td>2.2 In addition, we store certain information ...</td>\n",
       "      <td>Identifier_Cookie_or_similar_Tech_1stParty</td>\n",
       "      <td>PERFORMED</td>\n",
       "    </tr>\n",
       "    <tr>\n",
       "      <th>8</th>\n",
       "      <td>2.3 6677g may also use ad network providers to...</td>\n",
       "      <td>Identifier_Cookie_or_similar_Tech_3rdParty</td>\n",
       "      <td>PERFORMED</td>\n",
       "    </tr>\n",
       "    <tr>\n",
       "      <th>10</th>\n",
       "      <td>2.5 6677g may share demographic information (c...</td>\n",
       "      <td>Demographic_3rdParty</td>\n",
       "      <td>PERFORMED</td>\n",
       "    </tr>\n",
       "  </tbody>\n",
       "</table>\n",
       "</div>"
      ],
      "text/plain": [
       "                                         segment_text  \\\n",
       "2   2. THE INFORMATION WE COLLECT The information ...   \n",
       "3   2. THE INFORMATION WE COLLECT The information ...   \n",
       "4   2.2 In addition, we store certain information ...   \n",
       "8   2.3 6677g may also use ad network providers to...   \n",
       "10  2.5 6677g may share demographic information (c...   \n",
       "\n",
       "                                      practice   modality  \n",
       "2   Identifier_Cookie_or_similar_Tech_1stParty  PERFORMED  \n",
       "3               Identifier_IP_Address_1stParty  PERFORMED  \n",
       "4   Identifier_Cookie_or_similar_Tech_1stParty  PERFORMED  \n",
       "8   Identifier_Cookie_or_similar_Tech_3rdParty  PERFORMED  \n",
       "10                        Demographic_3rdParty  PERFORMED  "
      ]
     },
     "execution_count": 3,
     "metadata": {},
     "output_type": "execute_result"
    }
   ],
   "source": [
    "df_segments = df_segments.dropna()\n",
    "df_segments.head()"
   ]
  },
  {
   "cell_type": "code",
   "execution_count": 4,
   "metadata": {},
   "outputs": [],
   "source": [
    "from sklearn.model_selection import train_test_split\n",
    "from sklearn.metrics import classification_report"
   ]
  },
  {
   "cell_type": "code",
   "execution_count": 5,
   "metadata": {},
   "outputs": [],
   "source": [
    "from sklearn.feature_extraction.text import TfidfVectorizer\n",
    "vectorizer = TfidfVectorizer(stop_words={'english'}, ngram_range=(1,2), strip_accents='ascii', binary = True)\n",
    "tfidf_vectors = vectorizer.fit_transform(df_segments[\"segment_text\"])"
   ]
  },
  {
   "cell_type": "code",
   "execution_count": 6,
   "metadata": {},
   "outputs": [],
   "source": [
    "x_train, x_test, y_train, y_test = train_test_split(tfidf_vectors, df_segments[\"practice\"], test_size = 0.2, random_state = SEED)"
   ]
  },
  {
   "cell_type": "markdown",
   "metadata": {},
   "source": [
    "## Testing with logistic regression"
   ]
  },
  {
   "cell_type": "code",
   "execution_count": 7,
   "metadata": {},
   "outputs": [],
   "source": [
    "from sklearn.linear_model import LogisticRegression"
   ]
  },
  {
   "cell_type": "code",
   "execution_count": 8,
   "metadata": {},
   "outputs": [],
   "source": [
    "logistic_clf = LogisticRegression(random_state = SEED, max_iter = 500, n_jobs = -1, multi_class = \"ovr\").fit(x_train, y_train)\n",
    "y_pred = logistic_clf.predict(x_test)"
   ]
  },
  {
   "cell_type": "code",
   "execution_count": 9,
   "metadata": {},
   "outputs": [
    {
     "name": "stdout",
     "output_type": "stream",
     "text": [
      "                                            precision    recall  f1-score   support\n",
      "\n",
      "                          Contact_1stParty       0.11      0.03      0.04        37\n",
      "                          Contact_3rdParty       0.00      0.00      0.00         5\n",
      "             Contact_Address_Book_1stParty       0.33      0.23      0.27        40\n",
      "             Contact_Address_Book_3rdParty       0.00      0.00      0.00         3\n",
      "                     Contact_City_1stParty       0.00      0.00      0.00        20\n",
      "                     Contact_City_3rdParty       0.00      0.00      0.00         3\n",
      "           Contact_E_Mail_Address_1stParty       0.25      0.56      0.34       248\n",
      "           Contact_E_Mail_Address_3rdParty       0.00      0.00      0.00        29\n",
      "                 Contact_Password_1stParty       0.08      0.02      0.03        46\n",
      "                 Contact_Password_3rdParty       0.00      0.00      0.00         2\n",
      "             Contact_Phone_Number_1stParty       0.14      0.16      0.15       100\n",
      "             Contact_Phone_Number_3rdParty       0.00      0.00      0.00         8\n",
      "           Contact_Postal_Address_1stParty       0.00      0.00      0.00        69\n",
      "           Contact_Postal_Address_3rdParty       0.00      0.00      0.00         9\n",
      "                      Contact_ZIP_1stParty       0.00      0.00      0.00        19\n",
      "                      Contact_ZIP_3rdParty       0.00      0.00      0.00         4\n",
      "                      Demographic_1stParty       0.50      0.13      0.21        30\n",
      "                      Demographic_3rdParty       1.00      0.36      0.53        11\n",
      "                  Demographic_Age_1stParty       0.04      0.02      0.02        55\n",
      "                  Demographic_Age_3rdParty       0.00      0.00      0.00         7\n",
      "               Demographic_Gender_1stParty       0.07      0.03      0.04        37\n",
      "               Demographic_Gender_3rdParty       0.00      0.00      0.00         6\n",
      "                              Facebook_SSO       0.06      0.02      0.03        52\n",
      "                       Identifier_1stParty       0.00      0.00      0.00        14\n",
      "                       Identifier_3rdParty       0.00      0.00      0.00         9\n",
      "                 Identifier_Ad_ID_1stParty       0.00      0.00      0.00        28\n",
      "                 Identifier_Ad_ID_3rdParty       0.00      0.00      0.00        15\n",
      "Identifier_Cookie_or_similar_Tech_1stParty       0.41      0.75      0.53       168\n",
      "Identifier_Cookie_or_similar_Tech_3rdParty       0.20      0.27      0.23       101\n",
      "             Identifier_Device_ID_1stParty       0.11      0.13      0.12        87\n",
      "             Identifier_Device_ID_3rdParty       0.08      0.03      0.04        36\n",
      "                  Identifier_IMEI_1stParty       0.00      0.00      0.00        20\n",
      "                  Identifier_IMEI_3rdParty       0.00      0.00      0.00         7\n",
      "                  Identifier_IMSI_1stParty       0.00      0.00      0.00         4\n",
      "            Identifier_IP_Address_1stParty       0.16      0.26      0.19       115\n",
      "            Identifier_IP_Address_3rdParty       0.04      0.02      0.03        49\n",
      "                   Identifier_MAC_1stParty       0.00      0.00      0.00        14\n",
      "                   Identifier_MAC_3rdParty       0.00      0.00      0.00        15\n",
      "        Identifier_Mobile_Carrier_1stParty       0.00      0.00      0.00        15\n",
      "        Identifier_Mobile_Carrier_3rdParty       0.00      0.00      0.00         5\n",
      "            Identifier_SIM_Serial_1stParty       0.00      0.00      0.00         7\n",
      "            Identifier_SSID_BSSID_1stParty       0.00      0.00      0.00         3\n",
      "                         Location_1stParty       0.21      0.49      0.30       168\n",
      "                         Location_3rdParty       0.05      0.02      0.03        46\n",
      "               Location_Bluetooth_1stParty       0.00      0.00      0.00        26\n",
      "               Location_Bluetooth_3rdParty       0.00      0.00      0.00        11\n",
      "              Location_Cell_Tower_1stParty       0.00      0.00      0.00        30\n",
      "              Location_Cell_Tower_3rdParty       0.00      0.00      0.00        10\n",
      "                     Location_GPS_1stParty       0.00      0.00      0.00        51\n",
      "                     Location_GPS_3rdParty       0.00      0.00      0.00        11\n",
      "              Location_IP_Address_1stParty       0.00      0.00      0.00        22\n",
      "              Location_IP_Address_3rdParty       0.00      0.00      0.00        12\n",
      "                    Location_WiFi_1stParty       0.00      0.00      0.00        30\n",
      "                    Location_WiFi_3rdParty       0.00      0.00      0.00        16\n",
      "                                       SSO       0.22      0.21      0.22        56\n",
      "\n",
      "                                  accuracy                           0.23      2041\n",
      "                                 macro avg       0.07      0.07      0.06      2041\n",
      "                              weighted avg       0.15      0.23      0.17      2041\n",
      "\n"
     ]
    },
    {
     "name": "stderr",
     "output_type": "stream",
     "text": [
      "c:\\Users\\Tristan\\anaconda3\\lib\\site-packages\\sklearn\\metrics\\_classification.py:1318: UndefinedMetricWarning: Precision and F-score are ill-defined and being set to 0.0 in labels with no predicted samples. Use `zero_division` parameter to control this behavior.\n",
      "  _warn_prf(average, modifier, msg_start, len(result))\n",
      "c:\\Users\\Tristan\\anaconda3\\lib\\site-packages\\sklearn\\metrics\\_classification.py:1318: UndefinedMetricWarning: Precision and F-score are ill-defined and being set to 0.0 in labels with no predicted samples. Use `zero_division` parameter to control this behavior.\n",
      "  _warn_prf(average, modifier, msg_start, len(result))\n",
      "c:\\Users\\Tristan\\anaconda3\\lib\\site-packages\\sklearn\\metrics\\_classification.py:1318: UndefinedMetricWarning: Precision and F-score are ill-defined and being set to 0.0 in labels with no predicted samples. Use `zero_division` parameter to control this behavior.\n",
      "  _warn_prf(average, modifier, msg_start, len(result))\n"
     ]
    }
   ],
   "source": [
    "print(classification_report(y_test, y_pred))"
   ]
  },
  {
   "cell_type": "markdown",
   "metadata": {},
   "source": [
    "## Testing with SGDClassifier"
   ]
  },
  {
   "cell_type": "code",
   "execution_count": 10,
   "metadata": {},
   "outputs": [],
   "source": [
    "from sklearn.linear_model import SGDClassifier"
   ]
  },
  {
   "cell_type": "code",
   "execution_count": 11,
   "metadata": {},
   "outputs": [],
   "source": [
    "clf_sgdclassifier = SGDClassifier(loss = \"hinge\", max_iter = 5000, random_state=SEED, n_jobs = -1).fit(x_train, y_train)\n",
    "y_pred = clf_sgdclassifier.predict(x_test)"
   ]
  },
  {
   "cell_type": "code",
   "execution_count": 12,
   "metadata": {},
   "outputs": [
    {
     "name": "stdout",
     "output_type": "stream",
     "text": [
      "                                            precision    recall  f1-score   support\n",
      "\n",
      "                          Contact_1stParty       0.13      0.14      0.13        37\n",
      "                          Contact_3rdParty       0.00      0.00      0.00         5\n",
      "             Contact_Address_Book_1stParty       0.30      0.53      0.39        40\n",
      "             Contact_Address_Book_3rdParty       0.00      0.00      0.00         3\n",
      "                     Contact_City_1stParty       0.00      0.00      0.00        20\n",
      "                     Contact_City_3rdParty       0.00      0.00      0.00         3\n",
      "           Contact_E_Mail_Address_1stParty       0.31      0.33      0.32       248\n",
      "           Contact_E_Mail_Address_3rdParty       0.07      0.03      0.05        29\n",
      "                 Contact_Password_1stParty       0.20      0.13      0.16        46\n",
      "                 Contact_Password_3rdParty       0.00      0.00      0.00         2\n",
      "             Contact_Phone_Number_1stParty       0.10      0.12      0.11       100\n",
      "             Contact_Phone_Number_3rdParty       0.00      0.00      0.00         8\n",
      "           Contact_Postal_Address_1stParty       0.05      0.04      0.04        69\n",
      "           Contact_Postal_Address_3rdParty       0.00      0.00      0.00         9\n",
      "                      Contact_ZIP_1stParty       0.00      0.00      0.00        19\n",
      "                      Contact_ZIP_3rdParty       0.00      0.00      0.00         4\n",
      "                      Demographic_1stParty       0.27      0.27      0.27        30\n",
      "                      Demographic_3rdParty       0.24      0.36      0.29        11\n",
      "                  Demographic_Age_1stParty       0.03      0.02      0.02        55\n",
      "                  Demographic_Age_3rdParty       0.00      0.00      0.00         7\n",
      "               Demographic_Gender_1stParty       0.06      0.05      0.06        37\n",
      "               Demographic_Gender_3rdParty       0.00      0.00      0.00         6\n",
      "                              Facebook_SSO       0.06      0.04      0.05        52\n",
      "                       Identifier_1stParty       0.00      0.00      0.00        14\n",
      "                       Identifier_3rdParty       0.00      0.00      0.00         9\n",
      "                 Identifier_Ad_ID_1stParty       0.16      0.18      0.17        28\n",
      "                 Identifier_Ad_ID_3rdParty       0.07      0.13      0.09        15\n",
      "Identifier_Cookie_or_similar_Tech_1stParty       0.44      0.57      0.50       168\n",
      "Identifier_Cookie_or_similar_Tech_3rdParty       0.23      0.24      0.23       101\n",
      "             Identifier_Device_ID_1stParty       0.13      0.14      0.13        87\n",
      "             Identifier_Device_ID_3rdParty       0.05      0.03      0.03        36\n",
      "                  Identifier_IMEI_1stParty       0.18      0.10      0.13        20\n",
      "                  Identifier_IMEI_3rdParty       0.00      0.00      0.00         7\n",
      "                  Identifier_IMSI_1stParty       0.00      0.00      0.00         4\n",
      "                  Identifier_IMSI_3rdParty       0.00      0.00      0.00         0\n",
      "            Identifier_IP_Address_1stParty       0.18      0.18      0.18       115\n",
      "            Identifier_IP_Address_3rdParty       0.03      0.02      0.02        49\n",
      "                   Identifier_MAC_1stParty       0.00      0.00      0.00        14\n",
      "                   Identifier_MAC_3rdParty       0.00      0.00      0.00        15\n",
      "        Identifier_Mobile_Carrier_1stParty       0.00      0.00      0.00        15\n",
      "        Identifier_Mobile_Carrier_3rdParty       0.00      0.00      0.00         5\n",
      "            Identifier_SIM_Serial_1stParty       0.00      0.00      0.00         7\n",
      "            Identifier_SIM_Serial_3rdParty       0.00      0.00      0.00         0\n",
      "            Identifier_SSID_BSSID_1stParty       0.00      0.00      0.00         3\n",
      "            Identifier_SSID_BSSID_3rdParty       0.00      0.00      0.00         0\n",
      "                         Location_1stParty       0.26      0.27      0.27       168\n",
      "                         Location_3rdParty       0.04      0.02      0.03        46\n",
      "               Location_Bluetooth_1stParty       0.00      0.00      0.00        26\n",
      "               Location_Bluetooth_3rdParty       0.00      0.00      0.00        11\n",
      "              Location_Cell_Tower_1stParty       0.00      0.00      0.00        30\n",
      "              Location_Cell_Tower_3rdParty       0.00      0.00      0.00        10\n",
      "                     Location_GPS_1stParty       0.00      0.00      0.00        51\n",
      "                     Location_GPS_3rdParty       0.00      0.00      0.00        11\n",
      "              Location_IP_Address_1stParty       0.00      0.00      0.00        22\n",
      "              Location_IP_Address_3rdParty       0.00      0.00      0.00        12\n",
      "                    Location_WiFi_1stParty       0.00      0.00      0.00        30\n",
      "                    Location_WiFi_3rdParty       0.00      0.00      0.00        16\n",
      "                                       SSO       0.22      0.18      0.20        56\n",
      "\n",
      "                                  accuracy                           0.18      2041\n",
      "                                 macro avg       0.07      0.07      0.07      2041\n",
      "                              weighted avg       0.16      0.18      0.17      2041\n",
      "\n"
     ]
    },
    {
     "name": "stderr",
     "output_type": "stream",
     "text": [
      "c:\\Users\\Tristan\\anaconda3\\lib\\site-packages\\sklearn\\metrics\\_classification.py:1318: UndefinedMetricWarning: Precision and F-score are ill-defined and being set to 0.0 in labels with no predicted samples. Use `zero_division` parameter to control this behavior.\n",
      "  _warn_prf(average, modifier, msg_start, len(result))\n",
      "c:\\Users\\Tristan\\anaconda3\\lib\\site-packages\\sklearn\\metrics\\_classification.py:1318: UndefinedMetricWarning: Recall and F-score are ill-defined and being set to 0.0 in labels with no true samples. Use `zero_division` parameter to control this behavior.\n",
      "  _warn_prf(average, modifier, msg_start, len(result))\n",
      "c:\\Users\\Tristan\\anaconda3\\lib\\site-packages\\sklearn\\metrics\\_classification.py:1318: UndefinedMetricWarning: Precision and F-score are ill-defined and being set to 0.0 in labels with no predicted samples. Use `zero_division` parameter to control this behavior.\n",
      "  _warn_prf(average, modifier, msg_start, len(result))\n",
      "c:\\Users\\Tristan\\anaconda3\\lib\\site-packages\\sklearn\\metrics\\_classification.py:1318: UndefinedMetricWarning: Recall and F-score are ill-defined and being set to 0.0 in labels with no true samples. Use `zero_division` parameter to control this behavior.\n",
      "  _warn_prf(average, modifier, msg_start, len(result))\n",
      "c:\\Users\\Tristan\\anaconda3\\lib\\site-packages\\sklearn\\metrics\\_classification.py:1318: UndefinedMetricWarning: Precision and F-score are ill-defined and being set to 0.0 in labels with no predicted samples. Use `zero_division` parameter to control this behavior.\n",
      "  _warn_prf(average, modifier, msg_start, len(result))\n",
      "c:\\Users\\Tristan\\anaconda3\\lib\\site-packages\\sklearn\\metrics\\_classification.py:1318: UndefinedMetricWarning: Recall and F-score are ill-defined and being set to 0.0 in labels with no true samples. Use `zero_division` parameter to control this behavior.\n",
      "  _warn_prf(average, modifier, msg_start, len(result))\n"
     ]
    }
   ],
   "source": [
    "print(classification_report(y_test, y_pred))"
   ]
  }
 ],
 "metadata": {
  "kernelspec": {
   "display_name": "Python 3.9.12 ('base')",
   "language": "python",
   "name": "python3"
  },
  "language_info": {
   "codemirror_mode": {
    "name": "ipython",
    "version": 3
   },
   "file_extension": ".py",
   "mimetype": "text/x-python",
   "name": "python",
   "nbconvert_exporter": "python",
   "pygments_lexer": "ipython3",
   "version": "3.9.12"
  },
  "orig_nbformat": 4,
  "vscode": {
   "interpreter": {
    "hash": "3b85a762e04580a1c02188213ce1c8fbc05517cae97b604cf0d5b3c6b24b87b5"
   }
  }
 },
 "nbformat": 4,
 "nbformat_minor": 2
}
