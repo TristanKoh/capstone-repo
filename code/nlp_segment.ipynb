{
 "cells": [
  {
   "cell_type": "code",
   "execution_count": 1,
   "metadata": {},
   "outputs": [],
   "source": [
    "SEED = 1\n",
    "\n",
    "import pandas as pd\n",
    "import seaborn as sns\n",
    "from sklearn.feature_extraction.text import TfidfVectorizer\n",
    "from sklearn.model_selection import train_test_split\n",
    "from sklearn.metrics import classification_report\n",
    "from sklearn.linear_model import LogisticRegression\n",
    "from sklearn.linear_model import SGDClassifier\n",
    "from sklearn.svm import SVC\n",
    "\n",
    "PATH_SENTENCE_TEXT = r\"../dataset/concat_sentence_text.csv\"\n",
    "PATH_SEGMENT_TEXT = r\"../dataset/concat_segment_text.csv\""
   ]
  },
  {
   "cell_type": "code",
   "execution_count": 2,
   "metadata": {},
   "outputs": [
    {
     "data": {
      "text/html": [
       "<div>\n",
       "<style scoped>\n",
       "    .dataframe tbody tr th:only-of-type {\n",
       "        vertical-align: middle;\n",
       "    }\n",
       "\n",
       "    .dataframe tbody tr th {\n",
       "        vertical-align: top;\n",
       "    }\n",
       "\n",
       "    .dataframe thead th {\n",
       "        text-align: right;\n",
       "    }\n",
       "</style>\n",
       "<table border=\"1\" class=\"dataframe\">\n",
       "  <thead>\n",
       "    <tr style=\"text-align: right;\">\n",
       "      <th></th>\n",
       "      <th>segment_text</th>\n",
       "      <th>practice</th>\n",
       "      <th>modality</th>\n",
       "    </tr>\n",
       "  </thead>\n",
       "  <tbody>\n",
       "    <tr>\n",
       "      <th>0</th>\n",
       "      <td>PRIVACY POLICY This privacy policy (hereafter ...</td>\n",
       "      <td>NaN</td>\n",
       "      <td>NaN</td>\n",
       "    </tr>\n",
       "    <tr>\n",
       "      <th>1</th>\n",
       "      <td>1. ABOUT OUR PRODUCTS 1.1 Our products offer a...</td>\n",
       "      <td>NaN</td>\n",
       "      <td>NaN</td>\n",
       "    </tr>\n",
       "    <tr>\n",
       "      <th>2</th>\n",
       "      <td>2. THE INFORMATION WE COLLECT The information ...</td>\n",
       "      <td>Identifier_Cookie_or_similar_Tech_1stParty</td>\n",
       "      <td>PERFORMED</td>\n",
       "    </tr>\n",
       "    <tr>\n",
       "      <th>3</th>\n",
       "      <td>2. THE INFORMATION WE COLLECT The information ...</td>\n",
       "      <td>Identifier_IP_Address_1stParty</td>\n",
       "      <td>PERFORMED</td>\n",
       "    </tr>\n",
       "    <tr>\n",
       "      <th>4</th>\n",
       "      <td>2.2 In addition, we store certain information ...</td>\n",
       "      <td>Identifier_Cookie_or_similar_Tech_1stParty</td>\n",
       "      <td>PERFORMED</td>\n",
       "    </tr>\n",
       "  </tbody>\n",
       "</table>\n",
       "</div>"
      ],
      "text/plain": [
       "                                        segment_text  \\\n",
       "0  PRIVACY POLICY This privacy policy (hereafter ...   \n",
       "1  1. ABOUT OUR PRODUCTS 1.1 Our products offer a...   \n",
       "2  2. THE INFORMATION WE COLLECT The information ...   \n",
       "3  2. THE INFORMATION WE COLLECT The information ...   \n",
       "4  2.2 In addition, we store certain information ...   \n",
       "\n",
       "                                     practice   modality  \n",
       "0                                         NaN        NaN  \n",
       "1                                         NaN        NaN  \n",
       "2  Identifier_Cookie_or_similar_Tech_1stParty  PERFORMED  \n",
       "3              Identifier_IP_Address_1stParty  PERFORMED  \n",
       "4  Identifier_Cookie_or_similar_Tech_1stParty  PERFORMED  "
      ]
     },
     "execution_count": 2,
     "metadata": {},
     "output_type": "execute_result"
    }
   ],
   "source": [
    "df = pd.read_csv(PATH_SEGMENT_TEXT)\n",
    "df.head()"
   ]
  },
  {
   "cell_type": "markdown",
   "metadata": {},
   "source": [
    "#### Cut df down to top N practices - probably less noise because not all the counts per practice are equal."
   ]
  },
  {
   "cell_type": "code",
   "execution_count": 3,
   "metadata": {},
   "outputs": [
    {
     "data": {
      "text/html": [
       "<div>\n",
       "<style scoped>\n",
       "    .dataframe tbody tr th:only-of-type {\n",
       "        vertical-align: middle;\n",
       "    }\n",
       "\n",
       "    .dataframe tbody tr th {\n",
       "        vertical-align: top;\n",
       "    }\n",
       "\n",
       "    .dataframe thead th {\n",
       "        text-align: right;\n",
       "    }\n",
       "</style>\n",
       "<table border=\"1\" class=\"dataframe\">\n",
       "  <thead>\n",
       "    <tr style=\"text-align: right;\">\n",
       "      <th></th>\n",
       "      <th>practice</th>\n",
       "      <th>counts</th>\n",
       "    </tr>\n",
       "  </thead>\n",
       "  <tbody>\n",
       "    <tr>\n",
       "      <th>0</th>\n",
       "      <td>Contact_E_Mail_Address_1stParty</td>\n",
       "      <td>1105</td>\n",
       "    </tr>\n",
       "    <tr>\n",
       "      <th>1</th>\n",
       "      <td>Identifier_Cookie_or_similar_Tech_1stParty</td>\n",
       "      <td>858</td>\n",
       "    </tr>\n",
       "    <tr>\n",
       "      <th>2</th>\n",
       "      <td>Location_1stParty</td>\n",
       "      <td>821</td>\n",
       "    </tr>\n",
       "    <tr>\n",
       "      <th>3</th>\n",
       "      <td>Identifier_IP_Address_1stParty</td>\n",
       "      <td>590</td>\n",
       "    </tr>\n",
       "    <tr>\n",
       "      <th>4</th>\n",
       "      <td>Contact_Phone_Number_1stParty</td>\n",
       "      <td>565</td>\n",
       "    </tr>\n",
       "    <tr>\n",
       "      <th>5</th>\n",
       "      <td>Identifier_Cookie_or_similar_Tech_3rdParty</td>\n",
       "      <td>524</td>\n",
       "    </tr>\n",
       "    <tr>\n",
       "      <th>6</th>\n",
       "      <td>Identifier_Device_ID_1stParty</td>\n",
       "      <td>446</td>\n",
       "    </tr>\n",
       "    <tr>\n",
       "      <th>7</th>\n",
       "      <td>Contact_Postal_Address_1stParty</td>\n",
       "      <td>364</td>\n",
       "    </tr>\n",
       "    <tr>\n",
       "      <th>8</th>\n",
       "      <td>SSO</td>\n",
       "      <td>274</td>\n",
       "    </tr>\n",
       "    <tr>\n",
       "      <th>9</th>\n",
       "      <td>Demographic_Age_1stParty</td>\n",
       "      <td>259</td>\n",
       "    </tr>\n",
       "  </tbody>\n",
       "</table>\n",
       "</div>"
      ],
      "text/plain": [
       "                                     practice  counts\n",
       "0             Contact_E_Mail_Address_1stParty    1105\n",
       "1  Identifier_Cookie_or_similar_Tech_1stParty     858\n",
       "2                           Location_1stParty     821\n",
       "3              Identifier_IP_Address_1stParty     590\n",
       "4               Contact_Phone_Number_1stParty     565\n",
       "5  Identifier_Cookie_or_similar_Tech_3rdParty     524\n",
       "6               Identifier_Device_ID_1stParty     446\n",
       "7             Contact_Postal_Address_1stParty     364\n",
       "8                                         SSO     274\n",
       "9                    Demographic_Age_1stParty     259"
      ]
     },
     "execution_count": 3,
     "metadata": {},
     "output_type": "execute_result"
    }
   ],
   "source": [
    "# Save counts into a dataframe\n",
    "df_value_counts = df[\"practice\"].value_counts().rename_axis(\"practice\").reset_index(name = \"counts\")\n",
    "df_value_counts.head(10)"
   ]
  },
  {
   "cell_type": "markdown",
   "metadata": {},
   "source": [
    "### There are NaNs in the data\n",
    "Because some segments do not have an associated privacy practice. Filled with \"None\"."
   ]
  },
  {
   "cell_type": "code",
   "execution_count": 4,
   "metadata": {},
   "outputs": [
    {
     "data": {
      "text/html": [
       "<div>\n",
       "<style scoped>\n",
       "    .dataframe tbody tr th:only-of-type {\n",
       "        vertical-align: middle;\n",
       "    }\n",
       "\n",
       "    .dataframe tbody tr th {\n",
       "        vertical-align: top;\n",
       "    }\n",
       "\n",
       "    .dataframe thead th {\n",
       "        text-align: right;\n",
       "    }\n",
       "</style>\n",
       "<table border=\"1\" class=\"dataframe\">\n",
       "  <thead>\n",
       "    <tr style=\"text-align: right;\">\n",
       "      <th></th>\n",
       "      <th>segment_text</th>\n",
       "      <th>practice</th>\n",
       "      <th>modality</th>\n",
       "    </tr>\n",
       "  </thead>\n",
       "  <tbody>\n",
       "    <tr>\n",
       "      <th>0</th>\n",
       "      <td>PRIVACY POLICY This privacy policy (hereafter ...</td>\n",
       "      <td>None</td>\n",
       "      <td>None</td>\n",
       "    </tr>\n",
       "    <tr>\n",
       "      <th>1</th>\n",
       "      <td>1. ABOUT OUR PRODUCTS 1.1 Our products offer a...</td>\n",
       "      <td>None</td>\n",
       "      <td>None</td>\n",
       "    </tr>\n",
       "    <tr>\n",
       "      <th>2</th>\n",
       "      <td>2. THE INFORMATION WE COLLECT The information ...</td>\n",
       "      <td>Identifier_Cookie_or_similar_Tech_1stParty</td>\n",
       "      <td>PERFORMED</td>\n",
       "    </tr>\n",
       "    <tr>\n",
       "      <th>3</th>\n",
       "      <td>2. THE INFORMATION WE COLLECT The information ...</td>\n",
       "      <td>Identifier_IP_Address_1stParty</td>\n",
       "      <td>PERFORMED</td>\n",
       "    </tr>\n",
       "    <tr>\n",
       "      <th>4</th>\n",
       "      <td>2.2 In addition, we store certain information ...</td>\n",
       "      <td>Identifier_Cookie_or_similar_Tech_1stParty</td>\n",
       "      <td>PERFORMED</td>\n",
       "    </tr>\n",
       "  </tbody>\n",
       "</table>\n",
       "</div>"
      ],
      "text/plain": [
       "                                        segment_text  \\\n",
       "0  PRIVACY POLICY This privacy policy (hereafter ...   \n",
       "1  1. ABOUT OUR PRODUCTS 1.1 Our products offer a...   \n",
       "2  2. THE INFORMATION WE COLLECT The information ...   \n",
       "3  2. THE INFORMATION WE COLLECT The information ...   \n",
       "4  2.2 In addition, we store certain information ...   \n",
       "\n",
       "                                     practice   modality  \n",
       "0                                        None       None  \n",
       "1                                        None       None  \n",
       "2  Identifier_Cookie_or_similar_Tech_1stParty  PERFORMED  \n",
       "3              Identifier_IP_Address_1stParty  PERFORMED  \n",
       "4  Identifier_Cookie_or_similar_Tech_1stParty  PERFORMED  "
      ]
     },
     "execution_count": 4,
     "metadata": {},
     "output_type": "execute_result"
    }
   ],
   "source": [
    "df = df.fillna(\"None\")\n",
    "df.head()"
   ]
  },
  {
   "cell_type": "code",
   "execution_count": 8,
   "metadata": {},
   "outputs": [],
   "source": [
    "from sklearn.feature_extraction.text import TfidfVectorizer\n",
    "vectorizer = TfidfVectorizer(stop_words={'english'}, ngram_range=(1,4), strip_accents='ascii', binary = True)\n",
    "tfidf_vectors = vectorizer.fit_transform(df[\"segment_text\"])"
   ]
  },
  {
   "cell_type": "code",
   "execution_count": 9,
   "metadata": {},
   "outputs": [],
   "source": [
    "x_train, x_test, y_train, y_test = train_test_split(tfidf_vectors, df[\"practice\"], test_size = 0.2, random_state = SEED)"
   ]
  },
  {
   "cell_type": "markdown",
   "metadata": {},
   "source": [
    "## Testing with logistic regression"
   ]
  },
  {
   "cell_type": "code",
   "execution_count": 10,
   "metadata": {},
   "outputs": [],
   "source": [
    "from sklearn.linear_model import LogisticRegression"
   ]
  },
  {
   "cell_type": "code",
   "execution_count": 11,
   "metadata": {},
   "outputs": [],
   "source": [
    "logistic_clf = LogisticRegression(random_state = SEED, max_iter = 500, n_jobs = -1, multi_class = \"ovr\").fit(x_train, y_train)\n",
    "y_pred = logistic_clf.predict(x_test)"
   ]
  },
  {
   "cell_type": "code",
   "execution_count": 12,
   "metadata": {},
   "outputs": [
    {
     "name": "stdout",
     "output_type": "stream",
     "text": [
      "                                            precision    recall  f1-score   support\n",
      "\n",
      "           Contact_E_Mail_Address_1stParty       0.44      0.73      0.55       199\n",
      "             Contact_Phone_Number_1stParty       0.30      0.09      0.14       118\n",
      "Identifier_Cookie_or_similar_Tech_1stParty       0.72      0.78      0.75       169\n",
      "            Identifier_IP_Address_1stParty       0.54      0.32      0.40       131\n",
      "                         Location_1stParty       0.56      0.52      0.54       171\n",
      "\n",
      "                                  accuracy                           0.53       788\n",
      "                                 macro avg       0.51      0.49      0.48       788\n",
      "                              weighted avg       0.52      0.53      0.50       788\n",
      "\n"
     ]
    }
   ],
   "source": [
    "print(classification_report(y_test, y_pred))"
   ]
  },
  {
   "cell_type": "markdown",
   "metadata": {},
   "source": [
    "## Testing with SGDClassifier"
   ]
  },
  {
   "cell_type": "code",
   "execution_count": 13,
   "metadata": {},
   "outputs": [],
   "source": [
    "from sklearn.linear_model import SGDClassifier"
   ]
  },
  {
   "cell_type": "code",
   "execution_count": 14,
   "metadata": {},
   "outputs": [],
   "source": [
    "clf_sgdclassifier = SGDClassifier(loss = \"hinge\", max_iter = 5000, random_state=SEED, n_jobs = -1).fit(x_train, y_train)\n",
    "y_pred = clf_sgdclassifier.predict(x_test)"
   ]
  },
  {
   "cell_type": "code",
   "execution_count": 15,
   "metadata": {},
   "outputs": [
    {
     "name": "stdout",
     "output_type": "stream",
     "text": [
      "                                            precision    recall  f1-score   support\n",
      "\n",
      "           Contact_E_Mail_Address_1stParty       0.44      0.58      0.50       199\n",
      "             Contact_Phone_Number_1stParty       0.25      0.19      0.21       118\n",
      "Identifier_Cookie_or_similar_Tech_1stParty       0.73      0.79      0.76       169\n",
      "            Identifier_IP_Address_1stParty       0.48      0.32      0.38       131\n",
      "                         Location_1stParty       0.57      0.57      0.57       171\n",
      "\n",
      "                                  accuracy                           0.52       788\n",
      "                                 macro avg       0.50      0.49      0.49       788\n",
      "                              weighted avg       0.51      0.52      0.51       788\n",
      "\n"
     ]
    }
   ],
   "source": [
    "print(classification_report(y_test, y_pred))"
   ]
  },
  {
   "cell_type": "markdown",
   "metadata": {},
   "source": [
    "### Testing on top N practices (3 to 10) - same method as sentence level\n",
    "\n",
    "With tfidf and ngram range from 1 to 4"
   ]
  },
  {
   "cell_type": "code",
   "execution_count": 9,
   "metadata": {},
   "outputs": [],
   "source": [
    "def testing_top_n() :\n",
    "    \n",
    "    results_dict = {\"N\" : [], \"clf\" : [], \"report\" : []}\n",
    "\n",
    "    for n in range(3, 11) :\n",
    "\n",
    "        print(\"Training for \" + str(n))\n",
    "        # iterate through the top n practices\n",
    "        top_n_practice = list(df_value_counts[\"practice\"][:n])\n",
    "        df_subset = df[df[\"practice\"].isin(top_n_practice)]\n",
    "        \n",
    "        # Vectorize and split training and test sets\n",
    "        vectorizer = TfidfVectorizer(stop_words={'english'}, ngram_range=(1,4), strip_accents='ascii', binary = True)\n",
    "        tfidf_vectors = vectorizer.fit_transform(df_subset[\"segment_text\"])\n",
    "        x_train, x_test, y_train, y_test = train_test_split(tfidf_vectors, df_subset[\"practice\"], test_size = 0.2, random_state = SEED)\n",
    "        \n",
    "        # Fit classifiers\n",
    "        print(\"Fitting logistic...\")\n",
    "        logistic_clf = LogisticRegression(random_state = SEED, max_iter = 500, n_jobs = -1, multi_class = \"ovr\").fit(x_train, y_train)\n",
    "        y_pred = logistic_clf.predict(x_test)\n",
    "        results_dict[\"N\"] += [n]\n",
    "        results_dict[\"clf\"] += [logistic_clf]\n",
    "        results_dict[\"report\"] += [classification_report(y_test, y_pred, output_dict=True)]\n",
    "\n",
    "        print(\"Fitting SGDClassifier...\")\n",
    "        clf_sgdclassifier = SGDClassifier(loss = \"hinge\", max_iter = 5000, random_state=SEED, n_jobs = -1).fit(x_train, y_train)\n",
    "        y_pred = clf_sgdclassifier.predict(x_test)\n",
    "        results_dict[\"N\"] += [n]\n",
    "        results_dict[\"clf\"] += [clf_sgdclassifier]\n",
    "        results_dict[\"report\"] += [classification_report(y_test, y_pred, output_dict=True)]\n",
    "\n",
    "        print(\"Fitting SVC...\")\n",
    "        linearSVC_clf = SVC(kernel= \"linear\", class_weight=\"balanced\").fit(x_train, y_train)\n",
    "        y_pred = linearSVC_clf.predict(x_test)\n",
    "        results_dict[\"N\"] += [n]\n",
    "        results_dict[\"clf\"] += [linearSVC_clf]\n",
    "        results_dict[\"report\"] += [classification_report(y_test, y_pred, output_dict=True)]\n",
    "\n",
    "        print(\"Training done \" + str(n))\n",
    "\n",
    "    return results_dict"
   ]
  },
  {
   "cell_type": "code",
   "execution_count": 10,
   "metadata": {},
   "outputs": [
    {
     "name": "stdout",
     "output_type": "stream",
     "text": [
      "Training for 3\n",
      "Fitting logistic...\n",
      "Fitting SGDClassifier...\n",
      "Fitting SVC...\n",
      "Training done 3\n",
      "Training for 4\n",
      "Fitting logistic...\n",
      "Fitting SGDClassifier...\n",
      "Fitting SVC...\n",
      "Training done 4\n",
      "Training for 5\n",
      "Fitting logistic...\n",
      "Fitting SGDClassifier...\n",
      "Fitting SVC...\n",
      "Training done 5\n",
      "Training for 6\n",
      "Fitting logistic...\n",
      "Fitting SGDClassifier...\n",
      "Fitting SVC...\n",
      "Training done 6\n",
      "Training for 7\n",
      "Fitting logistic...\n",
      "Fitting SGDClassifier...\n",
      "Fitting SVC...\n",
      "Training done 7\n",
      "Training for 8\n",
      "Fitting logistic...\n",
      "Fitting SGDClassifier...\n",
      "Fitting SVC...\n",
      "Training done 8\n",
      "Training for 9\n",
      "Fitting logistic...\n",
      "Fitting SGDClassifier...\n",
      "Fitting SVC...\n",
      "Training done 9\n",
      "Training for 10\n",
      "Fitting logistic...\n",
      "Fitting SGDClassifier...\n",
      "Fitting SVC...\n",
      "Training done 10\n"
     ]
    }
   ],
   "source": [
    "results_dict = testing_top_n()"
   ]
  },
  {
   "cell_type": "code",
   "execution_count": 11,
   "metadata": {},
   "outputs": [
    {
     "data": {
      "text/html": [
       "<div>\n",
       "<style scoped>\n",
       "    .dataframe tbody tr th:only-of-type {\n",
       "        vertical-align: middle;\n",
       "    }\n",
       "\n",
       "    .dataframe tbody tr th {\n",
       "        vertical-align: top;\n",
       "    }\n",
       "\n",
       "    .dataframe thead th {\n",
       "        text-align: right;\n",
       "    }\n",
       "</style>\n",
       "<table border=\"1\" class=\"dataframe\">\n",
       "  <thead>\n",
       "    <tr style=\"text-align: right;\">\n",
       "      <th></th>\n",
       "      <th>N</th>\n",
       "      <th>clf</th>\n",
       "      <th>precision</th>\n",
       "      <th>recall</th>\n",
       "      <th>f1</th>\n",
       "      <th>support</th>\n",
       "    </tr>\n",
       "  </thead>\n",
       "  <tbody>\n",
       "    <tr>\n",
       "      <th>0</th>\n",
       "      <td>3</td>\n",
       "      <td>logistic</td>\n",
       "      <td>0.797934</td>\n",
       "      <td>0.795332</td>\n",
       "      <td>0.792923</td>\n",
       "      <td>557</td>\n",
       "    </tr>\n",
       "    <tr>\n",
       "      <th>1</th>\n",
       "      <td>3</td>\n",
       "      <td>sgd_classifier</td>\n",
       "      <td>0.797746</td>\n",
       "      <td>0.797127</td>\n",
       "      <td>0.797321</td>\n",
       "      <td>557</td>\n",
       "    </tr>\n",
       "    <tr>\n",
       "      <th>2</th>\n",
       "      <td>3</td>\n",
       "      <td>svc</td>\n",
       "      <td>0.802743</td>\n",
       "      <td>0.800718</td>\n",
       "      <td>0.801536</td>\n",
       "      <td>557</td>\n",
       "    </tr>\n",
       "    <tr>\n",
       "      <th>3</th>\n",
       "      <td>4</td>\n",
       "      <td>logistic</td>\n",
       "      <td>0.648615</td>\n",
       "      <td>0.662222</td>\n",
       "      <td>0.647635</td>\n",
       "      <td>675</td>\n",
       "    </tr>\n",
       "    <tr>\n",
       "      <th>4</th>\n",
       "      <td>4</td>\n",
       "      <td>sgd_classifier</td>\n",
       "      <td>0.653262</td>\n",
       "      <td>0.665185</td>\n",
       "      <td>0.657215</td>\n",
       "      <td>675</td>\n",
       "    </tr>\n",
       "  </tbody>\n",
       "</table>\n",
       "</div>"
      ],
      "text/plain": [
       "   N             clf  precision    recall        f1  support\n",
       "0  3        logistic   0.797934  0.795332  0.792923      557\n",
       "1  3  sgd_classifier   0.797746  0.797127  0.797321      557\n",
       "2  3             svc   0.802743  0.800718  0.801536      557\n",
       "3  4        logistic   0.648615  0.662222  0.647635      675\n",
       "4  4  sgd_classifier   0.653262  0.665185  0.657215      675"
      ]
     },
     "execution_count": 11,
     "metadata": {},
     "output_type": "execute_result"
    }
   ],
   "source": [
    "# Restructure results so that we can plot across different N numbers\n",
    "df_results = pd.DataFrame(results_dict)\n",
    "\n",
    "weighted_avg_dict = {\"precision\" : [], \"recall\" : [], \"f1\" : [], \"support\" : []}\n",
    "\n",
    "for row in df_results.itertuples(index = False) :\n",
    "    weighted_avg_dict[\"precision\"] += [row[2][\"weighted avg\"][\"precision\"]]\n",
    "    weighted_avg_dict[\"recall\"] += [row[2][\"weighted avg\"][\"recall\"]]\n",
    "    weighted_avg_dict[\"f1\"] += [row[2][\"weighted avg\"][\"f1-score\"]]\n",
    "    weighted_avg_dict[\"support\"] += [row[2][\"weighted avg\"][\"support\"]]\n",
    "\n",
    "df_results_weighted_avg = pd.DataFrame(\n",
    "    {\"N\" : df_results[\"N\"],\n",
    "    \"clf\" : [\"logistic\", \"sgd_classifier\", \"svc\"] * 8,\n",
    "    \"precision\" : weighted_avg_dict[\"precision\"],\n",
    "    \"recall\" : weighted_avg_dict[\"recall\"],\n",
    "    \"f1\" : weighted_avg_dict[\"f1\"],\n",
    "    \"support\" : weighted_avg_dict[\"support\"]}\n",
    ")\n",
    "\n",
    "df_results_weighted_avg.head()"
   ]
  },
  {
   "cell_type": "code",
   "execution_count": 12,
   "metadata": {},
   "outputs": [
    {
     "data": {
      "image/png": "[encoded data removed]",
      "text/plain": [
       "<Figure size 463.625x360 with 1 Axes>"
      ]
     },
     "metadata": {
      "needs_background": "light"
     },
     "output_type": "display_data"
    }
   ],
   "source": [
    "g = sns.catplot(data = df_results_weighted_avg, kind = \"bar\", x = \"N\", y = \"f1\", hue = \"clf\").set(title = \"F1 scores (weighted avg) for N between 3 and 10 inclusive\")"
   ]
  },
  {
   "cell_type": "code",
   "execution_count": 13,
   "metadata": {},
   "outputs": [
    {
     "data": {
      "image/png": "[encoded data removed]",
      "text/plain": [
       "<Figure size 463.625x360 with 1 Axes>"
      ]
     },
     "metadata": {
      "needs_background": "light"
     },
     "output_type": "display_data"
    }
   ],
   "source": [
    "g = sns.catplot(data = df_results_weighted_avg, kind = \"bar\", x = \"N\", y = \"precision\", hue = \"clf\").set(title = \"Precision scores (weighted avg) for N between 3 and 10 inclusive\")"
   ]
  },
  {
   "cell_type": "code",
   "execution_count": 14,
   "metadata": {},
   "outputs": [
    {
     "data": {
      "image/png": "[encoded data removed]",
      "text/plain": [
       "<Figure size 463.625x360 with 1 Axes>"
      ]
     },
     "metadata": {
      "needs_background": "light"
     },
     "output_type": "display_data"
    }
   ],
   "source": [
    "g = sns.catplot(data = df_results_weighted_avg, kind = \"bar\", x = \"N\", y = \"recall\", hue = \"clf\").set(title = \"Recall scores (weighted avg) for N between 3 and 10 inclusive\")"
   ]
  },
  {
   "cell_type": "markdown",
   "metadata": {},
   "source": [
    "### With Glove embeddings"
   ]
  },
  {
   "cell_type": "code",
   "execution_count": 5,
   "metadata": {},
   "outputs": [],
   "source": [
    "import numpy as np\n",
    "from sklearn.feature_extraction import text"
   ]
  },
  {
   "cell_type": "code",
   "execution_count": 6,
   "metadata": {},
   "outputs": [],
   "source": [
    "class GloveVectorizer:\n",
    "    def __init__(self, verbose=False, lowercase=True, remove_stopwords = True, minchars=3):\n",
    "        \n",
    "        # load in pre-trained word vectors\n",
    "        print('Loading word vectors...')\n",
    "        word2vec = {}\n",
    "        embedding = []\n",
    "        idx2word = []\n",
    "        with open('../glove/glove.6B/glove.6B.50d.txt', encoding = \"utf-8\") as f:\n",
    "              # is just a space-separated text file in the format:\n",
    "              # word vec[0] vec[1] vec[2] ...\n",
    "              for line in f:\n",
    "                values = line.split()\n",
    "                word = values[0]\n",
    "                vec = np.asarray(values[1:], dtype='float32')\n",
    "                word2vec[word] = vec\n",
    "                embedding.append(vec)\n",
    "                idx2word.append(word)\n",
    "        print('Found %s word vectors.' % len(word2vec))\n",
    "\n",
    "        self.word2vec = word2vec\n",
    "        self.embedding = np.array(embedding)\n",
    "        self.word2idx = {v:k for k,v in enumerate(idx2word)}\n",
    "        self.V, self.D = self.embedding.shape\n",
    "        self.verbose = verbose\n",
    "        self.lowercase = lowercase\n",
    "        self.remove_stopwords = remove_stopwords\n",
    "        self.minchars = minchars\n",
    "\n",
    "    def fit(self, data, *args):\n",
    "        pass\n",
    "\n",
    "    def transform(self, data, *args):\n",
    "        stopwords = list(text.ENGLISH_STOP_WORDS)\n",
    "        X = np.zeros((len(data), self.D))\n",
    "        n = 0\n",
    "        emptycount = 0\n",
    "\n",
    "        for sentence in data:\n",
    "            # Note: lower-casing the words\n",
    "            if self.lowercase & self.remove_stopwords:\n",
    "                tokens = sentence.lower().split()\n",
    "                tokens = [word for word in tokens if word not in stopwords]\n",
    "\n",
    "            else:\n",
    "                tokens = sentence.split()\n",
    "                tokens = [word for word in tokens if word not in stopwords]\n",
    "            vecs = []\n",
    "            for word in tokens:\n",
    "                if len(word) >= self.minchars and word in self.word2vec:\n",
    "                    vec = self.word2vec[word]\n",
    "                    vecs.append(vec)\n",
    "            if len(vecs) > 0:\n",
    "                vecs = np.array(vecs)\n",
    "                X[n] = vecs.mean(axis=0)\n",
    "            else:\n",
    "                emptycount += 1\n",
    "            n += 1\n",
    "        if self.verbose:\n",
    "            print(\"Number of samples with no words found / total: %s / %s\" % (emptycount, len(data)))\n",
    "        return X\n",
    "\n",
    "    def fit_transform(self, X, *args):\n",
    "        self.fit(X, *args)\n",
    "        return self.transform(X, *args)"
   ]
  },
  {
   "cell_type": "code",
   "execution_count": 7,
   "metadata": {},
   "outputs": [
    {
     "name": "stdout",
     "output_type": "stream",
     "text": [
      "Loading word vectors...\n",
      "Found 400000 word vectors.\n"
     ]
    }
   ],
   "source": [
    "gv = GloveVectorizer()"
   ]
  },
  {
   "cell_type": "code",
   "execution_count": 8,
   "metadata": {},
   "outputs": [],
   "source": [
    "def testing_top_n_glove() :\n",
    "    \n",
    "    results_dict = {\"N\" : [], \"clf\" : [], \"report\" : []}\n",
    "\n",
    "    for n in range(3, 11) :\n",
    "\n",
    "        print(\"Training for \" + str(n))\n",
    "        # iterate through the top n practices\n",
    "        top_n_practice = list(df_value_counts[\"practice\"][:n])\n",
    "        df_subset = df[df[\"practice\"].isin(top_n_practice)]\n",
    "        \n",
    "        # Vectorize and split training and test sets\n",
    "        vectorizer = gv\n",
    "        tfidf_vectors = vectorizer.fit_transform(df_subset[\"segment_text\"])\n",
    "        x_train, x_test, y_train, y_test = train_test_split(tfidf_vectors, df_subset[\"practice\"], test_size = 0.2, random_state = SEED)\n",
    "        \n",
    "        # Fit classifiers\n",
    "        print(\"Fitting logistic...\")\n",
    "        logistic_clf = LogisticRegression(random_state = SEED, max_iter = 500, n_jobs = -1, multi_class = \"ovr\").fit(x_train, y_train)\n",
    "        y_pred = logistic_clf.predict(x_test)\n",
    "        results_dict[\"N\"] += [n]\n",
    "        results_dict[\"clf\"] += [logistic_clf]\n",
    "        results_dict[\"report\"] += [classification_report(y_test, y_pred, output_dict=True)]\n",
    "\n",
    "        print(\"Fitting SGDClassifier...\")\n",
    "        clf_sgdclassifier = SGDClassifier(loss = \"hinge\", max_iter = 5000, random_state=SEED, n_jobs = -1).fit(x_train, y_train)\n",
    "        y_pred = clf_sgdclassifier.predict(x_test)\n",
    "        results_dict[\"N\"] += [n]\n",
    "        results_dict[\"clf\"] += [clf_sgdclassifier]\n",
    "        results_dict[\"report\"] += [classification_report(y_test, y_pred, output_dict=True)]\n",
    "\n",
    "        print(\"Fitting SVC...\")\n",
    "        linearSVC_clf = SVC(kernel= \"linear\", class_weight=\"balanced\").fit(x_train, y_train)\n",
    "        y_pred = linearSVC_clf.predict(x_test)\n",
    "        results_dict[\"N\"] += [n]\n",
    "        results_dict[\"clf\"] += [linearSVC_clf]\n",
    "        results_dict[\"report\"] += [classification_report(y_test, y_pred, output_dict=True)]\n",
    "\n",
    "        print(\"Training done \" + str(n))\n",
    "\n",
    "    return results_dict"
   ]
  },
  {
   "cell_type": "code",
   "execution_count": 11,
   "metadata": {},
   "outputs": [
    {
     "name": "stdout",
     "output_type": "stream",
     "text": [
      "Training for 3\n",
      "Fitting logistic...\n",
      "Fitting SGDClassifier...\n",
      "Fitting SVC...\n",
      "Training done 3\n",
      "Training for 4\n",
      "Fitting logistic...\n",
      "Fitting SGDClassifier...\n",
      "Fitting SVC...\n",
      "Training done 4\n",
      "Training for 5\n",
      "Fitting logistic...\n",
      "Fitting SGDClassifier...\n",
      "Fitting SVC...\n",
      "Training done 5\n",
      "Training for 6\n",
      "Fitting logistic...\n",
      "Fitting SGDClassifier...\n",
      "Fitting SVC...\n",
      "Training done 6\n",
      "Training for 7\n",
      "Fitting logistic...\n",
      "Fitting SGDClassifier...\n",
      "Fitting SVC...\n",
      "Training done 7\n",
      "Training for 8\n",
      "Fitting logistic...\n",
      "Fitting SGDClassifier...\n",
      "Fitting SVC...\n"
     ]
    },
    {
     "name": "stderr",
     "output_type": "stream",
     "text": [
      "c:\\Users\\Tristan\\anaconda3\\envs\\interpret_gpu\\lib\\site-packages\\sklearn\\metrics\\_classification.py:1308: UndefinedMetricWarning: Precision and F-score are ill-defined and being set to 0.0 in labels with no predicted samples. Use `zero_division` parameter to control this behavior.\n",
      "  _warn_prf(average, modifier, msg_start, len(result))\n",
      "c:\\Users\\Tristan\\anaconda3\\envs\\interpret_gpu\\lib\\site-packages\\sklearn\\metrics\\_classification.py:1308: UndefinedMetricWarning: Precision and F-score are ill-defined and being set to 0.0 in labels with no predicted samples. Use `zero_division` parameter to control this behavior.\n",
      "  _warn_prf(average, modifier, msg_start, len(result))\n",
      "c:\\Users\\Tristan\\anaconda3\\envs\\interpret_gpu\\lib\\site-packages\\sklearn\\metrics\\_classification.py:1308: UndefinedMetricWarning: Precision and F-score are ill-defined and being set to 0.0 in labels with no predicted samples. Use `zero_division` parameter to control this behavior.\n",
      "  _warn_prf(average, modifier, msg_start, len(result))\n"
     ]
    },
    {
     "name": "stdout",
     "output_type": "stream",
     "text": [
      "Training done 8\n",
      "Training for 9\n",
      "Fitting logistic...\n",
      "Fitting SGDClassifier...\n",
      "Fitting SVC...\n",
      "Training done 9\n",
      "Training for 10\n",
      "Fitting logistic...\n",
      "Fitting SGDClassifier...\n",
      "Fitting SVC...\n",
      "Training done 10\n"
     ]
    }
   ],
   "source": [
    "results_dict = testing_top_n_glove()"
   ]
  },
  {
   "cell_type": "code",
   "execution_count": 13,
   "metadata": {},
   "outputs": [
    {
     "data": {
      "text/html": [
       "<div>\n",
       "<style scoped>\n",
       "    .dataframe tbody tr th:only-of-type {\n",
       "        vertical-align: middle;\n",
       "    }\n",
       "\n",
       "    .dataframe tbody tr th {\n",
       "        vertical-align: top;\n",
       "    }\n",
       "\n",
       "    .dataframe thead th {\n",
       "        text-align: right;\n",
       "    }\n",
       "</style>\n",
       "<table border=\"1\" class=\"dataframe\">\n",
       "  <thead>\n",
       "    <tr style=\"text-align: right;\">\n",
       "      <th></th>\n",
       "      <th>N</th>\n",
       "      <th>clf</th>\n",
       "      <th>precision</th>\n",
       "      <th>recall</th>\n",
       "      <th>f1</th>\n",
       "      <th>support</th>\n",
       "    </tr>\n",
       "  </thead>\n",
       "  <tbody>\n",
       "    <tr>\n",
       "      <th>0</th>\n",
       "      <td>3</td>\n",
       "      <td>logistic</td>\n",
       "      <td>0.778871</td>\n",
       "      <td>0.779174</td>\n",
       "      <td>0.777766</td>\n",
       "      <td>557</td>\n",
       "    </tr>\n",
       "    <tr>\n",
       "      <th>1</th>\n",
       "      <td>3</td>\n",
       "      <td>sgd_classifier</td>\n",
       "      <td>0.773886</td>\n",
       "      <td>0.773788</td>\n",
       "      <td>0.773127</td>\n",
       "      <td>557</td>\n",
       "    </tr>\n",
       "    <tr>\n",
       "      <th>2</th>\n",
       "      <td>3</td>\n",
       "      <td>svc</td>\n",
       "      <td>0.776175</td>\n",
       "      <td>0.771993</td>\n",
       "      <td>0.773378</td>\n",
       "      <td>557</td>\n",
       "    </tr>\n",
       "    <tr>\n",
       "      <th>3</th>\n",
       "      <td>4</td>\n",
       "      <td>logistic</td>\n",
       "      <td>0.649279</td>\n",
       "      <td>0.665185</td>\n",
       "      <td>0.651496</td>\n",
       "      <td>675</td>\n",
       "    </tr>\n",
       "    <tr>\n",
       "      <th>4</th>\n",
       "      <td>4</td>\n",
       "      <td>sgd_classifier</td>\n",
       "      <td>0.649447</td>\n",
       "      <td>0.645926</td>\n",
       "      <td>0.639061</td>\n",
       "      <td>675</td>\n",
       "    </tr>\n",
       "  </tbody>\n",
       "</table>\n",
       "</div>"
      ],
      "text/plain": [
       "   N             clf  precision    recall        f1  support\n",
       "0  3        logistic   0.778871  0.779174  0.777766      557\n",
       "1  3  sgd_classifier   0.773886  0.773788  0.773127      557\n",
       "2  3             svc   0.776175  0.771993  0.773378      557\n",
       "3  4        logistic   0.649279  0.665185  0.651496      675\n",
       "4  4  sgd_classifier   0.649447  0.645926  0.639061      675"
      ]
     },
     "execution_count": 13,
     "metadata": {},
     "output_type": "execute_result"
    }
   ],
   "source": [
    "# Restructure results so that we can plot across different N numbers\n",
    "df_results_glove = pd.DataFrame(results_dict)\n",
    "\n",
    "weighted_avg_dict = {\"precision\" : [], \"recall\" : [], \"f1\" : [], \"support\" : []}\n",
    "\n",
    "for row in df_results_glove.itertuples(index = False) :\n",
    "    weighted_avg_dict[\"precision\"] += [row[2][\"weighted avg\"][\"precision\"]]\n",
    "    weighted_avg_dict[\"recall\"] += [row[2][\"weighted avg\"][\"recall\"]]\n",
    "    weighted_avg_dict[\"f1\"] += [row[2][\"weighted avg\"][\"f1-score\"]]\n",
    "    weighted_avg_dict[\"support\"] += [row[2][\"weighted avg\"][\"support\"]]\n",
    "\n",
    "df_results_glove_weighted_avg = pd.DataFrame(\n",
    "    {\"N\" : df_results_glove[\"N\"],\n",
    "    \"clf\" : [\"logistic\", \"sgd_classifier\", \"svc\"] * 8,\n",
    "    \"precision\" : weighted_avg_dict[\"precision\"],\n",
    "    \"recall\" : weighted_avg_dict[\"recall\"],\n",
    "    \"f1\" : weighted_avg_dict[\"f1\"],\n",
    "    \"support\" : weighted_avg_dict[\"support\"]}\n",
    ")\n",
    "\n",
    "df_results_glove_weighted_avg.head()"
   ]
  },
  {
   "cell_type": "code",
   "execution_count": 14,
   "metadata": {},
   "outputs": [
    {
     "data": {
      "image/png": "[encoded data removed]",
      "text/plain": [
       "<Figure size 463.625x360 with 1 Axes>"
      ]
     },
     "metadata": {
      "needs_background": "light"
     },
     "output_type": "display_data"
    }
   ],
   "source": [
    "g = sns.catplot(data = df_results_glove_weighted_avg, kind = \"bar\", x = \"N\", y = \"f1\", hue = \"clf\").set(title = \"F1 scores (weighted avg) for N between 3 and 10 inclusive\")"
   ]
  },
  {
   "cell_type": "code",
   "execution_count": 15,
   "metadata": {},
   "outputs": [
    {
     "data": {
      "image/png": "[encoded data removed]",
      "text/plain": [
       "<Figure size 463.625x360 with 1 Axes>"
      ]
     },
     "metadata": {
      "needs_background": "light"
     },
     "output_type": "display_data"
    }
   ],
   "source": [
    "g = sns.catplot(data = df_results_glove_weighted_avg, kind = \"bar\", x = \"N\", y = \"precision\", hue = \"clf\").set(title = \"Precision scores (weighted avg) for N between 3 and 10 inclusive\")"
   ]
  },
  {
   "cell_type": "code",
   "execution_count": 16,
   "metadata": {},
   "outputs": [
    {
     "data": {
      "image/png": "[encoded data removed]",
      "text/plain": [
       "<Figure size 463.625x360 with 1 Axes>"
      ]
     },
     "metadata": {
      "needs_background": "light"
     },
     "output_type": "display_data"
    }
   ],
   "source": [
    "g = sns.catplot(data = df_results_glove_weighted_avg, kind = \"bar\", x = \"N\", y = \"recall\", hue = \"clf\").set(title = \"Recall scores (weighted avg) for N between 3 and 10 inclusive\")"
   ]
  }
 ],
 "metadata": {
  "kernelspec": {
   "display_name": "Python 3.7.0 ('interpret_gpu')",
   "language": "python",
   "name": "python3"
  },
  "language_info": {
   "codemirror_mode": {
    "name": "ipython",
    "version": 3
   },
   "file_extension": ".py",
   "mimetype": "text/x-python",
   "name": "python",
   "nbconvert_exporter": "python",
   "pygments_lexer": "ipython3",
   "version": "3.7.0"
  },
  "orig_nbformat": 4,
  "vscode": {
   "interpreter": {
    "hash": "5f622adc888634df7afabb8a19e515c6c0448b764a13a8e3831abb14bea24c6c"
   }
  }
 },
 "nbformat": 4,
 "nbformat_minor": 2
}
