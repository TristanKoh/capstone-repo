{
 "cells": [
  {
   "cell_type": "markdown",
   "metadata": {},
   "source": [
    "## EDA on segment_text"
   ]
  },
  {
   "cell_type": "code",
   "execution_count": 1,
   "metadata": {},
   "outputs": [
    {
     "data": {
      "text/plain": [
       "'c:\\\\Users\\\\Tristan\\\\Desktop\\\\Capstone ML and Data privacy\\\\capstone-repo\\\\code\\\\data_restructuring'"
      ]
     },
     "execution_count": 1,
     "metadata": {},
     "output_type": "execute_result"
    }
   ],
   "source": [
    "import os\n",
    "os.getcwd()"
   ]
  },
  {
   "cell_type": "code",
   "execution_count": 4,
   "metadata": {},
   "outputs": [],
   "source": [
    "import pandas as pd\n",
    "import sklearn\n",
    "import seaborn as sns\n",
    "\n",
    "PATH = r\"../../dataset/concat_segment_text.csv\"\n"
   ]
  },
  {
   "cell_type": "code",
   "execution_count": 6,
   "metadata": {},
   "outputs": [
    {
     "data": {
      "text/html": [
       "<div>\n",
       "<style scoped>\n",
       "    .dataframe tbody tr th:only-of-type {\n",
       "        vertical-align: middle;\n",
       "    }\n",
       "\n",
       "    .dataframe tbody tr th {\n",
       "        vertical-align: top;\n",
       "    }\n",
       "\n",
       "    .dataframe thead th {\n",
       "        text-align: right;\n",
       "    }\n",
       "</style>\n",
       "<table border=\"1\" class=\"dataframe\">\n",
       "  <thead>\n",
       "    <tr style=\"text-align: right;\">\n",
       "      <th></th>\n",
       "      <th>segment_text</th>\n",
       "      <th>practice</th>\n",
       "      <th>modality</th>\n",
       "    </tr>\n",
       "  </thead>\n",
       "  <tbody>\n",
       "    <tr>\n",
       "      <th>0</th>\n",
       "      <td>PRIVACY POLICY This privacy policy (hereafter ...</td>\n",
       "      <td>NaN</td>\n",
       "      <td>NaN</td>\n",
       "    </tr>\n",
       "    <tr>\n",
       "      <th>1</th>\n",
       "      <td>1. ABOUT OUR PRODUCTS 1.1 Our products offer a...</td>\n",
       "      <td>NaN</td>\n",
       "      <td>NaN</td>\n",
       "    </tr>\n",
       "    <tr>\n",
       "      <th>2</th>\n",
       "      <td>2. THE INFORMATION WE COLLECT The information ...</td>\n",
       "      <td>Identifier_Cookie_or_similar_Tech_1stParty</td>\n",
       "      <td>PERFORMED</td>\n",
       "    </tr>\n",
       "    <tr>\n",
       "      <th>3</th>\n",
       "      <td>2. THE INFORMATION WE COLLECT The information ...</td>\n",
       "      <td>Identifier_IP_Address_1stParty</td>\n",
       "      <td>PERFORMED</td>\n",
       "    </tr>\n",
       "    <tr>\n",
       "      <th>4</th>\n",
       "      <td>2.2 In addition, we store certain information ...</td>\n",
       "      <td>Identifier_Cookie_or_similar_Tech_1stParty</td>\n",
       "      <td>PERFORMED</td>\n",
       "    </tr>\n",
       "  </tbody>\n",
       "</table>\n",
       "</div>"
      ],
      "text/plain": [
       "                                        segment_text  \\\n",
       "0  PRIVACY POLICY This privacy policy (hereafter ...   \n",
       "1  1. ABOUT OUR PRODUCTS 1.1 Our products offer a...   \n",
       "2  2. THE INFORMATION WE COLLECT The information ...   \n",
       "3  2. THE INFORMATION WE COLLECT The information ...   \n",
       "4  2.2 In addition, we store certain information ...   \n",
       "\n",
       "                                     practice   modality  \n",
       "0                                         NaN        NaN  \n",
       "1                                         NaN        NaN  \n",
       "2  Identifier_Cookie_or_similar_Tech_1stParty  PERFORMED  \n",
       "3              Identifier_IP_Address_1stParty  PERFORMED  \n",
       "4  Identifier_Cookie_or_similar_Tech_1stParty  PERFORMED  "
      ]
     },
     "execution_count": 6,
     "metadata": {},
     "output_type": "execute_result"
    }
   ],
   "source": [
    "df = pd.read_csv(PATH)\n",
    "df.head()"
   ]
  },
  {
   "cell_type": "code",
   "execution_count": 38,
   "metadata": {},
   "outputs": [
    {
     "name": "stdout",
     "output_type": "stream",
     "text": [
      "21623\n"
     ]
    }
   ],
   "source": [
    "# Number of records\n",
    "print(len(df))"
   ]
  },
  {
   "cell_type": "code",
   "execution_count": 41,
   "metadata": {},
   "outputs": [
    {
     "data": {
      "text/plain": [
       "11422"
      ]
     },
     "execution_count": 41,
     "metadata": {},
     "output_type": "execute_result"
    }
   ],
   "source": [
    "df[\"practice\"].isna().sum()"
   ]
  },
  {
   "cell_type": "markdown",
   "metadata": {},
   "source": [
    "### Counts per each practice\n",
    "Taking into account that one segment can have multiple labels"
   ]
  },
  {
   "cell_type": "code",
   "execution_count": 8,
   "metadata": {},
   "outputs": [
    {
     "data": {
      "text/html": [
       "<div>\n",
       "<style scoped>\n",
       "    .dataframe tbody tr th:only-of-type {\n",
       "        vertical-align: middle;\n",
       "    }\n",
       "\n",
       "    .dataframe tbody tr th {\n",
       "        vertical-align: top;\n",
       "    }\n",
       "\n",
       "    .dataframe thead th {\n",
       "        text-align: right;\n",
       "    }\n",
       "</style>\n",
       "<table border=\"1\" class=\"dataframe\">\n",
       "  <thead>\n",
       "    <tr style=\"text-align: right;\">\n",
       "      <th></th>\n",
       "      <th>practice</th>\n",
       "      <th>counts</th>\n",
       "    </tr>\n",
       "  </thead>\n",
       "  <tbody>\n",
       "    <tr>\n",
       "      <th>0</th>\n",
       "      <td>Contact_E_Mail_Address_1stParty</td>\n",
       "      <td>1105</td>\n",
       "    </tr>\n",
       "    <tr>\n",
       "      <th>1</th>\n",
       "      <td>Identifier_Cookie_or_similar_Tech_1stParty</td>\n",
       "      <td>858</td>\n",
       "    </tr>\n",
       "    <tr>\n",
       "      <th>2</th>\n",
       "      <td>Location_1stParty</td>\n",
       "      <td>821</td>\n",
       "    </tr>\n",
       "    <tr>\n",
       "      <th>3</th>\n",
       "      <td>Identifier_IP_Address_1stParty</td>\n",
       "      <td>590</td>\n",
       "    </tr>\n",
       "    <tr>\n",
       "      <th>4</th>\n",
       "      <td>Contact_Phone_Number_1stParty</td>\n",
       "      <td>565</td>\n",
       "    </tr>\n",
       "    <tr>\n",
       "      <th>5</th>\n",
       "      <td>Identifier_Cookie_or_similar_Tech_3rdParty</td>\n",
       "      <td>524</td>\n",
       "    </tr>\n",
       "    <tr>\n",
       "      <th>6</th>\n",
       "      <td>Identifier_Device_ID_1stParty</td>\n",
       "      <td>446</td>\n",
       "    </tr>\n",
       "    <tr>\n",
       "      <th>7</th>\n",
       "      <td>Contact_Postal_Address_1stParty</td>\n",
       "      <td>364</td>\n",
       "    </tr>\n",
       "    <tr>\n",
       "      <th>8</th>\n",
       "      <td>SSO</td>\n",
       "      <td>274</td>\n",
       "    </tr>\n",
       "    <tr>\n",
       "      <th>9</th>\n",
       "      <td>Demographic_Age_1stParty</td>\n",
       "      <td>259</td>\n",
       "    </tr>\n",
       "    <tr>\n",
       "      <th>10</th>\n",
       "      <td>Identifier_IP_Address_3rdParty</td>\n",
       "      <td>241</td>\n",
       "    </tr>\n",
       "    <tr>\n",
       "      <th>11</th>\n",
       "      <td>Contact_Password_1stParty</td>\n",
       "      <td>224</td>\n",
       "    </tr>\n",
       "    <tr>\n",
       "      <th>12</th>\n",
       "      <td>Contact_Address_Book_1stParty</td>\n",
       "      <td>219</td>\n",
       "    </tr>\n",
       "    <tr>\n",
       "      <th>13</th>\n",
       "      <td>Location_GPS_1stParty</td>\n",
       "      <td>218</td>\n",
       "    </tr>\n",
       "    <tr>\n",
       "      <th>14</th>\n",
       "      <td>Location_3rdParty</td>\n",
       "      <td>213</td>\n",
       "    </tr>\n",
       "    <tr>\n",
       "      <th>15</th>\n",
       "      <td>Contact_1stParty</td>\n",
       "      <td>211</td>\n",
       "    </tr>\n",
       "    <tr>\n",
       "      <th>16</th>\n",
       "      <td>Demographic_Gender_1stParty</td>\n",
       "      <td>200</td>\n",
       "    </tr>\n",
       "    <tr>\n",
       "      <th>17</th>\n",
       "      <td>Facebook_SSO</td>\n",
       "      <td>199</td>\n",
       "    </tr>\n",
       "    <tr>\n",
       "      <th>18</th>\n",
       "      <td>Identifier_Device_ID_3rdParty</td>\n",
       "      <td>179</td>\n",
       "    </tr>\n",
       "    <tr>\n",
       "      <th>19</th>\n",
       "      <td>Location_WiFi_1stParty</td>\n",
       "      <td>169</td>\n",
       "    </tr>\n",
       "    <tr>\n",
       "      <th>20</th>\n",
       "      <td>Identifier_Ad_ID_1stParty</td>\n",
       "      <td>152</td>\n",
       "    </tr>\n",
       "    <tr>\n",
       "      <th>21</th>\n",
       "      <td>Demographic_1stParty</td>\n",
       "      <td>146</td>\n",
       "    </tr>\n",
       "    <tr>\n",
       "      <th>22</th>\n",
       "      <td>Contact_E_Mail_Address_3rdParty</td>\n",
       "      <td>143</td>\n",
       "    </tr>\n",
       "    <tr>\n",
       "      <th>23</th>\n",
       "      <td>Location_IP_Address_1stParty</td>\n",
       "      <td>129</td>\n",
       "    </tr>\n",
       "    <tr>\n",
       "      <th>24</th>\n",
       "      <td>Location_Bluetooth_1stParty</td>\n",
       "      <td>127</td>\n",
       "    </tr>\n",
       "    <tr>\n",
       "      <th>25</th>\n",
       "      <td>Location_Cell_Tower_1stParty</td>\n",
       "      <td>121</td>\n",
       "    </tr>\n",
       "    <tr>\n",
       "      <th>26</th>\n",
       "      <td>Identifier_MAC_1stParty</td>\n",
       "      <td>111</td>\n",
       "    </tr>\n",
       "    <tr>\n",
       "      <th>27</th>\n",
       "      <td>Identifier_Ad_ID_3rdParty</td>\n",
       "      <td>107</td>\n",
       "    </tr>\n",
       "    <tr>\n",
       "      <th>28</th>\n",
       "      <td>Identifier_1stParty</td>\n",
       "      <td>104</td>\n",
       "    </tr>\n",
       "    <tr>\n",
       "      <th>29</th>\n",
       "      <td>Identifier_Mobile_Carrier_1stParty</td>\n",
       "      <td>100</td>\n",
       "    </tr>\n",
       "    <tr>\n",
       "      <th>30</th>\n",
       "      <td>Contact_ZIP_1stParty</td>\n",
       "      <td>93</td>\n",
       "    </tr>\n",
       "    <tr>\n",
       "      <th>31</th>\n",
       "      <td>Identifier_IMEI_1stParty</td>\n",
       "      <td>76</td>\n",
       "    </tr>\n",
       "    <tr>\n",
       "      <th>32</th>\n",
       "      <td>Demographic_3rdParty</td>\n",
       "      <td>72</td>\n",
       "    </tr>\n",
       "    <tr>\n",
       "      <th>33</th>\n",
       "      <td>Contact_Phone_Number_3rdParty</td>\n",
       "      <td>69</td>\n",
       "    </tr>\n",
       "    <tr>\n",
       "      <th>34</th>\n",
       "      <td>Contact_City_1stParty</td>\n",
       "      <td>65</td>\n",
       "    </tr>\n",
       "    <tr>\n",
       "      <th>35</th>\n",
       "      <td>Contact_Postal_Address_3rdParty</td>\n",
       "      <td>62</td>\n",
       "    </tr>\n",
       "    <tr>\n",
       "      <th>36</th>\n",
       "      <td>Location_GPS_3rdParty</td>\n",
       "      <td>62</td>\n",
       "    </tr>\n",
       "    <tr>\n",
       "      <th>37</th>\n",
       "      <td>Location_IP_Address_3rdParty</td>\n",
       "      <td>55</td>\n",
       "    </tr>\n",
       "    <tr>\n",
       "      <th>38</th>\n",
       "      <td>Location_WiFi_3rdParty</td>\n",
       "      <td>53</td>\n",
       "    </tr>\n",
       "    <tr>\n",
       "      <th>39</th>\n",
       "      <td>Demographic_Age_3rdParty</td>\n",
       "      <td>49</td>\n",
       "    </tr>\n",
       "    <tr>\n",
       "      <th>40</th>\n",
       "      <td>Identifier_MAC_3rdParty</td>\n",
       "      <td>49</td>\n",
       "    </tr>\n",
       "    <tr>\n",
       "      <th>41</th>\n",
       "      <td>Identifier_3rdParty</td>\n",
       "      <td>46</td>\n",
       "    </tr>\n",
       "    <tr>\n",
       "      <th>42</th>\n",
       "      <td>Location_Cell_Tower_3rdParty</td>\n",
       "      <td>45</td>\n",
       "    </tr>\n",
       "    <tr>\n",
       "      <th>43</th>\n",
       "      <td>Location_Bluetooth_3rdParty</td>\n",
       "      <td>42</td>\n",
       "    </tr>\n",
       "    <tr>\n",
       "      <th>44</th>\n",
       "      <td>Demographic_Gender_3rdParty</td>\n",
       "      <td>36</td>\n",
       "    </tr>\n",
       "    <tr>\n",
       "      <th>45</th>\n",
       "      <td>Contact_3rdParty</td>\n",
       "      <td>36</td>\n",
       "    </tr>\n",
       "    <tr>\n",
       "      <th>46</th>\n",
       "      <td>Identifier_SIM_Serial_1stParty</td>\n",
       "      <td>29</td>\n",
       "    </tr>\n",
       "    <tr>\n",
       "      <th>47</th>\n",
       "      <td>Contact_ZIP_3rdParty</td>\n",
       "      <td>24</td>\n",
       "    </tr>\n",
       "    <tr>\n",
       "      <th>48</th>\n",
       "      <td>Identifier_IMEI_3rdParty</td>\n",
       "      <td>23</td>\n",
       "    </tr>\n",
       "    <tr>\n",
       "      <th>49</th>\n",
       "      <td>Identifier_Mobile_Carrier_3rdParty</td>\n",
       "      <td>21</td>\n",
       "    </tr>\n",
       "    <tr>\n",
       "      <th>50</th>\n",
       "      <td>Contact_Password_3rdParty</td>\n",
       "      <td>18</td>\n",
       "    </tr>\n",
       "    <tr>\n",
       "      <th>51</th>\n",
       "      <td>Identifier_SSID_BSSID_1stParty</td>\n",
       "      <td>16</td>\n",
       "    </tr>\n",
       "    <tr>\n",
       "      <th>52</th>\n",
       "      <td>Contact_Address_Book_3rdParty</td>\n",
       "      <td>14</td>\n",
       "    </tr>\n",
       "    <tr>\n",
       "      <th>53</th>\n",
       "      <td>Identifier_IMSI_1stParty</td>\n",
       "      <td>11</td>\n",
       "    </tr>\n",
       "    <tr>\n",
       "      <th>54</th>\n",
       "      <td>Contact_City_3rdParty</td>\n",
       "      <td>8</td>\n",
       "    </tr>\n",
       "    <tr>\n",
       "      <th>55</th>\n",
       "      <td>Identifier_SIM_Serial_3rdParty</td>\n",
       "      <td>3</td>\n",
       "    </tr>\n",
       "    <tr>\n",
       "      <th>56</th>\n",
       "      <td>Identifier_IMSI_3rdParty</td>\n",
       "      <td>3</td>\n",
       "    </tr>\n",
       "    <tr>\n",
       "      <th>57</th>\n",
       "      <td>Identifier_SSID_BSSID_3rdParty</td>\n",
       "      <td>2</td>\n",
       "    </tr>\n",
       "  </tbody>\n",
       "</table>\n",
       "</div>"
      ],
      "text/plain": [
       "                                      practice  counts\n",
       "0              Contact_E_Mail_Address_1stParty    1105\n",
       "1   Identifier_Cookie_or_similar_Tech_1stParty     858\n",
       "2                            Location_1stParty     821\n",
       "3               Identifier_IP_Address_1stParty     590\n",
       "4                Contact_Phone_Number_1stParty     565\n",
       "5   Identifier_Cookie_or_similar_Tech_3rdParty     524\n",
       "6                Identifier_Device_ID_1stParty     446\n",
       "7              Contact_Postal_Address_1stParty     364\n",
       "8                                          SSO     274\n",
       "9                     Demographic_Age_1stParty     259\n",
       "10              Identifier_IP_Address_3rdParty     241\n",
       "11                   Contact_Password_1stParty     224\n",
       "12               Contact_Address_Book_1stParty     219\n",
       "13                       Location_GPS_1stParty     218\n",
       "14                           Location_3rdParty     213\n",
       "15                            Contact_1stParty     211\n",
       "16                 Demographic_Gender_1stParty     200\n",
       "17                                Facebook_SSO     199\n",
       "18               Identifier_Device_ID_3rdParty     179\n",
       "19                      Location_WiFi_1stParty     169\n",
       "20                   Identifier_Ad_ID_1stParty     152\n",
       "21                        Demographic_1stParty     146\n",
       "22             Contact_E_Mail_Address_3rdParty     143\n",
       "23                Location_IP_Address_1stParty     129\n",
       "24                 Location_Bluetooth_1stParty     127\n",
       "25                Location_Cell_Tower_1stParty     121\n",
       "26                     Identifier_MAC_1stParty     111\n",
       "27                   Identifier_Ad_ID_3rdParty     107\n",
       "28                         Identifier_1stParty     104\n",
       "29          Identifier_Mobile_Carrier_1stParty     100\n",
       "30                        Contact_ZIP_1stParty      93\n",
       "31                    Identifier_IMEI_1stParty      76\n",
       "32                        Demographic_3rdParty      72\n",
       "33               Contact_Phone_Number_3rdParty      69\n",
       "34                       Contact_City_1stParty      65\n",
       "35             Contact_Postal_Address_3rdParty      62\n",
       "36                       Location_GPS_3rdParty      62\n",
       "37                Location_IP_Address_3rdParty      55\n",
       "38                      Location_WiFi_3rdParty      53\n",
       "39                    Demographic_Age_3rdParty      49\n",
       "40                     Identifier_MAC_3rdParty      49\n",
       "41                         Identifier_3rdParty      46\n",
       "42                Location_Cell_Tower_3rdParty      45\n",
       "43                 Location_Bluetooth_3rdParty      42\n",
       "44                 Demographic_Gender_3rdParty      36\n",
       "45                            Contact_3rdParty      36\n",
       "46              Identifier_SIM_Serial_1stParty      29\n",
       "47                        Contact_ZIP_3rdParty      24\n",
       "48                    Identifier_IMEI_3rdParty      23\n",
       "49          Identifier_Mobile_Carrier_3rdParty      21\n",
       "50                   Contact_Password_3rdParty      18\n",
       "51              Identifier_SSID_BSSID_1stParty      16\n",
       "52               Contact_Address_Book_3rdParty      14\n",
       "53                    Identifier_IMSI_1stParty      11\n",
       "54                       Contact_City_3rdParty       8\n",
       "55              Identifier_SIM_Serial_3rdParty       3\n",
       "56                    Identifier_IMSI_3rdParty       3\n",
       "57              Identifier_SSID_BSSID_3rdParty       2"
      ]
     },
     "execution_count": 8,
     "metadata": {},
     "output_type": "execute_result"
    }
   ],
   "source": [
    "# Counts of each practice\n",
    "df_by_practice = df[\"practice\"].value_counts(sort = True).rename_axis('practice').reset_index(name = \"counts\")\n",
    "df_by_practice"
   ]
  },
  {
   "cell_type": "code",
   "execution_count": 9,
   "metadata": {},
   "outputs": [
    {
     "data": {
      "image/png": "[encoded data removed]",
      "text/plain": [
       "<Figure size 432x288 with 1 Axes>"
      ]
     },
     "metadata": {
      "needs_background": "light"
     },
     "output_type": "display_data"
    }
   ],
   "source": [
    "sns.set(rc = {'figure.figsize':(30,15)})\n",
    "ax = sns.barplot(x = \"practice\", y = \"counts\", data = df_by_practice[:10])"
   ]
  },
  {
   "cell_type": "code",
   "execution_count": 10,
   "metadata": {},
   "outputs": [
    {
     "data": {
      "text/plain": [
       "<AxesSubplot:xlabel='practice', ylabel='counts'>"
      ]
     },
     "execution_count": 10,
     "metadata": {},
     "output_type": "execute_result"
    },
    {
     "data": {
      "image/png": "[encoded data removed]",
      "text/plain": [
       "<Figure size 432x288 with 1 Axes>"
      ]
     },
     "metadata": {
      "needs_background": "light"
     },
     "output_type": "display_data"
    }
   ],
   "source": [
    "sns.barplot(x = \"practice\", y = \"counts\", data = df_by_practice[:])"
   ]
  },
  {
   "cell_type": "markdown",
   "metadata": {},
   "source": [
    "### segment length statistics: by word, correlations between length and practice?"
   ]
  },
  {
   "cell_type": "code",
   "execution_count": 11,
   "metadata": {},
   "outputs": [],
   "source": [
    "# Duplicate df\n",
    "df_segment_statistics = df\n",
    "\n",
    "import re"
   ]
  },
  {
   "cell_type": "code",
   "execution_count": 12,
   "metadata": {},
   "outputs": [],
   "source": [
    "df_segment_statistics[\"segment_length\"] = df_segment_statistics[\"segment_text\"].apply(lambda sen: len(re.findall(r'\\w+', sen)))"
   ]
  },
  {
   "cell_type": "code",
   "execution_count": 13,
   "metadata": {},
   "outputs": [
    {
     "data": {
      "text/plain": [
       "count    21623.000000\n",
       "mean        74.226426\n",
       "std         95.881617\n",
       "min          0.000000\n",
       "25%         30.000000\n",
       "50%         57.000000\n",
       "75%         96.000000\n",
       "max       2863.000000\n",
       "Name: segment_length, dtype: float64"
      ]
     },
     "execution_count": 13,
     "metadata": {},
     "output_type": "execute_result"
    }
   ],
   "source": [
    "df_segment_statistics[\"segment_length\"].describe()"
   ]
  },
  {
   "cell_type": "code",
   "execution_count": 14,
   "metadata": {},
   "outputs": [
    {
     "data": {
      "image/png": "[encoded data removed]",
      "text/plain": [
       "<Figure size 1440x576 with 1 Axes>"
      ]
     },
     "metadata": {},
     "output_type": "display_data"
    }
   ],
   "source": [
    "# Histogram of segment length\n",
    "sns.set(rc = {'figure.figsize':(20,8)})\n",
    "ax = sns.histplot(x = \"segment_length\",  data = df_segment_statistics)"
   ]
  },
  {
   "cell_type": "code",
   "execution_count": 15,
   "metadata": {},
   "outputs": [
    {
     "data": {
      "text/html": [
       "<div>\n",
       "<style scoped>\n",
       "    .dataframe tbody tr th:only-of-type {\n",
       "        vertical-align: middle;\n",
       "    }\n",
       "\n",
       "    .dataframe tbody tr th {\n",
       "        vertical-align: top;\n",
       "    }\n",
       "\n",
       "    .dataframe thead th {\n",
       "        text-align: right;\n",
       "    }\n",
       "</style>\n",
       "<table border=\"1\" class=\"dataframe\">\n",
       "  <thead>\n",
       "    <tr style=\"text-align: right;\">\n",
       "      <th></th>\n",
       "      <th>segment_length</th>\n",
       "    </tr>\n",
       "    <tr>\n",
       "      <th>practice</th>\n",
       "      <th></th>\n",
       "    </tr>\n",
       "  </thead>\n",
       "  <tbody>\n",
       "    <tr>\n",
       "      <th>Contact_Address_Book_3rdParty</th>\n",
       "      <td>296.928571</td>\n",
       "    </tr>\n",
       "    <tr>\n",
       "      <th>Demographic_3rdParty</th>\n",
       "      <td>146.847222</td>\n",
       "    </tr>\n",
       "    <tr>\n",
       "      <th>Demographic_Gender_3rdParty</th>\n",
       "      <td>142.916667</td>\n",
       "    </tr>\n",
       "    <tr>\n",
       "      <th>Identifier_Mobile_Carrier_1stParty</th>\n",
       "      <td>142.020000</td>\n",
       "    </tr>\n",
       "    <tr>\n",
       "      <th>Identifier_Mobile_Carrier_3rdParty</th>\n",
       "      <td>142.000000</td>\n",
       "    </tr>\n",
       "  </tbody>\n",
       "</table>\n",
       "</div>"
      ],
      "text/plain": [
       "                                    segment_length\n",
       "practice                                          \n",
       "Contact_Address_Book_3rdParty           296.928571\n",
       "Demographic_3rdParty                    146.847222\n",
       "Demographic_Gender_3rdParty             142.916667\n",
       "Identifier_Mobile_Carrier_1stParty      142.020000\n",
       "Identifier_Mobile_Carrier_3rdParty      142.000000"
      ]
     },
     "execution_count": 15,
     "metadata": {},
     "output_type": "execute_result"
    }
   ],
   "source": [
    "## Average segment length by type of practice\n",
    "df_segment_statistics.groupby([\"practice\"]).mean().sort_values(by = \"segment_length\", ascending=False).head()"
   ]
  },
  {
   "cell_type": "code",
   "execution_count": 16,
   "metadata": {},
   "outputs": [
    {
     "data": {
      "text/html": [
       "<div>\n",
       "<style scoped>\n",
       "    .dataframe tbody tr th:only-of-type {\n",
       "        vertical-align: middle;\n",
       "    }\n",
       "\n",
       "    .dataframe tbody tr th {\n",
       "        vertical-align: top;\n",
       "    }\n",
       "\n",
       "    .dataframe thead th {\n",
       "        text-align: right;\n",
       "    }\n",
       "</style>\n",
       "<table border=\"1\" class=\"dataframe\">\n",
       "  <thead>\n",
       "    <tr style=\"text-align: right;\">\n",
       "      <th></th>\n",
       "      <th>segment_length</th>\n",
       "    </tr>\n",
       "    <tr>\n",
       "      <th>practice</th>\n",
       "      <th></th>\n",
       "    </tr>\n",
       "  </thead>\n",
       "  <tbody>\n",
       "    <tr>\n",
       "      <th>Identifier_Mobile_Carrier_3rdParty</th>\n",
       "      <td>130.0</td>\n",
       "    </tr>\n",
       "    <tr>\n",
       "      <th>Demographic_Gender_3rdParty</th>\n",
       "      <td>120.0</td>\n",
       "    </tr>\n",
       "    <tr>\n",
       "      <th>Location_Cell_Tower_3rdParty</th>\n",
       "      <td>106.0</td>\n",
       "    </tr>\n",
       "    <tr>\n",
       "      <th>Identifier_SSID_BSSID_3rdParty</th>\n",
       "      <td>105.5</td>\n",
       "    </tr>\n",
       "    <tr>\n",
       "      <th>Contact_City_3rdParty</th>\n",
       "      <td>104.0</td>\n",
       "    </tr>\n",
       "  </tbody>\n",
       "</table>\n",
       "</div>"
      ],
      "text/plain": [
       "                                    segment_length\n",
       "practice                                          \n",
       "Identifier_Mobile_Carrier_3rdParty           130.0\n",
       "Demographic_Gender_3rdParty                  120.0\n",
       "Location_Cell_Tower_3rdParty                 106.0\n",
       "Identifier_SSID_BSSID_3rdParty               105.5\n",
       "Contact_City_3rdParty                        104.0"
      ]
     },
     "execution_count": 16,
     "metadata": {},
     "output_type": "execute_result"
    }
   ],
   "source": [
    "# Median segment length by practice\n",
    "df_segment_statistics.groupby([\"practice\"]).median().sort_values(by = \"segment_length\", ascending=False).head()"
   ]
  },
  {
   "cell_type": "code",
   "execution_count": 17,
   "metadata": {},
   "outputs": [],
   "source": [
    "# Concat to df_by_practice\n",
    "df_by_practice = pd.merge(left = df_by_practice, right = df_segment_statistics.groupby([\"practice\"]).mean(), how = \"outer\", left_on = \"practice\", right_on = \"practice\", suffixes = (None, \"_mean\"))"
   ]
  },
  {
   "cell_type": "code",
   "execution_count": 18,
   "metadata": {},
   "outputs": [],
   "source": [
    "df_by_practice = pd.merge(left = df_by_practice, right = df_segment_statistics.groupby([\"practice\"]).median(), how = \"outer\", left_on = \"practice\", right_on = \"practice\", suffixes = (None, \"_median\"))"
   ]
  },
  {
   "cell_type": "code",
   "execution_count": 19,
   "metadata": {},
   "outputs": [
    {
     "data": {
      "text/html": [
       "<div>\n",
       "<style scoped>\n",
       "    .dataframe tbody tr th:only-of-type {\n",
       "        vertical-align: middle;\n",
       "    }\n",
       "\n",
       "    .dataframe tbody tr th {\n",
       "        vertical-align: top;\n",
       "    }\n",
       "\n",
       "    .dataframe thead th {\n",
       "        text-align: right;\n",
       "    }\n",
       "</style>\n",
       "<table border=\"1\" class=\"dataframe\">\n",
       "  <thead>\n",
       "    <tr style=\"text-align: right;\">\n",
       "      <th></th>\n",
       "      <th>practice</th>\n",
       "      <th>counts</th>\n",
       "      <th>segment_length</th>\n",
       "      <th>segment_length_median</th>\n",
       "    </tr>\n",
       "  </thead>\n",
       "  <tbody>\n",
       "    <tr>\n",
       "      <th>0</th>\n",
       "      <td>Contact_E_Mail_Address_1stParty</td>\n",
       "      <td>1105</td>\n",
       "      <td>84.118552</td>\n",
       "      <td>72.0</td>\n",
       "    </tr>\n",
       "    <tr>\n",
       "      <th>1</th>\n",
       "      <td>Identifier_Cookie_or_similar_Tech_1stParty</td>\n",
       "      <td>858</td>\n",
       "      <td>81.913753</td>\n",
       "      <td>68.5</td>\n",
       "    </tr>\n",
       "    <tr>\n",
       "      <th>2</th>\n",
       "      <td>Location_1stParty</td>\n",
       "      <td>821</td>\n",
       "      <td>89.794153</td>\n",
       "      <td>70.0</td>\n",
       "    </tr>\n",
       "    <tr>\n",
       "      <th>3</th>\n",
       "      <td>Identifier_IP_Address_1stParty</td>\n",
       "      <td>590</td>\n",
       "      <td>96.984746</td>\n",
       "      <td>73.0</td>\n",
       "    </tr>\n",
       "    <tr>\n",
       "      <th>4</th>\n",
       "      <td>Contact_Phone_Number_1stParty</td>\n",
       "      <td>565</td>\n",
       "      <td>90.371681</td>\n",
       "      <td>67.0</td>\n",
       "    </tr>\n",
       "  </tbody>\n",
       "</table>\n",
       "</div>"
      ],
      "text/plain": [
       "                                     practice  counts  segment_length  \\\n",
       "0             Contact_E_Mail_Address_1stParty    1105       84.118552   \n",
       "1  Identifier_Cookie_or_similar_Tech_1stParty     858       81.913753   \n",
       "2                           Location_1stParty     821       89.794153   \n",
       "3              Identifier_IP_Address_1stParty     590       96.984746   \n",
       "4               Contact_Phone_Number_1stParty     565       90.371681   \n",
       "\n",
       "   segment_length_median  \n",
       "0                   72.0  \n",
       "1                   68.5  \n",
       "2                   70.0  \n",
       "3                   73.0  \n",
       "4                   67.0  "
      ]
     },
     "execution_count": 19,
     "metadata": {},
     "output_type": "execute_result"
    }
   ],
   "source": [
    "# Sanity check\n",
    "df_by_practice.head()"
   ]
  },
  {
   "cell_type": "code",
   "execution_count": 20,
   "metadata": {},
   "outputs": [
    {
     "data": {
      "text/html": [
       "<div>\n",
       "<style scoped>\n",
       "    .dataframe tbody tr th:only-of-type {\n",
       "        vertical-align: middle;\n",
       "    }\n",
       "\n",
       "    .dataframe tbody tr th {\n",
       "        vertical-align: top;\n",
       "    }\n",
       "\n",
       "    .dataframe thead th {\n",
       "        text-align: right;\n",
       "    }\n",
       "</style>\n",
       "<table border=\"1\" class=\"dataframe\">\n",
       "  <thead>\n",
       "    <tr style=\"text-align: right;\">\n",
       "      <th></th>\n",
       "      <th>practice</th>\n",
       "      <th>counts</th>\n",
       "      <th>segment_length_mean</th>\n",
       "      <th>segment_length_median</th>\n",
       "    </tr>\n",
       "  </thead>\n",
       "  <tbody>\n",
       "    <tr>\n",
       "      <th>0</th>\n",
       "      <td>Contact_E_Mail_Address_1stParty</td>\n",
       "      <td>1105</td>\n",
       "      <td>84.118552</td>\n",
       "      <td>72.0</td>\n",
       "    </tr>\n",
       "    <tr>\n",
       "      <th>1</th>\n",
       "      <td>Identifier_Cookie_or_similar_Tech_1stParty</td>\n",
       "      <td>858</td>\n",
       "      <td>81.913753</td>\n",
       "      <td>68.5</td>\n",
       "    </tr>\n",
       "    <tr>\n",
       "      <th>2</th>\n",
       "      <td>Location_1stParty</td>\n",
       "      <td>821</td>\n",
       "      <td>89.794153</td>\n",
       "      <td>70.0</td>\n",
       "    </tr>\n",
       "    <tr>\n",
       "      <th>3</th>\n",
       "      <td>Identifier_IP_Address_1stParty</td>\n",
       "      <td>590</td>\n",
       "      <td>96.984746</td>\n",
       "      <td>73.0</td>\n",
       "    </tr>\n",
       "    <tr>\n",
       "      <th>4</th>\n",
       "      <td>Contact_Phone_Number_1stParty</td>\n",
       "      <td>565</td>\n",
       "      <td>90.371681</td>\n",
       "      <td>67.0</td>\n",
       "    </tr>\n",
       "  </tbody>\n",
       "</table>\n",
       "</div>"
      ],
      "text/plain": [
       "                                     practice  counts  segment_length_mean  \\\n",
       "0             Contact_E_Mail_Address_1stParty    1105            84.118552   \n",
       "1  Identifier_Cookie_or_similar_Tech_1stParty     858            81.913753   \n",
       "2                           Location_1stParty     821            89.794153   \n",
       "3              Identifier_IP_Address_1stParty     590            96.984746   \n",
       "4               Contact_Phone_Number_1stParty     565            90.371681   \n",
       "\n",
       "   segment_length_median  \n",
       "0                   72.0  \n",
       "1                   68.5  \n",
       "2                   70.0  \n",
       "3                   73.0  \n",
       "4                   67.0  "
      ]
     },
     "execution_count": 20,
     "metadata": {},
     "output_type": "execute_result"
    }
   ],
   "source": [
    "df_by_practice.rename(columns = {\"segment_length\":\"segment_length_mean\"}, inplace=True)\n",
    "df_by_practice.head()"
   ]
  },
  {
   "cell_type": "code",
   "execution_count": 21,
   "metadata": {},
   "outputs": [
    {
     "data": {
      "image/png": "[encoded data removed]",
      "text/plain": [
       "<Figure size 2160x576 with 1 Axes>"
      ]
     },
     "metadata": {},
     "output_type": "display_data"
    }
   ],
   "source": [
    "# Plotting top 10 segment statisitcs\n",
    "sns.set(rc = {'figure.figsize':(30,8)})\n",
    "ax = sns.barplot(x = \"practice\", y = \"segment_length_mean\",  data = df_by_practice[:10])"
   ]
  },
  {
   "cell_type": "code",
   "execution_count": 22,
   "metadata": {},
   "outputs": [
    {
     "data": {
      "text/plain": [
       "count     10.000000\n",
       "mean      92.148979\n",
       "std        6.683275\n",
       "min       81.913753\n",
       "25%       86.647714\n",
       "50%       93.286227\n",
       "75%       96.914568\n",
       "max      100.339695\n",
       "Name: segment_length_mean, dtype: float64"
      ]
     },
     "execution_count": 22,
     "metadata": {},
     "output_type": "execute_result"
    }
   ],
   "source": [
    "df_by_practice[\"segment_length_mean\"][:10].describe()"
   ]
  },
  {
   "cell_type": "markdown",
   "metadata": {},
   "source": [
    "Not much variation in segment length for the top 10 frequently recurring practices."
   ]
  },
  {
   "cell_type": "code",
   "execution_count": 34,
   "metadata": {},
   "outputs": [
    {
     "data": {
      "text/html": [
       "<div>\n",
       "<style scoped>\n",
       "    .dataframe tbody tr th:only-of-type {\n",
       "        vertical-align: middle;\n",
       "    }\n",
       "\n",
       "    .dataframe tbody tr th {\n",
       "        vertical-align: top;\n",
       "    }\n",
       "\n",
       "    .dataframe thead th {\n",
       "        text-align: right;\n",
       "    }\n",
       "</style>\n",
       "<table border=\"1\" class=\"dataframe\">\n",
       "  <thead>\n",
       "    <tr style=\"text-align: right;\">\n",
       "      <th></th>\n",
       "      <th>practice</th>\n",
       "      <th>counts</th>\n",
       "      <th>segment_length_mean</th>\n",
       "      <th>segment_length_median</th>\n",
       "      <th>counts_percentage</th>\n",
       "    </tr>\n",
       "  </thead>\n",
       "  <tbody>\n",
       "    <tr>\n",
       "      <th>0</th>\n",
       "      <td>Contact_E_Mail_Address_1stParty</td>\n",
       "      <td>1105</td>\n",
       "      <td>84.118552</td>\n",
       "      <td>72.0</td>\n",
       "      <td>10.83</td>\n",
       "    </tr>\n",
       "    <tr>\n",
       "      <th>1</th>\n",
       "      <td>Identifier_Cookie_or_similar_Tech_1stParty</td>\n",
       "      <td>858</td>\n",
       "      <td>81.913753</td>\n",
       "      <td>68.5</td>\n",
       "      <td>8.41</td>\n",
       "    </tr>\n",
       "    <tr>\n",
       "      <th>2</th>\n",
       "      <td>Location_1stParty</td>\n",
       "      <td>821</td>\n",
       "      <td>89.794153</td>\n",
       "      <td>70.0</td>\n",
       "      <td>8.05</td>\n",
       "    </tr>\n",
       "    <tr>\n",
       "      <th>3</th>\n",
       "      <td>Identifier_IP_Address_1stParty</td>\n",
       "      <td>590</td>\n",
       "      <td>96.984746</td>\n",
       "      <td>73.0</td>\n",
       "      <td>5.78</td>\n",
       "    </tr>\n",
       "    <tr>\n",
       "      <th>4</th>\n",
       "      <td>Contact_Phone_Number_1stParty</td>\n",
       "      <td>565</td>\n",
       "      <td>90.371681</td>\n",
       "      <td>67.0</td>\n",
       "      <td>5.54</td>\n",
       "    </tr>\n",
       "    <tr>\n",
       "      <th>5</th>\n",
       "      <td>Identifier_Cookie_or_similar_Tech_3rdParty</td>\n",
       "      <td>524</td>\n",
       "      <td>100.339695</td>\n",
       "      <td>86.5</td>\n",
       "      <td>5.14</td>\n",
       "    </tr>\n",
       "    <tr>\n",
       "      <th>6</th>\n",
       "      <td>Identifier_Device_ID_1stParty</td>\n",
       "      <td>446</td>\n",
       "      <td>96.704036</td>\n",
       "      <td>72.0</td>\n",
       "      <td>4.37</td>\n",
       "    </tr>\n",
       "    <tr>\n",
       "      <th>7</th>\n",
       "      <td>Contact_Postal_Address_1stParty</td>\n",
       "      <td>364</td>\n",
       "      <td>85.598901</td>\n",
       "      <td>69.5</td>\n",
       "      <td>3.57</td>\n",
       "    </tr>\n",
       "    <tr>\n",
       "      <th>8</th>\n",
       "      <td>SSO</td>\n",
       "      <td>274</td>\n",
       "      <td>99.463504</td>\n",
       "      <td>86.5</td>\n",
       "      <td>2.69</td>\n",
       "    </tr>\n",
       "    <tr>\n",
       "      <th>9</th>\n",
       "      <td>Demographic_Age_1stParty</td>\n",
       "      <td>259</td>\n",
       "      <td>96.200772</td>\n",
       "      <td>80.0</td>\n",
       "      <td>2.54</td>\n",
       "    </tr>\n",
       "  </tbody>\n",
       "</table>\n",
       "</div>"
      ],
      "text/plain": [
       "                                     practice  counts  segment_length_mean  \\\n",
       "0             Contact_E_Mail_Address_1stParty    1105            84.118552   \n",
       "1  Identifier_Cookie_or_similar_Tech_1stParty     858            81.913753   \n",
       "2                           Location_1stParty     821            89.794153   \n",
       "3              Identifier_IP_Address_1stParty     590            96.984746   \n",
       "4               Contact_Phone_Number_1stParty     565            90.371681   \n",
       "5  Identifier_Cookie_or_similar_Tech_3rdParty     524           100.339695   \n",
       "6               Identifier_Device_ID_1stParty     446            96.704036   \n",
       "7             Contact_Postal_Address_1stParty     364            85.598901   \n",
       "8                                         SSO     274            99.463504   \n",
       "9                    Demographic_Age_1stParty     259            96.200772   \n",
       "\n",
       "   segment_length_median  counts_percentage  \n",
       "0                   72.0              10.83  \n",
       "1                   68.5               8.41  \n",
       "2                   70.0               8.05  \n",
       "3                   73.0               5.78  \n",
       "4                   67.0               5.54  \n",
       "5                   86.5               5.14  \n",
       "6                   72.0               4.37  \n",
       "7                   69.5               3.57  \n",
       "8                   86.5               2.69  \n",
       "9                   80.0               2.54  "
      ]
     },
     "execution_count": 34,
     "metadata": {},
     "output_type": "execute_result"
    }
   ],
   "source": [
    "## Looking at propotion of counts per practice \n",
    "df_by_practice[\"counts_percentage\"] = df_by_practice[\"counts\"].apply(lambda count: (count / df_by_practice[\"counts\"].sum()) * 100)\n",
    "df_by_practice[\"counts_percentage\"] = df_by_practice[\"counts_percentage\"].round(2)\n",
    "\n",
    "df_by_practice.head(10)"
   ]
  },
  {
   "cell_type": "code",
   "execution_count": 37,
   "metadata": {},
   "outputs": [],
   "source": [
    "# with open(r\"../../tex_files/my_table.tex\", \"w\") as tf:\n",
    "#     tf.write(df_by_practice.head(10).to_latex(index = False))"
   ]
  },
  {
   "cell_type": "code",
   "execution_count": 43,
   "metadata": {},
   "outputs": [
    {
     "data": {
      "text/plain": [
       "56.92"
      ]
     },
     "execution_count": 43,
     "metadata": {},
     "output_type": "execute_result"
    }
   ],
   "source": [
    "df_by_practice[\"counts_percentage\"].head(10).sum()"
   ]
  },
  {
   "cell_type": "code",
   "execution_count": 35,
   "metadata": {},
   "outputs": [
    {
     "data": {
      "text/html": [
       "<div>\n",
       "<style scoped>\n",
       "    .dataframe tbody tr th:only-of-type {\n",
       "        vertical-align: middle;\n",
       "    }\n",
       "\n",
       "    .dataframe tbody tr th {\n",
       "        vertical-align: top;\n",
       "    }\n",
       "\n",
       "    .dataframe thead th {\n",
       "        text-align: right;\n",
       "    }\n",
       "</style>\n",
       "<table border=\"1\" class=\"dataframe\">\n",
       "  <thead>\n",
       "    <tr style=\"text-align: right;\">\n",
       "      <th></th>\n",
       "      <th>segment_length_mean</th>\n",
       "      <th>segment_length_median</th>\n",
       "    </tr>\n",
       "  </thead>\n",
       "  <tbody>\n",
       "    <tr>\n",
       "      <th>count</th>\n",
       "      <td>10.000000</td>\n",
       "      <td>10.000000</td>\n",
       "    </tr>\n",
       "    <tr>\n",
       "      <th>mean</th>\n",
       "      <td>92.148979</td>\n",
       "      <td>74.500000</td>\n",
       "    </tr>\n",
       "    <tr>\n",
       "      <th>std</th>\n",
       "      <td>6.683275</td>\n",
       "      <td>7.230337</td>\n",
       "    </tr>\n",
       "    <tr>\n",
       "      <th>min</th>\n",
       "      <td>81.913753</td>\n",
       "      <td>67.000000</td>\n",
       "    </tr>\n",
       "    <tr>\n",
       "      <th>25%</th>\n",
       "      <td>86.647714</td>\n",
       "      <td>69.625000</td>\n",
       "    </tr>\n",
       "  </tbody>\n",
       "</table>\n",
       "</div>"
      ],
      "text/plain": [
       "       segment_length_mean  segment_length_median\n",
       "count            10.000000              10.000000\n",
       "mean             92.148979              74.500000\n",
       "std               6.683275               7.230337\n",
       "min              81.913753              67.000000\n",
       "25%              86.647714              69.625000"
      ]
     },
     "execution_count": 35,
     "metadata": {},
     "output_type": "execute_result"
    }
   ],
   "source": [
    "# Summary statistics of top 10 by mean and median\n",
    "df_top_10_summary = pd.concat([df_by_practice.head(10)[\"segment_length_mean\"].describe(), df_by_practice.head(10)[\"segment_length_median\"].describe()], axis = 1)\n",
    "\n",
    "df_top_10_summary.head()"
   ]
  },
  {
   "cell_type": "code",
   "execution_count": 50,
   "metadata": {},
   "outputs": [],
   "source": [
    "# with open(r\"../../tex_files/my_table.tex\", \"w\") as tf:\n",
    "#     tf.write(df_top_10_summary.to_latex(index = True))"
   ]
  },
  {
   "cell_type": "code",
   "execution_count": 27,
   "metadata": {},
   "outputs": [
    {
     "data": {
      "text/plain": [
       "0.5691598862856582"
      ]
     },
     "execution_count": 27,
     "metadata": {},
     "output_type": "execute_result"
    }
   ],
   "source": [
    "df_by_practice[\"counts_proportion\"][:10].sum()"
   ]
  },
  {
   "cell_type": "markdown",
   "metadata": {},
   "source": [
    "Top 10 frequently recurring practices compose of 60% of all practices in the dataset."
   ]
  },
  {
   "cell_type": "markdown",
   "metadata": {},
   "source": [
    "### Looking at the practices with the fewest counts "
   ]
  },
  {
   "cell_type": "code",
   "execution_count": 44,
   "metadata": {},
   "outputs": [
    {
     "data": {
      "text/html": [
       "<div>\n",
       "<style scoped>\n",
       "    .dataframe tbody tr th:only-of-type {\n",
       "        vertical-align: middle;\n",
       "    }\n",
       "\n",
       "    .dataframe tbody tr th {\n",
       "        vertical-align: top;\n",
       "    }\n",
       "\n",
       "    .dataframe thead th {\n",
       "        text-align: right;\n",
       "    }\n",
       "</style>\n",
       "<table border=\"1\" class=\"dataframe\">\n",
       "  <thead>\n",
       "    <tr style=\"text-align: right;\">\n",
       "      <th></th>\n",
       "      <th>practice</th>\n",
       "      <th>counts</th>\n",
       "      <th>segment_length_mean</th>\n",
       "      <th>segment_length_median</th>\n",
       "      <th>counts_percentage</th>\n",
       "    </tr>\n",
       "  </thead>\n",
       "  <tbody>\n",
       "    <tr>\n",
       "      <th>48</th>\n",
       "      <td>Identifier_IMEI_3rdParty</td>\n",
       "      <td>23</td>\n",
       "      <td>115.347826</td>\n",
       "      <td>93.0</td>\n",
       "      <td>0.23</td>\n",
       "    </tr>\n",
       "    <tr>\n",
       "      <th>49</th>\n",
       "      <td>Identifier_Mobile_Carrier_3rdParty</td>\n",
       "      <td>21</td>\n",
       "      <td>142.000000</td>\n",
       "      <td>130.0</td>\n",
       "      <td>0.21</td>\n",
       "    </tr>\n",
       "    <tr>\n",
       "      <th>50</th>\n",
       "      <td>Contact_Password_3rdParty</td>\n",
       "      <td>18</td>\n",
       "      <td>70.555556</td>\n",
       "      <td>65.0</td>\n",
       "      <td>0.18</td>\n",
       "    </tr>\n",
       "    <tr>\n",
       "      <th>51</th>\n",
       "      <td>Identifier_SSID_BSSID_1stParty</td>\n",
       "      <td>16</td>\n",
       "      <td>86.062500</td>\n",
       "      <td>71.0</td>\n",
       "      <td>0.16</td>\n",
       "    </tr>\n",
       "    <tr>\n",
       "      <th>52</th>\n",
       "      <td>Contact_Address_Book_3rdParty</td>\n",
       "      <td>14</td>\n",
       "      <td>296.928571</td>\n",
       "      <td>78.5</td>\n",
       "      <td>0.14</td>\n",
       "    </tr>\n",
       "    <tr>\n",
       "      <th>53</th>\n",
       "      <td>Identifier_IMSI_1stParty</td>\n",
       "      <td>11</td>\n",
       "      <td>92.363636</td>\n",
       "      <td>78.0</td>\n",
       "      <td>0.11</td>\n",
       "    </tr>\n",
       "    <tr>\n",
       "      <th>54</th>\n",
       "      <td>Contact_City_3rdParty</td>\n",
       "      <td>8</td>\n",
       "      <td>100.500000</td>\n",
       "      <td>104.0</td>\n",
       "      <td>0.08</td>\n",
       "    </tr>\n",
       "    <tr>\n",
       "      <th>55</th>\n",
       "      <td>Identifier_SIM_Serial_3rdParty</td>\n",
       "      <td>3</td>\n",
       "      <td>85.333333</td>\n",
       "      <td>65.0</td>\n",
       "      <td>0.03</td>\n",
       "    </tr>\n",
       "    <tr>\n",
       "      <th>56</th>\n",
       "      <td>Identifier_IMSI_3rdParty</td>\n",
       "      <td>3</td>\n",
       "      <td>62.333333</td>\n",
       "      <td>65.0</td>\n",
       "      <td>0.03</td>\n",
       "    </tr>\n",
       "    <tr>\n",
       "      <th>57</th>\n",
       "      <td>Identifier_SSID_BSSID_3rdParty</td>\n",
       "      <td>2</td>\n",
       "      <td>105.500000</td>\n",
       "      <td>105.5</td>\n",
       "      <td>0.02</td>\n",
       "    </tr>\n",
       "  </tbody>\n",
       "</table>\n",
       "</div>"
      ],
      "text/plain": [
       "                              practice  counts  segment_length_mean  \\\n",
       "48            Identifier_IMEI_3rdParty      23           115.347826   \n",
       "49  Identifier_Mobile_Carrier_3rdParty      21           142.000000   \n",
       "50           Contact_Password_3rdParty      18            70.555556   \n",
       "51      Identifier_SSID_BSSID_1stParty      16            86.062500   \n",
       "52       Contact_Address_Book_3rdParty      14           296.928571   \n",
       "53            Identifier_IMSI_1stParty      11            92.363636   \n",
       "54               Contact_City_3rdParty       8           100.500000   \n",
       "55      Identifier_SIM_Serial_3rdParty       3            85.333333   \n",
       "56            Identifier_IMSI_3rdParty       3            62.333333   \n",
       "57      Identifier_SSID_BSSID_3rdParty       2           105.500000   \n",
       "\n",
       "    segment_length_median  counts_percentage  \n",
       "48                   93.0               0.23  \n",
       "49                  130.0               0.21  \n",
       "50                   65.0               0.18  \n",
       "51                   71.0               0.16  \n",
       "52                   78.5               0.14  \n",
       "53                   78.0               0.11  \n",
       "54                  104.0               0.08  \n",
       "55                   65.0               0.03  \n",
       "56                   65.0               0.03  \n",
       "57                  105.5               0.02  "
      ]
     },
     "execution_count": 44,
     "metadata": {},
     "output_type": "execute_result"
    }
   ],
   "source": [
    "df_by_practice.tail(10)"
   ]
  },
  {
   "cell_type": "code",
   "execution_count": 46,
   "metadata": {},
   "outputs": [
    {
     "data": {
      "text/plain": [
       "1.1900000000000002"
      ]
     },
     "execution_count": 46,
     "metadata": {},
     "output_type": "execute_result"
    }
   ],
   "source": [
    "df_by_practice.tail(10)[\"counts_percentage\"].sum()"
   ]
  },
  {
   "cell_type": "code",
   "execution_count": 49,
   "metadata": {},
   "outputs": [],
   "source": [
    "with open(r\"../../tex_files/my_table.tex\", \"w\") as tf:\n",
    "    tf.write(df_by_practice.tail(10).to_latex(index = False))"
   ]
  },
  {
   "cell_type": "code",
   "execution_count": 31,
   "metadata": {},
   "outputs": [
    {
     "data": {
      "text/html": [
       "<div>\n",
       "<style scoped>\n",
       "    .dataframe tbody tr th:only-of-type {\n",
       "        vertical-align: middle;\n",
       "    }\n",
       "\n",
       "    .dataframe tbody tr th {\n",
       "        vertical-align: top;\n",
       "    }\n",
       "\n",
       "    .dataframe thead th {\n",
       "        text-align: right;\n",
       "    }\n",
       "</style>\n",
       "<table border=\"1\" class=\"dataframe\">\n",
       "  <thead>\n",
       "    <tr style=\"text-align: right;\">\n",
       "      <th></th>\n",
       "      <th>counts</th>\n",
       "      <th>segment_length_mean</th>\n",
       "      <th>segment_length_median</th>\n",
       "      <th>counts_proportion</th>\n",
       "    </tr>\n",
       "  </thead>\n",
       "  <tbody>\n",
       "    <tr>\n",
       "      <th>count</th>\n",
       "      <td>10.000000</td>\n",
       "      <td>10.000000</td>\n",
       "      <td>10.000000</td>\n",
       "      <td>10.000000</td>\n",
       "    </tr>\n",
       "    <tr>\n",
       "      <th>mean</th>\n",
       "      <td>11.900000</td>\n",
       "      <td>115.692476</td>\n",
       "      <td>85.500000</td>\n",
       "      <td>0.001167</td>\n",
       "    </tr>\n",
       "    <tr>\n",
       "      <th>std</th>\n",
       "      <td>7.723701</td>\n",
       "      <td>67.578606</td>\n",
       "      <td>21.997475</td>\n",
       "      <td>0.000757</td>\n",
       "    </tr>\n",
       "    <tr>\n",
       "      <th>min</th>\n",
       "      <td>2.000000</td>\n",
       "      <td>62.333333</td>\n",
       "      <td>65.000000</td>\n",
       "      <td>0.000196</td>\n",
       "    </tr>\n",
       "    <tr>\n",
       "      <th>25%</th>\n",
       "      <td>4.250000</td>\n",
       "      <td>85.515625</td>\n",
       "      <td>66.500000</td>\n",
       "      <td>0.000417</td>\n",
       "    </tr>\n",
       "    <tr>\n",
       "      <th>50%</th>\n",
       "      <td>12.500000</td>\n",
       "      <td>96.431818</td>\n",
       "      <td>78.250000</td>\n",
       "      <td>0.001225</td>\n",
       "    </tr>\n",
       "    <tr>\n",
       "      <th>75%</th>\n",
       "      <td>17.500000</td>\n",
       "      <td>112.885870</td>\n",
       "      <td>101.250000</td>\n",
       "      <td>0.001716</td>\n",
       "    </tr>\n",
       "    <tr>\n",
       "      <th>max</th>\n",
       "      <td>23.000000</td>\n",
       "      <td>296.928571</td>\n",
       "      <td>130.000000</td>\n",
       "      <td>0.002255</td>\n",
       "    </tr>\n",
       "  </tbody>\n",
       "</table>\n",
       "</div>"
      ],
      "text/plain": [
       "          counts  segment_length_mean  segment_length_median  \\\n",
       "count  10.000000            10.000000              10.000000   \n",
       "mean   11.900000           115.692476              85.500000   \n",
       "std     7.723701            67.578606              21.997475   \n",
       "min     2.000000            62.333333              65.000000   \n",
       "25%     4.250000            85.515625              66.500000   \n",
       "50%    12.500000            96.431818              78.250000   \n",
       "75%    17.500000           112.885870             101.250000   \n",
       "max    23.000000           296.928571             130.000000   \n",
       "\n",
       "       counts_proportion  \n",
       "count          10.000000  \n",
       "mean            0.001167  \n",
       "std             0.000757  \n",
       "min             0.000196  \n",
       "25%             0.000417  \n",
       "50%             0.001225  \n",
       "75%             0.001716  \n",
       "max             0.002255  "
      ]
     },
     "execution_count": 31,
     "metadata": {},
     "output_type": "execute_result"
    }
   ],
   "source": [
    "df_by_practice.tail(10).describe()"
   ]
  },
  {
   "cell_type": "markdown",
   "metadata": {},
   "source": [
    "Much more variation with higher std: around 38 words vs 2.4 for the top 10 most frequently recurring.\n",
    "But then could be because of low frequency. So might not be statisitcally significant."
   ]
  }
 ],
 "metadata": {
  "kernelspec": {
   "display_name": "Python 3.7.0 ('interpret_gpu')",
   "language": "python",
   "name": "python3"
  },
  "language_info": {
   "codemirror_mode": {
    "name": "ipython",
    "version": 3
   },
   "file_extension": ".py",
   "mimetype": "text/x-python",
   "name": "python",
   "nbconvert_exporter": "python",
   "pygments_lexer": "ipython3",
   "version": "3.7.0"
  },
  "orig_nbformat": 4,
  "vscode": {
   "interpreter": {
    "hash": "5f622adc888634df7afabb8a19e515c6c0448b764a13a8e3831abb14bea24c6c"
   }
  }
 },
 "nbformat": 4,
 "nbformat_minor": 2
}
