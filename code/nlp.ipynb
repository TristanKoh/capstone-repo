{
 "cells": [
  {
   "cell_type": "markdown",
   "metadata": {},
   "source": [
    "### Conducting basic NLP on sentence and segment level text\n",
    "\n",
    "Some ideas: \n",
    "1. ML model for high frequency practices\n",
    "\n",
    "    a. Non-neural net models as last option (too complex)\n",
    "\n",
    "    b. Experiment with a bunch of sklearn models.\n",
    "\n",
    "2. rule based text models for lowest 10? (after all the focus is about explainability)\n",
    "3. What is the best way to explain? How does that interact with the type of model used?\n",
    "\n",
    "Questions:\n",
    "1. How to test performance? What is the nature of the hold out data? \n",
    "2. How to balance explainability vs performance?\n",
    "\n",
    "    a. Need to add some papers on this"
   ]
  }
 ],
 "metadata": {
  "kernelspec": {
   "display_name": "Python 3.7.0 ('interpret_cpu')",
   "language": "python",
   "name": "python3"
  },
  "language_info": {
   "name": "python",
   "version": "3.7.0"
  },
  "orig_nbformat": 4,
  "vscode": {
   "interpreter": {
    "hash": "1df99abf9202d070d604c936e6a8a7a86a5e3f5987dc57547f7277a41858b6df"
   }
  }
 },
 "nbformat": 4,
 "nbformat_minor": 2
}
