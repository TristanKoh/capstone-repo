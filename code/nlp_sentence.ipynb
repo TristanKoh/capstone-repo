{
 "cells": [
  {
   "cell_type": "markdown",
   "metadata": {},
   "source": [
    "### Conducting basic NLP on sentence and segment level text\n",
    "\n",
    "Some ideas: \n",
    "1. ML model for high frequency practices\n",
    "\n",
    "    a. Non-neural net models as last option (too complex)\n",
    "\n",
    "    b. Experiment with a bunch of sklearn models.\n",
    "\n",
    "2. rule based text models for lowest 10? (after all the focus is about explainability)\n",
    "3. What is the best way to explain? How does that interact with the type of model used?\n",
    "\n",
    "Questions:\n",
    "1. How to test performance? What is the nature of the hold out data? \n",
    "2. How to balance explainability vs performance?\n",
    "\n",
    "    a. Need to add some papers on this"
   ]
  },
  {
   "cell_type": "code",
   "execution_count": 1,
   "metadata": {},
   "outputs": [],
   "source": [
    "SEED = 1\n",
    "\n",
    "import pandas as pd\n",
    "import sklearn\n",
    "import seaborn as sns\n",
    "\n",
    "PATH_SENTENCE_TEXT = r\"../dataset/concat_sentence_text.csv\"\n",
    "PATH_SEGMENT_TEXT = r\"../dataset/concat_segment_text.csv\""
   ]
  },
  {
   "cell_type": "markdown",
   "metadata": {},
   "source": [
    "## Part 1: NLP on sentence level text"
   ]
  },
  {
   "cell_type": "code",
   "execution_count": 2,
   "metadata": {},
   "outputs": [
    {
     "data": {
      "text/html": [
       "<div>\n",
       "<style scoped>\n",
       "    .dataframe tbody tr th:only-of-type {\n",
       "        vertical-align: middle;\n",
       "    }\n",
       "\n",
       "    .dataframe tbody tr th {\n",
       "        vertical-align: top;\n",
       "    }\n",
       "\n",
       "    .dataframe thead th {\n",
       "        text-align: right;\n",
       "    }\n",
       "</style>\n",
       "<table border=\"1\" class=\"dataframe\">\n",
       "  <thead>\n",
       "    <tr style=\"text-align: right;\">\n",
       "      <th></th>\n",
       "      <th>sentence_text</th>\n",
       "      <th>practice</th>\n",
       "      <th>modality</th>\n",
       "    </tr>\n",
       "  </thead>\n",
       "  <tbody>\n",
       "    <tr>\n",
       "      <th>0</th>\n",
       "      <td>IP ADDRESS, COOKIES, AND WEB BEACONS</td>\n",
       "      <td>Identifier_Cookie_or_similar_Tech_1stParty</td>\n",
       "      <td>PERFORMED</td>\n",
       "    </tr>\n",
       "    <tr>\n",
       "      <th>1</th>\n",
       "      <td>IP ADDRESS, COOKIES, AND WEB BEACONS</td>\n",
       "      <td>Identifier_IP_Address_1stParty</td>\n",
       "      <td>PERFORMED</td>\n",
       "    </tr>\n",
       "    <tr>\n",
       "      <th>2</th>\n",
       "      <td>IP addresses will be collected, along with inf...</td>\n",
       "      <td>Identifier_IP_Address_1stParty</td>\n",
       "      <td>PERFORMED</td>\n",
       "    </tr>\n",
       "    <tr>\n",
       "      <th>3</th>\n",
       "      <td>The information that our products collect incl...</td>\n",
       "      <td>Identifier_Cookie_or_similar_Tech_1stParty</td>\n",
       "      <td>PERFORMED</td>\n",
       "    </tr>\n",
       "    <tr>\n",
       "      <th>4</th>\n",
       "      <td>The information that our products collect incl...</td>\n",
       "      <td>Identifier_IP_Address_1stParty</td>\n",
       "      <td>PERFORMED</td>\n",
       "    </tr>\n",
       "  </tbody>\n",
       "</table>\n",
       "</div>"
      ],
      "text/plain": [
       "                                       sentence_text  \\\n",
       "0               IP ADDRESS, COOKIES, AND WEB BEACONS   \n",
       "1               IP ADDRESS, COOKIES, AND WEB BEACONS   \n",
       "2  IP addresses will be collected, along with inf...   \n",
       "3  The information that our products collect incl...   \n",
       "4  The information that our products collect incl...   \n",
       "\n",
       "                                     practice   modality  \n",
       "0  Identifier_Cookie_or_similar_Tech_1stParty  PERFORMED  \n",
       "1              Identifier_IP_Address_1stParty  PERFORMED  \n",
       "2              Identifier_IP_Address_1stParty  PERFORMED  \n",
       "3  Identifier_Cookie_or_similar_Tech_1stParty  PERFORMED  \n",
       "4              Identifier_IP_Address_1stParty  PERFORMED  "
      ]
     },
     "execution_count": 2,
     "metadata": {},
     "output_type": "execute_result"
    }
   ],
   "source": [
    "df = pd.read_csv(PATH_SENTENCE_TEXT)\n",
    "df.head()"
   ]
  },
  {
   "cell_type": "code",
   "execution_count": 3,
   "metadata": {},
   "outputs": [
    {
     "name": "stdout",
     "output_type": "stream",
     "text": [
      "<class 'pandas.core.frame.DataFrame'>\n",
      "RangeIndex: 18829 entries, 0 to 18828\n",
      "Data columns (total 3 columns):\n",
      " #   Column         Non-Null Count  Dtype \n",
      "---  ------         --------------  ----- \n",
      " 0   sentence_text  18829 non-null  object\n",
      " 1   practice       18829 non-null  object\n",
      " 2   modality       18829 non-null  object\n",
      "dtypes: object(3)\n",
      "memory usage: 441.4+ KB\n"
     ]
    }
   ],
   "source": [
    "df.info()"
   ]
  },
  {
   "cell_type": "code",
   "execution_count": 4,
   "metadata": {},
   "outputs": [],
   "source": [
    "df[\"sentence_text\"] = df[\"sentence_text\"].astype(\"string\")\n",
    "df[\"practice\"] = df[\"practice\"].astype(\"category\")\n",
    "df[\"practice\"] = df[\"practice\"].astype(\"category\")"
   ]
  },
  {
   "cell_type": "code",
   "execution_count": 5,
   "metadata": {},
   "outputs": [
    {
     "name": "stdout",
     "output_type": "stream",
     "text": [
      "<class 'pandas.core.frame.DataFrame'>\n",
      "RangeIndex: 18829 entries, 0 to 18828\n",
      "Data columns (total 3 columns):\n",
      " #   Column         Non-Null Count  Dtype   \n",
      "---  ------         --------------  -----   \n",
      " 0   sentence_text  18829 non-null  string  \n",
      " 1   practice       18829 non-null  category\n",
      " 2   modality       18829 non-null  object  \n",
      "dtypes: category(1), object(1), string(1)\n",
      "memory usage: 315.2+ KB\n"
     ]
    }
   ],
   "source": [
    "df.info()"
   ]
  },
  {
   "cell_type": "markdown",
   "metadata": {},
   "source": [
    "## Try first with basic model: TfIDF, with logistic regression, SGDClassifier?\n",
    "\n",
    "### Also todo: To try various word representations and tokenisation. With different stop words? Or n-grams?"
   ]
  },
  {
   "cell_type": "code",
   "execution_count": 18,
   "metadata": {},
   "outputs": [],
   "source": [
    "from sklearn.feature_extraction.text import TfidfVectorizer\n",
    "vectorizer = TfidfVectorizer(stop_words={'english'}, ngram_range=(1,4), strip_accents='ascii', binary = True)\n",
    "tfidf_vectors = vectorizer.fit_transform(df[\"sentence_text\"])"
   ]
  },
  {
   "cell_type": "code",
   "execution_count": 13,
   "metadata": {},
   "outputs": [
    {
     "name": "stdout",
     "output_type": "stream",
     "text": [
      "18829\n",
      "(18829, 369585)\n"
     ]
    }
   ],
   "source": [
    "# Sanity check: Number of rows in matrix same as number of sentences.\n",
    "# We have 51747 unique tokens after tokenisation\n",
    "print(len(df))\n",
    "print(tfidf_vectors.shape)"
   ]
  },
  {
   "cell_type": "code",
   "execution_count": 14,
   "metadata": {},
   "outputs": [],
   "source": [
    "from sklearn.model_selection import train_test_split\n",
    "from sklearn.metrics import classification_report\n",
    "from sklearn.linear_model import LogisticRegression"
   ]
  },
  {
   "cell_type": "code",
   "execution_count": 19,
   "metadata": {},
   "outputs": [],
   "source": [
    "# Train test split, 20% test size?\n",
    "x_train, x_test, y_train, y_test = train_test_split(tfidf_vectors, df[\"practice\"], test_size = 0.2, random_state = SEED)"
   ]
  },
  {
   "cell_type": "markdown",
   "metadata": {},
   "source": [
    "## Testing with logistic regression"
   ]
  },
  {
   "cell_type": "code",
   "execution_count": 20,
   "metadata": {},
   "outputs": [],
   "source": [
    "logistic_clf = LogisticRegression(random_state = SEED, max_iter = 500, n_jobs = -1, multi_class = \"ovr\").fit(x_train, y_train)\n",
    "y_pred = logistic_clf.predict(x_test)"
   ]
  },
  {
   "cell_type": "code",
   "execution_count": 21,
   "metadata": {},
   "outputs": [
    {
     "name": "stdout",
     "output_type": "stream",
     "text": [
      "                                            precision    recall  f1-score   support\n",
      "\n",
      "                          Contact_1stParty       0.05      0.01      0.02        74\n",
      "                          Contact_3rdParty       0.00      0.00      0.00        14\n",
      "             Contact_Address_Book_1stParty       0.46      0.13      0.21        82\n",
      "             Contact_Address_Book_3rdParty       0.00      0.00      0.00         5\n",
      "                     Contact_City_1stParty       0.00      0.00      0.00        29\n",
      "                     Contact_City_3rdParty       0.00      0.00      0.00         3\n",
      "           Contact_E_Mail_Address_1stParty       0.24      0.65      0.35       415\n",
      "           Contact_E_Mail_Address_3rdParty       0.10      0.02      0.03        52\n",
      "                 Contact_Password_1stParty       0.00      0.00      0.00        77\n",
      "                 Contact_Password_3rdParty       0.00      0.00      0.00         5\n",
      "             Contact_Phone_Number_1stParty       0.11      0.08      0.09       185\n",
      "             Contact_Phone_Number_3rdParty       0.00      0.00      0.00        15\n",
      "           Contact_Postal_Address_1stParty       0.06      0.02      0.03       117\n",
      "           Contact_Postal_Address_3rdParty       0.00      0.00      0.00        18\n",
      "                      Contact_ZIP_1stParty       0.00      0.00      0.00        39\n",
      "                      Contact_ZIP_3rdParty       0.00      0.00      0.00        11\n",
      "                      Demographic_1stParty       0.71      0.10      0.18        50\n",
      "                      Demographic_3rdParty       1.00      0.04      0.08        24\n",
      "                  Demographic_Age_1stParty       0.04      0.01      0.02        70\n",
      "                  Demographic_Age_3rdParty       0.00      0.00      0.00        18\n",
      "               Demographic_Gender_1stParty       0.00      0.00      0.00        66\n",
      "               Demographic_Gender_3rdParty       0.00      0.00      0.00        17\n",
      "                              Facebook_SSO       0.00      0.00      0.00        73\n",
      "                       Identifier_1stParty       0.00      0.00      0.00        37\n",
      "                       Identifier_3rdParty       0.00      0.00      0.00        11\n",
      "                 Identifier_Ad_ID_1stParty       0.00      0.00      0.00        39\n",
      "                 Identifier_Ad_ID_3rdParty       0.00      0.00      0.00        47\n",
      "Identifier_Cookie_or_similar_Tech_1stParty       0.37      0.77      0.50       411\n",
      "Identifier_Cookie_or_similar_Tech_3rdParty       0.27      0.24      0.25       277\n",
      "             Identifier_Device_ID_1stParty       0.11      0.12      0.11       141\n",
      "             Identifier_Device_ID_3rdParty       0.22      0.03      0.05        69\n",
      "                  Identifier_IMEI_1stParty       0.00      0.00      0.00        20\n",
      "                  Identifier_IMEI_3rdParty       0.00      0.00      0.00        13\n",
      "                  Identifier_IMSI_1stParty       0.00      0.00      0.00         1\n",
      "            Identifier_IP_Address_1stParty       0.17      0.26      0.21       195\n",
      "            Identifier_IP_Address_3rdParty       0.05      0.01      0.02        85\n",
      "                   Identifier_MAC_1stParty       0.00      0.00      0.00        38\n",
      "                   Identifier_MAC_3rdParty       0.00      0.00      0.00        17\n",
      "        Identifier_Mobile_Carrier_1stParty       0.00      0.00      0.00        33\n",
      "        Identifier_Mobile_Carrier_3rdParty       0.00      0.00      0.00         6\n",
      "            Identifier_SIM_Serial_1stParty       0.00      0.00      0.00         9\n",
      "            Identifier_SSID_BSSID_1stParty       0.00      0.00      0.00         7\n",
      "                         Location_1stParty       0.20      0.38      0.26       329\n",
      "                         Location_3rdParty       0.05      0.03      0.03        80\n",
      "               Location_Bluetooth_1stParty       0.00      0.00      0.00        33\n",
      "               Location_Bluetooth_3rdParty       0.00      0.00      0.00        12\n",
      "              Location_Cell_Tower_1stParty       0.00      0.00      0.00        38\n",
      "              Location_Cell_Tower_3rdParty       0.00      0.00      0.00        20\n",
      "                     Location_GPS_1stParty       0.00      0.00      0.00        67\n",
      "                     Location_GPS_3rdParty       0.00      0.00      0.00        27\n",
      "              Location_IP_Address_1stParty       0.00      0.00      0.00        51\n",
      "              Location_IP_Address_3rdParty       0.00      0.00      0.00        24\n",
      "                    Location_WiFi_1stParty       0.00      0.00      0.00        59\n",
      "                    Location_WiFi_3rdParty       0.00      0.00      0.00        17\n",
      "                                       SSO       0.19      0.13      0.15        94\n",
      "\n",
      "                                  accuracy                           0.24      3766\n",
      "                                 macro avg       0.08      0.06      0.05      3766\n",
      "                              weighted avg       0.16      0.24      0.17      3766\n",
      "\n"
     ]
    },
    {
     "name": "stderr",
     "output_type": "stream",
     "text": [
      "c:\\Users\\Tristan\\anaconda3\\envs\\interpret_cpu\\lib\\site-packages\\sklearn\\metrics\\_classification.py:1318: UndefinedMetricWarning: Precision and F-score are ill-defined and being set to 0.0 in labels with no predicted samples. Use `zero_division` parameter to control this behavior.\n",
      "  _warn_prf(average, modifier, msg_start, len(result))\n",
      "c:\\Users\\Tristan\\anaconda3\\envs\\interpret_cpu\\lib\\site-packages\\sklearn\\metrics\\_classification.py:1318: UndefinedMetricWarning: Precision and F-score are ill-defined and being set to 0.0 in labels with no predicted samples. Use `zero_division` parameter to control this behavior.\n",
      "  _warn_prf(average, modifier, msg_start, len(result))\n",
      "c:\\Users\\Tristan\\anaconda3\\envs\\interpret_cpu\\lib\\site-packages\\sklearn\\metrics\\_classification.py:1318: UndefinedMetricWarning: Precision and F-score are ill-defined and being set to 0.0 in labels with no predicted samples. Use `zero_division` parameter to control this behavior.\n",
      "  _warn_prf(average, modifier, msg_start, len(result))\n"
     ]
    }
   ],
   "source": [
    "print(classification_report(y_test, y_pred))"
   ]
  },
  {
   "cell_type": "markdown",
   "metadata": {},
   "source": [
    "### To try visualisation of logistic regression with interpret. At least we know how it works using a simple linear classifier."
   ]
  },
  {
   "cell_type": "markdown",
   "metadata": {},
   "source": [
    "## Testing with SGDClassifier"
   ]
  },
  {
   "cell_type": "code",
   "execution_count": 9,
   "metadata": {},
   "outputs": [],
   "source": [
    "from sklearn.linear_model import SGDClassifier"
   ]
  },
  {
   "cell_type": "code",
   "execution_count": 17,
   "metadata": {},
   "outputs": [
    {
     "name": "stderr",
     "output_type": "stream",
     "text": [
      "c:\\Users\\Tristan\\anaconda3\\envs\\interpret_cpu\\lib\\site-packages\\sklearn\\linear_model\\_stochastic_gradient.py:700: ConvergenceWarning: Maximum number of iteration reached before convergence. Consider increasing max_iter to improve the fit.\n",
      "  ConvergenceWarning,\n"
     ]
    }
   ],
   "source": [
    "clf_sgdclassifier = SGDClassifier(loss = \"squared_hinge\", max_iter = 5000, random_state=SEED, n_jobs = -1).fit(x_train, y_train)\n",
    "y_pred = clf_sgdclassifier.predict(x_test)"
   ]
  },
  {
   "cell_type": "code",
   "execution_count": 18,
   "metadata": {},
   "outputs": [
    {
     "name": "stdout",
     "output_type": "stream",
     "text": [
      "                                            precision    recall  f1-score   support\n",
      "\n",
      "                          Contact_1stParty       0.16      0.04      0.06        74\n",
      "                          Contact_3rdParty       0.00      0.00      0.00        14\n",
      "             Contact_Address_Book_1stParty       0.23      0.39      0.29        82\n",
      "             Contact_Address_Book_3rdParty       0.00      0.00      0.00         5\n",
      "                     Contact_City_1stParty       0.05      0.07      0.06        29\n",
      "                     Contact_City_3rdParty       0.00      0.00      0.00         3\n",
      "           Contact_E_Mail_Address_1stParty       0.32      0.22      0.26       415\n",
      "           Contact_E_Mail_Address_3rdParty       0.00      0.00      0.00        52\n",
      "                 Contact_Password_1stParty       0.04      0.03      0.03        77\n",
      "                 Contact_Password_3rdParty       0.04      0.20      0.06         5\n",
      "             Contact_Phone_Number_1stParty       0.19      0.20      0.20       185\n",
      "             Contact_Phone_Number_3rdParty       0.00      0.00      0.00        15\n",
      "           Contact_Postal_Address_1stParty       0.16      0.03      0.04       117\n",
      "           Contact_Postal_Address_3rdParty       0.00      0.00      0.00        18\n",
      "                      Contact_ZIP_1stParty       0.50      0.03      0.05        39\n",
      "                      Contact_ZIP_3rdParty       0.00      0.00      0.00        11\n",
      "                      Demographic_1stParty       0.23      0.06      0.10        50\n",
      "                      Demographic_3rdParty       0.06      0.12      0.08        24\n",
      "                  Demographic_Age_1stParty       0.33      0.03      0.05        70\n",
      "                  Demographic_Age_3rdParty       0.00      0.00      0.00        18\n",
      "               Demographic_Gender_1stParty       0.17      0.02      0.03        66\n",
      "               Demographic_Gender_3rdParty       0.00      0.00      0.00        17\n",
      "                              Facebook_SSO       0.21      0.07      0.10        73\n",
      "                       Identifier_1stParty       0.00      0.00      0.00        37\n",
      "                       Identifier_3rdParty       0.00      0.00      0.00        11\n",
      "                 Identifier_Ad_ID_1stParty       0.50      0.03      0.05        39\n",
      "                 Identifier_Ad_ID_3rdParty       0.50      0.06      0.11        47\n",
      "Identifier_Cookie_or_similar_Tech_1stParty       0.40      0.46      0.43       411\n",
      "Identifier_Cookie_or_similar_Tech_3rdParty       0.45      0.18      0.26       277\n",
      "             Identifier_Device_ID_1stParty       0.19      0.27      0.22       141\n",
      "             Identifier_Device_ID_3rdParty       0.33      0.03      0.05        69\n",
      "                  Identifier_IMEI_1stParty       0.00      0.00      0.00        20\n",
      "                  Identifier_IMEI_3rdParty       0.00      0.00      0.00        13\n",
      "                  Identifier_IMSI_1stParty       0.10      1.00      0.18         1\n",
      "                  Identifier_IMSI_3rdParty       0.00      0.00      0.00         0\n",
      "            Identifier_IP_Address_1stParty       0.22      0.13      0.16       195\n",
      "            Identifier_IP_Address_3rdParty       0.23      0.04      0.06        85\n",
      "                   Identifier_MAC_1stParty       1.00      0.03      0.05        38\n",
      "                   Identifier_MAC_3rdParty       0.00      0.00      0.00        17\n",
      "        Identifier_Mobile_Carrier_1stParty       0.00      0.00      0.00        33\n",
      "        Identifier_Mobile_Carrier_3rdParty       0.00      0.00      0.00         6\n",
      "            Identifier_SIM_Serial_1stParty       0.07      0.11      0.09         9\n",
      "            Identifier_SIM_Serial_3rdParty       0.00      0.00      0.00         0\n",
      "            Identifier_SSID_BSSID_1stParty       0.15      0.29      0.20         7\n",
      "            Identifier_SSID_BSSID_3rdParty       0.00      0.00      0.00         0\n",
      "                         Location_1stParty       0.30      0.11      0.16       329\n",
      "                         Location_3rdParty       0.23      0.04      0.06        80\n",
      "               Location_Bluetooth_1stParty       0.00      0.00      0.00        33\n",
      "               Location_Bluetooth_3rdParty       0.00      0.00      0.00        12\n",
      "              Location_Cell_Tower_1stParty       0.25      0.03      0.05        38\n",
      "              Location_Cell_Tower_3rdParty       0.50      0.05      0.09        20\n",
      "                     Location_GPS_1stParty       0.13      0.09      0.11        67\n",
      "                     Location_GPS_3rdParty       0.00      0.00      0.00        27\n",
      "              Location_IP_Address_1stParty       0.00      0.00      0.00        51\n",
      "              Location_IP_Address_3rdParty       0.00      0.00      0.00        24\n",
      "                    Location_WiFi_1stParty       0.50      0.02      0.03        59\n",
      "                    Location_WiFi_3rdParty       0.00      0.00      0.00        17\n",
      "                                       SSO       0.30      0.13      0.18        94\n",
      "\n",
      "                                  accuracy                           0.15      3766\n",
      "                                 macro avg       0.16      0.08      0.07      3766\n",
      "                              weighted avg       0.26      0.15      0.17      3766\n",
      "\n"
     ]
    },
    {
     "name": "stderr",
     "output_type": "stream",
     "text": [
      "c:\\Users\\Tristan\\anaconda3\\envs\\interpret_cpu\\lib\\site-packages\\sklearn\\metrics\\_classification.py:1318: UndefinedMetricWarning: Precision and F-score are ill-defined and being set to 0.0 in labels with no predicted samples. Use `zero_division` parameter to control this behavior.\n",
      "  _warn_prf(average, modifier, msg_start, len(result))\n",
      "c:\\Users\\Tristan\\anaconda3\\envs\\interpret_cpu\\lib\\site-packages\\sklearn\\metrics\\_classification.py:1318: UndefinedMetricWarning: Recall and F-score are ill-defined and being set to 0.0 in labels with no true samples. Use `zero_division` parameter to control this behavior.\n",
      "  _warn_prf(average, modifier, msg_start, len(result))\n",
      "c:\\Users\\Tristan\\anaconda3\\envs\\interpret_cpu\\lib\\site-packages\\sklearn\\metrics\\_classification.py:1318: UndefinedMetricWarning: Precision and F-score are ill-defined and being set to 0.0 in labels with no predicted samples. Use `zero_division` parameter to control this behavior.\n",
      "  _warn_prf(average, modifier, msg_start, len(result))\n",
      "c:\\Users\\Tristan\\anaconda3\\envs\\interpret_cpu\\lib\\site-packages\\sklearn\\metrics\\_classification.py:1318: UndefinedMetricWarning: Recall and F-score are ill-defined and being set to 0.0 in labels with no true samples. Use `zero_division` parameter to control this behavior.\n",
      "  _warn_prf(average, modifier, msg_start, len(result))\n",
      "c:\\Users\\Tristan\\anaconda3\\envs\\interpret_cpu\\lib\\site-packages\\sklearn\\metrics\\_classification.py:1318: UndefinedMetricWarning: Precision and F-score are ill-defined and being set to 0.0 in labels with no predicted samples. Use `zero_division` parameter to control this behavior.\n",
      "  _warn_prf(average, modifier, msg_start, len(result))\n",
      "c:\\Users\\Tristan\\anaconda3\\envs\\interpret_cpu\\lib\\site-packages\\sklearn\\metrics\\_classification.py:1318: UndefinedMetricWarning: Recall and F-score are ill-defined and being set to 0.0 in labels with no true samples. Use `zero_division` parameter to control this behavior.\n",
      "  _warn_prf(average, modifier, msg_start, len(result))\n"
     ]
    }
   ],
   "source": [
    "print(classification_report(y_test, y_pred))"
   ]
  },
  {
   "cell_type": "markdown",
   "metadata": {},
   "source": [
    "## Testing with LinearSVC (used by the original authors)"
   ]
  },
  {
   "cell_type": "code",
   "execution_count": 9,
   "metadata": {},
   "outputs": [],
   "source": [
    "from sklearn.svm import SVC"
   ]
  },
  {
   "cell_type": "code",
   "execution_count": 10,
   "metadata": {},
   "outputs": [
    {
     "ename": "KeyboardInterrupt",
     "evalue": "",
     "output_type": "error",
     "traceback": [
      "\u001b[1;31m---------------------------------------------------------------------------\u001b[0m",
      "\u001b[1;31mKeyboardInterrupt\u001b[0m                         Traceback (most recent call last)",
      "\u001b[1;32m<ipython-input-10-4f454161fc01>\u001b[0m in \u001b[0;36m<module>\u001b[1;34m\u001b[0m\n\u001b[1;32m----> 1\u001b[1;33m \u001b[0mlinearSVC_clf\u001b[0m \u001b[1;33m=\u001b[0m \u001b[0mSVC\u001b[0m\u001b[1;33m(\u001b[0m\u001b[0mkernel\u001b[0m\u001b[1;33m=\u001b[0m \u001b[1;34m\"linear\"\u001b[0m\u001b[1;33m,\u001b[0m \u001b[0mclass_weight\u001b[0m\u001b[1;33m=\u001b[0m\u001b[1;34m\"balanced\"\u001b[0m\u001b[1;33m)\u001b[0m\u001b[1;33m.\u001b[0m\u001b[0mfit\u001b[0m\u001b[1;33m(\u001b[0m\u001b[0mx_train\u001b[0m\u001b[1;33m,\u001b[0m \u001b[0my_train\u001b[0m\u001b[1;33m)\u001b[0m\u001b[1;33m\u001b[0m\u001b[0m\n\u001b[0m\u001b[0;32m      2\u001b[0m \u001b[0my_pred\u001b[0m \u001b[1;33m=\u001b[0m \u001b[0mlinearSVC_clf\u001b[0m\u001b[1;33m.\u001b[0m\u001b[0mpredict\u001b[0m\u001b[1;33m(\u001b[0m\u001b[0mx_test\u001b[0m\u001b[1;33m)\u001b[0m\u001b[1;33m\u001b[0m\u001b[0m\n",
      "\u001b[1;32mc:\\Users\\Tristan\\anaconda3\\envs\\interpret_cpu\\lib\\site-packages\\sklearn\\svm\\_base.py\u001b[0m in \u001b[0;36mfit\u001b[1;34m(self, X, y, sample_weight)\u001b[0m\n\u001b[0;32m    253\u001b[0m \u001b[1;33m\u001b[0m\u001b[0m\n\u001b[0;32m    254\u001b[0m         \u001b[0mseed\u001b[0m \u001b[1;33m=\u001b[0m \u001b[0mrnd\u001b[0m\u001b[1;33m.\u001b[0m\u001b[0mrandint\u001b[0m\u001b[1;33m(\u001b[0m\u001b[0mnp\u001b[0m\u001b[1;33m.\u001b[0m\u001b[0miinfo\u001b[0m\u001b[1;33m(\u001b[0m\u001b[1;34m\"i\"\u001b[0m\u001b[1;33m)\u001b[0m\u001b[1;33m.\u001b[0m\u001b[0mmax\u001b[0m\u001b[1;33m)\u001b[0m\u001b[1;33m\u001b[0m\u001b[0m\n\u001b[1;32m--> 255\u001b[1;33m         \u001b[0mfit\u001b[0m\u001b[1;33m(\u001b[0m\u001b[0mX\u001b[0m\u001b[1;33m,\u001b[0m \u001b[0my\u001b[0m\u001b[1;33m,\u001b[0m \u001b[0msample_weight\u001b[0m\u001b[1;33m,\u001b[0m \u001b[0msolver_type\u001b[0m\u001b[1;33m,\u001b[0m \u001b[0mkernel\u001b[0m\u001b[1;33m,\u001b[0m \u001b[0mrandom_seed\u001b[0m\u001b[1;33m=\u001b[0m\u001b[0mseed\u001b[0m\u001b[1;33m)\u001b[0m\u001b[1;33m\u001b[0m\u001b[0m\n\u001b[0m\u001b[0;32m    256\u001b[0m         \u001b[1;31m# see comment on the other call to np.iinfo in this file\u001b[0m\u001b[1;33m\u001b[0m\u001b[1;33m\u001b[0m\u001b[0m\n\u001b[0;32m    257\u001b[0m \u001b[1;33m\u001b[0m\u001b[0m\n",
      "\u001b[1;32mc:\\Users\\Tristan\\anaconda3\\envs\\interpret_cpu\\lib\\site-packages\\sklearn\\svm\\_base.py\u001b[0m in \u001b[0;36m_sparse_fit\u001b[1;34m(self, X, y, sample_weight, solver_type, kernel, random_seed)\u001b[0m\n\u001b[0;32m    374\u001b[0m             \u001b[0mint\u001b[0m\u001b[1;33m(\u001b[0m\u001b[0mself\u001b[0m\u001b[1;33m.\u001b[0m\u001b[0mprobability\u001b[0m\u001b[1;33m)\u001b[0m\u001b[1;33m,\u001b[0m\u001b[1;33m\u001b[0m\u001b[0m\n\u001b[0;32m    375\u001b[0m             \u001b[0mself\u001b[0m\u001b[1;33m.\u001b[0m\u001b[0mmax_iter\u001b[0m\u001b[1;33m,\u001b[0m\u001b[1;33m\u001b[0m\u001b[0m\n\u001b[1;32m--> 376\u001b[1;33m             \u001b[0mrandom_seed\u001b[0m\u001b[1;33m,\u001b[0m\u001b[1;33m\u001b[0m\u001b[0m\n\u001b[0m\u001b[0;32m    377\u001b[0m         )\n\u001b[0;32m    378\u001b[0m \u001b[1;33m\u001b[0m\u001b[0m\n",
      "\u001b[1;32msklearn\\svm\\_libsvm_sparse.pyx\u001b[0m in \u001b[0;36msklearn.svm._libsvm_sparse.libsvm_sparse_train\u001b[1;34m()\u001b[0m\n",
      "\u001b[1;32mc:\\Users\\Tristan\\anaconda3\\envs\\interpret_cpu\\lib\\site-packages\\scipy\\sparse\\compressed.py\u001b[0m in \u001b[0;36m__init__\u001b[1;34m(self, arg1, shape, dtype, copy)\u001b[0m\n\u001b[0;32m     25\u001b[0m     \u001b[1;34m\"\"\"base matrix class for compressed row- and column-oriented matrices\"\"\"\u001b[0m\u001b[1;33m\u001b[0m\u001b[0m\n\u001b[0;32m     26\u001b[0m \u001b[1;33m\u001b[0m\u001b[0m\n\u001b[1;32m---> 27\u001b[1;33m     \u001b[1;32mdef\u001b[0m \u001b[0m__init__\u001b[0m\u001b[1;33m(\u001b[0m\u001b[0mself\u001b[0m\u001b[1;33m,\u001b[0m \u001b[0marg1\u001b[0m\u001b[1;33m,\u001b[0m \u001b[0mshape\u001b[0m\u001b[1;33m=\u001b[0m\u001b[1;32mNone\u001b[0m\u001b[1;33m,\u001b[0m \u001b[0mdtype\u001b[0m\u001b[1;33m=\u001b[0m\u001b[1;32mNone\u001b[0m\u001b[1;33m,\u001b[0m \u001b[0mcopy\u001b[0m\u001b[1;33m=\u001b[0m\u001b[1;32mFalse\u001b[0m\u001b[1;33m)\u001b[0m\u001b[1;33m:\u001b[0m\u001b[1;33m\u001b[0m\u001b[0m\n\u001b[0m\u001b[0;32m     28\u001b[0m         \u001b[0m_data_matrix\u001b[0m\u001b[1;33m.\u001b[0m\u001b[0m__init__\u001b[0m\u001b[1;33m(\u001b[0m\u001b[0mself\u001b[0m\u001b[1;33m)\u001b[0m\u001b[1;33m\u001b[0m\u001b[0m\n\u001b[0;32m     29\u001b[0m \u001b[1;33m\u001b[0m\u001b[0m\n",
      "\u001b[1;31mKeyboardInterrupt\u001b[0m: "
     ]
    }
   ],
   "source": [
    "linearSVC_clf = SVC(kernel= \"linear\", class_weight=\"balanced\").fit(x_train, y_train)\n",
    "y_pred = linearSVC_clf.predict(x_test)"
   ]
  },
  {
   "cell_type": "code",
   "execution_count": null,
   "metadata": {},
   "outputs": [
    {
     "name": "stdout",
     "output_type": "stream",
     "text": [
      "                                            precision    recall  f1-score   support\n",
      "\n",
      "                          Contact_1stParty       0.30      0.26      0.28        74\n",
      "                          Contact_3rdParty       0.06      0.07      0.06        14\n",
      "             Contact_Address_Book_1stParty       0.40      0.50      0.45        82\n",
      "             Contact_Address_Book_3rdParty       0.00      0.00      0.00         5\n",
      "                     Contact_City_1stParty       0.09      0.24      0.13        29\n",
      "                     Contact_City_3rdParty       0.00      0.00      0.00         3\n",
      "           Contact_E_Mail_Address_1stParty       0.43      0.35      0.38       415\n",
      "           Contact_E_Mail_Address_3rdParty       0.08      0.04      0.05        52\n",
      "                 Contact_Password_1stParty       0.27      0.38      0.32        77\n",
      "                 Contact_Password_3rdParty       0.01      0.20      0.03         5\n",
      "             Contact_Phone_Number_1stParty       0.31      0.12      0.18       185\n",
      "             Contact_Phone_Number_3rdParty       0.06      0.20      0.09        15\n",
      "           Contact_Postal_Address_1stParty       0.18      0.27      0.22       117\n",
      "           Contact_Postal_Address_3rdParty       0.00      0.00      0.00        18\n",
      "                      Contact_ZIP_1stParty       0.07      0.10      0.08        39\n",
      "                      Contact_ZIP_3rdParty       0.07      0.18      0.10        11\n",
      "                      Demographic_1stParty       0.22      0.28      0.25        50\n",
      "                      Demographic_3rdParty       0.08      0.17      0.11        24\n",
      "                  Demographic_Age_1stParty       0.14      0.09      0.11        70\n",
      "                  Demographic_Age_3rdParty       0.00      0.00      0.00        18\n",
      "               Demographic_Gender_1stParty       0.10      0.11      0.10        66\n",
      "               Demographic_Gender_3rdParty       0.00      0.00      0.00        17\n",
      "                              Facebook_SSO       0.21      0.30      0.24        73\n",
      "                       Identifier_1stParty       0.15      0.14      0.14        37\n",
      "                       Identifier_3rdParty       0.09      0.27      0.14        11\n",
      "                 Identifier_Ad_ID_1stParty       0.12      0.15      0.13        39\n",
      "                 Identifier_Ad_ID_3rdParty       0.09      0.06      0.07        47\n",
      "Identifier_Cookie_or_similar_Tech_1stParty       0.63      0.65      0.64       411\n",
      "Identifier_Cookie_or_similar_Tech_3rdParty       0.57      0.34      0.43       277\n",
      "             Identifier_Device_ID_1stParty       0.31      0.16      0.21       141\n",
      "             Identifier_Device_ID_3rdParty       0.23      0.19      0.21        69\n",
      "                  Identifier_IMEI_1stParty       0.10      0.35      0.16        20\n",
      "                  Identifier_IMEI_3rdParty       0.12      0.38      0.19        13\n",
      "                  Identifier_IMSI_1stParty       0.05      1.00      0.10         1\n",
      "                  Identifier_IMSI_3rdParty       0.00      0.00      0.00         0\n",
      "            Identifier_IP_Address_1stParty       0.44      0.19      0.27       195\n",
      "            Identifier_IP_Address_3rdParty       0.31      0.16      0.22        85\n",
      "                   Identifier_MAC_1stParty       0.09      0.13      0.11        38\n",
      "                   Identifier_MAC_3rdParty       0.03      0.06      0.04        17\n",
      "        Identifier_Mobile_Carrier_1stParty       0.09      0.18      0.12        33\n",
      "        Identifier_Mobile_Carrier_3rdParty       0.00      0.00      0.00         6\n",
      "            Identifier_SIM_Serial_1stParty       0.11      0.33      0.17         9\n",
      "            Identifier_SIM_Serial_3rdParty       0.00      0.00      0.00         0\n",
      "            Identifier_SSID_BSSID_1stParty       0.17      0.29      0.21         7\n",
      "            Identifier_SSID_BSSID_3rdParty       0.00      0.00      0.00         0\n",
      "                         Location_1stParty       0.44      0.24      0.31       329\n",
      "                         Location_3rdParty       0.32      0.12      0.18        80\n",
      "               Location_Bluetooth_1stParty       0.04      0.09      0.05        33\n",
      "               Location_Bluetooth_3rdParty       0.00      0.00      0.00        12\n",
      "              Location_Cell_Tower_1stParty       0.03      0.05      0.04        38\n",
      "              Location_Cell_Tower_3rdParty       0.02      0.05      0.03        20\n",
      "                     Location_GPS_1stParty       0.04      0.01      0.02        67\n",
      "                     Location_GPS_3rdParty       0.00      0.00      0.00        27\n",
      "              Location_IP_Address_1stParty       0.06      0.08      0.07        51\n",
      "              Location_IP_Address_3rdParty       0.00      0.00      0.00        24\n",
      "                    Location_WiFi_1stParty       0.00      0.00      0.00        59\n",
      "                    Location_WiFi_3rdParty       0.00      0.00      0.00        17\n",
      "                                       SSO       0.28      0.24      0.26        94\n",
      "\n",
      "                                  accuracy                           0.26      3766\n",
      "                                 macro avg       0.14      0.17      0.13      3766\n",
      "                              weighted avg       0.32      0.26      0.28      3766\n",
      "\n"
     ]
    },
    {
     "name": "stderr",
     "output_type": "stream",
     "text": [
      "c:\\Users\\Tristan\\anaconda3\\envs\\interpret_cpu\\lib\\site-packages\\sklearn\\metrics\\_classification.py:1318: UndefinedMetricWarning: Recall and F-score are ill-defined and being set to 0.0 in labels with no true samples. Use `zero_division` parameter to control this behavior.\n",
      "  _warn_prf(average, modifier, msg_start, len(result))\n",
      "c:\\Users\\Tristan\\anaconda3\\envs\\interpret_cpu\\lib\\site-packages\\sklearn\\metrics\\_classification.py:1318: UndefinedMetricWarning: Recall and F-score are ill-defined and being set to 0.0 in labels with no true samples. Use `zero_division` parameter to control this behavior.\n",
      "  _warn_prf(average, modifier, msg_start, len(result))\n",
      "c:\\Users\\Tristan\\anaconda3\\envs\\interpret_cpu\\lib\\site-packages\\sklearn\\metrics\\_classification.py:1318: UndefinedMetricWarning: Recall and F-score are ill-defined and being set to 0.0 in labels with no true samples. Use `zero_division` parameter to control this behavior.\n",
      "  _warn_prf(average, modifier, msg_start, len(result))\n"
     ]
    }
   ],
   "source": [
    "print(classification_report(y_test, y_pred))"
   ]
  },
  {
   "cell_type": "markdown",
   "metadata": {},
   "source": [
    "### Random forests"
   ]
  },
  {
   "cell_type": "code",
   "execution_count": 19,
   "metadata": {},
   "outputs": [],
   "source": [
    "from sklearn.ensemble import RandomForestClassifier"
   ]
  },
  {
   "cell_type": "code",
   "execution_count": 21,
   "metadata": {},
   "outputs": [],
   "source": [
    "clf_randomforest = RandomForestClassifier(n_jobs = -1, random_state = SEED).fit(x_train, y_train)\n",
    "y_pred = clf_randomforest.predict(x_test)"
   ]
  },
  {
   "cell_type": "code",
   "execution_count": 22,
   "metadata": {},
   "outputs": [
    {
     "name": "stdout",
     "output_type": "stream",
     "text": [
      "                                            precision    recall  f1-score   support\n",
      "\n",
      "                          Contact_1stParty       0.16      0.14      0.15        74\n",
      "                          Contact_3rdParty       0.00      0.00      0.00        14\n",
      "             Contact_Address_Book_1stParty       0.27      0.27      0.27        82\n",
      "             Contact_Address_Book_3rdParty       0.00      0.00      0.00         5\n",
      "                     Contact_City_1stParty       0.03      0.03      0.03        29\n",
      "                     Contact_City_3rdParty       0.00      0.00      0.00         3\n",
      "           Contact_E_Mail_Address_1stParty       0.25      0.34      0.29       415\n",
      "           Contact_E_Mail_Address_3rdParty       0.02      0.02      0.02        52\n",
      "                 Contact_Password_1stParty       0.07      0.06      0.07        77\n",
      "                 Contact_Password_3rdParty       0.00      0.00      0.00         5\n",
      "             Contact_Phone_Number_1stParty       0.09      0.09      0.09       185\n",
      "             Contact_Phone_Number_3rdParty       0.00      0.00      0.00        15\n",
      "           Contact_Postal_Address_1stParty       0.05      0.04      0.05       117\n",
      "           Contact_Postal_Address_3rdParty       0.00      0.00      0.00        18\n",
      "                      Contact_ZIP_1stParty       0.05      0.03      0.03        39\n",
      "                      Contact_ZIP_3rdParty       0.00      0.00      0.00        11\n",
      "                      Demographic_1stParty       0.19      0.16      0.17        50\n",
      "                      Demographic_3rdParty       0.07      0.08      0.08        24\n",
      "                  Demographic_Age_1stParty       0.04      0.04      0.04        70\n",
      "                  Demographic_Age_3rdParty       0.00      0.00      0.00        18\n",
      "               Demographic_Gender_1stParty       0.02      0.02      0.02        66\n",
      "               Demographic_Gender_3rdParty       0.00      0.00      0.00        17\n",
      "                              Facebook_SSO       0.10      0.08      0.09        73\n",
      "                       Identifier_1stParty       0.00      0.00      0.00        37\n",
      "                       Identifier_3rdParty       0.00      0.00      0.00        11\n",
      "                 Identifier_Ad_ID_1stParty       0.05      0.10      0.07        39\n",
      "                 Identifier_Ad_ID_3rdParty       0.07      0.06      0.07        47\n",
      "Identifier_Cookie_or_similar_Tech_1stParty       0.45      0.58      0.51       411\n",
      "Identifier_Cookie_or_similar_Tech_3rdParty       0.29      0.25      0.27       277\n",
      "             Identifier_Device_ID_1stParty       0.11      0.13      0.12       141\n",
      "             Identifier_Device_ID_3rdParty       0.09      0.04      0.06        69\n",
      "                  Identifier_IMEI_1stParty       0.04      0.05      0.04        20\n",
      "                  Identifier_IMEI_3rdParty       0.00      0.00      0.00        13\n",
      "                  Identifier_IMSI_1stParty       0.00      0.00      0.00         1\n",
      "            Identifier_IP_Address_1stParty       0.19      0.18      0.18       195\n",
      "            Identifier_IP_Address_3rdParty       0.05      0.05      0.05        85\n",
      "                   Identifier_MAC_1stParty       0.03      0.03      0.03        38\n",
      "                   Identifier_MAC_3rdParty       0.00      0.00      0.00        17\n",
      "        Identifier_Mobile_Carrier_1stParty       0.04      0.03      0.03        33\n",
      "        Identifier_Mobile_Carrier_3rdParty       0.00      0.00      0.00         6\n",
      "            Identifier_SIM_Serial_1stParty       0.00      0.00      0.00         9\n",
      "            Identifier_SSID_BSSID_1stParty       0.17      0.14      0.15         7\n",
      "                         Location_1stParty       0.26      0.25      0.26       329\n",
      "                         Location_3rdParty       0.02      0.01      0.01        80\n",
      "               Location_Bluetooth_1stParty       0.02      0.03      0.03        33\n",
      "               Location_Bluetooth_3rdParty       0.00      0.00      0.00        12\n",
      "              Location_Cell_Tower_1stParty       0.00      0.00      0.00        38\n",
      "              Location_Cell_Tower_3rdParty       0.00      0.00      0.00        20\n",
      "                     Location_GPS_1stParty       0.00      0.00      0.00        67\n",
      "                     Location_GPS_3rdParty       0.00      0.00      0.00        27\n",
      "              Location_IP_Address_1stParty       0.00      0.00      0.00        51\n",
      "              Location_IP_Address_3rdParty       0.00      0.00      0.00        24\n",
      "                    Location_WiFi_1stParty       0.00      0.00      0.00        59\n",
      "                    Location_WiFi_3rdParty       0.00      0.00      0.00        17\n",
      "                                       SSO       0.18      0.15      0.16        94\n",
      "\n",
      "                                  accuracy                           0.19      3766\n",
      "                                 macro avg       0.06      0.06      0.06      3766\n",
      "                              weighted avg       0.17      0.19      0.18      3766\n",
      "\n"
     ]
    }
   ],
   "source": [
    "print(classification_report(y_test, y_pred))"
   ]
  },
  {
   "cell_type": "markdown",
   "metadata": {},
   "source": [
    "### Summary (29/8/22): Trying different models using Tfidf yields low performance. \n",
    "The issue should be with feature engineering. Need to look at word embeddings first perhaps, before looking at what models to use.\n",
    "\n",
    "TODO: How does this affect interpret package usage?"
   ]
  }
 ],
 "metadata": {
  "kernelspec": {
   "display_name": "Python 3.7.0 ('interpret_cpu')",
   "language": "python",
   "name": "python3"
  },
  "language_info": {
   "codemirror_mode": {
    "name": "ipython",
    "version": 3
   },
   "file_extension": ".py",
   "mimetype": "text/x-python",
   "name": "python",
   "nbconvert_exporter": "python",
   "pygments_lexer": "ipython3",
   "version": "3.7.0"
  },
  "orig_nbformat": 4,
  "vscode": {
   "interpreter": {
    "hash": "1df99abf9202d070d604c936e6a8a7a86a5e3f5987dc57547f7277a41858b6df"
   }
  }
 },
 "nbformat": 4,
 "nbformat_minor": 2
}
