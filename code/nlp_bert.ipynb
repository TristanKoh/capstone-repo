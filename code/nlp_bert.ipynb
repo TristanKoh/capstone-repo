{
 "cells": [
  {
   "cell_type": "markdown",
   "metadata": {},
   "source": [
    "### Using BERT\n",
    "\n",
    "https://medium.com/@samia.khalid/bert-explained-a-complete-guide-with-theory-and-tutorial-3ac9ebc8fa7c\n",
    "\n",
    "https://www.analyticsvidhya.com/blog/2021/12/multiclass-classification-using-transformers/"
   ]
  },
  {
   "cell_type": "code",
   "execution_count": 1,
   "metadata": {},
   "outputs": [],
   "source": [
    "SEED = 1\n",
    "\n",
    "import pandas as pd\n",
    "import sklearn\n",
    "import seaborn as sns\n",
    "\n",
    "PATH_SENTENCE_TEXT = r\"../dataset/concat_sentence_text.csv\"\n",
    "PATH_SEGMENT_TEXT = r\"../dataset/concat_segment_text.csv\""
   ]
  },
  {
   "cell_type": "code",
   "execution_count": 2,
   "metadata": {},
   "outputs": [
    {
     "data": {
      "text/html": [
       "<div>\n",
       "<style scoped>\n",
       "    .dataframe tbody tr th:only-of-type {\n",
       "        vertical-align: middle;\n",
       "    }\n",
       "\n",
       "    .dataframe tbody tr th {\n",
       "        vertical-align: top;\n",
       "    }\n",
       "\n",
       "    .dataframe thead th {\n",
       "        text-align: right;\n",
       "    }\n",
       "</style>\n",
       "<table border=\"1\" class=\"dataframe\">\n",
       "  <thead>\n",
       "    <tr style=\"text-align: right;\">\n",
       "      <th></th>\n",
       "      <th>sentence_text</th>\n",
       "      <th>practice</th>\n",
       "      <th>modality</th>\n",
       "    </tr>\n",
       "  </thead>\n",
       "  <tbody>\n",
       "    <tr>\n",
       "      <th>0</th>\n",
       "      <td>IP ADDRESS, COOKIES, AND WEB BEACONS</td>\n",
       "      <td>Identifier_Cookie_or_similar_Tech_1stParty</td>\n",
       "      <td>PERFORMED</td>\n",
       "    </tr>\n",
       "    <tr>\n",
       "      <th>1</th>\n",
       "      <td>IP ADDRESS, COOKIES, AND WEB BEACONS</td>\n",
       "      <td>Identifier_IP_Address_1stParty</td>\n",
       "      <td>PERFORMED</td>\n",
       "    </tr>\n",
       "    <tr>\n",
       "      <th>2</th>\n",
       "      <td>IP addresses will be collected, along with inf...</td>\n",
       "      <td>Identifier_IP_Address_1stParty</td>\n",
       "      <td>PERFORMED</td>\n",
       "    </tr>\n",
       "    <tr>\n",
       "      <th>3</th>\n",
       "      <td>The information that our products collect incl...</td>\n",
       "      <td>Identifier_Cookie_or_similar_Tech_1stParty</td>\n",
       "      <td>PERFORMED</td>\n",
       "    </tr>\n",
       "    <tr>\n",
       "      <th>4</th>\n",
       "      <td>The information that our products collect incl...</td>\n",
       "      <td>Identifier_IP_Address_1stParty</td>\n",
       "      <td>PERFORMED</td>\n",
       "    </tr>\n",
       "  </tbody>\n",
       "</table>\n",
       "</div>"
      ],
      "text/plain": [
       "                                       sentence_text  \\\n",
       "0               IP ADDRESS, COOKIES, AND WEB BEACONS   \n",
       "1               IP ADDRESS, COOKIES, AND WEB BEACONS   \n",
       "2  IP addresses will be collected, along with inf...   \n",
       "3  The information that our products collect incl...   \n",
       "4  The information that our products collect incl...   \n",
       "\n",
       "                                     practice   modality  \n",
       "0  Identifier_Cookie_or_similar_Tech_1stParty  PERFORMED  \n",
       "1              Identifier_IP_Address_1stParty  PERFORMED  \n",
       "2              Identifier_IP_Address_1stParty  PERFORMED  \n",
       "3  Identifier_Cookie_or_similar_Tech_1stParty  PERFORMED  \n",
       "4              Identifier_IP_Address_1stParty  PERFORMED  "
      ]
     },
     "execution_count": 2,
     "metadata": {},
     "output_type": "execute_result"
    }
   ],
   "source": [
    "df = pd.read_csv(PATH_SENTENCE_TEXT)\n",
    "df.head()"
   ]
  },
  {
   "cell_type": "code",
   "execution_count": 3,
   "metadata": {},
   "outputs": [
    {
     "name": "stdout",
     "output_type": "stream",
     "text": [
      "<class 'pandas.core.frame.DataFrame'>\n",
      "RangeIndex: 18829 entries, 0 to 18828\n",
      "Data columns (total 3 columns):\n",
      " #   Column         Non-Null Count  Dtype   \n",
      "---  ------         --------------  -----   \n",
      " 0   sentence_text  18829 non-null  string  \n",
      " 1   practice       18829 non-null  category\n",
      " 2   modality       18829 non-null  object  \n",
      "dtypes: category(1), object(1), string(1)\n",
      "memory usage: 315.2+ KB\n"
     ]
    }
   ],
   "source": [
    "df[\"sentence_text\"] = df[\"sentence_text\"].astype(\"string\")\n",
    "df[\"practice\"] = df[\"practice\"].astype(\"category\")\n",
    "df[\"practice\"] = df[\"practice\"].astype(\"category\")\n",
    "df.info()"
   ]
  },
  {
   "cell_type": "code",
   "execution_count": 4,
   "metadata": {},
   "outputs": [],
   "source": [
    "# Match each privacy practice to a unique int\n",
    "df[\"practice_int\"] = df[\"practice\"].cat.rename_categories(list(range(0, len(df[\"practice\"].unique()))))"
   ]
  },
  {
   "cell_type": "code",
   "execution_count": 5,
   "metadata": {},
   "outputs": [
    {
     "data": {
      "text/plain": [
       "array(['Identifier_Cookie_or_similar_Tech_1stParty',\n",
       "       'Identifier_IP_Address_1stParty',\n",
       "       'Identifier_Cookie_or_similar_Tech_3rdParty',\n",
       "       'Demographic_3rdParty', 'Demographic_Age_3rdParty',\n",
       "       'Contact_E_Mail_Address_1stParty', 'Demographic_Age_1stParty',\n",
       "       'Contact_Phone_Number_1stParty', 'Contact_Postal_Address_1stParty',\n",
       "       'Facebook_SSO', 'SSO', 'Contact_Address_Book_1stParty',\n",
       "       'Contact_Password_1stParty', 'Demographic_1stParty',\n",
       "       'Identifier_Ad_ID_1stParty', 'Identifier_Device_ID_1stParty',\n",
       "       'Location_1stParty', 'Identifier_IMEI_1stParty',\n",
       "       'Identifier_IMSI_1stParty', 'Identifier_SSID_BSSID_1stParty',\n",
       "       'Location_Cell_Tower_1stParty', 'Location_IP_Address_1stParty',\n",
       "       'Location_3rdParty', 'Location_Cell_Tower_3rdParty',\n",
       "       'Location_IP_Address_3rdParty', 'Identifier_IP_Address_3rdParty',\n",
       "       'Contact_E_Mail_Address_3rdParty', 'Identifier_MAC_1stParty',\n",
       "       'Demographic_Gender_1stParty', 'Contact_1stParty',\n",
       "       'Contact_Postal_Address_3rdParty', 'Identifier_1stParty',\n",
       "       'Identifier_Mobile_Carrier_1stParty', 'Contact_ZIP_1stParty',\n",
       "       'Identifier_3rdParty', 'Location_Bluetooth_1stParty',\n",
       "       'Location_Bluetooth_3rdParty', 'Location_GPS_1stParty',\n",
       "       'Location_GPS_3rdParty', 'Location_WiFi_1stParty',\n",
       "       'Location_WiFi_3rdParty', 'Contact_Phone_Number_3rdParty',\n",
       "       'Identifier_SIM_Serial_1stParty', 'Identifier_Device_ID_3rdParty',\n",
       "       'Identifier_MAC_3rdParty', 'Identifier_Ad_ID_3rdParty',\n",
       "       'Contact_City_1stParty', 'Contact_Password_3rdParty',\n",
       "       'Identifier_IMEI_3rdParty', 'Identifier_SIM_Serial_3rdParty',\n",
       "       'Contact_ZIP_3rdParty', 'Contact_3rdParty',\n",
       "       'Identifier_Mobile_Carrier_3rdParty',\n",
       "       'Demographic_Gender_3rdParty', 'Contact_City_3rdParty',\n",
       "       'Contact_Address_Book_3rdParty', 'Identifier_IMSI_3rdParty',\n",
       "       'Identifier_SSID_BSSID_3rdParty'], dtype=object)"
      ]
     },
     "execution_count": 5,
     "metadata": {},
     "output_type": "execute_result"
    }
   ],
   "source": [
    "cat_array = pd.unique(df[[\"practice\", \"practice_int\"]].values.ravel(\"K\"))\n",
    "# 58 different categories\n",
    "cat_array[ :58]"
   ]
  },
  {
   "cell_type": "code",
   "execution_count": 6,
   "metadata": {},
   "outputs": [
    {
     "data": {
      "text/html": [
       "<div>\n",
       "<style scoped>\n",
       "    .dataframe tbody tr th:only-of-type {\n",
       "        vertical-align: middle;\n",
       "    }\n",
       "\n",
       "    .dataframe tbody tr th {\n",
       "        vertical-align: top;\n",
       "    }\n",
       "\n",
       "    .dataframe thead th {\n",
       "        text-align: right;\n",
       "    }\n",
       "</style>\n",
       "<table border=\"1\" class=\"dataframe\">\n",
       "  <thead>\n",
       "    <tr style=\"text-align: right;\">\n",
       "      <th></th>\n",
       "      <th>id</th>\n",
       "      <th>practice</th>\n",
       "    </tr>\n",
       "  </thead>\n",
       "  <tbody>\n",
       "    <tr>\n",
       "      <th>0</th>\n",
       "      <td>27</td>\n",
       "      <td>Identifier_Cookie_or_similar_Tech_1stParty</td>\n",
       "    </tr>\n",
       "    <tr>\n",
       "      <th>1</th>\n",
       "      <td>35</td>\n",
       "      <td>Identifier_IP_Address_1stParty</td>\n",
       "    </tr>\n",
       "    <tr>\n",
       "      <th>2</th>\n",
       "      <td>28</td>\n",
       "      <td>Identifier_Cookie_or_similar_Tech_3rdParty</td>\n",
       "    </tr>\n",
       "    <tr>\n",
       "      <th>3</th>\n",
       "      <td>17</td>\n",
       "      <td>Demographic_3rdParty</td>\n",
       "    </tr>\n",
       "    <tr>\n",
       "      <th>4</th>\n",
       "      <td>19</td>\n",
       "      <td>Demographic_Age_3rdParty</td>\n",
       "    </tr>\n",
       "  </tbody>\n",
       "</table>\n",
       "</div>"
      ],
      "text/plain": [
       "   id                                    practice\n",
       "0  27  Identifier_Cookie_or_similar_Tech_1stParty\n",
       "1  35              Identifier_IP_Address_1stParty\n",
       "2  28  Identifier_Cookie_or_similar_Tech_3rdParty\n",
       "3  17                        Demographic_3rdParty\n",
       "4  19                    Demographic_Age_3rdParty"
      ]
     },
     "execution_count": 6,
     "metadata": {},
     "output_type": "execute_result"
    }
   ],
   "source": [
    "df_cat_mapping = pd.DataFrame(\n",
    "    {\"id\" : cat_array[58: ],\n",
    "    \"practice\" : cat_array[ :58]\n",
    "    })\n",
    "\n",
    "df_cat_mapping.head()"
   ]
  },
  {
   "cell_type": "code",
   "execution_count": 7,
   "metadata": {},
   "outputs": [
    {
     "data": {
      "text/html": [
       "<div>\n",
       "<style scoped>\n",
       "    .dataframe tbody tr th:only-of-type {\n",
       "        vertical-align: middle;\n",
       "    }\n",
       "\n",
       "    .dataframe tbody tr th {\n",
       "        vertical-align: top;\n",
       "    }\n",
       "\n",
       "    .dataframe thead th {\n",
       "        text-align: right;\n",
       "    }\n",
       "</style>\n",
       "<table border=\"1\" class=\"dataframe\">\n",
       "  <thead>\n",
       "    <tr style=\"text-align: right;\">\n",
       "      <th></th>\n",
       "      <th>id</th>\n",
       "      <th>label</th>\n",
       "      <th>alpha</th>\n",
       "      <th>text</th>\n",
       "    </tr>\n",
       "  </thead>\n",
       "  <tbody>\n",
       "    <tr>\n",
       "      <th>0</th>\n",
       "      <td>0</td>\n",
       "      <td>27</td>\n",
       "      <td>a</td>\n",
       "      <td>IP ADDRESS, COOKIES, AND WEB BEACONS</td>\n",
       "    </tr>\n",
       "    <tr>\n",
       "      <th>1</th>\n",
       "      <td>1</td>\n",
       "      <td>35</td>\n",
       "      <td>a</td>\n",
       "      <td>IP ADDRESS, COOKIES, AND WEB BEACONS</td>\n",
       "    </tr>\n",
       "    <tr>\n",
       "      <th>2</th>\n",
       "      <td>2</td>\n",
       "      <td>35</td>\n",
       "      <td>a</td>\n",
       "      <td>IP addresses will be collected, along with inf...</td>\n",
       "    </tr>\n",
       "    <tr>\n",
       "      <th>3</th>\n",
       "      <td>3</td>\n",
       "      <td>27</td>\n",
       "      <td>a</td>\n",
       "      <td>The information that our products collect incl...</td>\n",
       "    </tr>\n",
       "    <tr>\n",
       "      <th>4</th>\n",
       "      <td>4</td>\n",
       "      <td>35</td>\n",
       "      <td>a</td>\n",
       "      <td>The information that our products collect incl...</td>\n",
       "    </tr>\n",
       "  </tbody>\n",
       "</table>\n",
       "</div>"
      ],
      "text/plain": [
       "   id label alpha                                               text\n",
       "0   0    27     a               IP ADDRESS, COOKIES, AND WEB BEACONS\n",
       "1   1    35     a               IP ADDRESS, COOKIES, AND WEB BEACONS\n",
       "2   2    35     a  IP addresses will be collected, along with inf...\n",
       "3   3    27     a  The information that our products collect incl...\n",
       "4   4    35     a  The information that our products collect incl..."
      ]
     },
     "execution_count": 7,
     "metadata": {},
     "output_type": "execute_result"
    }
   ],
   "source": [
    "df_bert = pd.DataFrame(\n",
    "    {\"id\" : range(0, len(df)),\n",
    "    \"label\" : df[\"practice_int\"],\n",
    "    \"alpha\" : [\"a\"] * len(df),\n",
    "    \"text\" : df[\"sentence_text\"]\n",
    "    })\n",
    "\n",
    "df_bert.head()"
   ]
  },
  {
   "cell_type": "code",
   "execution_count": 8,
   "metadata": {},
   "outputs": [],
   "source": [
    "from sklearn.model_selection import train_test_split"
   ]
  }
 ],
 "metadata": {
  "kernelspec": {
   "display_name": "Python 3.7.0 ('interpret_cpu')",
   "language": "python",
   "name": "python3"
  },
  "language_info": {
   "codemirror_mode": {
    "name": "ipython",
    "version": 3
   },
   "file_extension": ".py",
   "mimetype": "text/x-python",
   "name": "python",
   "nbconvert_exporter": "python",
   "pygments_lexer": "ipython3",
   "version": "3.7.0"
  },
  "orig_nbformat": 4,
  "vscode": {
   "interpreter": {
    "hash": "1df99abf9202d070d604c936e6a8a7a86a5e3f5987dc57547f7277a41858b6df"
   }
  }
 },
 "nbformat": 4,
 "nbformat_minor": 2
}
