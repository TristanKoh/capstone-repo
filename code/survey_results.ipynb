{
 "cells": [
  {
   "cell_type": "code",
   "execution_count": 1,
   "metadata": {},
   "outputs": [],
   "source": [
    "FILE_PATH = r\"..\\dataset\\survey_results.csv\""
   ]
  },
  {
   "cell_type": "code",
   "execution_count": 2,
   "metadata": {},
   "outputs": [],
   "source": [
    "import pandas as pd\n",
    "import seaborn as sns\n",
    "import numpy as np\n",
    "import plotly.express as px\n",
    "import plotly.graph_objects as go\n",
    "import scipy\n",
    "\n",
    "import matplotlib.pyplot as plt\n",
    "\n",
    "fig_export_path = r\"..\\papers\\report\\ync-latex-capstone-master\\figures\""
   ]
  },
  {
   "cell_type": "code",
   "execution_count": 3,
   "metadata": {},
   "outputs": [
    {
     "data": {
      "text/html": [
       "<div>\n",
       "<style scoped>\n",
       "    .dataframe tbody tr th:only-of-type {\n",
       "        vertical-align: middle;\n",
       "    }\n",
       "\n",
       "    .dataframe tbody tr th {\n",
       "        vertical-align: top;\n",
       "    }\n",
       "\n",
       "    .dataframe thead th {\n",
       "        text-align: right;\n",
       "    }\n",
       "</style>\n",
       "<table border=\"1\" class=\"dataframe\">\n",
       "  <thead>\n",
       "    <tr style=\"text-align: right;\">\n",
       "      <th></th>\n",
       "      <th>Timestamp</th>\n",
       "      <th>If you are a NUS / Yale-NUS student, are you 18 years old and above? \\n\\nOR \\n\\nIf you are not a NUS student, are you above 21+ years old?</th>\n",
       "      <th>I have read about the purpose of this research study, agree to participate, and understand that I can withdraw at any time.</th>\n",
       "      <th>What is your major / prospective major?</th>\n",
       "      <th>What is your age?</th>\n",
       "      <th>Do you have any experience with AI / data science / programming?</th>\n",
       "      <th>Do you have any experience with regarding data privacy / law?</th>\n",
       "      <th>Are you concerned about your data privacy?</th>\n",
       "      <th>How would you rate your capability in protecting your online data?</th>\n",
       "      <th>Do you think decisions that are made by AI can be useful to society?</th>\n",
       "      <th>...</th>\n",
       "      <th>Think that using the model is a method that could be a risk to society?.3</th>\n",
       "      <th>Trust the prediction made by the model?.3</th>\n",
       "      <th>Think that using the model is an effective method of identifying violations of the PDPA?.4</th>\n",
       "      <th>Think that using the model is a fair method of identifying violations of the PDPA?.4</th>\n",
       "      <th>Think that using the model is a method that could be a risk to society?.4</th>\n",
       "      <th>Trust the prediction made by the model?.4</th>\n",
       "      <th>Think that using the model is an effective method of identifying violations of the PDPA?.5</th>\n",
       "      <th>Think that using the model is a fair method of identifying violations of the PDPA?.5</th>\n",
       "      <th>Think that using the model is a method that could be a risk to society?.5</th>\n",
       "      <th>Trust the prediction made by the model?.5</th>\n",
       "    </tr>\n",
       "  </thead>\n",
       "  <tbody>\n",
       "    <tr>\n",
       "      <th>0</th>\n",
       "      <td>2023/01/30 4:34:41 PM GMT+8</td>\n",
       "      <td>Yes</td>\n",
       "      <td>Yes</td>\n",
       "      <td>Environmental Studies</td>\n",
       "      <td>NaN</td>\n",
       "      <td>3</td>\n",
       "      <td>1</td>\n",
       "      <td>2</td>\n",
       "      <td>2</td>\n",
       "      <td>4</td>\n",
       "      <td>...</td>\n",
       "      <td>2</td>\n",
       "      <td>2</td>\n",
       "      <td>2</td>\n",
       "      <td>2</td>\n",
       "      <td>2</td>\n",
       "      <td>2</td>\n",
       "      <td>2</td>\n",
       "      <td>2</td>\n",
       "      <td>3</td>\n",
       "      <td>2</td>\n",
       "    </tr>\n",
       "    <tr>\n",
       "      <th>1</th>\n",
       "      <td>2023/01/30 5:02:57 PM GMT+8</td>\n",
       "      <td>Yes</td>\n",
       "      <td>Yes</td>\n",
       "      <td>Global Affairs / Political Science</td>\n",
       "      <td>NaN</td>\n",
       "      <td>2</td>\n",
       "      <td>3</td>\n",
       "      <td>2</td>\n",
       "      <td>1</td>\n",
       "      <td>5</td>\n",
       "      <td>...</td>\n",
       "      <td>2</td>\n",
       "      <td>1</td>\n",
       "      <td>2</td>\n",
       "      <td>2</td>\n",
       "      <td>2</td>\n",
       "      <td>1</td>\n",
       "      <td>4</td>\n",
       "      <td>3</td>\n",
       "      <td>2</td>\n",
       "      <td>4</td>\n",
       "    </tr>\n",
       "    <tr>\n",
       "      <th>2</th>\n",
       "      <td>2023/01/30 5:14:27 PM GMT+8</td>\n",
       "      <td>Yes</td>\n",
       "      <td>Yes</td>\n",
       "      <td>Economics</td>\n",
       "      <td>NaN</td>\n",
       "      <td>3</td>\n",
       "      <td>3</td>\n",
       "      <td>4</td>\n",
       "      <td>2</td>\n",
       "      <td>5</td>\n",
       "      <td>...</td>\n",
       "      <td>2</td>\n",
       "      <td>3</td>\n",
       "      <td>1</td>\n",
       "      <td>1</td>\n",
       "      <td>1</td>\n",
       "      <td>1</td>\n",
       "      <td>1</td>\n",
       "      <td>1</td>\n",
       "      <td>1</td>\n",
       "      <td>1</td>\n",
       "    </tr>\n",
       "    <tr>\n",
       "      <th>3</th>\n",
       "      <td>2023/01/30 6:05:25 PM GMT+8</td>\n",
       "      <td>Yes</td>\n",
       "      <td>Yes</td>\n",
       "      <td>Law</td>\n",
       "      <td>NaN</td>\n",
       "      <td>1</td>\n",
       "      <td>4</td>\n",
       "      <td>4</td>\n",
       "      <td>4</td>\n",
       "      <td>3</td>\n",
       "      <td>...</td>\n",
       "      <td>2</td>\n",
       "      <td>3</td>\n",
       "      <td>2</td>\n",
       "      <td>2</td>\n",
       "      <td>1</td>\n",
       "      <td>2</td>\n",
       "      <td>3</td>\n",
       "      <td>2</td>\n",
       "      <td>2</td>\n",
       "      <td>4</td>\n",
       "    </tr>\n",
       "    <tr>\n",
       "      <th>4</th>\n",
       "      <td>2023/01/30 6:06:22 PM GMT+8</td>\n",
       "      <td>Yes</td>\n",
       "      <td>Yes</td>\n",
       "      <td>Law</td>\n",
       "      <td>NaN</td>\n",
       "      <td>1</td>\n",
       "      <td>1</td>\n",
       "      <td>3</td>\n",
       "      <td>3</td>\n",
       "      <td>5</td>\n",
       "      <td>...</td>\n",
       "      <td>3</td>\n",
       "      <td>3</td>\n",
       "      <td>1</td>\n",
       "      <td>1</td>\n",
       "      <td>2</td>\n",
       "      <td>3</td>\n",
       "      <td>2</td>\n",
       "      <td>2</td>\n",
       "      <td>3</td>\n",
       "      <td>3</td>\n",
       "    </tr>\n",
       "  </tbody>\n",
       "</table>\n",
       "<p>5 rows × 58 columns</p>\n",
       "</div>"
      ],
      "text/plain": [
       "                     Timestamp  \\\n",
       "0  2023/01/30 4:34:41 PM GMT+8   \n",
       "1  2023/01/30 5:02:57 PM GMT+8   \n",
       "2  2023/01/30 5:14:27 PM GMT+8   \n",
       "3  2023/01/30 6:05:25 PM GMT+8   \n",
       "4  2023/01/30 6:06:22 PM GMT+8   \n",
       "\n",
       "  If you are a NUS / Yale-NUS student, are you 18 years old and above? \\n\\nOR \\n\\nIf you are not a NUS student, are you above 21+ years old?  \\\n",
       "0                                                Yes                                                                                           \n",
       "1                                                Yes                                                                                           \n",
       "2                                                Yes                                                                                           \n",
       "3                                                Yes                                                                                           \n",
       "4                                                Yes                                                                                           \n",
       "\n",
       "  I have read about the purpose of this research study, agree to participate, and understand that I can withdraw at any time.   \\\n",
       "0                                                Yes                                                                             \n",
       "1                                                Yes                                                                             \n",
       "2                                                Yes                                                                             \n",
       "3                                                Yes                                                                             \n",
       "4                                                Yes                                                                             \n",
       "\n",
       "  What is your major / prospective major? What is your age?  \\\n",
       "0                   Environmental Studies               NaN   \n",
       "1      Global Affairs / Political Science               NaN   \n",
       "2                               Economics               NaN   \n",
       "3                                     Law               NaN   \n",
       "4                                     Law               NaN   \n",
       "\n",
       "   Do you have any experience with AI / data science / programming?  \\\n",
       "0                                                  3                  \n",
       "1                                                  2                  \n",
       "2                                                  3                  \n",
       "3                                                  1                  \n",
       "4                                                  1                  \n",
       "\n",
       "   Do you have any experience with regarding data privacy / law?  \\\n",
       "0                                                  1               \n",
       "1                                                  3               \n",
       "2                                                  3               \n",
       "3                                                  4               \n",
       "4                                                  1               \n",
       "\n",
       "   Are you concerned about your data privacy?  \\\n",
       "0                                           2   \n",
       "1                                           2   \n",
       "2                                           4   \n",
       "3                                           4   \n",
       "4                                           3   \n",
       "\n",
       "   How would you rate your capability in protecting your online data?  \\\n",
       "0                                                  2                    \n",
       "1                                                  1                    \n",
       "2                                                  2                    \n",
       "3                                                  4                    \n",
       "4                                                  3                    \n",
       "\n",
       "   Do you think decisions that are made by AI can be useful to society?  ...  \\\n",
       "0                                                  4                     ...   \n",
       "1                                                  5                     ...   \n",
       "2                                                  5                     ...   \n",
       "3                                                  3                     ...   \n",
       "4                                                  5                     ...   \n",
       "\n",
       "   Think that using the model is a method that could be a risk to society?.3  \\\n",
       "0                                                  2                           \n",
       "1                                                  2                           \n",
       "2                                                  2                           \n",
       "3                                                  2                           \n",
       "4                                                  3                           \n",
       "\n",
       "   Trust the prediction made by the model?.3  \\\n",
       "0                                          2   \n",
       "1                                          1   \n",
       "2                                          3   \n",
       "3                                          3   \n",
       "4                                          3   \n",
       "\n",
       "  Think that using the model is an effective method of identifying violations of the PDPA?.4  \\\n",
       "0                                                  2                                           \n",
       "1                                                  2                                           \n",
       "2                                                  1                                           \n",
       "3                                                  2                                           \n",
       "4                                                  1                                           \n",
       "\n",
       "   Think that using the model is a fair method of identifying violations of the PDPA?.4  \\\n",
       "0                                                  2                                      \n",
       "1                                                  2                                      \n",
       "2                                                  1                                      \n",
       "3                                                  2                                      \n",
       "4                                                  1                                      \n",
       "\n",
       "   Think that using the model is a method that could be a risk to society?.4  \\\n",
       "0                                                  2                           \n",
       "1                                                  2                           \n",
       "2                                                  1                           \n",
       "3                                                  1                           \n",
       "4                                                  2                           \n",
       "\n",
       "   Trust the prediction made by the model?.4  \\\n",
       "0                                          2   \n",
       "1                                          1   \n",
       "2                                          1   \n",
       "3                                          2   \n",
       "4                                          3   \n",
       "\n",
       "   Think that using the model is an effective method of identifying violations of the PDPA?.5  \\\n",
       "0                                                  2                                            \n",
       "1                                                  4                                            \n",
       "2                                                  1                                            \n",
       "3                                                  3                                            \n",
       "4                                                  2                                            \n",
       "\n",
       "   Think that using the model is a fair method of identifying violations of the PDPA?.5  \\\n",
       "0                                                  2                                      \n",
       "1                                                  3                                      \n",
       "2                                                  1                                      \n",
       "3                                                  2                                      \n",
       "4                                                  2                                      \n",
       "\n",
       "   Think that using the model is a method that could be a risk to society?.5  \\\n",
       "0                                                  3                           \n",
       "1                                                  2                           \n",
       "2                                                  1                           \n",
       "3                                                  2                           \n",
       "4                                                  3                           \n",
       "\n",
       "   Trust the prediction made by the model?.5  \n",
       "0                                          2  \n",
       "1                                          4  \n",
       "2                                          1  \n",
       "3                                          4  \n",
       "4                                          3  \n",
       "\n",
       "[5 rows x 58 columns]"
      ]
     },
     "execution_count": 3,
     "metadata": {},
     "output_type": "execute_result"
    }
   ],
   "source": [
    "df_results = pd.read_csv(FILE_PATH)\n",
    "df_results.head()"
   ]
  },
  {
   "cell_type": "code",
   "execution_count": 4,
   "metadata": {},
   "outputs": [],
   "source": [
    "# Create unique IDs for each respondent\n",
    "df_results[\"id\"] = [n for n in range(len(df_results))]\n",
    "\n",
    "# Create category for law or non-law\n",
    "df_results[\"Law_nonlaw\"] = df_results[\"What is your major / prospective major?\"].apply(lambda s: \"non-law\" if s != \"Law\" else \"law\")"
   ]
  },
  {
   "cell_type": "code",
   "execution_count": 5,
   "metadata": {},
   "outputs": [
    {
     "data": {
      "text/plain": [
       "array([nan, '18 - 25', '26 - 35'], dtype=object)"
      ]
     },
     "execution_count": 5,
     "metadata": {},
     "output_type": "execute_result"
    }
   ],
   "source": [
    "df_results[\"What is your age?\"].unique()"
   ]
  },
  {
   "cell_type": "code",
   "execution_count": 6,
   "metadata": {},
   "outputs": [],
   "source": [
    "# Replace NAs for ages\n",
    "df_results[\"What is your age?\"] = df_results[\"What is your age?\"].fillna('18 - 25')"
   ]
  },
  {
   "attachments": {},
   "cell_type": "markdown",
   "metadata": {},
   "source": [
    "#### Segment the columns according to the parts in the survey\n",
    "\n",
    "Choosing the col indexes of the dataframe corresponding to the parts of the survey"
   ]
  },
  {
   "cell_type": "markdown",
   "metadata": {},
   "source": [
    "### Demographic data"
   ]
  },
  {
   "cell_type": "code",
   "execution_count": 7,
   "metadata": {},
   "outputs": [
    {
     "name": "stdout",
     "output_type": "stream",
     "text": [
      "Index(['What is your major / prospective major?', 'What is your age?',\n",
      "       'Do you have any experience with AI / data science / programming?',\n",
      "       'Do you have any experience with regarding data privacy / law?',\n",
      "       'Are you concerned about your data privacy?',\n",
      "       'How would you rate your capability in protecting your online data?',\n",
      "       'Do you think decisions that are made by AI can be useful to society?',\n",
      "       'Do you think decisions made by AI are fair?',\n",
      "       'Do you think decisions made by AI can be a risk to society?'],\n",
      "      dtype='object')\n"
     ]
    }
   ],
   "source": [
    "print(df_results.columns[3:12])"
   ]
  },
  {
   "cell_type": "markdown",
   "metadata": {},
   "source": [
    "### Part 2: three contexts initial survey"
   ]
  },
  {
   "cell_type": "code",
   "execution_count": 8,
   "metadata": {},
   "outputs": [
    {
     "name": "stdout",
     "output_type": "stream",
     "text": [
      "Index(['Think that using the model is an effective method of identifying violations of the PDPA?',\n",
      "       'Think that using the model is a fair method of identifying violations of the PDPA?',\n",
      "       'Think that using the model is a method that could be a risk to society?',\n",
      "       'Trust the prediction made by the model?',\n",
      "       'Think that using the model is an effective method of identifying violations of the PDPA?.1',\n",
      "       'Think that using the model is a fair method of identifying violations of the PDPA?.1',\n",
      "       'Think that using the model is a method that could be a risk to society?.1',\n",
      "       'Trust the prediction made by the model?.1',\n",
      "       'Think that using the model is an effective method of identifying violations of the PDPA?.2',\n",
      "       'Think that using the model is a fair method of identifying violations of the PDPA?.2',\n",
      "       'Think that using the model is a method that could be a risk to society?.2',\n",
      "       'Trust the prediction made by the model?.2'],\n",
      "      dtype='object')\n"
     ]
    }
   ],
   "source": [
    "print(df_results.columns[13:25])"
   ]
  },
  {
   "cell_type": "markdown",
   "metadata": {},
   "source": [
    "### Part 3: Assessing understandability of log + tfidf"
   ]
  },
  {
   "cell_type": "code",
   "execution_count": 9,
   "metadata": {},
   "outputs": [
    {
     "name": "stdout",
     "output_type": "stream",
     "text": [
      "Index(['Do you understand why the model made the prediction?',\n",
      "       'Why do you think the model made this prediction? ',\n",
      "       'Did you find the visualisation easy to interpret?',\n",
      "       'Do you understand why the model made the prediction?.1',\n",
      "       'Why do you think the model made this prediction? .1',\n",
      "       'Did you find the visualisation easy to interpret?.1',\n",
      "       'Based on your current understanding, do you think that the sentence below would be predicted to be \"Identifier_Cookie_or_Similar_Tech_1stParty\"?\\n\\n\"We also use tracking technologies to keep records, store your preferences, improve our advertising, and collect Non-Identifying Information, including Device Data and information about your interaction with the Site and our Business Partners' web sites.\"',\n",
      "       'Do you understand why the model made the prediction?.2',\n",
      "       'Why do you think the model made this prediction?',\n",
      "       'Did you find the visualisation easy to interpret?.2',\n",
      "       'Based on your current understanding, do you think the sentence below would be predicted to be in \"Identifier_Cookie_or_Similar_Tech_1stParty?\"\\n\\n\"As explained above, you may either volunteer to us certain information (such as your phone number), or we may automatically collect certain information, such as through the use of your mobile device system's permissions, or through the use of cookies or similar tracking technologies.\"',\n",
      "       'Do you understand why the model made the prediction?.3',\n",
      "       'Why do you think the model made this prediction?.1',\n",
      "       'Did you find the visualisation easy to interpret?.3',\n",
      "       'Based on your current understanding, do you think the sentence below would be predicted to be in \"Identifier_Cookie_or_Similar_Tech_1stParty?\"\\n\\n\"These cookies and other such tracking technologies allow the collection of data, such as your device's model, operating system and screen size, the other applications installed on your device, and information about how you use our services.\"'],\n",
      "      dtype='object')\n"
     ]
    }
   ],
   "source": [
    "print(df_results.columns[25:40])"
   ]
  },
  {
   "cell_type": "markdown",
   "metadata": {},
   "source": [
    "### Part 4: Comparing between log + glove vs svc + glove"
   ]
  },
  {
   "cell_type": "code",
   "execution_count": 10,
   "metadata": {},
   "outputs": [
    {
     "name": "stdout",
     "output_type": "stream",
     "text": [
      "Index(['Which explanation did you find easier to interpret?',\n",
      "       'Which explanation did you find easier to interpret?.1',\n",
      "       'Which explanation did you find easier to interpret?.2'],\n",
      "      dtype='object')\n"
     ]
    }
   ],
   "source": [
    "print(df_results.columns[40:43])"
   ]
  },
  {
   "cell_type": "markdown",
   "metadata": {},
   "source": [
    "### Part 4: Comparing between svc + tfidf vs svc + glove"
   ]
  },
  {
   "cell_type": "code",
   "execution_count": 11,
   "metadata": {},
   "outputs": [
    {
     "name": "stdout",
     "output_type": "stream",
     "text": [
      "Index(['Which explanation did you find easier to interpret?.3',\n",
      "       'Which explanation did you find easier to interpret?.4',\n",
      "       'Which explanation did you find easier to interpret?.5'],\n",
      "      dtype='object')\n"
     ]
    }
   ],
   "source": [
    "print(df_results.columns[43:46])"
   ]
  },
  {
   "cell_type": "markdown",
   "metadata": {},
   "source": [
    "### Part 5: Re assessing the same 3 contexts"
   ]
  },
  {
   "cell_type": "code",
   "execution_count": 12,
   "metadata": {},
   "outputs": [
    {
     "name": "stdout",
     "output_type": "stream",
     "text": [
      "Index(['Think that using the model is an effective method of identifying violations of the PDPA?.3',\n",
      "       'Think that using the model is a fair method of identifying violations of the PDPA?.3',\n",
      "       'Think that using the model is a method that could be a risk to society?.3',\n",
      "       'Trust the prediction made by the model?.3',\n",
      "       'Think that using the model is an effective method of identifying violations of the PDPA?.4',\n",
      "       'Think that using the model is a fair method of identifying violations of the PDPA?.4',\n",
      "       'Think that using the model is a method that could be a risk to society?.4',\n",
      "       'Trust the prediction made by the model?.4',\n",
      "       'Think that using the model is an effective method of identifying violations of the PDPA?.5',\n",
      "       'Think that using the model is a fair method of identifying violations of the PDPA?.5',\n",
      "       'Think that using the model is a method that could be a risk to society?.5',\n",
      "       'Trust the prediction made by the model?.5', 'id'],\n",
      "      dtype='object')\n"
     ]
    }
   ],
   "source": [
    "print(df_results.columns[46: -1])"
   ]
  },
  {
   "attachments": {},
   "cell_type": "markdown",
   "metadata": {},
   "source": [
    "#### Visualisation of demographics"
   ]
  },
  {
   "cell_type": "code",
   "execution_count": 13,
   "metadata": {},
   "outputs": [],
   "source": [
    "sns.set_theme(style = \"whitegrid\")"
   ]
  },
  {
   "cell_type": "code",
   "execution_count": 14,
   "metadata": {},
   "outputs": [
    {
     "data": {
      "text/plain": [
       "<AxesSubplot:xlabel='count', ylabel='What is your major / prospective major?'>"
      ]
     },
     "execution_count": 14,
     "metadata": {},
     "output_type": "execute_result"
    },
    {
     "data": {
      "image/png": "[encoded data removed]",
      "text/plain": [
       "<Figure size 1000x800 with 1 Axes>"
      ]
     },
     "metadata": {},
     "output_type": "display_data"
    }
   ],
   "source": [
    "sns.set(rc={'figure.figsize':(10,8)})\n",
    "sns.countplot(y = \"What is your major / prospective major?\", data = df_results, orient = \"h\", order = df_results[\"What is your major / prospective major?\"].value_counts().index)"
   ]
  },
  {
   "cell_type": "code",
   "execution_count": 15,
   "metadata": {},
   "outputs": [
    {
     "data": {
      "text/plain": [
       "<AxesSubplot:xlabel='count', ylabel='Law_nonlaw'>"
      ]
     },
     "execution_count": 15,
     "metadata": {},
     "output_type": "execute_result"
    },
    {
     "data": {
      "image/png": "[encoded data removed]",
      "text/plain": [
       "<Figure size 800x600 with 1 Axes>"
      ]
     },
     "metadata": {},
     "output_type": "display_data"
    }
   ],
   "source": [
    "sns.set(rc={'figure.figsize':(8,6)})\n",
    "sns.countplot(y = \"Law_nonlaw\", data = df_results, orient = \"h\", order = df_results[\"Law_nonlaw\"].value_counts().index)"
   ]
  },
  {
   "cell_type": "code",
   "execution_count": 16,
   "metadata": {},
   "outputs": [
    {
     "name": "stdout",
     "output_type": "stream",
     "text": [
      "Index(['Do you have any experience with AI / data science / programming?',\n",
      "       'Do you have any experience with regarding data privacy / law?',\n",
      "       'Are you concerned about your data privacy?',\n",
      "       'How would you rate your capability in protecting your online data?',\n",
      "       'Do you think decisions that are made by AI can be useful to society?',\n",
      "       'Do you think decisions made by AI are fair?',\n",
      "       'Do you think decisions made by AI can be a risk to society?'],\n",
      "      dtype='object')\n"
     ]
    }
   ],
   "source": [
    "print(df_results.columns[5:12])"
   ]
  },
  {
   "cell_type": "markdown",
   "metadata": {},
   "source": [
    "#### Demographic split by law / non-law"
   ]
  },
  {
   "cell_type": "code",
   "execution_count": 17,
   "metadata": {},
   "outputs": [],
   "source": [
    "feature_names_demographic = [\"Experience with AI\", \"Experience with data privacy / law\", \"Concerned about data privacy\", \"Capability in protecting personal data\", \"Decisions by AI are useful\", \"Decisions by AI are fair\", \"Decisions by AI can be a risk\"]\n",
    "\n",
    "mean_demographic_nonlaw = []\n",
    "\n",
    "for col in df_results.columns[5:12] :\n",
    "    mean_demographic_nonlaw.append(df_results[col][df_results[\"Law_nonlaw\"] == \"non-law\"].mean())"
   ]
  },
  {
   "cell_type": "code",
   "execution_count": 18,
   "metadata": {},
   "outputs": [],
   "source": [
    "mean_demographic_law = []\n",
    "\n",
    "for col in df_results.columns[5:12] :\n",
    "    mean_demographic_law.append(df_results[col][df_results[\"Law_nonlaw\"] == \"law\"].mean())"
   ]
  },
  {
   "cell_type": "code",
   "execution_count": 23,
   "metadata": {},
   "outputs": [],
   "source": [
    "def plot_2_radar_charts(data1, data2, data1_name, data2_name, feature_names, y_lim, title = None, export = False, filename = None):\n",
    "    \"\"\"\n",
    "    data1, data2: 1d array of data\n",
    "    data1_name, data2_name: string\n",
    "    feature_names: list of strings\n",
    "    y_lim: [1, 5]\n",
    "    title: String\n",
    "    export: Bool\n",
    "    filename: filepath+desired_filename\n",
    "    \"\"\"\n",
    "\n",
    "    fig = go.Figure()\n",
    "\n",
    "    fig.add_trace(go.Scatterpolar(\n",
    "        r=data1,\n",
    "        theta=feature_names,\n",
    "        fill='toself',\n",
    "        name=data1_name\n",
    "    ))\n",
    "    fig.add_trace(go.Scatterpolar(\n",
    "        r=data2,\n",
    "        theta=feature_names,\n",
    "        fill='toself',\n",
    "        name= data2_name\n",
    "    ))\n",
    "\n",
    "    fig.update_layout(\n",
    "        title = title,\n",
    "        width = 1000, \n",
    "        height = 500,\n",
    "        polar=dict(\n",
    "        radialaxis=dict(\n",
    "        visible=True,\n",
    "        range=y_lim\n",
    "        )),\n",
    "    showlegend=True\n",
    "    )\n",
    "                \n",
    "    fig.show()\n",
    "\n",
    "    if export :\n",
    "        fig.write_image(filename, scale = 3)"
   ]
  },
  {
   "cell_type": "code",
   "execution_count": null,
   "metadata": {},
   "outputs": [
    {
     "data": {
      "text/plain": [
       "'papers\\\\report\\\\ync-latex-capstone-master\\\\figures\\\\fig1.png'"
      ]
     },
     "execution_count": 196,
     "metadata": {},
     "output_type": "execute_result"
    }
   ],
   "source": [
    "fig_export_path+r\"\\fig1.png\""
   ]
  },
  {
   "cell_type": "code",
   "execution_count": 24,
   "metadata": {},
   "outputs": [
    {
     "data": {
      "application/vnd.plotly.v1+json": {
       "config": {
        "plotlyServerURL": "https://plot.ly"
       },
       "data": [
        {
         "fill": "toself",
         "name": "Law",
         "r": [
          1.6111111111111112,
          2.5,
          3.7222222222222223,
          2.5,
          3.888888888888889,
          3.111111111111111,
          4.055555555555555
         ],
         "theta": [
          "Experience with AI",
          "Experience with data privacy / law",
          "Concerned about data privacy",
          "Capability in protecting personal data",
          "Decisions by AI are useful",
          "Decisions by AI are fair",
          "Decisions by AI can be a risk"
         ],
         "type": "scatterpolar"
        },
        {
         "fill": "toself",
         "name": "Non-law",
         "r": [
          2.3846153846153846,
          1.9230769230769231,
          3.6153846153846154,
          2.3846153846153846,
          4.153846153846154,
          3.076923076923077,
          4.230769230769231
         ],
         "theta": [
          "Experience with AI",
          "Experience with data privacy / law",
          "Concerned about data privacy",
          "Capability in protecting personal data",
          "Decisions by AI are useful",
          "Decisions by AI are fair",
          "Decisions by AI can be a risk"
         ],
         "type": "scatterpolar"
        }
       ],
       "layout": {
        "height": 500,
        "polar": {
         "radialaxis": {
          "range": [
           0,
           5
          ],
          "visible": true
         }
        },
        "showlegend": true,
        "template": {
         "data": {
          "bar": [
           {
            "error_x": {
             "color": "#2a3f5f"
            },
            "error_y": {
             "color": "#2a3f5f"
            },
            "marker": {
             "line": {
              "color": "#E5ECF6",
              "width": 0.5
             },
             "pattern": {
              "fillmode": "overlay",
              "size": 10,
              "solidity": 0.2
             }
            },
            "type": "bar"
           }
          ],
          "barpolar": [
           {
            "marker": {
             "line": {
              "color": "#E5ECF6",
              "width": 0.5
             },
             "pattern": {
              "fillmode": "overlay",
              "size": 10,
              "solidity": 0.2
             }
            },
            "type": "barpolar"
           }
          ],
          "carpet": [
           {
            "aaxis": {
             "endlinecolor": "#2a3f5f",
             "gridcolor": "white",
             "linecolor": "white",
             "minorgridcolor": "white",
             "startlinecolor": "#2a3f5f"
            },
            "baxis": {
             "endlinecolor": "#2a3f5f",
             "gridcolor": "white",
             "linecolor": "white",
             "minorgridcolor": "white",
             "startlinecolor": "#2a3f5f"
            },
            "type": "carpet"
           }
          ],
          "choropleth": [
           {
            "colorbar": {
             "outlinewidth": 0,
             "ticks": ""
            },
            "type": "choropleth"
           }
          ],
          "contour": [
           {
            "colorbar": {
             "outlinewidth": 0,
             "ticks": ""
            },
            "colorscale": [
             [
              0,
              "#0d0887"
             ],
             [
              0.1111111111111111,
              "#46039f"
             ],
             [
              0.2222222222222222,
              "#7201a8"
             ],
             [
              0.3333333333333333,
              "#9c179e"
             ],
             [
              0.4444444444444444,
              "#bd3786"
             ],
             [
              0.5555555555555556,
              "#d8576b"
             ],
             [
              0.6666666666666666,
              "#ed7953"
             ],
             [
              0.7777777777777778,
              "#fb9f3a"
             ],
             [
              0.8888888888888888,
              "#fdca26"
             ],
             [
              1,
              "#f0f921"
             ]
            ],
            "type": "contour"
           }
          ],
          "contourcarpet": [
           {
            "colorbar": {
             "outlinewidth": 0,
             "ticks": ""
            },
            "type": "contourcarpet"
           }
          ],
          "heatmap": [
           {
            "colorbar": {
             "outlinewidth": 0,
             "ticks": ""
            },
            "colorscale": [
             [
              0,
              "#0d0887"
             ],
             [
              0.1111111111111111,
              "#46039f"
             ],
             [
              0.2222222222222222,
              "#7201a8"
             ],
             [
              0.3333333333333333,
              "#9c179e"
             ],
             [
              0.4444444444444444,
              "#bd3786"
             ],
             [
              0.5555555555555556,
              "#d8576b"
             ],
             [
              0.6666666666666666,
              "#ed7953"
             ],
             [
              0.7777777777777778,
              "#fb9f3a"
             ],
             [
              0.8888888888888888,
              "#fdca26"
             ],
             [
              1,
              "#f0f921"
             ]
            ],
            "type": "heatmap"
           }
          ],
          "heatmapgl": [
           {
            "colorbar": {
             "outlinewidth": 0,
             "ticks": ""
            },
            "colorscale": [
             [
              0,
              "#0d0887"
             ],
             [
              0.1111111111111111,
              "#46039f"
             ],
             [
              0.2222222222222222,
              "#7201a8"
             ],
             [
              0.3333333333333333,
              "#9c179e"
             ],
             [
              0.4444444444444444,
              "#bd3786"
             ],
             [
              0.5555555555555556,
              "#d8576b"
             ],
             [
              0.6666666666666666,
              "#ed7953"
             ],
             [
              0.7777777777777778,
              "#fb9f3a"
             ],
             [
              0.8888888888888888,
              "#fdca26"
             ],
             [
              1,
              "#f0f921"
             ]
            ],
            "type": "heatmapgl"
           }
          ],
          "histogram": [
           {
            "marker": {
             "pattern": {
              "fillmode": "overlay",
              "size": 10,
              "solidity": 0.2
             }
            },
            "type": "histogram"
           }
          ],
          "histogram2d": [
           {
            "colorbar": {
             "outlinewidth": 0,
             "ticks": ""
            },
            "colorscale": [
             [
              0,
              "#0d0887"
             ],
             [
              0.1111111111111111,
              "#46039f"
             ],
             [
              0.2222222222222222,
              "#7201a8"
             ],
             [
              0.3333333333333333,
              "#9c179e"
             ],
             [
              0.4444444444444444,
              "#bd3786"
             ],
             [
              0.5555555555555556,
              "#d8576b"
             ],
             [
              0.6666666666666666,
              "#ed7953"
             ],
             [
              0.7777777777777778,
              "#fb9f3a"
             ],
             [
              0.8888888888888888,
              "#fdca26"
             ],
             [
              1,
              "#f0f921"
             ]
            ],
            "type": "histogram2d"
           }
          ],
          "histogram2dcontour": [
           {
            "colorbar": {
             "outlinewidth": 0,
             "ticks": ""
            },
            "colorscale": [
             [
              0,
              "#0d0887"
             ],
             [
              0.1111111111111111,
              "#46039f"
             ],
             [
              0.2222222222222222,
              "#7201a8"
             ],
             [
              0.3333333333333333,
              "#9c179e"
             ],
             [
              0.4444444444444444,
              "#bd3786"
             ],
             [
              0.5555555555555556,
              "#d8576b"
             ],
             [
              0.6666666666666666,
              "#ed7953"
             ],
             [
              0.7777777777777778,
              "#fb9f3a"
             ],
             [
              0.8888888888888888,
              "#fdca26"
             ],
             [
              1,
              "#f0f921"
             ]
            ],
            "type": "histogram2dcontour"
           }
          ],
          "mesh3d": [
           {
            "colorbar": {
             "outlinewidth": 0,
             "ticks": ""
            },
            "type": "mesh3d"
           }
          ],
          "parcoords": [
           {
            "line": {
             "colorbar": {
              "outlinewidth": 0,
              "ticks": ""
             }
            },
            "type": "parcoords"
           }
          ],
          "pie": [
           {
            "automargin": true,
            "type": "pie"
           }
          ],
          "scatter": [
           {
            "fillpattern": {
             "fillmode": "overlay",
             "size": 10,
             "solidity": 0.2
            },
            "type": "scatter"
           }
          ],
          "scatter3d": [
           {
            "line": {
             "colorbar": {
              "outlinewidth": 0,
              "ticks": ""
             }
            },
            "marker": {
             "colorbar": {
              "outlinewidth": 0,
              "ticks": ""
             }
            },
            "type": "scatter3d"
           }
          ],
          "scattercarpet": [
           {
            "marker": {
             "colorbar": {
              "outlinewidth": 0,
              "ticks": ""
             }
            },
            "type": "scattercarpet"
           }
          ],
          "scattergeo": [
           {
            "marker": {
             "colorbar": {
              "outlinewidth": 0,
              "ticks": ""
             }
            },
            "type": "scattergeo"
           }
          ],
          "scattergl": [
           {
            "marker": {
             "colorbar": {
              "outlinewidth": 0,
              "ticks": ""
             }
            },
            "type": "scattergl"
           }
          ],
          "scattermapbox": [
           {
            "marker": {
             "colorbar": {
              "outlinewidth": 0,
              "ticks": ""
             }
            },
            "type": "scattermapbox"
           }
          ],
          "scatterpolar": [
           {
            "marker": {
             "colorbar": {
              "outlinewidth": 0,
              "ticks": ""
             }
            },
            "type": "scatterpolar"
           }
          ],
          "scatterpolargl": [
           {
            "marker": {
             "colorbar": {
              "outlinewidth": 0,
              "ticks": ""
             }
            },
            "type": "scatterpolargl"
           }
          ],
          "scatterternary": [
           {
            "marker": {
             "colorbar": {
              "outlinewidth": 0,
              "ticks": ""
             }
            },
            "type": "scatterternary"
           }
          ],
          "surface": [
           {
            "colorbar": {
             "outlinewidth": 0,
             "ticks": ""
            },
            "colorscale": [
             [
              0,
              "#0d0887"
             ],
             [
              0.1111111111111111,
              "#46039f"
             ],
             [
              0.2222222222222222,
              "#7201a8"
             ],
             [
              0.3333333333333333,
              "#9c179e"
             ],
             [
              0.4444444444444444,
              "#bd3786"
             ],
             [
              0.5555555555555556,
              "#d8576b"
             ],
             [
              0.6666666666666666,
              "#ed7953"
             ],
             [
              0.7777777777777778,
              "#fb9f3a"
             ],
             [
              0.8888888888888888,
              "#fdca26"
             ],
             [
              1,
              "#f0f921"
             ]
            ],
            "type": "surface"
           }
          ],
          "table": [
           {
            "cells": {
             "fill": {
              "color": "#EBF0F8"
             },
             "line": {
              "color": "white"
             }
            },
            "header": {
             "fill": {
              "color": "#C8D4E3"
             },
             "line": {
              "color": "white"
             }
            },
            "type": "table"
           }
          ]
         },
         "layout": {
          "annotationdefaults": {
           "arrowcolor": "#2a3f5f",
           "arrowhead": 0,
           "arrowwidth": 1
          },
          "autotypenumbers": "strict",
          "coloraxis": {
           "colorbar": {
            "outlinewidth": 0,
            "ticks": ""
           }
          },
          "colorscale": {
           "diverging": [
            [
             0,
             "#8e0152"
            ],
            [
             0.1,
             "#c51b7d"
            ],
            [
             0.2,
             "#de77ae"
            ],
            [
             0.3,
             "#f1b6da"
            ],
            [
             0.4,
             "#fde0ef"
            ],
            [
             0.5,
             "#f7f7f7"
            ],
            [
             0.6,
             "#e6f5d0"
            ],
            [
             0.7,
             "#b8e186"
            ],
            [
             0.8,
             "#7fbc41"
            ],
            [
             0.9,
             "#4d9221"
            ],
            [
             1,
             "#276419"
            ]
           ],
           "sequential": [
            [
             0,
             "#0d0887"
            ],
            [
             0.1111111111111111,
             "#46039f"
            ],
            [
             0.2222222222222222,
             "#7201a8"
            ],
            [
             0.3333333333333333,
             "#9c179e"
            ],
            [
             0.4444444444444444,
             "#bd3786"
            ],
            [
             0.5555555555555556,
             "#d8576b"
            ],
            [
             0.6666666666666666,
             "#ed7953"
            ],
            [
             0.7777777777777778,
             "#fb9f3a"
            ],
            [
             0.8888888888888888,
             "#fdca26"
            ],
            [
             1,
             "#f0f921"
            ]
           ],
           "sequentialminus": [
            [
             0,
             "#0d0887"
            ],
            [
             0.1111111111111111,
             "#46039f"
            ],
            [
             0.2222222222222222,
             "#7201a8"
            ],
            [
             0.3333333333333333,
             "#9c179e"
            ],
            [
             0.4444444444444444,
             "#bd3786"
            ],
            [
             0.5555555555555556,
             "#d8576b"
            ],
            [
             0.6666666666666666,
             "#ed7953"
            ],
            [
             0.7777777777777778,
             "#fb9f3a"
            ],
            [
             0.8888888888888888,
             "#fdca26"
            ],
            [
             1,
             "#f0f921"
            ]
           ]
          },
          "colorway": [
           "#636efa",
           "#EF553B",
           "#00cc96",
           "#ab63fa",
           "#FFA15A",
           "#19d3f3",
           "#FF6692",
           "#B6E880",
           "#FF97FF",
           "#FECB52"
          ],
          "font": {
           "color": "#2a3f5f"
          },
          "geo": {
           "bgcolor": "white",
           "lakecolor": "white",
           "landcolor": "#E5ECF6",
           "showlakes": true,
           "showland": true,
           "subunitcolor": "white"
          },
          "hoverlabel": {
           "align": "left"
          },
          "hovermode": "closest",
          "mapbox": {
           "style": "light"
          },
          "paper_bgcolor": "white",
          "plot_bgcolor": "#E5ECF6",
          "polar": {
           "angularaxis": {
            "gridcolor": "white",
            "linecolor": "white",
            "ticks": ""
           },
           "bgcolor": "#E5ECF6",
           "radialaxis": {
            "gridcolor": "white",
            "linecolor": "white",
            "ticks": ""
           }
          },
          "scene": {
           "xaxis": {
            "backgroundcolor": "#E5ECF6",
            "gridcolor": "white",
            "gridwidth": 2,
            "linecolor": "white",
            "showbackground": true,
            "ticks": "",
            "zerolinecolor": "white"
           },
           "yaxis": {
            "backgroundcolor": "#E5ECF6",
            "gridcolor": "white",
            "gridwidth": 2,
            "linecolor": "white",
            "showbackground": true,
            "ticks": "",
            "zerolinecolor": "white"
           },
           "zaxis": {
            "backgroundcolor": "#E5ECF6",
            "gridcolor": "white",
            "gridwidth": 2,
            "linecolor": "white",
            "showbackground": true,
            "ticks": "",
            "zerolinecolor": "white"
           }
          },
          "shapedefaults": {
           "line": {
            "color": "#2a3f5f"
           }
          },
          "ternary": {
           "aaxis": {
            "gridcolor": "white",
            "linecolor": "white",
            "ticks": ""
           },
           "baxis": {
            "gridcolor": "white",
            "linecolor": "white",
            "ticks": ""
           },
           "bgcolor": "#E5ECF6",
           "caxis": {
            "gridcolor": "white",
            "linecolor": "white",
            "ticks": ""
           }
          },
          "title": {
           "x": 0.05
          },
          "xaxis": {
           "automargin": true,
           "gridcolor": "white",
           "linecolor": "white",
           "ticks": "",
           "title": {
            "standoff": 15
           },
           "zerolinecolor": "white",
           "zerolinewidth": 2
          },
          "yaxis": {
           "automargin": true,
           "gridcolor": "white",
           "linecolor": "white",
           "ticks": "",
           "title": {
            "standoff": 15
           },
           "zerolinecolor": "white",
           "zerolinewidth": 2
          }
         }
        },
        "title": {
         "text": "Self-reported beliefs regarding AI & Data Privacy of Law and Non-Law respondents <br> (n = 31, on a scale from 1 to 5, with 1 representing 'least agree' and 5 representing 'most agree')"
        },
        "width": 1000
       }
      }
     },
     "metadata": {},
     "output_type": "display_data"
    }
   ],
   "source": [
    "plot_2_radar_charts(mean_demographic_law, mean_demographic_nonlaw, \"Law\", \"Non-law\", feature_names_demographic, [0, 5], title = \"Self-reported beliefs regarding AI & Data Privacy of Law and Non-Law respondents <br> (n = 31, on a scale from 1 to 5, with 1 representing 'least agree' and 5 representing 'most agree')\")"
   ]
  },
  {
   "attachments": {},
   "cell_type": "markdown",
   "metadata": {},
   "source": [
    "#### Comparing scores of the contexts before and after looking at the explanations"
   ]
  },
  {
   "cell_type": "code",
   "execution_count": 25,
   "metadata": {},
   "outputs": [
    {
     "name": "stdout",
     "output_type": "stream",
     "text": [
      "Index(['Think that using the model is an effective method of identifying violations of the PDPA?',\n",
      "       'Think that using the model is a fair method of identifying violations of the PDPA?',\n",
      "       'Think that using the model is a method that could be a risk to society?',\n",
      "       'Trust the prediction made by the model?',\n",
      "       'Think that using the model is an effective method of identifying violations of the PDPA?.1',\n",
      "       'Think that using the model is a fair method of identifying violations of the PDPA?.1',\n",
      "       'Think that using the model is a method that could be a risk to society?.1',\n",
      "       'Trust the prediction made by the model?.1',\n",
      "       'Think that using the model is an effective method of identifying violations of the PDPA?.2',\n",
      "       'Think that using the model is a fair method of identifying violations of the PDPA?.2',\n",
      "       'Think that using the model is a method that could be a risk to society?.2',\n",
      "       'Trust the prediction made by the model?.2'],\n",
      "      dtype='object')\n"
     ]
    }
   ],
   "source": [
    "# Cols from initial questioning\n",
    "print(df_results.columns[13:25])"
   ]
  },
  {
   "cell_type": "code",
   "execution_count": 26,
   "metadata": {},
   "outputs": [
    {
     "name": "stdout",
     "output_type": "stream",
     "text": [
      "Index(['Think that using the model is an effective method of identifying violations of the PDPA?.3',\n",
      "       'Think that using the model is a fair method of identifying violations of the PDPA?.3',\n",
      "       'Think that using the model is a method that could be a risk to society?.3',\n",
      "       'Trust the prediction made by the model?.3',\n",
      "       'Think that using the model is an effective method of identifying violations of the PDPA?.4',\n",
      "       'Think that using the model is a fair method of identifying violations of the PDPA?.4',\n",
      "       'Think that using the model is a method that could be a risk to society?.4',\n",
      "       'Trust the prediction made by the model?.4',\n",
      "       'Think that using the model is an effective method of identifying violations of the PDPA?.5',\n",
      "       'Think that using the model is a fair method of identifying violations of the PDPA?.5',\n",
      "       'Think that using the model is a method that could be a risk to society?.5',\n",
      "       'Trust the prediction made by the model?.5', 'id'],\n",
      "      dtype='object')\n"
     ]
    }
   ],
   "source": [
    "# Cols from last questioning\n",
    "print(df_results.columns[46: -1])"
   ]
  },
  {
   "attachments": {},
   "cell_type": "markdown",
   "metadata": {},
   "source": [
    "### Comparing whether there is a significant difference amongst the respondents for the 3 contexts before and after they have viewed the explanations\n",
    "\n",
    "Using significance testing: wilcoxon test\n",
    "\n",
    "By using \"less\", it means that the distribution underlying d is stochastically less than a distribution symmetric about zero.\n",
    "\n",
    "Where d = initial - final\n",
    "\n",
    "So if d is negative, means that final scores are significantly higher than intial?\n",
    "\n",
    "i.e. Respondents rated the model as more effective after looking at the visualisations"
   ]
  },
  {
   "attachments": {},
   "cell_type": "markdown",
   "metadata": {},
   "source": [
    "| **Question**                                  | **Context 1: Less** | **Context 1: Greater** | **Context 2: Less** | **Context 2: Greater** | **Context 3: Less** | **Context 3: Greater** |\n",
    "|-----------------------------------------------|---------------------|------------------------|---------------------|------------------------|---------------------|------------------------|\n",
    "| **Do you think model is effective?**          | 0.013               | 0.987                  | 0.932                | 0.0684                  | 0.856                | 0.144                   |\n",
    "| **Do you think model is a fair method?**      | 0.382               | 0.618                  | 0.841                | 0.159                  | 0.933                | 0.0671                  |\n",
    "| **Do you think model is a risk to society?**  | 0.756               | 0.244                   | 0.428                | 0.572                   | 0.825                | 0.175                   |\n",
    "| **Do you trust the prediction of the model?** | 0.887                | 0.113                  | 0.945                | 0.055                 | 0.837                | 0.163                   |"
   ]
  },
  {
   "cell_type": "code",
   "execution_count": 27,
   "metadata": {},
   "outputs": [],
   "source": [
    "from scipy.stats import wilcoxon"
   ]
  },
  {
   "attachments": {},
   "cell_type": "markdown",
   "metadata": {},
   "source": [
    "#### First context, first question: Is model effective?\n",
    "\n",
    "Less produces p < 0.05, hence underlying distribution of the difference of initial - final is less than symmetric about 0.\n",
    "\n",
    "Hence, model is rated significantly more effective after respondents viewed the explanations"
   ]
  },
  {
   "cell_type": "code",
   "execution_count": 28,
   "metadata": {},
   "outputs": [
    {
     "name": "stdout",
     "output_type": "stream",
     "text": [
      "0.013364819348349578\n",
      "37.0\n"
     ]
    }
   ],
   "source": [
    "# Checking if less\n",
    "stat, p = wilcoxon(df_results[\"Think that using the model is an effective method of identifying violations of the PDPA?\"], \n",
    "df_results[\"Think that using the model is an effective method of identifying violations of the PDPA?.3\"],\n",
    "alternative= \"less\")\n",
    "\n",
    "print(p)\n",
    "print(stat)"
   ]
  },
  {
   "cell_type": "code",
   "execution_count": 29,
   "metadata": {},
   "outputs": [
    {
     "name": "stdout",
     "output_type": "stream",
     "text": [
      "0.9866351806516505\n",
      "37.0\n"
     ]
    }
   ],
   "source": [
    "# Checking if greater\n",
    "stat, p = wilcoxon(df_results[\"Think that using the model is an effective method of identifying violations of the PDPA?\"], \n",
    "df_results[\"Think that using the model is an effective method of identifying violations of the PDPA?.3\"],\n",
    "alternative= \"greater\")\n",
    "\n",
    "print(p)\n",
    "print(stat)"
   ]
  },
  {
   "attachments": {},
   "cell_type": "markdown",
   "metadata": {},
   "source": [
    "#### First context, second question: Is model fair?\n",
    "\n",
    "Both less and greater does not produce p < 0.05, hence no significant difference."
   ]
  },
  {
   "cell_type": "code",
   "execution_count": 30,
   "metadata": {},
   "outputs": [
    {
     "name": "stdout",
     "output_type": "stream",
     "text": [
      "0.3822788105280631\n",
      "48.0\n"
     ]
    }
   ],
   "source": [
    "# Checking if less\n",
    "stat, p = wilcoxon(df_results[\"Think that using the model is a fair method of identifying violations of the PDPA?\"], \n",
    "df_results[\"Think that using the model is a fair method of identifying violations of the PDPA?.3\"],\n",
    "alternative= \"less\")\n",
    "\n",
    "print(p)\n",
    "print(stat)"
   ]
  },
  {
   "cell_type": "code",
   "execution_count": 31,
   "metadata": {},
   "outputs": [
    {
     "name": "stdout",
     "output_type": "stream",
     "text": [
      "0.6177211894719369\n",
      "48.0\n"
     ]
    }
   ],
   "source": [
    "# Checking if greater\n",
    "stat, p = wilcoxon(df_results[\"Think that using the model is a fair method of identifying violations of the PDPA?\"], \n",
    "df_results[\"Think that using the model is a fair method of identifying violations of the PDPA?.3\"],\n",
    "alternative= \"greater\")\n",
    "\n",
    "print(p)\n",
    "print(stat)"
   ]
  },
  {
   "attachments": {},
   "cell_type": "markdown",
   "metadata": {},
   "source": [
    "#### First context, third question: Is model a risk to society?\n",
    "\n",
    "Both less and greater does not produce p < 0.05, hence no significant difference."
   ]
  },
  {
   "cell_type": "code",
   "execution_count": 32,
   "metadata": {},
   "outputs": [
    {
     "name": "stdout",
     "output_type": "stream",
     "text": [
      "0.7558776303165339\n",
      "90.5\n"
     ]
    }
   ],
   "source": [
    "# Checking if less\n",
    "stat, p = wilcoxon(df_results[\"Think that using the model is a method that could be a risk to society?\"], \n",
    "df_results[\"Think that using the model is a method that could be a risk to society?.3\"],\n",
    "alternative= \"less\")\n",
    "\n",
    "print(p)\n",
    "print(stat)"
   ]
  },
  {
   "cell_type": "code",
   "execution_count": 33,
   "metadata": {},
   "outputs": [
    {
     "name": "stdout",
     "output_type": "stream",
     "text": [
      "0.24412236968346612\n",
      "90.5\n"
     ]
    }
   ],
   "source": [
    "# Checking if greater\n",
    "stat, p = wilcoxon(df_results[\"Think that using the model is a method that could be a risk to society?\"], \n",
    "df_results[\"Think that using the model is a method that could be a risk to society?.3\"],\n",
    "alternative= \"greater\")\n",
    "\n",
    "print(p)\n",
    "print(stat)"
   ]
  },
  {
   "attachments": {},
   "cell_type": "markdown",
   "metadata": {},
   "source": [
    "#### First context, fourth question: Do you trust prediction of the model?\n",
    "\n",
    "Both less and greater does not produce p < 0.05, hence no significant difference.\n",
    "\n",
    "BUT p value = 0.07 when testing for \"greater\", so it is almost statistically significant that trust has dropped after respondents have looked at the explanations.\n",
    "\n",
    "Means that perhaps respondents realise that AI is not as \"smart\" as it is made out to be."
   ]
  },
  {
   "cell_type": "code",
   "execution_count": 34,
   "metadata": {},
   "outputs": [
    {
     "name": "stdout",
     "output_type": "stream",
     "text": [
      "0.887122433449965\n",
      "148.5\n"
     ]
    }
   ],
   "source": [
    "# Checking if less\n",
    "stat, p = wilcoxon(df_results[\"Trust the prediction made by the model?\"], \n",
    "df_results[\"Trust the prediction made by the model?.3\"],\n",
    "alternative= \"less\")\n",
    "\n",
    "print(p)\n",
    "print(stat)"
   ]
  },
  {
   "cell_type": "code",
   "execution_count": 35,
   "metadata": {},
   "outputs": [
    {
     "name": "stdout",
     "output_type": "stream",
     "text": [
      "0.112877566550035\n",
      "148.5\n"
     ]
    }
   ],
   "source": [
    "# Checking if less\n",
    "stat, p = wilcoxon(df_results[\"Trust the prediction made by the model?\"], \n",
    "df_results[\"Trust the prediction made by the model?.3\"],\n",
    "alternative= \"greater\")\n",
    "\n",
    "print(p)\n",
    "print(stat)"
   ]
  },
  {
   "attachments": {},
   "cell_type": "markdown",
   "metadata": {},
   "source": [
    "#### Second context, first question: Is model effective? (respondent is member of the PDPC)\n",
    "\n",
    "Greater produces p < 0.05, hence underlying distribution of the difference of initial - final is greater than symmetric about 0.\n",
    "\n",
    "Hence, model is rated significantly less effective after respondents viewed the explanations"
   ]
  },
  {
   "cell_type": "code",
   "execution_count": 36,
   "metadata": {},
   "outputs": [
    {
     "name": "stdout",
     "output_type": "stream",
     "text": [
      "0.931642422516819\n",
      "75.5\n"
     ]
    }
   ],
   "source": [
    "# Checking if less\n",
    "stat, p = wilcoxon(df_results[\"Think that using the model is an effective method of identifying violations of the PDPA?.1\"], \n",
    "df_results[\"Think that using the model is an effective method of identifying violations of the PDPA?.4\"],\n",
    "alternative= \"less\")\n",
    "\n",
    "print(p)\n",
    "print(stat)"
   ]
  },
  {
   "cell_type": "code",
   "execution_count": 37,
   "metadata": {},
   "outputs": [
    {
     "name": "stdout",
     "output_type": "stream",
     "text": [
      "0.06835757748318111\n",
      "75.5\n"
     ]
    }
   ],
   "source": [
    "# Checking if less\n",
    "stat, p = wilcoxon(df_results[\"Think that using the model is an effective method of identifying violations of the PDPA?.1\"], \n",
    "df_results[\"Think that using the model is an effective method of identifying violations of the PDPA?.4\"],\n",
    "alternative= \"greater\")\n",
    "\n",
    "print(p)\n",
    "print(stat)"
   ]
  },
  {
   "attachments": {},
   "cell_type": "markdown",
   "metadata": {},
   "source": [
    "#### Second context, second question: Is model fair?\n",
    "\n",
    "p < .05 for both instances, so cannot conclude that the difference is statistically significant.\n",
    "\n",
    "BUT p = 0.1 when testing for \"greater\", so initial mean > final mean, indicates that there is also a drop of perception as to whether model is fair."
   ]
  },
  {
   "cell_type": "code",
   "execution_count": 38,
   "metadata": {},
   "outputs": [
    {
     "name": "stdout",
     "output_type": "stream",
     "text": [
      "0.8413447460685429\n",
      "58.5\n"
     ]
    }
   ],
   "source": [
    "# Checking if less\n",
    "stat, p = wilcoxon(df_results[\"Think that using the model is a fair method of identifying violations of the PDPA?.1\"], \n",
    "df_results[\"Think that using the model is a fair method of identifying violations of the PDPA?.4\"],\n",
    "alternative= \"less\")\n",
    "\n",
    "print(p)\n",
    "print(stat)"
   ]
  },
  {
   "cell_type": "code",
   "execution_count": 39,
   "metadata": {},
   "outputs": [
    {
     "name": "stdout",
     "output_type": "stream",
     "text": [
      "0.15865525393145707\n",
      "58.5\n"
     ]
    }
   ],
   "source": [
    "# Checking if less\n",
    "stat, p = wilcoxon(df_results[\"Think that using the model is a fair method of identifying violations of the PDPA?.1\"], \n",
    "df_results[\"Think that using the model is a fair method of identifying violations of the PDPA?.4\"],\n",
    "alternative= \"greater\")\n",
    "\n",
    "print(p)\n",
    "print(stat)"
   ]
  },
  {
   "attachments": {},
   "cell_type": "markdown",
   "metadata": {},
   "source": [
    "#### Second context, third question: Is model a risk to society?\n",
    "\n",
    "No perceptible difference"
   ]
  },
  {
   "cell_type": "code",
   "execution_count": 40,
   "metadata": {},
   "outputs": [
    {
     "name": "stdout",
     "output_type": "stream",
     "text": [
      "0.42775633848452\n",
      "43.0\n"
     ]
    }
   ],
   "source": [
    "stat, p = wilcoxon(df_results[\"Think that using the model is a method that could be a risk to society?.1\"], \n",
    "df_results[\"Think that using the model is a method that could be a risk to society?.4\"],\n",
    "alternative= \"less\")\n",
    "\n",
    "print(p)\n",
    "print(stat)"
   ]
  },
  {
   "cell_type": "code",
   "execution_count": 41,
   "metadata": {},
   "outputs": [
    {
     "name": "stdout",
     "output_type": "stream",
     "text": [
      "0.57224366151548\n",
      "43.0\n"
     ]
    }
   ],
   "source": [
    "stat, p = wilcoxon(df_results[\"Think that using the model is a method that could be a risk to society?.1\"], \n",
    "df_results[\"Think that using the model is a method that could be a risk to society?.4\"],\n",
    "alternative= \"greater\")\n",
    "\n",
    "print(p)\n",
    "print(stat)"
   ]
  },
  {
   "attachments": {},
   "cell_type": "markdown",
   "metadata": {},
   "source": [
    "#### Second context, fourth question: Do you trust results of model?\n",
    "\n",
    "Trust has dropped significantly p < 0.009"
   ]
  },
  {
   "cell_type": "code",
   "execution_count": 42,
   "metadata": {},
   "outputs": [
    {
     "name": "stdout",
     "output_type": "stream",
     "text": [
      "0.9450001638630365\n",
      "146.0\n"
     ]
    }
   ],
   "source": [
    "stat, p = wilcoxon(df_results[\"Trust the prediction made by the model?.1\"], \n",
    "df_results[\"Trust the prediction made by the model?.4\"],\n",
    "alternative= \"less\")\n",
    "\n",
    "print(p)\n",
    "print(stat)"
   ]
  },
  {
   "cell_type": "code",
   "execution_count": 43,
   "metadata": {},
   "outputs": [
    {
     "name": "stdout",
     "output_type": "stream",
     "text": [
      "0.054999836136963416\n",
      "146.0\n"
     ]
    }
   ],
   "source": [
    "stat, p = wilcoxon(df_results[\"Trust the prediction made by the model?.1\"], \n",
    "df_results[\"Trust the prediction made by the model?.4\"],\n",
    "alternative= \"greater\")\n",
    "\n",
    "print(p)\n",
    "print(stat)"
   ]
  },
  {
   "attachments": {},
   "cell_type": "markdown",
   "metadata": {},
   "source": [
    "#### Third context, first question: Is model effective?"
   ]
  },
  {
   "cell_type": "code",
   "execution_count": 44,
   "metadata": {},
   "outputs": [
    {
     "name": "stdout",
     "output_type": "stream",
     "text": [
      "0.8555778168267576\n",
      "87.5\n"
     ]
    }
   ],
   "source": [
    "stat, p = wilcoxon(df_results[\"Think that using the model is an effective method of identifying violations of the PDPA?.2\"], \n",
    "df_results[\"Think that using the model is an effective method of identifying violations of the PDPA?.5\"],\n",
    "alternative= \"less\")\n",
    "\n",
    "print(p)\n",
    "print(stat)"
   ]
  },
  {
   "cell_type": "code",
   "execution_count": 45,
   "metadata": {},
   "outputs": [
    {
     "name": "stdout",
     "output_type": "stream",
     "text": [
      "0.14442218317324246\n",
      "87.5\n"
     ]
    }
   ],
   "source": [
    "stat, p = wilcoxon(df_results[\"Think that using the model is an effective method of identifying violations of the PDPA?.2\"], \n",
    "df_results[\"Think that using the model is an effective method of identifying violations of the PDPA?.5\"],\n",
    "alternative= \"greater\")\n",
    "\n",
    "print(p)\n",
    "print(stat)"
   ]
  },
  {
   "attachments": {},
   "cell_type": "markdown",
   "metadata": {},
   "source": [
    "#### Third context, second question: Is model fair?"
   ]
  },
  {
   "cell_type": "code",
   "execution_count": 46,
   "metadata": {},
   "outputs": [
    {
     "name": "stdout",
     "output_type": "stream",
     "text": [
      "0.9329360318937546\n",
      "95.5\n"
     ]
    }
   ],
   "source": [
    "stat, p = wilcoxon(df_results[\"Think that using the model is a fair method of identifying violations of the PDPA?.2\"], \n",
    "df_results[\"Think that using the model is a fair method of identifying violations of the PDPA?.5\"],\n",
    "alternative= \"less\")\n",
    "\n",
    "print(p)\n",
    "print(stat)"
   ]
  },
  {
   "cell_type": "code",
   "execution_count": 47,
   "metadata": {},
   "outputs": [
    {
     "name": "stdout",
     "output_type": "stream",
     "text": [
      "0.06706396810624535\n",
      "95.5\n"
     ]
    }
   ],
   "source": [
    "stat, p = wilcoxon(df_results[\"Think that using the model is a fair method of identifying violations of the PDPA?.2\"], \n",
    "df_results[\"Think that using the model is a fair method of identifying violations of the PDPA?.5\"],\n",
    "alternative= \"greater\")\n",
    "\n",
    "print(p)\n",
    "print(stat)"
   ]
  },
  {
   "attachments": {},
   "cell_type": "markdown",
   "metadata": {},
   "source": [
    "#### Third context, third question: Is model a risk to society?"
   ]
  },
  {
   "cell_type": "code",
   "execution_count": 48,
   "metadata": {},
   "outputs": [
    {
     "name": "stdout",
     "output_type": "stream",
     "text": [
      "0.8254815027875261\n",
      "67.0\n"
     ]
    }
   ],
   "source": [
    "stat, p = wilcoxon(df_results[\"Think that using the model is a method that could be a risk to society?.2\"], \n",
    "df_results[\"Think that using the model is a method that could be a risk to society?.5\"],\n",
    "alternative= \"less\")\n",
    "\n",
    "print(p)\n",
    "print(stat)"
   ]
  },
  {
   "cell_type": "code",
   "execution_count": 49,
   "metadata": {},
   "outputs": [
    {
     "name": "stdout",
     "output_type": "stream",
     "text": [
      "0.17451849721247392\n",
      "67.0\n"
     ]
    }
   ],
   "source": [
    "stat, p = wilcoxon(df_results[\"Think that using the model is a method that could be a risk to society?.2\"], \n",
    "df_results[\"Think that using the model is a method that could be a risk to society?.5\"],\n",
    "alternative= \"greater\")\n",
    "\n",
    "print(p)\n",
    "print(stat)"
   ]
  },
  {
   "attachments": {},
   "cell_type": "markdown",
   "metadata": {},
   "source": [
    "#### Third context, fourth question: Do you trust the model?"
   ]
  },
  {
   "cell_type": "code",
   "execution_count": 50,
   "metadata": {},
   "outputs": [
    {
     "name": "stdout",
     "output_type": "stream",
     "text": [
      "0.8374102599508361\n",
      "76.5\n"
     ]
    }
   ],
   "source": [
    "stat, p = wilcoxon(df_results[\"Trust the prediction made by the model?.2\"], \n",
    "df_results[\"Trust the prediction made by the model?.5\"],\n",
    "alternative= \"less\")\n",
    "\n",
    "print(p)\n",
    "print(stat)"
   ]
  },
  {
   "cell_type": "code",
   "execution_count": 51,
   "metadata": {},
   "outputs": [
    {
     "name": "stdout",
     "output_type": "stream",
     "text": [
      "0.16258974004916393\n",
      "76.5\n"
     ]
    }
   ],
   "source": [
    "stat, p = wilcoxon(df_results[\"Trust the prediction made by the model?.2\"], \n",
    "df_results[\"Trust the prediction made by the model?.5\"],\n",
    "alternative= \"greater\")\n",
    "\n",
    "print(p)\n",
    "print(stat)"
   ]
  },
  {
   "attachments": {},
   "cell_type": "markdown",
   "metadata": {},
   "source": [
    "#### Plotting the differences in scores for the three contexts\n",
    "\n",
    "Using the mean"
   ]
  },
  {
   "cell_type": "code",
   "execution_count": 52,
   "metadata": {},
   "outputs": [
    {
     "name": "stdout",
     "output_type": "stream",
     "text": [
      "Index(['Think that using the model is an effective method of identifying violations of the PDPA?',\n",
      "       'Think that using the model is a fair method of identifying violations of the PDPA?',\n",
      "       'Think that using the model is a method that could be a risk to society?',\n",
      "       'Trust the prediction made by the model?',\n",
      "       'Think that using the model is an effective method of identifying violations of the PDPA?.1',\n",
      "       'Think that using the model is a fair method of identifying violations of the PDPA?.1',\n",
      "       'Think that using the model is a method that could be a risk to society?.1',\n",
      "       'Trust the prediction made by the model?.1',\n",
      "       'Think that using the model is an effective method of identifying violations of the PDPA?.2',\n",
      "       'Think that using the model is a fair method of identifying violations of the PDPA?.2',\n",
      "       'Think that using the model is a method that could be a risk to society?.2',\n",
      "       'Trust the prediction made by the model?.2'],\n",
      "      dtype='object')\n",
      "Index(['Think that using the model is an effective method of identifying violations of the PDPA?.3',\n",
      "       'Think that using the model is a fair method of identifying violations of the PDPA?.3',\n",
      "       'Think that using the model is a method that could be a risk to society?.3',\n",
      "       'Trust the prediction made by the model?.3',\n",
      "       'Think that using the model is an effective method of identifying violations of the PDPA?.4',\n",
      "       'Think that using the model is a fair method of identifying violations of the PDPA?.4',\n",
      "       'Think that using the model is a method that could be a risk to society?.4',\n",
      "       'Trust the prediction made by the model?.4',\n",
      "       'Think that using the model is an effective method of identifying violations of the PDPA?.5',\n",
      "       'Think that using the model is a fair method of identifying violations of the PDPA?.5',\n",
      "       'Think that using the model is a method that could be a risk to society?.5',\n",
      "       'Trust the prediction made by the model?.5'],\n",
      "      dtype='object')\n"
     ]
    }
   ],
   "source": [
    "feature_names = [\"Effective\", \"Fair\", \"Risk to society\", \"Trust\"]\n",
    "\n",
    "print(df_results.columns[13:25])\n",
    "print(df_results.columns[46:-2])"
   ]
  },
  {
   "cell_type": "code",
   "execution_count": 53,
   "metadata": {},
   "outputs": [],
   "source": [
    "mean_context1_before = []\n",
    "\n",
    "for col in df_results.columns[13:17] :\n",
    "    mean_context1_before.append(df_results[col].mean())\n",
    "\n",
    "mean_context1_after = []\n",
    "\n",
    "for col in df_results.columns[46:50] :\n",
    "    mean_context1_after.append(df_results[col].mean())"
   ]
  },
  {
   "cell_type": "code",
   "execution_count": 80,
   "metadata": {},
   "outputs": [
    {
     "data": {
      "application/vnd.plotly.v1+json": {
       "config": {
        "plotlyServerURL": "https://plot.ly"
       },
       "data": [
        {
         "fill": "toself",
         "name": "Before",
         "r": [
          2.806451612903226,
          2.935483870967742,
          2.806451612903226,
          2.967741935483871
         ],
         "theta": [
          "Effective",
          "Fair",
          "Risk to society",
          "Trust"
         ],
         "type": "scatterpolar"
        },
        {
         "fill": "toself",
         "name": "After",
         "r": [
          3.225806451612903,
          2.967741935483871,
          2.6774193548387095,
          2.7419354838709675
         ],
         "theta": [
          "Effective",
          "Fair",
          "Risk to society",
          "Trust"
         ],
         "type": "scatterpolar"
        }
       ],
       "layout": {
        "height": 500,
        "polar": {
         "radialaxis": {
          "range": [
           2,
           4
          ],
          "visible": true
         }
        },
        "showlegend": true,
        "template": {
         "data": {
          "bar": [
           {
            "error_x": {
             "color": "#2a3f5f"
            },
            "error_y": {
             "color": "#2a3f5f"
            },
            "marker": {
             "line": {
              "color": "#E5ECF6",
              "width": 0.5
             },
             "pattern": {
              "fillmode": "overlay",
              "size": 10,
              "solidity": 0.2
             }
            },
            "type": "bar"
           }
          ],
          "barpolar": [
           {
            "marker": {
             "line": {
              "color": "#E5ECF6",
              "width": 0.5
             },
             "pattern": {
              "fillmode": "overlay",
              "size": 10,
              "solidity": 0.2
             }
            },
            "type": "barpolar"
           }
          ],
          "carpet": [
           {
            "aaxis": {
             "endlinecolor": "#2a3f5f",
             "gridcolor": "white",
             "linecolor": "white",
             "minorgridcolor": "white",
             "startlinecolor": "#2a3f5f"
            },
            "baxis": {
             "endlinecolor": "#2a3f5f",
             "gridcolor": "white",
             "linecolor": "white",
             "minorgridcolor": "white",
             "startlinecolor": "#2a3f5f"
            },
            "type": "carpet"
           }
          ],
          "choropleth": [
           {
            "colorbar": {
             "outlinewidth": 0,
             "ticks": ""
            },
            "type": "choropleth"
           }
          ],
          "contour": [
           {
            "colorbar": {
             "outlinewidth": 0,
             "ticks": ""
            },
            "colorscale": [
             [
              0,
              "#0d0887"
             ],
             [
              0.1111111111111111,
              "#46039f"
             ],
             [
              0.2222222222222222,
              "#7201a8"
             ],
             [
              0.3333333333333333,
              "#9c179e"
             ],
             [
              0.4444444444444444,
              "#bd3786"
             ],
             [
              0.5555555555555556,
              "#d8576b"
             ],
             [
              0.6666666666666666,
              "#ed7953"
             ],
             [
              0.7777777777777778,
              "#fb9f3a"
             ],
             [
              0.8888888888888888,
              "#fdca26"
             ],
             [
              1,
              "#f0f921"
             ]
            ],
            "type": "contour"
           }
          ],
          "contourcarpet": [
           {
            "colorbar": {
             "outlinewidth": 0,
             "ticks": ""
            },
            "type": "contourcarpet"
           }
          ],
          "heatmap": [
           {
            "colorbar": {
             "outlinewidth": 0,
             "ticks": ""
            },
            "colorscale": [
             [
              0,
              "#0d0887"
             ],
             [
              0.1111111111111111,
              "#46039f"
             ],
             [
              0.2222222222222222,
              "#7201a8"
             ],
             [
              0.3333333333333333,
              "#9c179e"
             ],
             [
              0.4444444444444444,
              "#bd3786"
             ],
             [
              0.5555555555555556,
              "#d8576b"
             ],
             [
              0.6666666666666666,
              "#ed7953"
             ],
             [
              0.7777777777777778,
              "#fb9f3a"
             ],
             [
              0.8888888888888888,
              "#fdca26"
             ],
             [
              1,
              "#f0f921"
             ]
            ],
            "type": "heatmap"
           }
          ],
          "heatmapgl": [
           {
            "colorbar": {
             "outlinewidth": 0,
             "ticks": ""
            },
            "colorscale": [
             [
              0,
              "#0d0887"
             ],
             [
              0.1111111111111111,
              "#46039f"
             ],
             [
              0.2222222222222222,
              "#7201a8"
             ],
             [
              0.3333333333333333,
              "#9c179e"
             ],
             [
              0.4444444444444444,
              "#bd3786"
             ],
             [
              0.5555555555555556,
              "#d8576b"
             ],
             [
              0.6666666666666666,
              "#ed7953"
             ],
             [
              0.7777777777777778,
              "#fb9f3a"
             ],
             [
              0.8888888888888888,
              "#fdca26"
             ],
             [
              1,
              "#f0f921"
             ]
            ],
            "type": "heatmapgl"
           }
          ],
          "histogram": [
           {
            "marker": {
             "pattern": {
              "fillmode": "overlay",
              "size": 10,
              "solidity": 0.2
             }
            },
            "type": "histogram"
           }
          ],
          "histogram2d": [
           {
            "colorbar": {
             "outlinewidth": 0,
             "ticks": ""
            },
            "colorscale": [
             [
              0,
              "#0d0887"
             ],
             [
              0.1111111111111111,
              "#46039f"
             ],
             [
              0.2222222222222222,
              "#7201a8"
             ],
             [
              0.3333333333333333,
              "#9c179e"
             ],
             [
              0.4444444444444444,
              "#bd3786"
             ],
             [
              0.5555555555555556,
              "#d8576b"
             ],
             [
              0.6666666666666666,
              "#ed7953"
             ],
             [
              0.7777777777777778,
              "#fb9f3a"
             ],
             [
              0.8888888888888888,
              "#fdca26"
             ],
             [
              1,
              "#f0f921"
             ]
            ],
            "type": "histogram2d"
           }
          ],
          "histogram2dcontour": [
           {
            "colorbar": {
             "outlinewidth": 0,
             "ticks": ""
            },
            "colorscale": [
             [
              0,
              "#0d0887"
             ],
             [
              0.1111111111111111,
              "#46039f"
             ],
             [
              0.2222222222222222,
              "#7201a8"
             ],
             [
              0.3333333333333333,
              "#9c179e"
             ],
             [
              0.4444444444444444,
              "#bd3786"
             ],
             [
              0.5555555555555556,
              "#d8576b"
             ],
             [
              0.6666666666666666,
              "#ed7953"
             ],
             [
              0.7777777777777778,
              "#fb9f3a"
             ],
             [
              0.8888888888888888,
              "#fdca26"
             ],
             [
              1,
              "#f0f921"
             ]
            ],
            "type": "histogram2dcontour"
           }
          ],
          "mesh3d": [
           {
            "colorbar": {
             "outlinewidth": 0,
             "ticks": ""
            },
            "type": "mesh3d"
           }
          ],
          "parcoords": [
           {
            "line": {
             "colorbar": {
              "outlinewidth": 0,
              "ticks": ""
             }
            },
            "type": "parcoords"
           }
          ],
          "pie": [
           {
            "automargin": true,
            "type": "pie"
           }
          ],
          "scatter": [
           {
            "fillpattern": {
             "fillmode": "overlay",
             "size": 10,
             "solidity": 0.2
            },
            "type": "scatter"
           }
          ],
          "scatter3d": [
           {
            "line": {
             "colorbar": {
              "outlinewidth": 0,
              "ticks": ""
             }
            },
            "marker": {
             "colorbar": {
              "outlinewidth": 0,
              "ticks": ""
             }
            },
            "type": "scatter3d"
           }
          ],
          "scattercarpet": [
           {
            "marker": {
             "colorbar": {
              "outlinewidth": 0,
              "ticks": ""
             }
            },
            "type": "scattercarpet"
           }
          ],
          "scattergeo": [
           {
            "marker": {
             "colorbar": {
              "outlinewidth": 0,
              "ticks": ""
             }
            },
            "type": "scattergeo"
           }
          ],
          "scattergl": [
           {
            "marker": {
             "colorbar": {
              "outlinewidth": 0,
              "ticks": ""
             }
            },
            "type": "scattergl"
           }
          ],
          "scattermapbox": [
           {
            "marker": {
             "colorbar": {
              "outlinewidth": 0,
              "ticks": ""
             }
            },
            "type": "scattermapbox"
           }
          ],
          "scatterpolar": [
           {
            "marker": {
             "colorbar": {
              "outlinewidth": 0,
              "ticks": ""
             }
            },
            "type": "scatterpolar"
           }
          ],
          "scatterpolargl": [
           {
            "marker": {
             "colorbar": {
              "outlinewidth": 0,
              "ticks": ""
             }
            },
            "type": "scatterpolargl"
           }
          ],
          "scatterternary": [
           {
            "marker": {
             "colorbar": {
              "outlinewidth": 0,
              "ticks": ""
             }
            },
            "type": "scatterternary"
           }
          ],
          "surface": [
           {
            "colorbar": {
             "outlinewidth": 0,
             "ticks": ""
            },
            "colorscale": [
             [
              0,
              "#0d0887"
             ],
             [
              0.1111111111111111,
              "#46039f"
             ],
             [
              0.2222222222222222,
              "#7201a8"
             ],
             [
              0.3333333333333333,
              "#9c179e"
             ],
             [
              0.4444444444444444,
              "#bd3786"
             ],
             [
              0.5555555555555556,
              "#d8576b"
             ],
             [
              0.6666666666666666,
              "#ed7953"
             ],
             [
              0.7777777777777778,
              "#fb9f3a"
             ],
             [
              0.8888888888888888,
              "#fdca26"
             ],
             [
              1,
              "#f0f921"
             ]
            ],
            "type": "surface"
           }
          ],
          "table": [
           {
            "cells": {
             "fill": {
              "color": "#EBF0F8"
             },
             "line": {
              "color": "white"
             }
            },
            "header": {
             "fill": {
              "color": "#C8D4E3"
             },
             "line": {
              "color": "white"
             }
            },
            "type": "table"
           }
          ]
         },
         "layout": {
          "annotationdefaults": {
           "arrowcolor": "#2a3f5f",
           "arrowhead": 0,
           "arrowwidth": 1
          },
          "autotypenumbers": "strict",
          "coloraxis": {
           "colorbar": {
            "outlinewidth": 0,
            "ticks": ""
           }
          },
          "colorscale": {
           "diverging": [
            [
             0,
             "#8e0152"
            ],
            [
             0.1,
             "#c51b7d"
            ],
            [
             0.2,
             "#de77ae"
            ],
            [
             0.3,
             "#f1b6da"
            ],
            [
             0.4,
             "#fde0ef"
            ],
            [
             0.5,
             "#f7f7f7"
            ],
            [
             0.6,
             "#e6f5d0"
            ],
            [
             0.7,
             "#b8e186"
            ],
            [
             0.8,
             "#7fbc41"
            ],
            [
             0.9,
             "#4d9221"
            ],
            [
             1,
             "#276419"
            ]
           ],
           "sequential": [
            [
             0,
             "#0d0887"
            ],
            [
             0.1111111111111111,
             "#46039f"
            ],
            [
             0.2222222222222222,
             "#7201a8"
            ],
            [
             0.3333333333333333,
             "#9c179e"
            ],
            [
             0.4444444444444444,
             "#bd3786"
            ],
            [
             0.5555555555555556,
             "#d8576b"
            ],
            [
             0.6666666666666666,
             "#ed7953"
            ],
            [
             0.7777777777777778,
             "#fb9f3a"
            ],
            [
             0.8888888888888888,
             "#fdca26"
            ],
            [
             1,
             "#f0f921"
            ]
           ],
           "sequentialminus": [
            [
             0,
             "#0d0887"
            ],
            [
             0.1111111111111111,
             "#46039f"
            ],
            [
             0.2222222222222222,
             "#7201a8"
            ],
            [
             0.3333333333333333,
             "#9c179e"
            ],
            [
             0.4444444444444444,
             "#bd3786"
            ],
            [
             0.5555555555555556,
             "#d8576b"
            ],
            [
             0.6666666666666666,
             "#ed7953"
            ],
            [
             0.7777777777777778,
             "#fb9f3a"
            ],
            [
             0.8888888888888888,
             "#fdca26"
            ],
            [
             1,
             "#f0f921"
            ]
           ]
          },
          "colorway": [
           "#636efa",
           "#EF553B",
           "#00cc96",
           "#ab63fa",
           "#FFA15A",
           "#19d3f3",
           "#FF6692",
           "#B6E880",
           "#FF97FF",
           "#FECB52"
          ],
          "font": {
           "color": "#2a3f5f"
          },
          "geo": {
           "bgcolor": "white",
           "lakecolor": "white",
           "landcolor": "#E5ECF6",
           "showlakes": true,
           "showland": true,
           "subunitcolor": "white"
          },
          "hoverlabel": {
           "align": "left"
          },
          "hovermode": "closest",
          "mapbox": {
           "style": "light"
          },
          "paper_bgcolor": "white",
          "plot_bgcolor": "#E5ECF6",
          "polar": {
           "angularaxis": {
            "gridcolor": "white",
            "linecolor": "white",
            "ticks": ""
           },
           "bgcolor": "#E5ECF6",
           "radialaxis": {
            "gridcolor": "white",
            "linecolor": "white",
            "ticks": ""
           }
          },
          "scene": {
           "xaxis": {
            "backgroundcolor": "#E5ECF6",
            "gridcolor": "white",
            "gridwidth": 2,
            "linecolor": "white",
            "showbackground": true,
            "ticks": "",
            "zerolinecolor": "white"
           },
           "yaxis": {
            "backgroundcolor": "#E5ECF6",
            "gridcolor": "white",
            "gridwidth": 2,
            "linecolor": "white",
            "showbackground": true,
            "ticks": "",
            "zerolinecolor": "white"
           },
           "zaxis": {
            "backgroundcolor": "#E5ECF6",
            "gridcolor": "white",
            "gridwidth": 2,
            "linecolor": "white",
            "showbackground": true,
            "ticks": "",
            "zerolinecolor": "white"
           }
          },
          "shapedefaults": {
           "line": {
            "color": "#2a3f5f"
           }
          },
          "ternary": {
           "aaxis": {
            "gridcolor": "white",
            "linecolor": "white",
            "ticks": ""
           },
           "baxis": {
            "gridcolor": "white",
            "linecolor": "white",
            "ticks": ""
           },
           "bgcolor": "#E5ECF6",
           "caxis": {
            "gridcolor": "white",
            "linecolor": "white",
            "ticks": ""
           }
          },
          "title": {
           "x": 0.05
          },
          "xaxis": {
           "automargin": true,
           "gridcolor": "white",
           "linecolor": "white",
           "ticks": "",
           "title": {
            "standoff": 15
           },
           "zerolinecolor": "white",
           "zerolinewidth": 2
          },
          "yaxis": {
           "automargin": true,
           "gridcolor": "white",
           "linecolor": "white",
           "ticks": "",
           "title": {
            "standoff": 15
           },
           "zerolinecolor": "white",
           "zerolinewidth": 2
          }
         }
        },
        "title": {
         "text": "Context 1 (Software engineer): Self-reported scores regarding explanability <br> before and after viewing explanations (on a scale of agreement from 1 to 5)"
        },
        "width": 1000
       }
      }
     },
     "metadata": {},
     "output_type": "display_data"
    }
   ],
   "source": [
    "plot_2_radar_charts(mean_context1_before, mean_context1_after, \"Before\", \"After\", feature_names, [2, 4], title = \"Context 1 (Software engineer): Self-reported scores regarding explanability <br> before and after viewing explanations (on a scale of agreement from 1 to 5)\")"
   ]
  },
  {
   "cell_type": "code",
   "execution_count": 55,
   "metadata": {},
   "outputs": [],
   "source": [
    "mean_context2_before = []\n",
    "\n",
    "for col in df_results.columns[17:21] :\n",
    "    mean_context2_before.append(df_results[col].mean())\n",
    "\n",
    "mean_context2_after = []\n",
    "\n",
    "for col in df_results.columns[50:54] :\n",
    "    mean_context2_after.append(df_results[col].mean())"
   ]
  },
  {
   "cell_type": "code",
   "execution_count": 78,
   "metadata": {},
   "outputs": [
    {
     "data": {
      "application/vnd.plotly.v1+json": {
       "config": {
        "plotlyServerURL": "https://plot.ly"
       },
       "data": [
        {
         "fill": "toself",
         "name": "Before",
         "r": [
          2.967741935483871,
          2.806451612903226,
          2.5161290322580645,
          2.935483870967742
         ],
         "theta": [
          "Effective",
          "Fair",
          "Risk to society",
          "Trust"
         ],
         "type": "scatterpolar"
        },
        {
         "fill": "toself",
         "name": "After",
         "r": [
          2.7096774193548385,
          2.6451612903225805,
          2.5483870967741935,
          2.5806451612903225
         ],
         "theta": [
          "Effective",
          "Fair",
          "Risk to society",
          "Trust"
         ],
         "type": "scatterpolar"
        }
       ],
       "layout": {
        "height": 500,
        "polar": {
         "radialaxis": {
          "range": [
           2,
           4
          ],
          "visible": true
         }
        },
        "showlegend": true,
        "template": {
         "data": {
          "bar": [
           {
            "error_x": {
             "color": "#2a3f5f"
            },
            "error_y": {
             "color": "#2a3f5f"
            },
            "marker": {
             "line": {
              "color": "#E5ECF6",
              "width": 0.5
             },
             "pattern": {
              "fillmode": "overlay",
              "size": 10,
              "solidity": 0.2
             }
            },
            "type": "bar"
           }
          ],
          "barpolar": [
           {
            "marker": {
             "line": {
              "color": "#E5ECF6",
              "width": 0.5
             },
             "pattern": {
              "fillmode": "overlay",
              "size": 10,
              "solidity": 0.2
             }
            },
            "type": "barpolar"
           }
          ],
          "carpet": [
           {
            "aaxis": {
             "endlinecolor": "#2a3f5f",
             "gridcolor": "white",
             "linecolor": "white",
             "minorgridcolor": "white",
             "startlinecolor": "#2a3f5f"
            },
            "baxis": {
             "endlinecolor": "#2a3f5f",
             "gridcolor": "white",
             "linecolor": "white",
             "minorgridcolor": "white",
             "startlinecolor": "#2a3f5f"
            },
            "type": "carpet"
           }
          ],
          "choropleth": [
           {
            "colorbar": {
             "outlinewidth": 0,
             "ticks": ""
            },
            "type": "choropleth"
           }
          ],
          "contour": [
           {
            "colorbar": {
             "outlinewidth": 0,
             "ticks": ""
            },
            "colorscale": [
             [
              0,
              "#0d0887"
             ],
             [
              0.1111111111111111,
              "#46039f"
             ],
             [
              0.2222222222222222,
              "#7201a8"
             ],
             [
              0.3333333333333333,
              "#9c179e"
             ],
             [
              0.4444444444444444,
              "#bd3786"
             ],
             [
              0.5555555555555556,
              "#d8576b"
             ],
             [
              0.6666666666666666,
              "#ed7953"
             ],
             [
              0.7777777777777778,
              "#fb9f3a"
             ],
             [
              0.8888888888888888,
              "#fdca26"
             ],
             [
              1,
              "#f0f921"
             ]
            ],
            "type": "contour"
           }
          ],
          "contourcarpet": [
           {
            "colorbar": {
             "outlinewidth": 0,
             "ticks": ""
            },
            "type": "contourcarpet"
           }
          ],
          "heatmap": [
           {
            "colorbar": {
             "outlinewidth": 0,
             "ticks": ""
            },
            "colorscale": [
             [
              0,
              "#0d0887"
             ],
             [
              0.1111111111111111,
              "#46039f"
             ],
             [
              0.2222222222222222,
              "#7201a8"
             ],
             [
              0.3333333333333333,
              "#9c179e"
             ],
             [
              0.4444444444444444,
              "#bd3786"
             ],
             [
              0.5555555555555556,
              "#d8576b"
             ],
             [
              0.6666666666666666,
              "#ed7953"
             ],
             [
              0.7777777777777778,
              "#fb9f3a"
             ],
             [
              0.8888888888888888,
              "#fdca26"
             ],
             [
              1,
              "#f0f921"
             ]
            ],
            "type": "heatmap"
           }
          ],
          "heatmapgl": [
           {
            "colorbar": {
             "outlinewidth": 0,
             "ticks": ""
            },
            "colorscale": [
             [
              0,
              "#0d0887"
             ],
             [
              0.1111111111111111,
              "#46039f"
             ],
             [
              0.2222222222222222,
              "#7201a8"
             ],
             [
              0.3333333333333333,
              "#9c179e"
             ],
             [
              0.4444444444444444,
              "#bd3786"
             ],
             [
              0.5555555555555556,
              "#d8576b"
             ],
             [
              0.6666666666666666,
              "#ed7953"
             ],
             [
              0.7777777777777778,
              "#fb9f3a"
             ],
             [
              0.8888888888888888,
              "#fdca26"
             ],
             [
              1,
              "#f0f921"
             ]
            ],
            "type": "heatmapgl"
           }
          ],
          "histogram": [
           {
            "marker": {
             "pattern": {
              "fillmode": "overlay",
              "size": 10,
              "solidity": 0.2
             }
            },
            "type": "histogram"
           }
          ],
          "histogram2d": [
           {
            "colorbar": {
             "outlinewidth": 0,
             "ticks": ""
            },
            "colorscale": [
             [
              0,
              "#0d0887"
             ],
             [
              0.1111111111111111,
              "#46039f"
             ],
             [
              0.2222222222222222,
              "#7201a8"
             ],
             [
              0.3333333333333333,
              "#9c179e"
             ],
             [
              0.4444444444444444,
              "#bd3786"
             ],
             [
              0.5555555555555556,
              "#d8576b"
             ],
             [
              0.6666666666666666,
              "#ed7953"
             ],
             [
              0.7777777777777778,
              "#fb9f3a"
             ],
             [
              0.8888888888888888,
              "#fdca26"
             ],
             [
              1,
              "#f0f921"
             ]
            ],
            "type": "histogram2d"
           }
          ],
          "histogram2dcontour": [
           {
            "colorbar": {
             "outlinewidth": 0,
             "ticks": ""
            },
            "colorscale": [
             [
              0,
              "#0d0887"
             ],
             [
              0.1111111111111111,
              "#46039f"
             ],
             [
              0.2222222222222222,
              "#7201a8"
             ],
             [
              0.3333333333333333,
              "#9c179e"
             ],
             [
              0.4444444444444444,
              "#bd3786"
             ],
             [
              0.5555555555555556,
              "#d8576b"
             ],
             [
              0.6666666666666666,
              "#ed7953"
             ],
             [
              0.7777777777777778,
              "#fb9f3a"
             ],
             [
              0.8888888888888888,
              "#fdca26"
             ],
             [
              1,
              "#f0f921"
             ]
            ],
            "type": "histogram2dcontour"
           }
          ],
          "mesh3d": [
           {
            "colorbar": {
             "outlinewidth": 0,
             "ticks": ""
            },
            "type": "mesh3d"
           }
          ],
          "parcoords": [
           {
            "line": {
             "colorbar": {
              "outlinewidth": 0,
              "ticks": ""
             }
            },
            "type": "parcoords"
           }
          ],
          "pie": [
           {
            "automargin": true,
            "type": "pie"
           }
          ],
          "scatter": [
           {
            "fillpattern": {
             "fillmode": "overlay",
             "size": 10,
             "solidity": 0.2
            },
            "type": "scatter"
           }
          ],
          "scatter3d": [
           {
            "line": {
             "colorbar": {
              "outlinewidth": 0,
              "ticks": ""
             }
            },
            "marker": {
             "colorbar": {
              "outlinewidth": 0,
              "ticks": ""
             }
            },
            "type": "scatter3d"
           }
          ],
          "scattercarpet": [
           {
            "marker": {
             "colorbar": {
              "outlinewidth": 0,
              "ticks": ""
             }
            },
            "type": "scattercarpet"
           }
          ],
          "scattergeo": [
           {
            "marker": {
             "colorbar": {
              "outlinewidth": 0,
              "ticks": ""
             }
            },
            "type": "scattergeo"
           }
          ],
          "scattergl": [
           {
            "marker": {
             "colorbar": {
              "outlinewidth": 0,
              "ticks": ""
             }
            },
            "type": "scattergl"
           }
          ],
          "scattermapbox": [
           {
            "marker": {
             "colorbar": {
              "outlinewidth": 0,
              "ticks": ""
             }
            },
            "type": "scattermapbox"
           }
          ],
          "scatterpolar": [
           {
            "marker": {
             "colorbar": {
              "outlinewidth": 0,
              "ticks": ""
             }
            },
            "type": "scatterpolar"
           }
          ],
          "scatterpolargl": [
           {
            "marker": {
             "colorbar": {
              "outlinewidth": 0,
              "ticks": ""
             }
            },
            "type": "scatterpolargl"
           }
          ],
          "scatterternary": [
           {
            "marker": {
             "colorbar": {
              "outlinewidth": 0,
              "ticks": ""
             }
            },
            "type": "scatterternary"
           }
          ],
          "surface": [
           {
            "colorbar": {
             "outlinewidth": 0,
             "ticks": ""
            },
            "colorscale": [
             [
              0,
              "#0d0887"
             ],
             [
              0.1111111111111111,
              "#46039f"
             ],
             [
              0.2222222222222222,
              "#7201a8"
             ],
             [
              0.3333333333333333,
              "#9c179e"
             ],
             [
              0.4444444444444444,
              "#bd3786"
             ],
             [
              0.5555555555555556,
              "#d8576b"
             ],
             [
              0.6666666666666666,
              "#ed7953"
             ],
             [
              0.7777777777777778,
              "#fb9f3a"
             ],
             [
              0.8888888888888888,
              "#fdca26"
             ],
             [
              1,
              "#f0f921"
             ]
            ],
            "type": "surface"
           }
          ],
          "table": [
           {
            "cells": {
             "fill": {
              "color": "#EBF0F8"
             },
             "line": {
              "color": "white"
             }
            },
            "header": {
             "fill": {
              "color": "#C8D4E3"
             },
             "line": {
              "color": "white"
             }
            },
            "type": "table"
           }
          ]
         },
         "layout": {
          "annotationdefaults": {
           "arrowcolor": "#2a3f5f",
           "arrowhead": 0,
           "arrowwidth": 1
          },
          "autotypenumbers": "strict",
          "coloraxis": {
           "colorbar": {
            "outlinewidth": 0,
            "ticks": ""
           }
          },
          "colorscale": {
           "diverging": [
            [
             0,
             "#8e0152"
            ],
            [
             0.1,
             "#c51b7d"
            ],
            [
             0.2,
             "#de77ae"
            ],
            [
             0.3,
             "#f1b6da"
            ],
            [
             0.4,
             "#fde0ef"
            ],
            [
             0.5,
             "#f7f7f7"
            ],
            [
             0.6,
             "#e6f5d0"
            ],
            [
             0.7,
             "#b8e186"
            ],
            [
             0.8,
             "#7fbc41"
            ],
            [
             0.9,
             "#4d9221"
            ],
            [
             1,
             "#276419"
            ]
           ],
           "sequential": [
            [
             0,
             "#0d0887"
            ],
            [
             0.1111111111111111,
             "#46039f"
            ],
            [
             0.2222222222222222,
             "#7201a8"
            ],
            [
             0.3333333333333333,
             "#9c179e"
            ],
            [
             0.4444444444444444,
             "#bd3786"
            ],
            [
             0.5555555555555556,
             "#d8576b"
            ],
            [
             0.6666666666666666,
             "#ed7953"
            ],
            [
             0.7777777777777778,
             "#fb9f3a"
            ],
            [
             0.8888888888888888,
             "#fdca26"
            ],
            [
             1,
             "#f0f921"
            ]
           ],
           "sequentialminus": [
            [
             0,
             "#0d0887"
            ],
            [
             0.1111111111111111,
             "#46039f"
            ],
            [
             0.2222222222222222,
             "#7201a8"
            ],
            [
             0.3333333333333333,
             "#9c179e"
            ],
            [
             0.4444444444444444,
             "#bd3786"
            ],
            [
             0.5555555555555556,
             "#d8576b"
            ],
            [
             0.6666666666666666,
             "#ed7953"
            ],
            [
             0.7777777777777778,
             "#fb9f3a"
            ],
            [
             0.8888888888888888,
             "#fdca26"
            ],
            [
             1,
             "#f0f921"
            ]
           ]
          },
          "colorway": [
           "#636efa",
           "#EF553B",
           "#00cc96",
           "#ab63fa",
           "#FFA15A",
           "#19d3f3",
           "#FF6692",
           "#B6E880",
           "#FF97FF",
           "#FECB52"
          ],
          "font": {
           "color": "#2a3f5f"
          },
          "geo": {
           "bgcolor": "white",
           "lakecolor": "white",
           "landcolor": "#E5ECF6",
           "showlakes": true,
           "showland": true,
           "subunitcolor": "white"
          },
          "hoverlabel": {
           "align": "left"
          },
          "hovermode": "closest",
          "mapbox": {
           "style": "light"
          },
          "paper_bgcolor": "white",
          "plot_bgcolor": "#E5ECF6",
          "polar": {
           "angularaxis": {
            "gridcolor": "white",
            "linecolor": "white",
            "ticks": ""
           },
           "bgcolor": "#E5ECF6",
           "radialaxis": {
            "gridcolor": "white",
            "linecolor": "white",
            "ticks": ""
           }
          },
          "scene": {
           "xaxis": {
            "backgroundcolor": "#E5ECF6",
            "gridcolor": "white",
            "gridwidth": 2,
            "linecolor": "white",
            "showbackground": true,
            "ticks": "",
            "zerolinecolor": "white"
           },
           "yaxis": {
            "backgroundcolor": "#E5ECF6",
            "gridcolor": "white",
            "gridwidth": 2,
            "linecolor": "white",
            "showbackground": true,
            "ticks": "",
            "zerolinecolor": "white"
           },
           "zaxis": {
            "backgroundcolor": "#E5ECF6",
            "gridcolor": "white",
            "gridwidth": 2,
            "linecolor": "white",
            "showbackground": true,
            "ticks": "",
            "zerolinecolor": "white"
           }
          },
          "shapedefaults": {
           "line": {
            "color": "#2a3f5f"
           }
          },
          "ternary": {
           "aaxis": {
            "gridcolor": "white",
            "linecolor": "white",
            "ticks": ""
           },
           "baxis": {
            "gridcolor": "white",
            "linecolor": "white",
            "ticks": ""
           },
           "bgcolor": "#E5ECF6",
           "caxis": {
            "gridcolor": "white",
            "linecolor": "white",
            "ticks": ""
           }
          },
          "title": {
           "x": 0.05
          },
          "xaxis": {
           "automargin": true,
           "gridcolor": "white",
           "linecolor": "white",
           "ticks": "",
           "title": {
            "standoff": 15
           },
           "zerolinecolor": "white",
           "zerolinewidth": 2
          },
          "yaxis": {
           "automargin": true,
           "gridcolor": "white",
           "linecolor": "white",
           "ticks": "",
           "title": {
            "standoff": 15
           },
           "zerolinecolor": "white",
           "zerolinewidth": 2
          }
         }
        },
        "title": {
         "text": "Context 2 (PDPC): Self-reported scores regarding explanability before and after viewing explanations <br> (on a scale of agreement from 1 to 5)"
        },
        "width": 1000
       }
      }
     },
     "metadata": {},
     "output_type": "display_data"
    }
   ],
   "source": [
    "plot_2_radar_charts(mean_context2_before, mean_context2_after, \"Before\", \"After\", feature_names, [2,4], title = \"Context 2 (PDPC): Self-reported scores regarding explanability before and after viewing explanations <br> (on a scale of agreement from 1 to 5)\")"
   ]
  },
  {
   "cell_type": "code",
   "execution_count": 57,
   "metadata": {},
   "outputs": [],
   "source": [
    "mean_context3_before = []\n",
    "\n",
    "for col in df_results.columns[21:25] :\n",
    "    mean_context3_before.append(df_results[col].mean())\n",
    "\n",
    "mean_context3_after = []\n",
    "\n",
    "for col in df_results.columns[54:58] :\n",
    "    mean_context3_after.append(df_results[col].mean())"
   ]
  },
  {
   "cell_type": "code",
   "execution_count": 79,
   "metadata": {},
   "outputs": [
    {
     "data": {
      "application/vnd.plotly.v1+json": {
       "config": {
        "plotlyServerURL": "https://plot.ly"
       },
       "data": [
        {
         "fill": "toself",
         "name": "Before",
         "r": [
          3.2903225806451615,
          3.2580645161290325,
          3,
          3.129032258064516
         ],
         "theta": [
          "Effective",
          "Fair",
          "Risk to society",
          "Trust"
         ],
         "type": "scatterpolar"
        },
        {
         "fill": "toself",
         "name": "After",
         "r": [
          3.096774193548387,
          3,
          2.838709677419355,
          2.967741935483871
         ],
         "theta": [
          "Effective",
          "Fair",
          "Risk to society",
          "Trust"
         ],
         "type": "scatterpolar"
        }
       ],
       "layout": {
        "height": 500,
        "polar": {
         "radialaxis": {
          "range": [
           2,
           4
          ],
          "visible": true
         }
        },
        "showlegend": true,
        "template": {
         "data": {
          "bar": [
           {
            "error_x": {
             "color": "#2a3f5f"
            },
            "error_y": {
             "color": "#2a3f5f"
            },
            "marker": {
             "line": {
              "color": "#E5ECF6",
              "width": 0.5
             },
             "pattern": {
              "fillmode": "overlay",
              "size": 10,
              "solidity": 0.2
             }
            },
            "type": "bar"
           }
          ],
          "barpolar": [
           {
            "marker": {
             "line": {
              "color": "#E5ECF6",
              "width": 0.5
             },
             "pattern": {
              "fillmode": "overlay",
              "size": 10,
              "solidity": 0.2
             }
            },
            "type": "barpolar"
           }
          ],
          "carpet": [
           {
            "aaxis": {
             "endlinecolor": "#2a3f5f",
             "gridcolor": "white",
             "linecolor": "white",
             "minorgridcolor": "white",
             "startlinecolor": "#2a3f5f"
            },
            "baxis": {
             "endlinecolor": "#2a3f5f",
             "gridcolor": "white",
             "linecolor": "white",
             "minorgridcolor": "white",
             "startlinecolor": "#2a3f5f"
            },
            "type": "carpet"
           }
          ],
          "choropleth": [
           {
            "colorbar": {
             "outlinewidth": 0,
             "ticks": ""
            },
            "type": "choropleth"
           }
          ],
          "contour": [
           {
            "colorbar": {
             "outlinewidth": 0,
             "ticks": ""
            },
            "colorscale": [
             [
              0,
              "#0d0887"
             ],
             [
              0.1111111111111111,
              "#46039f"
             ],
             [
              0.2222222222222222,
              "#7201a8"
             ],
             [
              0.3333333333333333,
              "#9c179e"
             ],
             [
              0.4444444444444444,
              "#bd3786"
             ],
             [
              0.5555555555555556,
              "#d8576b"
             ],
             [
              0.6666666666666666,
              "#ed7953"
             ],
             [
              0.7777777777777778,
              "#fb9f3a"
             ],
             [
              0.8888888888888888,
              "#fdca26"
             ],
             [
              1,
              "#f0f921"
             ]
            ],
            "type": "contour"
           }
          ],
          "contourcarpet": [
           {
            "colorbar": {
             "outlinewidth": 0,
             "ticks": ""
            },
            "type": "contourcarpet"
           }
          ],
          "heatmap": [
           {
            "colorbar": {
             "outlinewidth": 0,
             "ticks": ""
            },
            "colorscale": [
             [
              0,
              "#0d0887"
             ],
             [
              0.1111111111111111,
              "#46039f"
             ],
             [
              0.2222222222222222,
              "#7201a8"
             ],
             [
              0.3333333333333333,
              "#9c179e"
             ],
             [
              0.4444444444444444,
              "#bd3786"
             ],
             [
              0.5555555555555556,
              "#d8576b"
             ],
             [
              0.6666666666666666,
              "#ed7953"
             ],
             [
              0.7777777777777778,
              "#fb9f3a"
             ],
             [
              0.8888888888888888,
              "#fdca26"
             ],
             [
              1,
              "#f0f921"
             ]
            ],
            "type": "heatmap"
           }
          ],
          "heatmapgl": [
           {
            "colorbar": {
             "outlinewidth": 0,
             "ticks": ""
            },
            "colorscale": [
             [
              0,
              "#0d0887"
             ],
             [
              0.1111111111111111,
              "#46039f"
             ],
             [
              0.2222222222222222,
              "#7201a8"
             ],
             [
              0.3333333333333333,
              "#9c179e"
             ],
             [
              0.4444444444444444,
              "#bd3786"
             ],
             [
              0.5555555555555556,
              "#d8576b"
             ],
             [
              0.6666666666666666,
              "#ed7953"
             ],
             [
              0.7777777777777778,
              "#fb9f3a"
             ],
             [
              0.8888888888888888,
              "#fdca26"
             ],
             [
              1,
              "#f0f921"
             ]
            ],
            "type": "heatmapgl"
           }
          ],
          "histogram": [
           {
            "marker": {
             "pattern": {
              "fillmode": "overlay",
              "size": 10,
              "solidity": 0.2
             }
            },
            "type": "histogram"
           }
          ],
          "histogram2d": [
           {
            "colorbar": {
             "outlinewidth": 0,
             "ticks": ""
            },
            "colorscale": [
             [
              0,
              "#0d0887"
             ],
             [
              0.1111111111111111,
              "#46039f"
             ],
             [
              0.2222222222222222,
              "#7201a8"
             ],
             [
              0.3333333333333333,
              "#9c179e"
             ],
             [
              0.4444444444444444,
              "#bd3786"
             ],
             [
              0.5555555555555556,
              "#d8576b"
             ],
             [
              0.6666666666666666,
              "#ed7953"
             ],
             [
              0.7777777777777778,
              "#fb9f3a"
             ],
             [
              0.8888888888888888,
              "#fdca26"
             ],
             [
              1,
              "#f0f921"
             ]
            ],
            "type": "histogram2d"
           }
          ],
          "histogram2dcontour": [
           {
            "colorbar": {
             "outlinewidth": 0,
             "ticks": ""
            },
            "colorscale": [
             [
              0,
              "#0d0887"
             ],
             [
              0.1111111111111111,
              "#46039f"
             ],
             [
              0.2222222222222222,
              "#7201a8"
             ],
             [
              0.3333333333333333,
              "#9c179e"
             ],
             [
              0.4444444444444444,
              "#bd3786"
             ],
             [
              0.5555555555555556,
              "#d8576b"
             ],
             [
              0.6666666666666666,
              "#ed7953"
             ],
             [
              0.7777777777777778,
              "#fb9f3a"
             ],
             [
              0.8888888888888888,
              "#fdca26"
             ],
             [
              1,
              "#f0f921"
             ]
            ],
            "type": "histogram2dcontour"
           }
          ],
          "mesh3d": [
           {
            "colorbar": {
             "outlinewidth": 0,
             "ticks": ""
            },
            "type": "mesh3d"
           }
          ],
          "parcoords": [
           {
            "line": {
             "colorbar": {
              "outlinewidth": 0,
              "ticks": ""
             }
            },
            "type": "parcoords"
           }
          ],
          "pie": [
           {
            "automargin": true,
            "type": "pie"
           }
          ],
          "scatter": [
           {
            "fillpattern": {
             "fillmode": "overlay",
             "size": 10,
             "solidity": 0.2
            },
            "type": "scatter"
           }
          ],
          "scatter3d": [
           {
            "line": {
             "colorbar": {
              "outlinewidth": 0,
              "ticks": ""
             }
            },
            "marker": {
             "colorbar": {
              "outlinewidth": 0,
              "ticks": ""
             }
            },
            "type": "scatter3d"
           }
          ],
          "scattercarpet": [
           {
            "marker": {
             "colorbar": {
              "outlinewidth": 0,
              "ticks": ""
             }
            },
            "type": "scattercarpet"
           }
          ],
          "scattergeo": [
           {
            "marker": {
             "colorbar": {
              "outlinewidth": 0,
              "ticks": ""
             }
            },
            "type": "scattergeo"
           }
          ],
          "scattergl": [
           {
            "marker": {
             "colorbar": {
              "outlinewidth": 0,
              "ticks": ""
             }
            },
            "type": "scattergl"
           }
          ],
          "scattermapbox": [
           {
            "marker": {
             "colorbar": {
              "outlinewidth": 0,
              "ticks": ""
             }
            },
            "type": "scattermapbox"
           }
          ],
          "scatterpolar": [
           {
            "marker": {
             "colorbar": {
              "outlinewidth": 0,
              "ticks": ""
             }
            },
            "type": "scatterpolar"
           }
          ],
          "scatterpolargl": [
           {
            "marker": {
             "colorbar": {
              "outlinewidth": 0,
              "ticks": ""
             }
            },
            "type": "scatterpolargl"
           }
          ],
          "scatterternary": [
           {
            "marker": {
             "colorbar": {
              "outlinewidth": 0,
              "ticks": ""
             }
            },
            "type": "scatterternary"
           }
          ],
          "surface": [
           {
            "colorbar": {
             "outlinewidth": 0,
             "ticks": ""
            },
            "colorscale": [
             [
              0,
              "#0d0887"
             ],
             [
              0.1111111111111111,
              "#46039f"
             ],
             [
              0.2222222222222222,
              "#7201a8"
             ],
             [
              0.3333333333333333,
              "#9c179e"
             ],
             [
              0.4444444444444444,
              "#bd3786"
             ],
             [
              0.5555555555555556,
              "#d8576b"
             ],
             [
              0.6666666666666666,
              "#ed7953"
             ],
             [
              0.7777777777777778,
              "#fb9f3a"
             ],
             [
              0.8888888888888888,
              "#fdca26"
             ],
             [
              1,
              "#f0f921"
             ]
            ],
            "type": "surface"
           }
          ],
          "table": [
           {
            "cells": {
             "fill": {
              "color": "#EBF0F8"
             },
             "line": {
              "color": "white"
             }
            },
            "header": {
             "fill": {
              "color": "#C8D4E3"
             },
             "line": {
              "color": "white"
             }
            },
            "type": "table"
           }
          ]
         },
         "layout": {
          "annotationdefaults": {
           "arrowcolor": "#2a3f5f",
           "arrowhead": 0,
           "arrowwidth": 1
          },
          "autotypenumbers": "strict",
          "coloraxis": {
           "colorbar": {
            "outlinewidth": 0,
            "ticks": ""
           }
          },
          "colorscale": {
           "diverging": [
            [
             0,
             "#8e0152"
            ],
            [
             0.1,
             "#c51b7d"
            ],
            [
             0.2,
             "#de77ae"
            ],
            [
             0.3,
             "#f1b6da"
            ],
            [
             0.4,
             "#fde0ef"
            ],
            [
             0.5,
             "#f7f7f7"
            ],
            [
             0.6,
             "#e6f5d0"
            ],
            [
             0.7,
             "#b8e186"
            ],
            [
             0.8,
             "#7fbc41"
            ],
            [
             0.9,
             "#4d9221"
            ],
            [
             1,
             "#276419"
            ]
           ],
           "sequential": [
            [
             0,
             "#0d0887"
            ],
            [
             0.1111111111111111,
             "#46039f"
            ],
            [
             0.2222222222222222,
             "#7201a8"
            ],
            [
             0.3333333333333333,
             "#9c179e"
            ],
            [
             0.4444444444444444,
             "#bd3786"
            ],
            [
             0.5555555555555556,
             "#d8576b"
            ],
            [
             0.6666666666666666,
             "#ed7953"
            ],
            [
             0.7777777777777778,
             "#fb9f3a"
            ],
            [
             0.8888888888888888,
             "#fdca26"
            ],
            [
             1,
             "#f0f921"
            ]
           ],
           "sequentialminus": [
            [
             0,
             "#0d0887"
            ],
            [
             0.1111111111111111,
             "#46039f"
            ],
            [
             0.2222222222222222,
             "#7201a8"
            ],
            [
             0.3333333333333333,
             "#9c179e"
            ],
            [
             0.4444444444444444,
             "#bd3786"
            ],
            [
             0.5555555555555556,
             "#d8576b"
            ],
            [
             0.6666666666666666,
             "#ed7953"
            ],
            [
             0.7777777777777778,
             "#fb9f3a"
            ],
            [
             0.8888888888888888,
             "#fdca26"
            ],
            [
             1,
             "#f0f921"
            ]
           ]
          },
          "colorway": [
           "#636efa",
           "#EF553B",
           "#00cc96",
           "#ab63fa",
           "#FFA15A",
           "#19d3f3",
           "#FF6692",
           "#B6E880",
           "#FF97FF",
           "#FECB52"
          ],
          "font": {
           "color": "#2a3f5f"
          },
          "geo": {
           "bgcolor": "white",
           "lakecolor": "white",
           "landcolor": "#E5ECF6",
           "showlakes": true,
           "showland": true,
           "subunitcolor": "white"
          },
          "hoverlabel": {
           "align": "left"
          },
          "hovermode": "closest",
          "mapbox": {
           "style": "light"
          },
          "paper_bgcolor": "white",
          "plot_bgcolor": "#E5ECF6",
          "polar": {
           "angularaxis": {
            "gridcolor": "white",
            "linecolor": "white",
            "ticks": ""
           },
           "bgcolor": "#E5ECF6",
           "radialaxis": {
            "gridcolor": "white",
            "linecolor": "white",
            "ticks": ""
           }
          },
          "scene": {
           "xaxis": {
            "backgroundcolor": "#E5ECF6",
            "gridcolor": "white",
            "gridwidth": 2,
            "linecolor": "white",
            "showbackground": true,
            "ticks": "",
            "zerolinecolor": "white"
           },
           "yaxis": {
            "backgroundcolor": "#E5ECF6",
            "gridcolor": "white",
            "gridwidth": 2,
            "linecolor": "white",
            "showbackground": true,
            "ticks": "",
            "zerolinecolor": "white"
           },
           "zaxis": {
            "backgroundcolor": "#E5ECF6",
            "gridcolor": "white",
            "gridwidth": 2,
            "linecolor": "white",
            "showbackground": true,
            "ticks": "",
            "zerolinecolor": "white"
           }
          },
          "shapedefaults": {
           "line": {
            "color": "#2a3f5f"
           }
          },
          "ternary": {
           "aaxis": {
            "gridcolor": "white",
            "linecolor": "white",
            "ticks": ""
           },
           "baxis": {
            "gridcolor": "white",
            "linecolor": "white",
            "ticks": ""
           },
           "bgcolor": "#E5ECF6",
           "caxis": {
            "gridcolor": "white",
            "linecolor": "white",
            "ticks": ""
           }
          },
          "title": {
           "x": 0.05
          },
          "xaxis": {
           "automargin": true,
           "gridcolor": "white",
           "linecolor": "white",
           "ticks": "",
           "title": {
            "standoff": 15
           },
           "zerolinecolor": "white",
           "zerolinewidth": 2
          },
          "yaxis": {
           "automargin": true,
           "gridcolor": "white",
           "linecolor": "white",
           "ticks": "",
           "title": {
            "standoff": 15
           },
           "zerolinecolor": "white",
           "zerolinewidth": 2
          }
         }
        },
        "title": {
         "text": "Context 3 (Consumer): Self-reported scores regarding explanability before and after viewing explanations <br> (on a scale of agreement from 1 to 5)"
        },
        "width": 1000
       }
      }
     },
     "metadata": {},
     "output_type": "display_data"
    }
   ],
   "source": [
    "plot_2_radar_charts(mean_context3_before, mean_context3_after, \"Before\", \"After\", feature_names, [2,4], title = \"Context 3 (Consumer): Self-reported scores regarding explanability before and after viewing explanations <br> (on a scale of agreement from 1 to 5)\")"
   ]
  },
  {
   "attachments": {},
   "cell_type": "markdown",
   "metadata": {},
   "source": [
    "### Whether there is a significant preference between the two models in part 4 and part 5\n",
    "\n",
    "#### For Log + glove vs svc + glove\n",
    "\n",
    "Overall votes:\n",
    "\n",
    "1st model: 2 + 1 + 4 = 7\n",
    "\n",
    "2nd model: 1 + 7 + 1 = 9\n",
    "\n",
    "No difference: 17 + 12 + 15 = 44"
   ]
  },
  {
   "cell_type": "code",
   "execution_count": 59,
   "metadata": {},
   "outputs": [
    {
     "name": "stdout",
     "output_type": "stream",
     "text": [
      "Index(['Which explanation did you find easier to interpret?',\n",
      "       'Which explanation did you find easier to interpret?.1',\n",
      "       'Which explanation did you find easier to interpret?.2'],\n",
      "      dtype='object')\n"
     ]
    }
   ],
   "source": [
    "# Part 4: Comparing between log + glove vs svc + glove\n",
    "print(df_results.columns[40:43])"
   ]
  },
  {
   "cell_type": "code",
   "execution_count": 81,
   "metadata": {},
   "outputs": [],
   "source": [
    "ls = []\n",
    "for col in df_results.columns[40:43]:\n",
    "    ls.append(df_results[col])"
   ]
  },
  {
   "cell_type": "code",
   "execution_count": 84,
   "metadata": {},
   "outputs": [
    {
     "data": {
      "text/plain": [
       "array(['No difference', '4.1(ii)', '4.1(i)', '4.2(ii)', '4.2(i)',\n",
       "       '4.3(i)', '4.3(ii)'], dtype=object)"
      ]
     },
     "execution_count": 84,
     "metadata": {},
     "output_type": "execute_result"
    }
   ],
   "source": [
    "part4_votes = pd.concat(ls)\n",
    "part4_votes.unique()"
   ]
  },
  {
   "cell_type": "code",
   "execution_count": 86,
   "metadata": {},
   "outputs": [],
   "source": [
    "part4_votes = part4_votes.replace({\n",
    "    \"4.1(i)\" : \"log+glove\",\n",
    "    \"4.1(ii)\" : \"svc+glove\",\n",
    "    \"4.2(i)\" : \"log+glove\",\n",
    "    \"4.2(ii)\" : \"svc+glove\",\n",
    "    \"4.3(i)\" : \"log+glove\",\n",
    "    \"4.3(ii)\" : \"svc+glove\"\n",
    "    })"
   ]
  },
  {
   "cell_type": "code",
   "execution_count": 110,
   "metadata": {},
   "outputs": [],
   "source": [
    "df_part4_votes = part4_votes.value_counts().rename_axis('vote').reset_index(name='counts')"
   ]
  },
  {
   "cell_type": "code",
   "execution_count": 112,
   "metadata": {},
   "outputs": [
    {
     "data": {
      "text/plain": [
       "<AxesSubplot:xlabel='vote', ylabel='counts'>"
      ]
     },
     "execution_count": 112,
     "metadata": {},
     "output_type": "execute_result"
    },
    {
     "data": {
      "image/png": "[encoded data removed]",
      "text/plain": [
       "<Figure size 1000x500 with 1 Axes>"
      ]
     },
     "metadata": {},
     "output_type": "display_data"
    }
   ],
   "source": [
    "# Overall votes\n",
    "sns.barplot(data = df_part4_votes, x = \"vote\", y = \"counts\")"
   ]
  },
  {
   "cell_type": "code",
   "execution_count": 60,
   "metadata": {},
   "outputs": [
    {
     "data": {
      "image/png": "[encoded data removed]",
      "text/plain": [
       "<Figure size 800x600 with 3 Axes>"
      ]
     },
     "metadata": {},
     "output_type": "display_data"
    }
   ],
   "source": [
    "# Per question\n",
    "fig, ax = plt.subplots(1, 3)\n",
    "sns.set(rc={'figure.figsize':(10,5)})\n",
    "\n",
    "sns.countplot(x = 'Which explanation did you find easier to interpret?', data = df_results, ax = ax[0])\n",
    "sns.countplot(x = 'Which explanation did you find easier to interpret?.1', data = df_results, ax = ax[1])\n",
    "sns.countplot(x = 'Which explanation did you find easier to interpret?.2', data = df_results, ax = ax[2])\n",
    "plt.show()"
   ]
  },
  {
   "attachments": {},
   "cell_type": "markdown",
   "metadata": {},
   "source": [
    "### Part 5: Comparing between svc + tfidf vs svc + glove\n",
    "\n",
    "#### Total no. of votes across the questions\n",
    "\n",
    "1st model: 9 + 5 + 4 = 29\n",
    "\n",
    "2nd model: 5 + 10 + 10 = 30\n",
    "\n",
    "No difference: 6 + 5 + 4 = 25"
   ]
  },
  {
   "cell_type": "code",
   "execution_count": 123,
   "metadata": {},
   "outputs": [],
   "source": [
    "ls = []\n",
    "for col in df_results.columns[43:46]:\n",
    "    ls.append(df_results[col])"
   ]
  },
  {
   "cell_type": "code",
   "execution_count": 124,
   "metadata": {},
   "outputs": [
    {
     "data": {
      "text/plain": [
       "array(['5.1(ii)', '5.1(i)', 'No difference', '5.2(ii)', '5.2(i)',\n",
       "       '5.3(ii)', '5.3(i)'], dtype=object)"
      ]
     },
     "execution_count": 124,
     "metadata": {},
     "output_type": "execute_result"
    }
   ],
   "source": [
    "part5_votes = pd.concat(ls)\n",
    "part5_votes.unique()"
   ]
  },
  {
   "cell_type": "code",
   "execution_count": 125,
   "metadata": {},
   "outputs": [],
   "source": [
    "part5_votes = part5_votes.replace({\n",
    "    \"5.1(i)\" : \"log+glove\",\n",
    "    \"5.1(ii)\" : \"svc+glove\",\n",
    "    \"5.2(i)\" : \"log+glove\",\n",
    "    \"5.2(ii)\" : \"svc+glove\",\n",
    "    \"5.3(i)\" : \"log+glove\",\n",
    "    \"5.3(ii)\" : \"svc+glove\"\n",
    "    })"
   ]
  },
  {
   "cell_type": "code",
   "execution_count": 126,
   "metadata": {},
   "outputs": [],
   "source": [
    "df_part5_votes = part5_votes.value_counts().rename_axis('vote').reset_index(name='counts')"
   ]
  },
  {
   "cell_type": "code",
   "execution_count": 127,
   "metadata": {},
   "outputs": [
    {
     "data": {
      "text/plain": [
       "<AxesSubplot:xlabel='vote', ylabel='counts'>"
      ]
     },
     "execution_count": 127,
     "metadata": {},
     "output_type": "execute_result"
    },
    {
     "data": {
      "image/png": "[encoded data removed]",
      "text/plain": [
       "<Figure size 1000x500 with 1 Axes>"
      ]
     },
     "metadata": {},
     "output_type": "display_data"
    }
   ],
   "source": [
    "# Overall votes\n",
    "sns.barplot(data = df_part5_votes, x = \"vote\", y = \"counts\")"
   ]
  },
  {
   "cell_type": "code",
   "execution_count": 62,
   "metadata": {},
   "outputs": [
    {
     "data": {
      "image/png": "[encoded data removed]",
      "text/plain": [
       "<Figure size 1000x500 with 3 Axes>"
      ]
     },
     "metadata": {},
     "output_type": "display_data"
    }
   ],
   "source": [
    "fig, ax = plt.subplots(1, 3)\n",
    "sns.set(rc={'figure.figsize':(10,5)})\n",
    "\n",
    "sns.countplot(x = 'Which explanation did you find easier to interpret?.3', data = df_results, ax = ax[0])\n",
    "sns.countplot(x = 'Which explanation did you find easier to interpret?.4', data = df_results, ax = ax[1])\n",
    "sns.countplot(x = 'Which explanation did you find easier to interpret?.5', data = df_results, ax = ax[2])\n",
    "plt.show()"
   ]
  },
  {
   "attachments": {},
   "cell_type": "markdown",
   "metadata": {},
   "source": [
    "### Part 3: Looking at whether the metrics of understanding increased over the questions "
   ]
  },
  {
   "cell_type": "code",
   "execution_count": 64,
   "metadata": {},
   "outputs": [
    {
     "name": "stdout",
     "output_type": "stream",
     "text": [
      "Index(['Do you understand why the model made the prediction?',\n",
      "       'Why do you think the model made this prediction? ',\n",
      "       'Did you find the visualisation easy to interpret?',\n",
      "       'Do you understand why the model made the prediction?.1',\n",
      "       'Why do you think the model made this prediction? .1',\n",
      "       'Did you find the visualisation easy to interpret?.1',\n",
      "       'Based on your current understanding, do you think that the sentence below would be predicted to be \"Identifier_Cookie_or_Similar_Tech_1stParty\"?\\n\\n\"We also use tracking technologies to keep records, store your preferences, improve our advertising, and collect Non-Identifying Information, including Device Data and information about your interaction with the Site and our Business Partners' web sites.\"',\n",
      "       'Do you understand why the model made the prediction?.2',\n",
      "       'Why do you think the model made this prediction?',\n",
      "       'Did you find the visualisation easy to interpret?.2',\n",
      "       'Based on your current understanding, do you think the sentence below would be predicted to be in \"Identifier_Cookie_or_Similar_Tech_1stParty?\"\\n\\n\"As explained above, you may either volunteer to us certain information (such as your phone number), or we may automatically collect certain information, such as through the use of your mobile device system's permissions, or through the use of cookies or similar tracking technologies.\"',\n",
      "       'Do you understand why the model made the prediction?.3',\n",
      "       'Why do you think the model made this prediction?.1',\n",
      "       'Did you find the visualisation easy to interpret?.3',\n",
      "       'Based on your current understanding, do you think the sentence below would be predicted to be in \"Identifier_Cookie_or_Similar_Tech_1stParty?\"\\n\\n\"These cookies and other such tracking technologies allow the collection of data, such as your device's model, operating system and screen size, the other applications installed on your device, and information about how you use our services.\"'],\n",
      "      dtype='object')\n"
     ]
    }
   ],
   "source": [
    "# Part 3: Assessing understandability of log + tfidf\n",
    "print(df_results.columns[25:40])"
   ]
  },
  {
   "cell_type": "code",
   "execution_count": 65,
   "metadata": {},
   "outputs": [
    {
     "data": {
      "image/png": "[encoded data removed]",
      "text/plain": [
       "<Figure size 1000x500 with 8 Axes>"
      ]
     },
     "metadata": {},
     "output_type": "display_data"
    }
   ],
   "source": [
    "fig, ax = plt.subplots(2, 4)\n",
    "sns.set(rc={'figure.figsize':(18,10)})\n",
    "\n",
    "sns.boxplot(x = \"Do you understand why the model made the prediction?\", data = df_results, ax = ax[0, 0])\n",
    "sns.boxplot(x = \"Do you understand why the model made the prediction?.1\", data = df_results, ax = ax[0, 1])\n",
    "sns.boxplot(x = \"Do you understand why the model made the prediction?.2\", data = df_results, ax = ax[0, 2])\n",
    "sns.boxplot(x = \"Do you understand why the model made the prediction?.3\", data = df_results, ax = ax[0, 3])\n",
    "\n",
    "sns.boxplot(x = \"Did you find the visualisation easy to interpret?\", data = df_results, ax = ax[1, 0])\n",
    "sns.boxplot(x = \"Did you find the visualisation easy to interpret?.1\", data = df_results, ax = ax[1, 1])\n",
    "sns.boxplot(x = \"Did you find the visualisation easy to interpret?.2\", data = df_results, ax = ax[1, 2])\n",
    "sns.boxplot(x = \"Did you find the visualisation easy to interpret?.3\", data = df_results, ax = ax[1, 3])\n",
    "plt.show()"
   ]
  },
  {
   "cell_type": "code",
   "execution_count": 66,
   "metadata": {},
   "outputs": [],
   "source": [
    "# Take the average of each question and compare since distributions aren't very meaningful\n",
    "part3_understand = []\n",
    "part3_interpret = []\n",
    "\n",
    "part3_understand.append(df_results[\"Do you understand why the model made the prediction?\"].mean())\n",
    "part3_understand.append(df_results[\"Do you understand why the model made the prediction?.1\"].mean())\n",
    "part3_understand.append(df_results[\"Do you understand why the model made the prediction?.2\"].mean())\n",
    "part3_understand.append(df_results[\"Do you understand why the model made the prediction?.3\"].mean())\n",
    "\n",
    "part3_interpret.append(df_results[\"Did you find the visualisation easy to interpret?\"].mean())\n",
    "part3_interpret.append(df_results[\"Did you find the visualisation easy to interpret?.1\"].mean())\n",
    "part3_interpret.append(df_results[\"Did you find the visualisation easy to interpret?.2\"].mean())\n",
    "part3_interpret.append(df_results[\"Did you find the visualisation easy to interpret?.3\"].mean())"
   ]
  },
  {
   "cell_type": "code",
   "execution_count": 67,
   "metadata": {},
   "outputs": [
    {
     "data": {
      "text/html": [
       "<div>\n",
       "<style scoped>\n",
       "    .dataframe tbody tr th:only-of-type {\n",
       "        vertical-align: middle;\n",
       "    }\n",
       "\n",
       "    .dataframe tbody tr th {\n",
       "        vertical-align: top;\n",
       "    }\n",
       "\n",
       "    .dataframe thead th {\n",
       "        text-align: right;\n",
       "    }\n",
       "</style>\n",
       "<table border=\"1\" class=\"dataframe\">\n",
       "  <thead>\n",
       "    <tr style=\"text-align: right;\">\n",
       "      <th></th>\n",
       "      <th>question_no</th>\n",
       "      <th>understand</th>\n",
       "      <th>interpret</th>\n",
       "    </tr>\n",
       "  </thead>\n",
       "  <tbody>\n",
       "    <tr>\n",
       "      <th>0</th>\n",
       "      <td>1</td>\n",
       "      <td>3.322581</td>\n",
       "      <td>3.032258</td>\n",
       "    </tr>\n",
       "    <tr>\n",
       "      <th>1</th>\n",
       "      <td>2</td>\n",
       "      <td>2.967742</td>\n",
       "      <td>2.870968</td>\n",
       "    </tr>\n",
       "    <tr>\n",
       "      <th>2</th>\n",
       "      <td>3</td>\n",
       "      <td>2.548387</td>\n",
       "      <td>2.612903</td>\n",
       "    </tr>\n",
       "    <tr>\n",
       "      <th>3</th>\n",
       "      <td>4</td>\n",
       "      <td>2.483871</td>\n",
       "      <td>2.806452</td>\n",
       "    </tr>\n",
       "  </tbody>\n",
       "</table>\n",
       "</div>"
      ],
      "text/plain": [
       "   question_no  understand  interpret\n",
       "0            1    3.322581   3.032258\n",
       "1            2    2.967742   2.870968\n",
       "2            3    2.548387   2.612903\n",
       "3            4    2.483871   2.806452"
      ]
     },
     "execution_count": 67,
     "metadata": {},
     "output_type": "execute_result"
    }
   ],
   "source": [
    "df_part3 = pd.DataFrame(\n",
    "    data = {\n",
    "        \"question_no\" : [n for n in range(1, 5)],\n",
    "        \"understand\" : part3_understand,\n",
    "        \"interpret\" : part3_interpret\n",
    "    }\n",
    ")\n",
    "\n",
    "df_part3.head()"
   ]
  },
  {
   "cell_type": "code",
   "execution_count": 68,
   "metadata": {},
   "outputs": [
    {
     "data": {
      "text/html": [
       "<div>\n",
       "<style scoped>\n",
       "    .dataframe tbody tr th:only-of-type {\n",
       "        vertical-align: middle;\n",
       "    }\n",
       "\n",
       "    .dataframe tbody tr th {\n",
       "        vertical-align: top;\n",
       "    }\n",
       "\n",
       "    .dataframe thead th {\n",
       "        text-align: right;\n",
       "    }\n",
       "</style>\n",
       "<table border=\"1\" class=\"dataframe\">\n",
       "  <thead>\n",
       "    <tr style=\"text-align: right;\">\n",
       "      <th></th>\n",
       "      <th>question_no</th>\n",
       "      <th>metric</th>\n",
       "      <th>score</th>\n",
       "    </tr>\n",
       "  </thead>\n",
       "  <tbody>\n",
       "    <tr>\n",
       "      <th>0</th>\n",
       "      <td>1</td>\n",
       "      <td>understand</td>\n",
       "      <td>3.322581</td>\n",
       "    </tr>\n",
       "    <tr>\n",
       "      <th>1</th>\n",
       "      <td>2</td>\n",
       "      <td>understand</td>\n",
       "      <td>2.967742</td>\n",
       "    </tr>\n",
       "    <tr>\n",
       "      <th>2</th>\n",
       "      <td>3</td>\n",
       "      <td>understand</td>\n",
       "      <td>2.548387</td>\n",
       "    </tr>\n",
       "    <tr>\n",
       "      <th>3</th>\n",
       "      <td>4</td>\n",
       "      <td>understand</td>\n",
       "      <td>2.483871</td>\n",
       "    </tr>\n",
       "    <tr>\n",
       "      <th>4</th>\n",
       "      <td>1</td>\n",
       "      <td>interpret</td>\n",
       "      <td>3.032258</td>\n",
       "    </tr>\n",
       "  </tbody>\n",
       "</table>\n",
       "</div>"
      ],
      "text/plain": [
       "   question_no      metric     score\n",
       "0            1  understand  3.322581\n",
       "1            2  understand  2.967742\n",
       "2            3  understand  2.548387\n",
       "3            4  understand  2.483871\n",
       "4            1   interpret  3.032258"
      ]
     },
     "execution_count": 68,
     "metadata": {},
     "output_type": "execute_result"
    }
   ],
   "source": [
    "df_part3 = pd.melt(df_part3, id_vars = [\"question_no\"], value_vars = [\"understand\", \"interpret\"], value_name=\"score\", var_name = \"metric\")\n",
    "\n",
    "df_part3.head()"
   ]
  },
  {
   "cell_type": "code",
   "execution_count": 69,
   "metadata": {},
   "outputs": [
    {
     "data": {
      "text/plain": [
       "<AxesSubplot:xlabel='question_no', ylabel='score'>"
      ]
     },
     "execution_count": 69,
     "metadata": {},
     "output_type": "execute_result"
    },
    {
     "data": {
      "image/png": "[encoded data removed]",
      "text/plain": [
       "<Figure size 1000x500 with 1 Axes>"
      ]
     },
     "metadata": {},
     "output_type": "display_data"
    }
   ],
   "source": [
    "sns.set(rc={'figure.figsize':(10,5)})\n",
    "sns.scatterplot(x = \"question_no\", y = \"score\", data = df_part3, hue = \"metric\")"
   ]
  },
  {
   "cell_type": "markdown",
   "metadata": {},
   "source": [
    "#### Looking at whether counterfactuals were correctly predicted"
   ]
  },
  {
   "cell_type": "code",
   "execution_count": 70,
   "metadata": {},
   "outputs": [],
   "source": [
    "df_counterfactuals = df_results.iloc[:, [31, 35, 39]]"
   ]
  },
  {
   "cell_type": "code",
   "execution_count": 71,
   "metadata": {},
   "outputs": [
    {
     "data": {
      "text/plain": [
       "<AxesSubplot:xlabel='Based on your current understanding, do you think that the sentence below would be predicted to be \"Identifier_Cookie_or_Similar_Tech_1stParty\"?\\n\\n\"We also use tracking technologies to keep records, store your preferences, improve our advertising, and collect Non-Identifying Information, including Device Data and information about your interaction with the Site and our Business Partners\\' web sites.\"', ylabel='count'>"
      ]
     },
     "execution_count": 71,
     "metadata": {},
     "output_type": "execute_result"
    },
    {
     "data": {
      "image/png": "[encoded data removed]",
      "text/plain": [
       "<Figure size 1000x500 with 1 Axes>"
      ]
     },
     "metadata": {},
     "output_type": "display_data"
    }
   ],
   "source": [
    "sns.set(rc={'figure.figsize':(10,5)})\n",
    "sns.countplot(x = df_counterfactuals.iloc[: ,0])"
   ]
  },
  {
   "cell_type": "code",
   "execution_count": 72,
   "metadata": {},
   "outputs": [
    {
     "data": {
      "text/plain": [
       "<AxesSubplot:xlabel='Based on your current understanding, do you think the sentence below would be predicted to be in \"Identifier_Cookie_or_Similar_Tech_1stParty?\"\\n\\n\"As explained above, you may either volunteer to us certain information (such as your phone number), or we may automatically collect certain information, such as through the use of your mobile device system\\'s permissions, or through the use of cookies or similar tracking technologies.\"', ylabel='count'>"
      ]
     },
     "execution_count": 72,
     "metadata": {},
     "output_type": "execute_result"
    },
    {
     "data": {
      "image/png": "[encoded data removed]",
      "text/plain": [
       "<Figure size 1000x500 with 1 Axes>"
      ]
     },
     "metadata": {},
     "output_type": "display_data"
    }
   ],
   "source": [
    "sns.countplot(x = df_counterfactuals.iloc[: ,1])"
   ]
  },
  {
   "cell_type": "code",
   "execution_count": 73,
   "metadata": {},
   "outputs": [
    {
     "data": {
      "text/plain": [
       "<AxesSubplot:xlabel='Based on your current understanding, do you think the sentence below would be predicted to be in \"Identifier_Cookie_or_Similar_Tech_1stParty?\"\\n\\n\"These cookies and other such tracking technologies allow the collection of data, such as your device\\'s model, operating system and screen size, the other applications installed on your device, and information about how you use our services.\"', ylabel='count'>"
      ]
     },
     "execution_count": 73,
     "metadata": {},
     "output_type": "execute_result"
    },
    {
     "data": {
      "image/png": "[encoded data removed]",
      "text/plain": [
       "<Figure size 1000x500 with 1 Axes>"
      ]
     },
     "metadata": {},
     "output_type": "display_data"
    }
   ],
   "source": [
    "sns.countplot(x = df_counterfactuals.iloc[: ,2])"
   ]
  }
 ],
 "metadata": {
  "kernelspec": {
   "display_name": "capstone",
   "language": "python",
   "name": "python3"
  },
  "language_info": {
   "codemirror_mode": {
    "name": "ipython",
    "version": 3
   },
   "file_extension": ".py",
   "mimetype": "text/x-python",
   "name": "python",
   "nbconvert_exporter": "python",
   "pygments_lexer": "ipython3",
   "version": "3.7.5"
  },
  "orig_nbformat": 4,
  "vscode": {
   "interpreter": {
    "hash": "074bdd6634e7f1aa4b2736abb42d11700918ff161bbb44ab231e1fb03af01ff7"
   }
  }
 },
 "nbformat": 4,
 "nbformat_minor": 2
}
