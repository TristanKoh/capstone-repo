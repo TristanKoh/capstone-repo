{
 "cells": [
  {
   "cell_type": "code",
   "execution_count": 2,
   "metadata": {},
   "outputs": [],
   "source": [
    "FILE_PATH = r\"..\\dataset\\survey_results.csv\""
   ]
  },
  {
   "cell_type": "code",
   "execution_count": 3,
   "metadata": {},
   "outputs": [],
   "source": [
    "import pandas as pd\n",
    "import seaborn as sns\n",
    "import numpy as np\n",
    "import plotly.express as px\n",
    "import plotly.graph_objects as go\n",
    "\n",
    "from scipy.stats import wilcoxon\n",
    "\n",
    "import matplotlib.pyplot as plt\n",
    "import matplotlib.ticker as ticker\n",
    "\n",
    "fig_export_path = r\"..\\papers\\report\\ync-latex-capstone-master\\figures\""
   ]
  },
  {
   "cell_type": "code",
   "execution_count": 4,
   "metadata": {},
   "outputs": [
    {
     "data": {
      "text/html": [
       "<div>\n",
       "<style scoped>\n",
       "    .dataframe tbody tr th:only-of-type {\n",
       "        vertical-align: middle;\n",
       "    }\n",
       "\n",
       "    .dataframe tbody tr th {\n",
       "        vertical-align: top;\n",
       "    }\n",
       "\n",
       "    .dataframe thead th {\n",
       "        text-align: right;\n",
       "    }\n",
       "</style>\n",
       "<table border=\"1\" class=\"dataframe\">\n",
       "  <thead>\n",
       "    <tr style=\"text-align: right;\">\n",
       "      <th></th>\n",
       "      <th>Timestamp</th>\n",
       "      <th>If you are a NUS / Yale-NUS student, are you 18 years old and above? \\n\\nOR \\n\\nIf you are not a NUS student, are you above 21+ years old?</th>\n",
       "      <th>I have read about the purpose of this research study, agree to participate, and understand that I can withdraw at any time.</th>\n",
       "      <th>What is your major / prospective major?</th>\n",
       "      <th>What is your age?</th>\n",
       "      <th>Do you have any experience with AI / data science / programming?</th>\n",
       "      <th>Do you have any experience with regarding data privacy / law?</th>\n",
       "      <th>Are you concerned about your data privacy?</th>\n",
       "      <th>How would you rate your capability in protecting your online data?</th>\n",
       "      <th>Do you think decisions that are made by AI can be useful to society?</th>\n",
       "      <th>...</th>\n",
       "      <th>Think that using the model is a method that could be a risk to society?.3</th>\n",
       "      <th>Trust the prediction made by the model?.3</th>\n",
       "      <th>Think that using the model is an effective method of identifying violations of the PDPA?.4</th>\n",
       "      <th>Think that using the model is a fair method of identifying violations of the PDPA?.4</th>\n",
       "      <th>Think that using the model is a method that could be a risk to society?.4</th>\n",
       "      <th>Trust the prediction made by the model?.4</th>\n",
       "      <th>Think that using the model is an effective method of identifying violations of the PDPA?.5</th>\n",
       "      <th>Think that using the model is a fair method of identifying violations of the PDPA?.5</th>\n",
       "      <th>Think that using the model is a method that could be a risk to society?.5</th>\n",
       "      <th>Trust the prediction made by the model?.5</th>\n",
       "    </tr>\n",
       "  </thead>\n",
       "  <tbody>\n",
       "    <tr>\n",
       "      <th>0</th>\n",
       "      <td>2023/01/30 4:34:41 PM GMT+8</td>\n",
       "      <td>Yes</td>\n",
       "      <td>Yes</td>\n",
       "      <td>Environmental Studies</td>\n",
       "      <td>NaN</td>\n",
       "      <td>3</td>\n",
       "      <td>1</td>\n",
       "      <td>2</td>\n",
       "      <td>2</td>\n",
       "      <td>4</td>\n",
       "      <td>...</td>\n",
       "      <td>2</td>\n",
       "      <td>2</td>\n",
       "      <td>2</td>\n",
       "      <td>2</td>\n",
       "      <td>2</td>\n",
       "      <td>2</td>\n",
       "      <td>2</td>\n",
       "      <td>2</td>\n",
       "      <td>3</td>\n",
       "      <td>2</td>\n",
       "    </tr>\n",
       "    <tr>\n",
       "      <th>1</th>\n",
       "      <td>2023/01/30 5:02:57 PM GMT+8</td>\n",
       "      <td>Yes</td>\n",
       "      <td>Yes</td>\n",
       "      <td>Global Affairs / Political Science</td>\n",
       "      <td>NaN</td>\n",
       "      <td>2</td>\n",
       "      <td>3</td>\n",
       "      <td>2</td>\n",
       "      <td>1</td>\n",
       "      <td>5</td>\n",
       "      <td>...</td>\n",
       "      <td>2</td>\n",
       "      <td>1</td>\n",
       "      <td>2</td>\n",
       "      <td>2</td>\n",
       "      <td>2</td>\n",
       "      <td>1</td>\n",
       "      <td>4</td>\n",
       "      <td>3</td>\n",
       "      <td>2</td>\n",
       "      <td>4</td>\n",
       "    </tr>\n",
       "    <tr>\n",
       "      <th>2</th>\n",
       "      <td>2023/01/30 5:14:27 PM GMT+8</td>\n",
       "      <td>Yes</td>\n",
       "      <td>Yes</td>\n",
       "      <td>Economics</td>\n",
       "      <td>NaN</td>\n",
       "      <td>3</td>\n",
       "      <td>3</td>\n",
       "      <td>4</td>\n",
       "      <td>2</td>\n",
       "      <td>5</td>\n",
       "      <td>...</td>\n",
       "      <td>2</td>\n",
       "      <td>3</td>\n",
       "      <td>1</td>\n",
       "      <td>1</td>\n",
       "      <td>1</td>\n",
       "      <td>1</td>\n",
       "      <td>1</td>\n",
       "      <td>1</td>\n",
       "      <td>1</td>\n",
       "      <td>1</td>\n",
       "    </tr>\n",
       "    <tr>\n",
       "      <th>3</th>\n",
       "      <td>2023/01/30 6:05:25 PM GMT+8</td>\n",
       "      <td>Yes</td>\n",
       "      <td>Yes</td>\n",
       "      <td>Law</td>\n",
       "      <td>NaN</td>\n",
       "      <td>1</td>\n",
       "      <td>4</td>\n",
       "      <td>4</td>\n",
       "      <td>4</td>\n",
       "      <td>3</td>\n",
       "      <td>...</td>\n",
       "      <td>2</td>\n",
       "      <td>3</td>\n",
       "      <td>2</td>\n",
       "      <td>2</td>\n",
       "      <td>1</td>\n",
       "      <td>2</td>\n",
       "      <td>3</td>\n",
       "      <td>2</td>\n",
       "      <td>2</td>\n",
       "      <td>4</td>\n",
       "    </tr>\n",
       "    <tr>\n",
       "      <th>4</th>\n",
       "      <td>2023/01/30 6:06:22 PM GMT+8</td>\n",
       "      <td>Yes</td>\n",
       "      <td>Yes</td>\n",
       "      <td>Law</td>\n",
       "      <td>NaN</td>\n",
       "      <td>1</td>\n",
       "      <td>1</td>\n",
       "      <td>3</td>\n",
       "      <td>3</td>\n",
       "      <td>5</td>\n",
       "      <td>...</td>\n",
       "      <td>3</td>\n",
       "      <td>3</td>\n",
       "      <td>1</td>\n",
       "      <td>1</td>\n",
       "      <td>2</td>\n",
       "      <td>3</td>\n",
       "      <td>2</td>\n",
       "      <td>2</td>\n",
       "      <td>3</td>\n",
       "      <td>3</td>\n",
       "    </tr>\n",
       "  </tbody>\n",
       "</table>\n",
       "<p>5 rows × 58 columns</p>\n",
       "</div>"
      ],
      "text/plain": [
       "                     Timestamp  \\\n",
       "0  2023/01/30 4:34:41 PM GMT+8   \n",
       "1  2023/01/30 5:02:57 PM GMT+8   \n",
       "2  2023/01/30 5:14:27 PM GMT+8   \n",
       "3  2023/01/30 6:05:25 PM GMT+8   \n",
       "4  2023/01/30 6:06:22 PM GMT+8   \n",
       "\n",
       "  If you are a NUS / Yale-NUS student, are you 18 years old and above? \\n\\nOR \\n\\nIf you are not a NUS student, are you above 21+ years old?  \\\n",
       "0                                                Yes                                                                                           \n",
       "1                                                Yes                                                                                           \n",
       "2                                                Yes                                                                                           \n",
       "3                                                Yes                                                                                           \n",
       "4                                                Yes                                                                                           \n",
       "\n",
       "  I have read about the purpose of this research study, agree to participate, and understand that I can withdraw at any time.   \\\n",
       "0                                                Yes                                                                             \n",
       "1                                                Yes                                                                             \n",
       "2                                                Yes                                                                             \n",
       "3                                                Yes                                                                             \n",
       "4                                                Yes                                                                             \n",
       "\n",
       "  What is your major / prospective major? What is your age?  \\\n",
       "0                   Environmental Studies               NaN   \n",
       "1      Global Affairs / Political Science               NaN   \n",
       "2                               Economics               NaN   \n",
       "3                                     Law               NaN   \n",
       "4                                     Law               NaN   \n",
       "\n",
       "   Do you have any experience with AI / data science / programming?  \\\n",
       "0                                                  3                  \n",
       "1                                                  2                  \n",
       "2                                                  3                  \n",
       "3                                                  1                  \n",
       "4                                                  1                  \n",
       "\n",
       "   Do you have any experience with regarding data privacy / law?  \\\n",
       "0                                                  1               \n",
       "1                                                  3               \n",
       "2                                                  3               \n",
       "3                                                  4               \n",
       "4                                                  1               \n",
       "\n",
       "   Are you concerned about your data privacy?  \\\n",
       "0                                           2   \n",
       "1                                           2   \n",
       "2                                           4   \n",
       "3                                           4   \n",
       "4                                           3   \n",
       "\n",
       "   How would you rate your capability in protecting your online data?  \\\n",
       "0                                                  2                    \n",
       "1                                                  1                    \n",
       "2                                                  2                    \n",
       "3                                                  4                    \n",
       "4                                                  3                    \n",
       "\n",
       "   Do you think decisions that are made by AI can be useful to society?  ...  \\\n",
       "0                                                  4                     ...   \n",
       "1                                                  5                     ...   \n",
       "2                                                  5                     ...   \n",
       "3                                                  3                     ...   \n",
       "4                                                  5                     ...   \n",
       "\n",
       "   Think that using the model is a method that could be a risk to society?.3  \\\n",
       "0                                                  2                           \n",
       "1                                                  2                           \n",
       "2                                                  2                           \n",
       "3                                                  2                           \n",
       "4                                                  3                           \n",
       "\n",
       "   Trust the prediction made by the model?.3  \\\n",
       "0                                          2   \n",
       "1                                          1   \n",
       "2                                          3   \n",
       "3                                          3   \n",
       "4                                          3   \n",
       "\n",
       "  Think that using the model is an effective method of identifying violations of the PDPA?.4  \\\n",
       "0                                                  2                                           \n",
       "1                                                  2                                           \n",
       "2                                                  1                                           \n",
       "3                                                  2                                           \n",
       "4                                                  1                                           \n",
       "\n",
       "   Think that using the model is a fair method of identifying violations of the PDPA?.4  \\\n",
       "0                                                  2                                      \n",
       "1                                                  2                                      \n",
       "2                                                  1                                      \n",
       "3                                                  2                                      \n",
       "4                                                  1                                      \n",
       "\n",
       "   Think that using the model is a method that could be a risk to society?.4  \\\n",
       "0                                                  2                           \n",
       "1                                                  2                           \n",
       "2                                                  1                           \n",
       "3                                                  1                           \n",
       "4                                                  2                           \n",
       "\n",
       "   Trust the prediction made by the model?.4  \\\n",
       "0                                          2   \n",
       "1                                          1   \n",
       "2                                          1   \n",
       "3                                          2   \n",
       "4                                          3   \n",
       "\n",
       "   Think that using the model is an effective method of identifying violations of the PDPA?.5  \\\n",
       "0                                                  2                                            \n",
       "1                                                  4                                            \n",
       "2                                                  1                                            \n",
       "3                                                  3                                            \n",
       "4                                                  2                                            \n",
       "\n",
       "   Think that using the model is a fair method of identifying violations of the PDPA?.5  \\\n",
       "0                                                  2                                      \n",
       "1                                                  3                                      \n",
       "2                                                  1                                      \n",
       "3                                                  2                                      \n",
       "4                                                  2                                      \n",
       "\n",
       "   Think that using the model is a method that could be a risk to society?.5  \\\n",
       "0                                                  3                           \n",
       "1                                                  2                           \n",
       "2                                                  1                           \n",
       "3                                                  2                           \n",
       "4                                                  3                           \n",
       "\n",
       "   Trust the prediction made by the model?.5  \n",
       "0                                          2  \n",
       "1                                          4  \n",
       "2                                          1  \n",
       "3                                          4  \n",
       "4                                          3  \n",
       "\n",
       "[5 rows x 58 columns]"
      ]
     },
     "execution_count": 4,
     "metadata": {},
     "output_type": "execute_result"
    }
   ],
   "source": [
    "df_results = pd.read_csv(FILE_PATH)\n",
    "df_results.head()"
   ]
  },
  {
   "cell_type": "code",
   "execution_count": 5,
   "metadata": {},
   "outputs": [],
   "source": [
    "# Create unique IDs for each respondent\n",
    "df_results[\"id\"] = [n for n in range(len(df_results))]\n",
    "\n",
    "# Create category for law or non-law\n",
    "df_results[\"Law_nonlaw\"] = df_results[\"What is your major / prospective major?\"].apply(lambda s: \"non-law\" if s != \"Law\" else \"law\")"
   ]
  },
  {
   "cell_type": "code",
   "execution_count": 5,
   "metadata": {},
   "outputs": [
    {
     "data": {
      "text/plain": [
       "array([nan, '18 - 25', '26 - 35'], dtype=object)"
      ]
     },
     "execution_count": 5,
     "metadata": {},
     "output_type": "execute_result"
    }
   ],
   "source": [
    "df_results[\"What is your age?\"].unique()"
   ]
  },
  {
   "cell_type": "code",
   "execution_count": 6,
   "metadata": {},
   "outputs": [],
   "source": [
    "# Replace NAs for ages\n",
    "df_results[\"What is your age?\"] = df_results[\"What is your age?\"].fillna('18 - 25')"
   ]
  },
  {
   "attachments": {},
   "cell_type": "markdown",
   "metadata": {},
   "source": [
    "#### Segment the columns according to the parts in the survey\n",
    "\n",
    "Choosing the col indexes of the dataframe corresponding to the parts of the survey"
   ]
  },
  {
   "cell_type": "markdown",
   "metadata": {},
   "source": [
    "### Demographic data"
   ]
  },
  {
   "cell_type": "code",
   "execution_count": 7,
   "metadata": {},
   "outputs": [
    {
     "name": "stdout",
     "output_type": "stream",
     "text": [
      "Index(['What is your major / prospective major?', 'What is your age?',\n",
      "       'Do you have any experience with AI / data science / programming?',\n",
      "       'Do you have any experience with regarding data privacy / law?',\n",
      "       'Are you concerned about your data privacy?',\n",
      "       'How would you rate your capability in protecting your online data?',\n",
      "       'Do you think decisions that are made by AI can be useful to society?',\n",
      "       'Do you think decisions made by AI are fair?',\n",
      "       'Do you think decisions made by AI can be a risk to society?'],\n",
      "      dtype='object')\n"
     ]
    }
   ],
   "source": [
    "print(df_results.columns[3:12])"
   ]
  },
  {
   "cell_type": "markdown",
   "metadata": {},
   "source": [
    "### Part 2: three contexts initial survey"
   ]
  },
  {
   "cell_type": "code",
   "execution_count": 8,
   "metadata": {},
   "outputs": [
    {
     "name": "stdout",
     "output_type": "stream",
     "text": [
      "Index(['Think that using the model is an effective method of identifying violations of the PDPA?',\n",
      "       'Think that using the model is a fair method of identifying violations of the PDPA?',\n",
      "       'Think that using the model is a method that could be a risk to society?',\n",
      "       'Trust the prediction made by the model?',\n",
      "       'Think that using the model is an effective method of identifying violations of the PDPA?.1',\n",
      "       'Think that using the model is a fair method of identifying violations of the PDPA?.1',\n",
      "       'Think that using the model is a method that could be a risk to society?.1',\n",
      "       'Trust the prediction made by the model?.1',\n",
      "       'Think that using the model is an effective method of identifying violations of the PDPA?.2',\n",
      "       'Think that using the model is a fair method of identifying violations of the PDPA?.2',\n",
      "       'Think that using the model is a method that could be a risk to society?.2',\n",
      "       'Trust the prediction made by the model?.2'],\n",
      "      dtype='object')\n"
     ]
    }
   ],
   "source": [
    "print(df_results.columns[13:25])"
   ]
  },
  {
   "cell_type": "markdown",
   "metadata": {},
   "source": [
    "### Part 3: Assessing understandability of log + tfidf"
   ]
  },
  {
   "cell_type": "code",
   "execution_count": 10,
   "metadata": {},
   "outputs": [
    {
     "name": "stdout",
     "output_type": "stream",
     "text": [
      "0     5\n",
      "1     4\n",
      "2     3\n",
      "3     5\n",
      "4     4\n",
      "5     1\n",
      "6     1\n",
      "7     3\n",
      "8     3\n",
      "9     3\n",
      "10    4\n",
      "11    2\n",
      "12    1\n",
      "13    2\n",
      "14    4\n",
      "15    4\n",
      "16    3\n",
      "17    4\n",
      "18    1\n",
      "19    5\n",
      "20    1\n",
      "21    4\n",
      "22    5\n",
      "23    2\n",
      "24    3\n",
      "25    5\n",
      "26    4\n",
      "27    5\n",
      "28    4\n",
      "29    3\n",
      "30    5\n",
      "Name: Do you understand why the model made the prediction?, dtype: int64\n",
      "0     4\n",
      "1     5\n",
      "2     3\n",
      "3     4\n",
      "4     4\n",
      "5     1\n",
      "6     3\n",
      "7     4\n",
      "8     2\n",
      "9     4\n",
      "10    4\n",
      "11    2\n",
      "12    1\n",
      "13    3\n",
      "14    4\n",
      "15    2\n",
      "16    3\n",
      "17    4\n",
      "18    1\n",
      "19    3\n",
      "20    2\n",
      "21    3\n",
      "22    4\n",
      "23    1\n",
      "24    2\n",
      "25    4\n",
      "26    4\n",
      "27    4\n",
      "28    3\n",
      "29    2\n",
      "30    4\n",
      "Name: Did you find the visualisation easy to interpret?, dtype: int64\n"
     ]
    }
   ],
   "source": [
    "df_results['Do you understand why the model made the prediction?']\n",
    "df_results['Did you find the visualisation easy to interpret?']"
   ]
  },
  {
   "cell_type": "code",
   "execution_count": 11,
   "metadata": {},
   "outputs": [
    {
     "data": {
      "text/plain": [
       "0     3\n",
       "1     2\n",
       "2     4\n",
       "3     4\n",
       "4     4\n",
       "5     1\n",
       "6     1\n",
       "7     3\n",
       "8     2\n",
       "9     4\n",
       "10    4\n",
       "11    2\n",
       "12    1\n",
       "13    2\n",
       "14    3\n",
       "15    1\n",
       "16    2\n",
       "17    4\n",
       "18    1\n",
       "19    5\n",
       "20    2\n",
       "21    4\n",
       "22    4\n",
       "23    3\n",
       "24    1\n",
       "25    4\n",
       "26    3\n",
       "27    5\n",
       "28    3\n",
       "29    1\n",
       "30    4\n",
       "Name: Did you find the visualisation easy to interpret?.3, dtype: int64"
      ]
     },
     "execution_count": 11,
     "metadata": {},
     "output_type": "execute_result"
    }
   ],
   "source": [
    "df_results['Do you understand why the model made the prediction?.3']\n",
    "df_results['Did you find the visualisation easy to interpret?.3']"
   ]
  },
  {
   "cell_type": "code",
   "execution_count": 9,
   "metadata": {},
   "outputs": [
    {
     "name": "stdout",
     "output_type": "stream",
     "text": [
      "Index(['Do you understand why the model made the prediction?',\n",
      "       'Why do you think the model made this prediction? ',\n",
      "       'Did you find the visualisation easy to interpret?',\n",
      "       'Do you understand why the model made the prediction?.1',\n",
      "       'Why do you think the model made this prediction? .1',\n",
      "       'Did you find the visualisation easy to interpret?.1',\n",
      "       'Based on your current understanding, do you think that the sentence below would be predicted to be \"Identifier_Cookie_or_Similar_Tech_1stParty\"?\\n\\n\"We also use tracking technologies to keep records, store your preferences, improve our advertising, and collect Non-Identifying Information, including Device Data and information about your interaction with the Site and our Business Partners' web sites.\"',\n",
      "       'Do you understand why the model made the prediction?.2',\n",
      "       'Why do you think the model made this prediction?',\n",
      "       'Did you find the visualisation easy to interpret?.2',\n",
      "       'Based on your current understanding, do you think the sentence below would be predicted to be in \"Identifier_Cookie_or_Similar_Tech_1stParty?\"\\n\\n\"As explained above, you may either volunteer to us certain information (such as your phone number), or we may automatically collect certain information, such as through the use of your mobile device system's permissions, or through the use of cookies or similar tracking technologies.\"',\n",
      "       'Do you understand why the model made the prediction?.3',\n",
      "       'Why do you think the model made this prediction?.1',\n",
      "       'Did you find the visualisation easy to interpret?.3',\n",
      "       'Based on your current understanding, do you think the sentence below would be predicted to be in \"Identifier_Cookie_or_Similar_Tech_1stParty?\"\\n\\n\"These cookies and other such tracking technologies allow the collection of data, such as your device's model, operating system and screen size, the other applications installed on your device, and information about how you use our services.\"'],\n",
      "      dtype='object')\n"
     ]
    }
   ],
   "source": [
    "print(df_results.columns[25:40])"
   ]
  },
  {
   "cell_type": "markdown",
   "metadata": {},
   "source": [
    "### Part 4: Comparing between log + glove vs svc + glove"
   ]
  },
  {
   "cell_type": "code",
   "execution_count": 10,
   "metadata": {},
   "outputs": [
    {
     "name": "stdout",
     "output_type": "stream",
     "text": [
      "Index(['Which explanation did you find easier to interpret?',\n",
      "       'Which explanation did you find easier to interpret?.1',\n",
      "       'Which explanation did you find easier to interpret?.2'],\n",
      "      dtype='object')\n"
     ]
    }
   ],
   "source": [
    "print(df_results.columns[40:43])"
   ]
  },
  {
   "cell_type": "markdown",
   "metadata": {},
   "source": [
    "### Part 4: Comparing between svc + tfidf vs svc + glove"
   ]
  },
  {
   "cell_type": "code",
   "execution_count": 11,
   "metadata": {},
   "outputs": [
    {
     "name": "stdout",
     "output_type": "stream",
     "text": [
      "Index(['Which explanation did you find easier to interpret?.3',\n",
      "       'Which explanation did you find easier to interpret?.4',\n",
      "       'Which explanation did you find easier to interpret?.5'],\n",
      "      dtype='object')\n"
     ]
    }
   ],
   "source": [
    "print(df_results.columns[43:46])"
   ]
  },
  {
   "cell_type": "markdown",
   "metadata": {},
   "source": [
    "### Part 5: Re assessing the same 3 contexts"
   ]
  },
  {
   "cell_type": "code",
   "execution_count": 12,
   "metadata": {},
   "outputs": [
    {
     "name": "stdout",
     "output_type": "stream",
     "text": [
      "Index(['Think that using the model is an effective method of identifying violations of the PDPA?.3',\n",
      "       'Think that using the model is a fair method of identifying violations of the PDPA?.3',\n",
      "       'Think that using the model is a method that could be a risk to society?.3',\n",
      "       'Trust the prediction made by the model?.3',\n",
      "       'Think that using the model is an effective method of identifying violations of the PDPA?.4',\n",
      "       'Think that using the model is a fair method of identifying violations of the PDPA?.4',\n",
      "       'Think that using the model is a method that could be a risk to society?.4',\n",
      "       'Trust the prediction made by the model?.4',\n",
      "       'Think that using the model is an effective method of identifying violations of the PDPA?.5',\n",
      "       'Think that using the model is a fair method of identifying violations of the PDPA?.5',\n",
      "       'Think that using the model is a method that could be a risk to society?.5',\n",
      "       'Trust the prediction made by the model?.5', 'id'],\n",
      "      dtype='object')\n"
     ]
    }
   ],
   "source": [
    "print(df_results.columns[46: -1])"
   ]
  },
  {
   "attachments": {},
   "cell_type": "markdown",
   "metadata": {},
   "source": [
    "#### Visualisation of demographics"
   ]
  },
  {
   "cell_type": "code",
   "execution_count": 13,
   "metadata": {},
   "outputs": [],
   "source": [
    "sns.set_theme(style = \"whitegrid\")\n",
    "\n",
    "# def make_autopct(values):\n",
    "#     def my_autopct(pct):\n",
    "#         total = sum(values)\n",
    "#         val = int(round(pct*total/100.0))\n",
    "#         return '{p:.2f}%  ({v:d})'.format(p=pct,v=val)\n",
    "#     return my_autopct"
   ]
  },
  {
   "cell_type": "code",
   "execution_count": 14,
   "metadata": {},
   "outputs": [
    {
     "data": {
      "text/plain": [
       "Law                                                   0.580645\n",
       "MCS / Computer Science / Data Science / Statistics    0.096774\n",
       "Psychology                                            0.096774\n",
       "Global Affairs / Political Science                    0.064516\n",
       "Environmental Studies                                 0.032258\n",
       "Economics                                             0.032258\n",
       "Life Sciences                                         0.032258\n",
       "Philosophy                                            0.032258\n",
       "Policy                                                0.032258\n",
       "Name: What is your major / prospective major?, dtype: float64"
      ]
     },
     "execution_count": 14,
     "metadata": {},
     "output_type": "execute_result"
    }
   ],
   "source": [
    "df_results[\"What is your major / prospective major?\"].value_counts(normalize=True)"
   ]
  },
  {
   "cell_type": "code",
   "execution_count": 17,
   "metadata": {},
   "outputs": [
    {
     "name": "stdout",
     "output_type": "stream",
     "text": [
      "Index(['Do you have any experience with AI / data science / programming?',\n",
      "       'Do you have any experience with regarding data privacy / law?',\n",
      "       'Are you concerned about your data privacy?',\n",
      "       'How would you rate your capability in protecting your online data?',\n",
      "       'Do you think decisions that are made by AI can be useful to society?',\n",
      "       'Do you think decisions made by AI are fair?',\n",
      "       'Do you think decisions made by AI can be a risk to society?'],\n",
      "      dtype='object')\n"
     ]
    }
   ],
   "source": [
    "print(df_results.columns[5:12])"
   ]
  },
  {
   "cell_type": "markdown",
   "metadata": {},
   "source": [
    "#### Demographic split by law / non-law"
   ]
  },
  {
   "cell_type": "code",
   "execution_count": 18,
   "metadata": {},
   "outputs": [],
   "source": [
    "feature_names_demographic = [\"Experience with AI\", \"Experience with data privacy / law\", \"Concerned about data privacy\", \"Capability in protecting personal data\", \"Decisions by AI are useful\", \"Decisions by AI are fair\", \"Decisions by AI can be a risk\"]\n",
    "\n",
    "mean_demographic_nonlaw = []\n",
    "\n",
    "for col in df_results.columns[5:12] :\n",
    "    mean_demographic_nonlaw.append(df_results[col][df_results[\"Law_nonlaw\"] == \"non-law\"].mean())"
   ]
  },
  {
   "cell_type": "code",
   "execution_count": 19,
   "metadata": {},
   "outputs": [],
   "source": [
    "mean_demographic_law = []\n",
    "\n",
    "for col in df_results.columns[5:12] :\n",
    "    mean_demographic_law.append(df_results[col][df_results[\"Law_nonlaw\"] == \"law\"].mean())"
   ]
  },
  {
   "cell_type": "code",
   "execution_count": 20,
   "metadata": {},
   "outputs": [],
   "source": [
    "def plot_2_radar_charts(data1, data2, data1_name, data2_name, feature_names, y_lim, title = None, filename = None):\n",
    "    \"\"\"\n",
    "    data1, data2: 1d array of data\n",
    "    data1_name, data2_name: string\n",
    "    feature_names: list of strings\n",
    "    y_lim: [1, 5]\n",
    "    title: String\n",
    "    export: Bool\n",
    "    filename: filepath+desired_filename\n",
    "    \"\"\"\n",
    "\n",
    "    fig = go.Figure()\n",
    "\n",
    "    fig.add_trace(go.Scatterpolar(\n",
    "        r=data1,\n",
    "        theta=feature_names,\n",
    "        fill='toself',\n",
    "        name=data1_name\n",
    "    ))\n",
    "    fig.add_trace(go.Scatterpolar(\n",
    "        r=data2,\n",
    "        theta=feature_names,\n",
    "        fill='toself',\n",
    "        name= data2_name\n",
    "    ))\n",
    "\n",
    "    fig.update_layout(\n",
    "        title = title,\n",
    "        width = 1000, \n",
    "        height = 500,\n",
    "        polar=dict(\n",
    "        radialaxis=dict(\n",
    "        visible=True,\n",
    "        range=y_lim\n",
    "        )),\n",
    "    showlegend=True\n",
    "    )\n",
    "                \n",
    "    fig.show()\n",
    "\n",
    "    if filename != None :\n",
    "        fig.write_image(filename, scale = 3)"
   ]
  },
  {
   "cell_type": "code",
   "execution_count": 21,
   "metadata": {},
   "outputs": [],
   "source": [
    "# fig_export_path+r\"\\fig1.png\""
   ]
  },
  {
   "cell_type": "code",
   "execution_count": 22,
   "metadata": {},
   "outputs": [
    {
     "data": {
      "application/vnd.plotly.v1+json": {
       "config": {
        "plotlyServerURL": "https://plot.ly"
       },
       "data": [
        {
         "fill": "toself",
         "name": "Law",
         "r": [
          1.6111111111111112,
          2.5,
          3.7222222222222223,
          2.5,
          3.888888888888889,
          3.111111111111111,
          4.055555555555555
         ],
         "theta": [
          "Experience with AI",
          "Experience with data privacy / law",
          "Concerned about data privacy",
          "Capability in protecting personal data",
          "Decisions by AI are useful",
          "Decisions by AI are fair",
          "Decisions by AI can be a risk"
         ],
         "type": "scatterpolar"
        },
        {
         "fill": "toself",
         "name": "Non-law",
         "r": [
          2.3846153846153846,
          1.9230769230769231,
          3.6153846153846154,
          2.3846153846153846,
          4.153846153846154,
          3.076923076923077,
          4.230769230769231
         ],
         "theta": [
          "Experience with AI",
          "Experience with data privacy / law",
          "Concerned about data privacy",
          "Capability in protecting personal data",
          "Decisions by AI are useful",
          "Decisions by AI are fair",
          "Decisions by AI can be a risk"
         ],
         "type": "scatterpolar"
        }
       ],
       "layout": {
        "height": 500,
        "polar": {
         "radialaxis": {
          "range": [
           1,
           5
          ],
          "visible": true
         }
        },
        "showlegend": true,
        "template": {
         "data": {
          "bar": [
           {
            "error_x": {
             "color": "#2a3f5f"
            },
            "error_y": {
             "color": "#2a3f5f"
            },
            "marker": {
             "line": {
              "color": "#E5ECF6",
              "width": 0.5
             },
             "pattern": {
              "fillmode": "overlay",
              "size": 10,
              "solidity": 0.2
             }
            },
            "type": "bar"
           }
          ],
          "barpolar": [
           {
            "marker": {
             "line": {
              "color": "#E5ECF6",
              "width": 0.5
             },
             "pattern": {
              "fillmode": "overlay",
              "size": 10,
              "solidity": 0.2
             }
            },
            "type": "barpolar"
           }
          ],
          "carpet": [
           {
            "aaxis": {
             "endlinecolor": "#2a3f5f",
             "gridcolor": "white",
             "linecolor": "white",
             "minorgridcolor": "white",
             "startlinecolor": "#2a3f5f"
            },
            "baxis": {
             "endlinecolor": "#2a3f5f",
             "gridcolor": "white",
             "linecolor": "white",
             "minorgridcolor": "white",
             "startlinecolor": "#2a3f5f"
            },
            "type": "carpet"
           }
          ],
          "choropleth": [
           {
            "colorbar": {
             "outlinewidth": 0,
             "ticks": ""
            },
            "type": "choropleth"
           }
          ],
          "contour": [
           {
            "colorbar": {
             "outlinewidth": 0,
             "ticks": ""
            },
            "colorscale": [
             [
              0,
              "#0d0887"
             ],
             [
              0.1111111111111111,
              "#46039f"
             ],
             [
              0.2222222222222222,
              "#7201a8"
             ],
             [
              0.3333333333333333,
              "#9c179e"
             ],
             [
              0.4444444444444444,
              "#bd3786"
             ],
             [
              0.5555555555555556,
              "#d8576b"
             ],
             [
              0.6666666666666666,
              "#ed7953"
             ],
             [
              0.7777777777777778,
              "#fb9f3a"
             ],
             [
              0.8888888888888888,
              "#fdca26"
             ],
             [
              1,
              "#f0f921"
             ]
            ],
            "type": "contour"
           }
          ],
          "contourcarpet": [
           {
            "colorbar": {
             "outlinewidth": 0,
             "ticks": ""
            },
            "type": "contourcarpet"
           }
          ],
          "heatmap": [
           {
            "colorbar": {
             "outlinewidth": 0,
             "ticks": ""
            },
            "colorscale": [
             [
              0,
              "#0d0887"
             ],
             [
              0.1111111111111111,
              "#46039f"
             ],
             [
              0.2222222222222222,
              "#7201a8"
             ],
             [
              0.3333333333333333,
              "#9c179e"
             ],
             [
              0.4444444444444444,
              "#bd3786"
             ],
             [
              0.5555555555555556,
              "#d8576b"
             ],
             [
              0.6666666666666666,
              "#ed7953"
             ],
             [
              0.7777777777777778,
              "#fb9f3a"
             ],
             [
              0.8888888888888888,
              "#fdca26"
             ],
             [
              1,
              "#f0f921"
             ]
            ],
            "type": "heatmap"
           }
          ],
          "heatmapgl": [
           {
            "colorbar": {
             "outlinewidth": 0,
             "ticks": ""
            },
            "colorscale": [
             [
              0,
              "#0d0887"
             ],
             [
              0.1111111111111111,
              "#46039f"
             ],
             [
              0.2222222222222222,
              "#7201a8"
             ],
             [
              0.3333333333333333,
              "#9c179e"
             ],
             [
              0.4444444444444444,
              "#bd3786"
             ],
             [
              0.5555555555555556,
              "#d8576b"
             ],
             [
              0.6666666666666666,
              "#ed7953"
             ],
             [
              0.7777777777777778,
              "#fb9f3a"
             ],
             [
              0.8888888888888888,
              "#fdca26"
             ],
             [
              1,
              "#f0f921"
             ]
            ],
            "type": "heatmapgl"
           }
          ],
          "histogram": [
           {
            "marker": {
             "pattern": {
              "fillmode": "overlay",
              "size": 10,
              "solidity": 0.2
             }
            },
            "type": "histogram"
           }
          ],
          "histogram2d": [
           {
            "colorbar": {
             "outlinewidth": 0,
             "ticks": ""
            },
            "colorscale": [
             [
              0,
              "#0d0887"
             ],
             [
              0.1111111111111111,
              "#46039f"
             ],
             [
              0.2222222222222222,
              "#7201a8"
             ],
             [
              0.3333333333333333,
              "#9c179e"
             ],
             [
              0.4444444444444444,
              "#bd3786"
             ],
             [
              0.5555555555555556,
              "#d8576b"
             ],
             [
              0.6666666666666666,
              "#ed7953"
             ],
             [
              0.7777777777777778,
              "#fb9f3a"
             ],
             [
              0.8888888888888888,
              "#fdca26"
             ],
             [
              1,
              "#f0f921"
             ]
            ],
            "type": "histogram2d"
           }
          ],
          "histogram2dcontour": [
           {
            "colorbar": {
             "outlinewidth": 0,
             "ticks": ""
            },
            "colorscale": [
             [
              0,
              "#0d0887"
             ],
             [
              0.1111111111111111,
              "#46039f"
             ],
             [
              0.2222222222222222,
              "#7201a8"
             ],
             [
              0.3333333333333333,
              "#9c179e"
             ],
             [
              0.4444444444444444,
              "#bd3786"
             ],
             [
              0.5555555555555556,
              "#d8576b"
             ],
             [
              0.6666666666666666,
              "#ed7953"
             ],
             [
              0.7777777777777778,
              "#fb9f3a"
             ],
             [
              0.8888888888888888,
              "#fdca26"
             ],
             [
              1,
              "#f0f921"
             ]
            ],
            "type": "histogram2dcontour"
           }
          ],
          "mesh3d": [
           {
            "colorbar": {
             "outlinewidth": 0,
             "ticks": ""
            },
            "type": "mesh3d"
           }
          ],
          "parcoords": [
           {
            "line": {
             "colorbar": {
              "outlinewidth": 0,
              "ticks": ""
             }
            },
            "type": "parcoords"
           }
          ],
          "pie": [
           {
            "automargin": true,
            "type": "pie"
           }
          ],
          "scatter": [
           {
            "fillpattern": {
             "fillmode": "overlay",
             "size": 10,
             "solidity": 0.2
            },
            "type": "scatter"
           }
          ],
          "scatter3d": [
           {
            "line": {
             "colorbar": {
              "outlinewidth": 0,
              "ticks": ""
             }
            },
            "marker": {
             "colorbar": {
              "outlinewidth": 0,
              "ticks": ""
             }
            },
            "type": "scatter3d"
           }
          ],
          "scattercarpet": [
           {
            "marker": {
             "colorbar": {
              "outlinewidth": 0,
              "ticks": ""
             }
            },
            "type": "scattercarpet"
           }
          ],
          "scattergeo": [
           {
            "marker": {
             "colorbar": {
              "outlinewidth": 0,
              "ticks": ""
             }
            },
            "type": "scattergeo"
           }
          ],
          "scattergl": [
           {
            "marker": {
             "colorbar": {
              "outlinewidth": 0,
              "ticks": ""
             }
            },
            "type": "scattergl"
           }
          ],
          "scattermapbox": [
           {
            "marker": {
             "colorbar": {
              "outlinewidth": 0,
              "ticks": ""
             }
            },
            "type": "scattermapbox"
           }
          ],
          "scatterpolar": [
           {
            "marker": {
             "colorbar": {
              "outlinewidth": 0,
              "ticks": ""
             }
            },
            "type": "scatterpolar"
           }
          ],
          "scatterpolargl": [
           {
            "marker": {
             "colorbar": {
              "outlinewidth": 0,
              "ticks": ""
             }
            },
            "type": "scatterpolargl"
           }
          ],
          "scatterternary": [
           {
            "marker": {
             "colorbar": {
              "outlinewidth": 0,
              "ticks": ""
             }
            },
            "type": "scatterternary"
           }
          ],
          "surface": [
           {
            "colorbar": {
             "outlinewidth": 0,
             "ticks": ""
            },
            "colorscale": [
             [
              0,
              "#0d0887"
             ],
             [
              0.1111111111111111,
              "#46039f"
             ],
             [
              0.2222222222222222,
              "#7201a8"
             ],
             [
              0.3333333333333333,
              "#9c179e"
             ],
             [
              0.4444444444444444,
              "#bd3786"
             ],
             [
              0.5555555555555556,
              "#d8576b"
             ],
             [
              0.6666666666666666,
              "#ed7953"
             ],
             [
              0.7777777777777778,
              "#fb9f3a"
             ],
             [
              0.8888888888888888,
              "#fdca26"
             ],
             [
              1,
              "#f0f921"
             ]
            ],
            "type": "surface"
           }
          ],
          "table": [
           {
            "cells": {
             "fill": {
              "color": "#EBF0F8"
             },
             "line": {
              "color": "white"
             }
            },
            "header": {
             "fill": {
              "color": "#C8D4E3"
             },
             "line": {
              "color": "white"
             }
            },
            "type": "table"
           }
          ]
         },
         "layout": {
          "annotationdefaults": {
           "arrowcolor": "#2a3f5f",
           "arrowhead": 0,
           "arrowwidth": 1
          },
          "autotypenumbers": "strict",
          "coloraxis": {
           "colorbar": {
            "outlinewidth": 0,
            "ticks": ""
           }
          },
          "colorscale": {
           "diverging": [
            [
             0,
             "#8e0152"
            ],
            [
             0.1,
             "#c51b7d"
            ],
            [
             0.2,
             "#de77ae"
            ],
            [
             0.3,
             "#f1b6da"
            ],
            [
             0.4,
             "#fde0ef"
            ],
            [
             0.5,
             "#f7f7f7"
            ],
            [
             0.6,
             "#e6f5d0"
            ],
            [
             0.7,
             "#b8e186"
            ],
            [
             0.8,
             "#7fbc41"
            ],
            [
             0.9,
             "#4d9221"
            ],
            [
             1,
             "#276419"
            ]
           ],
           "sequential": [
            [
             0,
             "#0d0887"
            ],
            [
             0.1111111111111111,
             "#46039f"
            ],
            [
             0.2222222222222222,
             "#7201a8"
            ],
            [
             0.3333333333333333,
             "#9c179e"
            ],
            [
             0.4444444444444444,
             "#bd3786"
            ],
            [
             0.5555555555555556,
             "#d8576b"
            ],
            [
             0.6666666666666666,
             "#ed7953"
            ],
            [
             0.7777777777777778,
             "#fb9f3a"
            ],
            [
             0.8888888888888888,
             "#fdca26"
            ],
            [
             1,
             "#f0f921"
            ]
           ],
           "sequentialminus": [
            [
             0,
             "#0d0887"
            ],
            [
             0.1111111111111111,
             "#46039f"
            ],
            [
             0.2222222222222222,
             "#7201a8"
            ],
            [
             0.3333333333333333,
             "#9c179e"
            ],
            [
             0.4444444444444444,
             "#bd3786"
            ],
            [
             0.5555555555555556,
             "#d8576b"
            ],
            [
             0.6666666666666666,
             "#ed7953"
            ],
            [
             0.7777777777777778,
             "#fb9f3a"
            ],
            [
             0.8888888888888888,
             "#fdca26"
            ],
            [
             1,
             "#f0f921"
            ]
           ]
          },
          "colorway": [
           "#636efa",
           "#EF553B",
           "#00cc96",
           "#ab63fa",
           "#FFA15A",
           "#19d3f3",
           "#FF6692",
           "#B6E880",
           "#FF97FF",
           "#FECB52"
          ],
          "font": {
           "color": "#2a3f5f"
          },
          "geo": {
           "bgcolor": "white",
           "lakecolor": "white",
           "landcolor": "#E5ECF6",
           "showlakes": true,
           "showland": true,
           "subunitcolor": "white"
          },
          "hoverlabel": {
           "align": "left"
          },
          "hovermode": "closest",
          "mapbox": {
           "style": "light"
          },
          "paper_bgcolor": "white",
          "plot_bgcolor": "#E5ECF6",
          "polar": {
           "angularaxis": {
            "gridcolor": "white",
            "linecolor": "white",
            "ticks": ""
           },
           "bgcolor": "#E5ECF6",
           "radialaxis": {
            "gridcolor": "white",
            "linecolor": "white",
            "ticks": ""
           }
          },
          "scene": {
           "xaxis": {
            "backgroundcolor": "#E5ECF6",
            "gridcolor": "white",
            "gridwidth": 2,
            "linecolor": "white",
            "showbackground": true,
            "ticks": "",
            "zerolinecolor": "white"
           },
           "yaxis": {
            "backgroundcolor": "#E5ECF6",
            "gridcolor": "white",
            "gridwidth": 2,
            "linecolor": "white",
            "showbackground": true,
            "ticks": "",
            "zerolinecolor": "white"
           },
           "zaxis": {
            "backgroundcolor": "#E5ECF6",
            "gridcolor": "white",
            "gridwidth": 2,
            "linecolor": "white",
            "showbackground": true,
            "ticks": "",
            "zerolinecolor": "white"
           }
          },
          "shapedefaults": {
           "line": {
            "color": "#2a3f5f"
           }
          },
          "ternary": {
           "aaxis": {
            "gridcolor": "white",
            "linecolor": "white",
            "ticks": ""
           },
           "baxis": {
            "gridcolor": "white",
            "linecolor": "white",
            "ticks": ""
           },
           "bgcolor": "#E5ECF6",
           "caxis": {
            "gridcolor": "white",
            "linecolor": "white",
            "ticks": ""
           }
          },
          "title": {
           "x": 0.05
          },
          "xaxis": {
           "automargin": true,
           "gridcolor": "white",
           "linecolor": "white",
           "ticks": "",
           "title": {
            "standoff": 15
           },
           "zerolinecolor": "white",
           "zerolinewidth": 2
          },
          "yaxis": {
           "automargin": true,
           "gridcolor": "white",
           "linecolor": "white",
           "ticks": "",
           "title": {
            "standoff": 15
           },
           "zerolinecolor": "white",
           "zerolinewidth": 2
          }
         }
        },
        "title": {},
        "width": 1000
       }
      }
     },
     "metadata": {},
     "output_type": "display_data"
    }
   ],
   "source": [
    "plot_2_radar_charts(mean_demographic_law, mean_demographic_nonlaw, \"Law\", \"Non-law\", feature_names_demographic, [1, 5])"
   ]
  },
  {
   "cell_type": "code",
   "execution_count": 23,
   "metadata": {},
   "outputs": [
    {
     "data": {
      "application/vnd.plotly.v1+json": {
       "config": {
        "plotlyServerURL": "https://plot.ly"
       },
       "data": [
        {
         "fill": "toself",
         "r": [
          1.935483870967742,
          2.2580645161290325,
          3.6774193548387095,
          2.4516129032258065,
          4,
          3.096774193548387,
          4.129032258064516
         ],
         "theta": [
          "Experience with AI",
          "Experience with data privacy / law",
          "Concerned about data privacy",
          "Capability in protecting personal data",
          "Decisions by AI are useful",
          "Decisions by AI are fair",
          "Decisions by AI can be a risk"
         ],
         "type": "scatterpolar"
        }
       ],
       "layout": {
        "height": 500,
        "polar": {
         "radialaxis": {
          "range": [
           1,
           5
          ],
          "visible": true
         }
        },
        "template": {
         "data": {
          "bar": [
           {
            "error_x": {
             "color": "#2a3f5f"
            },
            "error_y": {
             "color": "#2a3f5f"
            },
            "marker": {
             "line": {
              "color": "#E5ECF6",
              "width": 0.5
             },
             "pattern": {
              "fillmode": "overlay",
              "size": 10,
              "solidity": 0.2
             }
            },
            "type": "bar"
           }
          ],
          "barpolar": [
           {
            "marker": {
             "line": {
              "color": "#E5ECF6",
              "width": 0.5
             },
             "pattern": {
              "fillmode": "overlay",
              "size": 10,
              "solidity": 0.2
             }
            },
            "type": "barpolar"
           }
          ],
          "carpet": [
           {
            "aaxis": {
             "endlinecolor": "#2a3f5f",
             "gridcolor": "white",
             "linecolor": "white",
             "minorgridcolor": "white",
             "startlinecolor": "#2a3f5f"
            },
            "baxis": {
             "endlinecolor": "#2a3f5f",
             "gridcolor": "white",
             "linecolor": "white",
             "minorgridcolor": "white",
             "startlinecolor": "#2a3f5f"
            },
            "type": "carpet"
           }
          ],
          "choropleth": [
           {
            "colorbar": {
             "outlinewidth": 0,
             "ticks": ""
            },
            "type": "choropleth"
           }
          ],
          "contour": [
           {
            "colorbar": {
             "outlinewidth": 0,
             "ticks": ""
            },
            "colorscale": [
             [
              0,
              "#0d0887"
             ],
             [
              0.1111111111111111,
              "#46039f"
             ],
             [
              0.2222222222222222,
              "#7201a8"
             ],
             [
              0.3333333333333333,
              "#9c179e"
             ],
             [
              0.4444444444444444,
              "#bd3786"
             ],
             [
              0.5555555555555556,
              "#d8576b"
             ],
             [
              0.6666666666666666,
              "#ed7953"
             ],
             [
              0.7777777777777778,
              "#fb9f3a"
             ],
             [
              0.8888888888888888,
              "#fdca26"
             ],
             [
              1,
              "#f0f921"
             ]
            ],
            "type": "contour"
           }
          ],
          "contourcarpet": [
           {
            "colorbar": {
             "outlinewidth": 0,
             "ticks": ""
            },
            "type": "contourcarpet"
           }
          ],
          "heatmap": [
           {
            "colorbar": {
             "outlinewidth": 0,
             "ticks": ""
            },
            "colorscale": [
             [
              0,
              "#0d0887"
             ],
             [
              0.1111111111111111,
              "#46039f"
             ],
             [
              0.2222222222222222,
              "#7201a8"
             ],
             [
              0.3333333333333333,
              "#9c179e"
             ],
             [
              0.4444444444444444,
              "#bd3786"
             ],
             [
              0.5555555555555556,
              "#d8576b"
             ],
             [
              0.6666666666666666,
              "#ed7953"
             ],
             [
              0.7777777777777778,
              "#fb9f3a"
             ],
             [
              0.8888888888888888,
              "#fdca26"
             ],
             [
              1,
              "#f0f921"
             ]
            ],
            "type": "heatmap"
           }
          ],
          "heatmapgl": [
           {
            "colorbar": {
             "outlinewidth": 0,
             "ticks": ""
            },
            "colorscale": [
             [
              0,
              "#0d0887"
             ],
             [
              0.1111111111111111,
              "#46039f"
             ],
             [
              0.2222222222222222,
              "#7201a8"
             ],
             [
              0.3333333333333333,
              "#9c179e"
             ],
             [
              0.4444444444444444,
              "#bd3786"
             ],
             [
              0.5555555555555556,
              "#d8576b"
             ],
             [
              0.6666666666666666,
              "#ed7953"
             ],
             [
              0.7777777777777778,
              "#fb9f3a"
             ],
             [
              0.8888888888888888,
              "#fdca26"
             ],
             [
              1,
              "#f0f921"
             ]
            ],
            "type": "heatmapgl"
           }
          ],
          "histogram": [
           {
            "marker": {
             "pattern": {
              "fillmode": "overlay",
              "size": 10,
              "solidity": 0.2
             }
            },
            "type": "histogram"
           }
          ],
          "histogram2d": [
           {
            "colorbar": {
             "outlinewidth": 0,
             "ticks": ""
            },
            "colorscale": [
             [
              0,
              "#0d0887"
             ],
             [
              0.1111111111111111,
              "#46039f"
             ],
             [
              0.2222222222222222,
              "#7201a8"
             ],
             [
              0.3333333333333333,
              "#9c179e"
             ],
             [
              0.4444444444444444,
              "#bd3786"
             ],
             [
              0.5555555555555556,
              "#d8576b"
             ],
             [
              0.6666666666666666,
              "#ed7953"
             ],
             [
              0.7777777777777778,
              "#fb9f3a"
             ],
             [
              0.8888888888888888,
              "#fdca26"
             ],
             [
              1,
              "#f0f921"
             ]
            ],
            "type": "histogram2d"
           }
          ],
          "histogram2dcontour": [
           {
            "colorbar": {
             "outlinewidth": 0,
             "ticks": ""
            },
            "colorscale": [
             [
              0,
              "#0d0887"
             ],
             [
              0.1111111111111111,
              "#46039f"
             ],
             [
              0.2222222222222222,
              "#7201a8"
             ],
             [
              0.3333333333333333,
              "#9c179e"
             ],
             [
              0.4444444444444444,
              "#bd3786"
             ],
             [
              0.5555555555555556,
              "#d8576b"
             ],
             [
              0.6666666666666666,
              "#ed7953"
             ],
             [
              0.7777777777777778,
              "#fb9f3a"
             ],
             [
              0.8888888888888888,
              "#fdca26"
             ],
             [
              1,
              "#f0f921"
             ]
            ],
            "type": "histogram2dcontour"
           }
          ],
          "mesh3d": [
           {
            "colorbar": {
             "outlinewidth": 0,
             "ticks": ""
            },
            "type": "mesh3d"
           }
          ],
          "parcoords": [
           {
            "line": {
             "colorbar": {
              "outlinewidth": 0,
              "ticks": ""
             }
            },
            "type": "parcoords"
           }
          ],
          "pie": [
           {
            "automargin": true,
            "type": "pie"
           }
          ],
          "scatter": [
           {
            "fillpattern": {
             "fillmode": "overlay",
             "size": 10,
             "solidity": 0.2
            },
            "type": "scatter"
           }
          ],
          "scatter3d": [
           {
            "line": {
             "colorbar": {
              "outlinewidth": 0,
              "ticks": ""
             }
            },
            "marker": {
             "colorbar": {
              "outlinewidth": 0,
              "ticks": ""
             }
            },
            "type": "scatter3d"
           }
          ],
          "scattercarpet": [
           {
            "marker": {
             "colorbar": {
              "outlinewidth": 0,
              "ticks": ""
             }
            },
            "type": "scattercarpet"
           }
          ],
          "scattergeo": [
           {
            "marker": {
             "colorbar": {
              "outlinewidth": 0,
              "ticks": ""
             }
            },
            "type": "scattergeo"
           }
          ],
          "scattergl": [
           {
            "marker": {
             "colorbar": {
              "outlinewidth": 0,
              "ticks": ""
             }
            },
            "type": "scattergl"
           }
          ],
          "scattermapbox": [
           {
            "marker": {
             "colorbar": {
              "outlinewidth": 0,
              "ticks": ""
             }
            },
            "type": "scattermapbox"
           }
          ],
          "scatterpolar": [
           {
            "marker": {
             "colorbar": {
              "outlinewidth": 0,
              "ticks": ""
             }
            },
            "type": "scatterpolar"
           }
          ],
          "scatterpolargl": [
           {
            "marker": {
             "colorbar": {
              "outlinewidth": 0,
              "ticks": ""
             }
            },
            "type": "scatterpolargl"
           }
          ],
          "scatterternary": [
           {
            "marker": {
             "colorbar": {
              "outlinewidth": 0,
              "ticks": ""
             }
            },
            "type": "scatterternary"
           }
          ],
          "surface": [
           {
            "colorbar": {
             "outlinewidth": 0,
             "ticks": ""
            },
            "colorscale": [
             [
              0,
              "#0d0887"
             ],
             [
              0.1111111111111111,
              "#46039f"
             ],
             [
              0.2222222222222222,
              "#7201a8"
             ],
             [
              0.3333333333333333,
              "#9c179e"
             ],
             [
              0.4444444444444444,
              "#bd3786"
             ],
             [
              0.5555555555555556,
              "#d8576b"
             ],
             [
              0.6666666666666666,
              "#ed7953"
             ],
             [
              0.7777777777777778,
              "#fb9f3a"
             ],
             [
              0.8888888888888888,
              "#fdca26"
             ],
             [
              1,
              "#f0f921"
             ]
            ],
            "type": "surface"
           }
          ],
          "table": [
           {
            "cells": {
             "fill": {
              "color": "#EBF0F8"
             },
             "line": {
              "color": "white"
             }
            },
            "header": {
             "fill": {
              "color": "#C8D4E3"
             },
             "line": {
              "color": "white"
             }
            },
            "type": "table"
           }
          ]
         },
         "layout": {
          "annotationdefaults": {
           "arrowcolor": "#2a3f5f",
           "arrowhead": 0,
           "arrowwidth": 1
          },
          "autotypenumbers": "strict",
          "coloraxis": {
           "colorbar": {
            "outlinewidth": 0,
            "ticks": ""
           }
          },
          "colorscale": {
           "diverging": [
            [
             0,
             "#8e0152"
            ],
            [
             0.1,
             "#c51b7d"
            ],
            [
             0.2,
             "#de77ae"
            ],
            [
             0.3,
             "#f1b6da"
            ],
            [
             0.4,
             "#fde0ef"
            ],
            [
             0.5,
             "#f7f7f7"
            ],
            [
             0.6,
             "#e6f5d0"
            ],
            [
             0.7,
             "#b8e186"
            ],
            [
             0.8,
             "#7fbc41"
            ],
            [
             0.9,
             "#4d9221"
            ],
            [
             1,
             "#276419"
            ]
           ],
           "sequential": [
            [
             0,
             "#0d0887"
            ],
            [
             0.1111111111111111,
             "#46039f"
            ],
            [
             0.2222222222222222,
             "#7201a8"
            ],
            [
             0.3333333333333333,
             "#9c179e"
            ],
            [
             0.4444444444444444,
             "#bd3786"
            ],
            [
             0.5555555555555556,
             "#d8576b"
            ],
            [
             0.6666666666666666,
             "#ed7953"
            ],
            [
             0.7777777777777778,
             "#fb9f3a"
            ],
            [
             0.8888888888888888,
             "#fdca26"
            ],
            [
             1,
             "#f0f921"
            ]
           ],
           "sequentialminus": [
            [
             0,
             "#0d0887"
            ],
            [
             0.1111111111111111,
             "#46039f"
            ],
            [
             0.2222222222222222,
             "#7201a8"
            ],
            [
             0.3333333333333333,
             "#9c179e"
            ],
            [
             0.4444444444444444,
             "#bd3786"
            ],
            [
             0.5555555555555556,
             "#d8576b"
            ],
            [
             0.6666666666666666,
             "#ed7953"
            ],
            [
             0.7777777777777778,
             "#fb9f3a"
            ],
            [
             0.8888888888888888,
             "#fdca26"
            ],
            [
             1,
             "#f0f921"
            ]
           ]
          },
          "colorway": [
           "#636efa",
           "#EF553B",
           "#00cc96",
           "#ab63fa",
           "#FFA15A",
           "#19d3f3",
           "#FF6692",
           "#B6E880",
           "#FF97FF",
           "#FECB52"
          ],
          "font": {
           "color": "#2a3f5f"
          },
          "geo": {
           "bgcolor": "white",
           "lakecolor": "white",
           "landcolor": "#E5ECF6",
           "showlakes": true,
           "showland": true,
           "subunitcolor": "white"
          },
          "hoverlabel": {
           "align": "left"
          },
          "hovermode": "closest",
          "mapbox": {
           "style": "light"
          },
          "paper_bgcolor": "white",
          "plot_bgcolor": "#E5ECF6",
          "polar": {
           "angularaxis": {
            "gridcolor": "white",
            "linecolor": "white",
            "ticks": ""
           },
           "bgcolor": "#E5ECF6",
           "radialaxis": {
            "gridcolor": "white",
            "linecolor": "white",
            "ticks": ""
           }
          },
          "scene": {
           "xaxis": {
            "backgroundcolor": "#E5ECF6",
            "gridcolor": "white",
            "gridwidth": 2,
            "linecolor": "white",
            "showbackground": true,
            "ticks": "",
            "zerolinecolor": "white"
           },
           "yaxis": {
            "backgroundcolor": "#E5ECF6",
            "gridcolor": "white",
            "gridwidth": 2,
            "linecolor": "white",
            "showbackground": true,
            "ticks": "",
            "zerolinecolor": "white"
           },
           "zaxis": {
            "backgroundcolor": "#E5ECF6",
            "gridcolor": "white",
            "gridwidth": 2,
            "linecolor": "white",
            "showbackground": true,
            "ticks": "",
            "zerolinecolor": "white"
           }
          },
          "shapedefaults": {
           "line": {
            "color": "#2a3f5f"
           }
          },
          "ternary": {
           "aaxis": {
            "gridcolor": "white",
            "linecolor": "white",
            "ticks": ""
           },
           "baxis": {
            "gridcolor": "white",
            "linecolor": "white",
            "ticks": ""
           },
           "bgcolor": "#E5ECF6",
           "caxis": {
            "gridcolor": "white",
            "linecolor": "white",
            "ticks": ""
           }
          },
          "title": {
           "x": 0.05
          },
          "xaxis": {
           "automargin": true,
           "gridcolor": "white",
           "linecolor": "white",
           "ticks": "",
           "title": {
            "standoff": 15
           },
           "zerolinecolor": "white",
           "zerolinewidth": 2
          },
          "yaxis": {
           "automargin": true,
           "gridcolor": "white",
           "linecolor": "white",
           "ticks": "",
           "title": {
            "standoff": 15
           },
           "zerolinecolor": "white",
           "zerolinewidth": 2
          }
         }
        },
        "width": 1000
       }
      }
     },
     "metadata": {},
     "output_type": "display_data"
    }
   ],
   "source": [
    "fig = go.Figure()\n",
    "\n",
    "fig.add_trace(go.Scatterpolar(\n",
    "    r=df_results.iloc[:, 5:12].mean(),\n",
    "    theta=feature_names_demographic,\n",
    "    fill='toself'\n",
    "))\n",
    "\n",
    "fig.update_layout(\n",
    "        width = 1000, \n",
    "        height = 500,\n",
    "        polar=dict(\n",
    "        radialaxis=dict(\n",
    "        visible=True,\n",
    "        range=[1,5]\n",
    "        ))\n",
    "    )\n",
    "                \n",
    "fig.show()\n",
    "\n",
    "# fig.write_image(fig_export_path+r\"\\demo_4.png\", scale = 3)"
   ]
  },
  {
   "attachments": {},
   "cell_type": "markdown",
   "metadata": {},
   "source": [
    "#### Comparing scores of the contexts before and after looking at the explanations"
   ]
  },
  {
   "cell_type": "code",
   "execution_count": 24,
   "metadata": {},
   "outputs": [
    {
     "name": "stdout",
     "output_type": "stream",
     "text": [
      "Index(['Think that using the model is an effective method of identifying violations of the PDPA?',\n",
      "       'Think that using the model is a fair method of identifying violations of the PDPA?',\n",
      "       'Think that using the model is a method that could be a risk to society?',\n",
      "       'Trust the prediction made by the model?',\n",
      "       'Think that using the model is an effective method of identifying violations of the PDPA?.1',\n",
      "       'Think that using the model is a fair method of identifying violations of the PDPA?.1',\n",
      "       'Think that using the model is a method that could be a risk to society?.1',\n",
      "       'Trust the prediction made by the model?.1',\n",
      "       'Think that using the model is an effective method of identifying violations of the PDPA?.2',\n",
      "       'Think that using the model is a fair method of identifying violations of the PDPA?.2',\n",
      "       'Think that using the model is a method that could be a risk to society?.2',\n",
      "       'Trust the prediction made by the model?.2'],\n",
      "      dtype='object')\n"
     ]
    }
   ],
   "source": [
    "# Cols from initial questioning\n",
    "print(df_results.columns[13:25])"
   ]
  },
  {
   "cell_type": "code",
   "execution_count": 25,
   "metadata": {},
   "outputs": [
    {
     "name": "stdout",
     "output_type": "stream",
     "text": [
      "Index(['Think that using the model is an effective method of identifying violations of the PDPA?.3',\n",
      "       'Think that using the model is a fair method of identifying violations of the PDPA?.3',\n",
      "       'Think that using the model is a method that could be a risk to society?.3',\n",
      "       'Trust the prediction made by the model?.3',\n",
      "       'Think that using the model is an effective method of identifying violations of the PDPA?.4',\n",
      "       'Think that using the model is a fair method of identifying violations of the PDPA?.4',\n",
      "       'Think that using the model is a method that could be a risk to society?.4',\n",
      "       'Trust the prediction made by the model?.4',\n",
      "       'Think that using the model is an effective method of identifying violations of the PDPA?.5',\n",
      "       'Think that using the model is a fair method of identifying violations of the PDPA?.5',\n",
      "       'Think that using the model is a method that could be a risk to society?.5',\n",
      "       'Trust the prediction made by the model?.5'],\n",
      "      dtype='object')\n"
     ]
    }
   ],
   "source": [
    "# Cols from last questioning\n",
    "print(df_results.columns[46: -2])"
   ]
  },
  {
   "cell_type": "code",
   "execution_count": 26,
   "metadata": {},
   "outputs": [],
   "source": [
    "# Averaged scores across both contexts and metrics\n",
    "overall_scores_before = df_results.iloc[:, 13:25].mean(axis = 1)\n",
    "overall_scores_after = df_results.iloc[:, 46:-2].mean(axis = 1)"
   ]
  },
  {
   "cell_type": "code",
   "execution_count": 27,
   "metadata": {},
   "outputs": [],
   "source": [
    "# Averaged scores across metrics, compared across three contexts\n",
    "scores_context1_before = df_results.iloc[:, 13:17].mean(axis = 1)\n",
    "scores_context2_before = df_results.iloc[:, 17:21].mean(axis = 1)\n",
    "scores_context3_before = df_results.iloc[:, 21:25].mean(axis = 1)\n",
    "\n",
    "scores_context1_after = df_results.iloc[:, 46:50].mean(axis = 1)\n",
    "scores_context2_after = df_results.iloc[:, 50:54].mean(axis = 1)\n",
    "scores_context3_after = df_results.iloc[:, 54:58].mean(axis = 1)"
   ]
  },
  {
   "cell_type": "code",
   "execution_count": 28,
   "metadata": {},
   "outputs": [],
   "source": [
    "# Averaged scores across contexts, compared across metrics\n",
    "scores_effective_before = df_results.iloc[:, np.r_[13, 17, 21]].mean(axis = 1)\n",
    "scores_fair_before = df_results.iloc[:, np.r_[14, 18, 22]].mean(axis = 1)\n",
    "scores_risk_before = df_results.iloc[:, np.r_[15, 19, 23]].mean(axis = 1)\n",
    "scores_trust_before = df_results.iloc[:, np.r_[16, 20, 24]].mean(axis = 1)\n",
    "\n",
    "scores_effective_after = df_results.iloc[:, np.r_[46, 50, 54]].mean(axis = 1)\n",
    "scores_fair_after = df_results.iloc[:, np.r_[47, 51, 55]].mean(axis = 1)\n",
    "scores_risk_after = df_results.iloc[:, np.r_[48, 52, 56]].mean(axis = 1)\n",
    "scores_trust_after = df_results.iloc[:, np.r_[49, 53, 57]].mean(axis = 1)"
   ]
  },
  {
   "attachments": {},
   "cell_type": "markdown",
   "metadata": {},
   "source": [
    "### Comparing whether there is a significant difference amongst the respondents for the 3 contexts before and after they have viewed the explanations\n",
    "\n",
    "Using significance testing: wilcoxon test\n",
    "\n",
    "By using \"less\", it means that the distribution underlying d is stochastically less than a distribution symmetric about zero.\n",
    "\n",
    "Where d = initial - final\n",
    "\n",
    "So if d is negative, means that final scores are significantly higher than intial?\n",
    "\n",
    "i.e. Respondents rated the model as more effective after looking at the visualisations"
   ]
  },
  {
   "attachments": {},
   "cell_type": "markdown",
   "metadata": {},
   "source": [
    "| **Question**                                  | **Context 1: Less** | **Context 1: Greater** | **Context 2: Less** | **Context 2: Greater** | **Context 3: Less** | **Context 3: Greater** |\n",
    "|-----------------------------------------------|---------------------|------------------------|---------------------|------------------------|---------------------|------------------------|\n",
    "| **Do you think model is effective?**          | 0.013               | 0.987                  | 0.932                | 0.0684                  | 0.856                | 0.144                   |\n",
    "| **Do you think model is a fair method?**      | 0.382               | 0.618                  | 0.841                | 0.159                  | 0.933                | 0.0671                  |\n",
    "| **Do you think model is a risk to society?**  | 0.756               | 0.244                   | 0.428                | 0.572                   | 0.825                | 0.175                   |\n",
    "| **Do you trust the prediction of the model?** | 0.887                | 0.113                  | 0.945                | 0.055                 | 0.837                | 0.163                   |"
   ]
  },
  {
   "attachments": {},
   "cell_type": "markdown",
   "metadata": {},
   "source": [
    "### Comparison of mean scores across all metrics and contexts\n",
    "\n",
    "| **Increase** | **Decrease** |\n",
    "|--------------|--------------|\n",
    "| 0.844        | 0.156       |"
   ]
  },
  {
   "cell_type": "markdown",
   "metadata": {},
   "source": [
    "### Comparison of mean scores averaged across all metrics, compared across 3 contexts\n",
    "\n",
    "| **Context** | **1: Increase** | **1: Decrease** | **2: Increase** | **2: Decrease** | **3: Increase** | **3: Decrease** |\n",
    "|-------------|-----------------|-----------------|-----------------|-----------------|-----------------|-----------------|\n",
    "| **p-value** | 0.369           | 0.633           | 0.940           | 0.060           | 0.955           | 0.0450          |"
   ]
  },
  {
   "attachments": {},
   "cell_type": "markdown",
   "metadata": {},
   "source": [
    "### Comparison of mean scores averaged across each context, compared across all metrics\n",
    "\n",
    "| **Metric**          | **p-value** |\n",
    "|---------------------|-------------|\n",
    "| Effective: Increase | 0.485       |\n",
    "| Effective: Decrease | 0.515       |\n",
    "| Fair: Increase      | 0.826       |\n",
    "| Fair: Decrease      | 0.174       |\n",
    "| Risk: Increase      | 0.660       |\n",
    "| Risk : Decrease     | 0.340       |\n",
    "| Trust: Increase     | 0.953       |\n",
    "| Trust: Decrease     | 0.0468      |"
   ]
  },
  {
   "attachments": {},
   "cell_type": "markdown",
   "metadata": {},
   "source": [
    "#### Whether mean scores averaged across all metrics and contexts decreased / increased overall"
   ]
  },
  {
   "cell_type": "code",
   "execution_count": 30,
   "metadata": {},
   "outputs": [
    {
     "name": "stdout",
     "output_type": "stream",
     "text": [
      "0.8437693020174464\n",
      "231.0\n"
     ]
    }
   ],
   "source": [
    "# Checking if less\n",
    "stat, p = wilcoxon(overall_scores_before, overall_scores_after,\n",
    "alternative= \"less\")\n",
    "\n",
    "print(p)\n",
    "print(stat)"
   ]
  },
  {
   "cell_type": "code",
   "execution_count": 31,
   "metadata": {},
   "outputs": [
    {
     "name": "stdout",
     "output_type": "stream",
     "text": [
      "0.15623069798255368\n",
      "231.0\n"
     ]
    }
   ],
   "source": [
    "# Checking if greater\n",
    "stat, p = wilcoxon(overall_scores_before, overall_scores_after,\n",
    "alternative= \"greater\")\n",
    "\n",
    "print(p)\n",
    "print(stat)"
   ]
  },
  {
   "attachments": {},
   "cell_type": "markdown",
   "metadata": {},
   "source": [
    "#### Whether mean scores averaged across all metrics per context decreased / increased"
   ]
  },
  {
   "cell_type": "code",
   "execution_count": 32,
   "metadata": {},
   "outputs": [
    {
     "name": "stdout",
     "output_type": "stream",
     "text": [
      "0.36689184963614546\n",
      "150.0\n"
     ]
    }
   ],
   "source": [
    "# Checking if less\n",
    "stat, p = wilcoxon(scores_context1_before, scores_context1_after,\n",
    "alternative= \"less\")\n",
    "\n",
    "print(p)\n",
    "print(stat)"
   ]
  },
  {
   "cell_type": "code",
   "execution_count": 33,
   "metadata": {},
   "outputs": [
    {
     "name": "stdout",
     "output_type": "stream",
     "text": [
      "0.6331081503638545\n",
      "150.0\n"
     ]
    }
   ],
   "source": [
    "# Checking if greater\n",
    "stat, p = wilcoxon(scores_context1_before, scores_context1_after,\n",
    "alternative= \"greater\")\n",
    "\n",
    "print(p)\n",
    "print(stat)"
   ]
  },
  {
   "cell_type": "code",
   "execution_count": 34,
   "metadata": {},
   "outputs": [
    {
     "name": "stdout",
     "output_type": "stream",
     "text": [
      "0.9399510572950143\n",
      "160.0\n"
     ]
    }
   ],
   "source": [
    "# Checking if greater\n",
    "stat, p = wilcoxon(scores_context2_before, scores_context2_after,\n",
    "alternative= \"less\")\n",
    "\n",
    "print(p)\n",
    "print(stat)"
   ]
  },
  {
   "cell_type": "code",
   "execution_count": 35,
   "metadata": {},
   "outputs": [
    {
     "name": "stdout",
     "output_type": "stream",
     "text": [
      "0.060048942704985786\n",
      "160.0\n"
     ]
    }
   ],
   "source": [
    "# Checking if greater\n",
    "stat, p = wilcoxon(scores_context2_before, scores_context2_after,\n",
    "alternative= \"greater\")\n",
    "\n",
    "print(p)\n",
    "print(stat)"
   ]
  },
  {
   "cell_type": "code",
   "execution_count": 36,
   "metadata": {},
   "outputs": [
    {
     "name": "stdout",
     "output_type": "stream",
     "text": [
      "0.9550514002198907\n",
      "178.5\n"
     ]
    }
   ],
   "source": [
    "# Checking if less\n",
    "stat, p = wilcoxon(scores_context3_before, scores_context3_after,\n",
    "alternative= \"less\")\n",
    "\n",
    "print(p)\n",
    "print(stat)"
   ]
  },
  {
   "cell_type": "code",
   "execution_count": 37,
   "metadata": {},
   "outputs": [
    {
     "name": "stdout",
     "output_type": "stream",
     "text": [
      "0.04494859978010929\n",
      "178.5\n"
     ]
    }
   ],
   "source": [
    "# Checking if greater\n",
    "stat, p = wilcoxon(scores_context3_before, scores_context3_after,\n",
    "alternative= \"greater\")\n",
    "\n",
    "print(p)\n",
    "print(stat)"
   ]
  },
  {
   "attachments": {},
   "cell_type": "markdown",
   "metadata": {},
   "source": [
    "#### Whether mean scores averaged across all contexts metrics per metric decreased / increased\n"
   ]
  },
  {
   "cell_type": "code",
   "execution_count": 38,
   "metadata": {},
   "outputs": [
    {
     "name": "stdout",
     "output_type": "stream",
     "text": [
      "0.48506821803832656\n",
      "104.0\n"
     ]
    }
   ],
   "source": [
    "# Checking if less\n",
    "stat, p = wilcoxon(scores_effective_before, scores_effective_after,\n",
    "alternative= \"less\")\n",
    "\n",
    "print(p)\n",
    "print(stat)"
   ]
  },
  {
   "cell_type": "code",
   "execution_count": 39,
   "metadata": {},
   "outputs": [
    {
     "name": "stdout",
     "output_type": "stream",
     "text": [
      "0.5149317819616734\n",
      "104.0\n"
     ]
    }
   ],
   "source": [
    "# Checking if less\n",
    "stat, p = wilcoxon(scores_effective_before, scores_effective_after,\n",
    "alternative= \"greater\")\n",
    "\n",
    "print(p)\n",
    "print(stat)"
   ]
  },
  {
   "cell_type": "code",
   "execution_count": 40,
   "metadata": {},
   "outputs": [
    {
     "name": "stdout",
     "output_type": "stream",
     "text": [
      "0.825878305539619\n",
      "107.0\n"
     ]
    }
   ],
   "source": [
    "# Checking if less\n",
    "stat, p = wilcoxon(scores_fair_before, scores_fair_after,\n",
    "alternative= \"less\")\n",
    "\n",
    "print(p)\n",
    "print(stat)"
   ]
  },
  {
   "cell_type": "code",
   "execution_count": 41,
   "metadata": {},
   "outputs": [
    {
     "name": "stdout",
     "output_type": "stream",
     "text": [
      "0.1741216944603809\n",
      "107.0\n"
     ]
    }
   ],
   "source": [
    "# Checking if less\n",
    "stat, p = wilcoxon(scores_fair_before, scores_fair_after,\n",
    "alternative= \"greater\")\n",
    "\n",
    "print(p)\n",
    "print(stat)"
   ]
  },
  {
   "cell_type": "code",
   "execution_count": 42,
   "metadata": {},
   "outputs": [
    {
     "name": "stdout",
     "output_type": "stream",
     "text": [
      "0.659615006419646\n",
      "116.0\n"
     ]
    }
   ],
   "source": [
    "# Checking if less\n",
    "stat, p = wilcoxon(scores_risk_before, scores_risk_after,\n",
    "alternative= \"less\")\n",
    "\n",
    "print(p)\n",
    "print(stat)"
   ]
  },
  {
   "cell_type": "code",
   "execution_count": 43,
   "metadata": {},
   "outputs": [
    {
     "name": "stdout",
     "output_type": "stream",
     "text": [
      "0.340384993580354\n",
      "116.0\n"
     ]
    }
   ],
   "source": [
    "# Checking if less\n",
    "stat, p = wilcoxon(scores_risk_before, scores_risk_after,\n",
    "alternative= \"greater\")\n",
    "\n",
    "print(p)\n",
    "print(stat)"
   ]
  },
  {
   "cell_type": "code",
   "execution_count": 44,
   "metadata": {},
   "outputs": [
    {
     "name": "stdout",
     "output_type": "stream",
     "text": [
      "0.9532286907574967\n",
      "208.5\n"
     ]
    }
   ],
   "source": [
    "# Checking if less\n",
    "stat, p = wilcoxon(scores_trust_before, scores_trust_after,\n",
    "alternative= \"less\")\n",
    "\n",
    "print(p)\n",
    "print(stat)"
   ]
  },
  {
   "cell_type": "code",
   "execution_count": 45,
   "metadata": {},
   "outputs": [
    {
     "name": "stdout",
     "output_type": "stream",
     "text": [
      "0.04677130924250325\n",
      "208.5\n"
     ]
    }
   ],
   "source": [
    "# Checking if less\n",
    "stat, p = wilcoxon(scores_trust_before, scores_trust_after,\n",
    "alternative= \"greater\")\n",
    "\n",
    "print(p)\n",
    "print(stat)"
   ]
  },
  {
   "attachments": {},
   "cell_type": "markdown",
   "metadata": {},
   "source": [
    "#### First context, first question: Is model effective?\n",
    "\n",
    "Less produces p < 0.05, hence underlying distribution of the difference of initial - final is less than symmetric about 0.\n",
    "\n",
    "Hence, model is rated significantly more effective after respondents viewed the explanations"
   ]
  },
  {
   "cell_type": "code",
   "execution_count": 46,
   "metadata": {},
   "outputs": [
    {
     "name": "stdout",
     "output_type": "stream",
     "text": [
      "0.013364819348349578\n",
      "37.0\n"
     ]
    }
   ],
   "source": [
    "# Checking if less\n",
    "stat, p = wilcoxon(df_results[\"Think that using the model is an effective method of identifying violations of the PDPA?\"], \n",
    "df_results[\"Think that using the model is an effective method of identifying violations of the PDPA?.3\"],\n",
    "alternative= \"less\")\n",
    "\n",
    "print(p)\n",
    "print(stat)"
   ]
  },
  {
   "cell_type": "code",
   "execution_count": 47,
   "metadata": {},
   "outputs": [
    {
     "name": "stdout",
     "output_type": "stream",
     "text": [
      "0.9866351806516505\n",
      "37.0\n"
     ]
    }
   ],
   "source": [
    "# Checking if greater\n",
    "stat, p = wilcoxon(df_results[\"Think that using the model is an effective method of identifying violations of the PDPA?\"], \n",
    "df_results[\"Think that using the model is an effective method of identifying violations of the PDPA?.3\"],\n",
    "alternative= \"greater\")\n",
    "\n",
    "print(p)\n",
    "print(stat)"
   ]
  },
  {
   "attachments": {},
   "cell_type": "markdown",
   "metadata": {},
   "source": [
    "#### First context, second question: Is model fair?\n",
    "\n",
    "Both less and greater does not produce p < 0.05, hence no significant difference."
   ]
  },
  {
   "cell_type": "code",
   "execution_count": 48,
   "metadata": {},
   "outputs": [
    {
     "name": "stdout",
     "output_type": "stream",
     "text": [
      "0.3822788105280631\n",
      "48.0\n"
     ]
    }
   ],
   "source": [
    "# Checking if less\n",
    "stat, p = wilcoxon(df_results[\"Think that using the model is a fair method of identifying violations of the PDPA?\"], \n",
    "df_results[\"Think that using the model is a fair method of identifying violations of the PDPA?.3\"],\n",
    "alternative= \"less\")\n",
    "\n",
    "print(p)\n",
    "print(stat)"
   ]
  },
  {
   "cell_type": "code",
   "execution_count": 49,
   "metadata": {},
   "outputs": [
    {
     "name": "stdout",
     "output_type": "stream",
     "text": [
      "0.6177211894719369\n",
      "48.0\n"
     ]
    }
   ],
   "source": [
    "# Checking if greater\n",
    "stat, p = wilcoxon(df_results[\"Think that using the model is a fair method of identifying violations of the PDPA?\"], \n",
    "df_results[\"Think that using the model is a fair method of identifying violations of the PDPA?.3\"],\n",
    "alternative= \"greater\")\n",
    "\n",
    "print(p)\n",
    "print(stat)"
   ]
  },
  {
   "attachments": {},
   "cell_type": "markdown",
   "metadata": {},
   "source": [
    "#### First context, third question: Is model a risk to society?\n",
    "\n",
    "Both less and greater does not produce p < 0.05, hence no significant difference."
   ]
  },
  {
   "cell_type": "code",
   "execution_count": 50,
   "metadata": {},
   "outputs": [
    {
     "name": "stdout",
     "output_type": "stream",
     "text": [
      "0.7558776303165339\n",
      "90.5\n"
     ]
    }
   ],
   "source": [
    "# Checking if less\n",
    "stat, p = wilcoxon(df_results[\"Think that using the model is a method that could be a risk to society?\"], \n",
    "df_results[\"Think that using the model is a method that could be a risk to society?.3\"],\n",
    "alternative= \"less\")\n",
    "\n",
    "print(p)\n",
    "print(stat)"
   ]
  },
  {
   "cell_type": "code",
   "execution_count": 51,
   "metadata": {},
   "outputs": [
    {
     "name": "stdout",
     "output_type": "stream",
     "text": [
      "0.24412236968346612\n",
      "90.5\n"
     ]
    }
   ],
   "source": [
    "# Checking if greater\n",
    "stat, p = wilcoxon(df_results[\"Think that using the model is a method that could be a risk to society?\"], \n",
    "df_results[\"Think that using the model is a method that could be a risk to society?.3\"],\n",
    "alternative= \"greater\")\n",
    "\n",
    "print(p)\n",
    "print(stat)"
   ]
  },
  {
   "attachments": {},
   "cell_type": "markdown",
   "metadata": {},
   "source": [
    "#### First context, fourth question: Do you trust prediction of the model?\n",
    "\n",
    "Both less and greater does not produce p < 0.05, hence no significant difference.\n",
    "\n",
    "BUT p value = 0.07 when testing for \"greater\", so it is almost statistically significant that trust has dropped after respondents have looked at the explanations.\n",
    "\n",
    "Means that perhaps respondents realise that AI is not as \"smart\" as it is made out to be."
   ]
  },
  {
   "cell_type": "code",
   "execution_count": 52,
   "metadata": {},
   "outputs": [
    {
     "name": "stdout",
     "output_type": "stream",
     "text": [
      "0.887122433449965\n",
      "148.5\n"
     ]
    }
   ],
   "source": [
    "# Checking if less\n",
    "stat, p = wilcoxon(df_results[\"Trust the prediction made by the model?\"], \n",
    "df_results[\"Trust the prediction made by the model?.3\"],\n",
    "alternative= \"less\")\n",
    "\n",
    "print(p)\n",
    "print(stat)"
   ]
  },
  {
   "cell_type": "code",
   "execution_count": 53,
   "metadata": {},
   "outputs": [
    {
     "name": "stdout",
     "output_type": "stream",
     "text": [
      "0.112877566550035\n",
      "148.5\n"
     ]
    }
   ],
   "source": [
    "# Checking if less\n",
    "stat, p = wilcoxon(df_results[\"Trust the prediction made by the model?\"], \n",
    "df_results[\"Trust the prediction made by the model?.3\"],\n",
    "alternative= \"greater\")\n",
    "\n",
    "print(p)\n",
    "print(stat)"
   ]
  },
  {
   "attachments": {},
   "cell_type": "markdown",
   "metadata": {},
   "source": [
    "#### Second context, first question: Is model effective? (respondent is member of the PDPC)\n",
    "\n",
    "Greater produces p < 0.05, hence underlying distribution of the difference of initial - final is greater than symmetric about 0.\n",
    "\n",
    "Hence, model is rated significantly less effective after respondents viewed the explanations"
   ]
  },
  {
   "cell_type": "code",
   "execution_count": 54,
   "metadata": {},
   "outputs": [
    {
     "name": "stdout",
     "output_type": "stream",
     "text": [
      "0.931642422516819\n",
      "75.5\n"
     ]
    }
   ],
   "source": [
    "# Checking if less\n",
    "stat, p = wilcoxon(df_results[\"Think that using the model is an effective method of identifying violations of the PDPA?.1\"], \n",
    "df_results[\"Think that using the model is an effective method of identifying violations of the PDPA?.4\"],\n",
    "alternative= \"less\")\n",
    "\n",
    "print(p)\n",
    "print(stat)"
   ]
  },
  {
   "cell_type": "code",
   "execution_count": 55,
   "metadata": {},
   "outputs": [
    {
     "name": "stdout",
     "output_type": "stream",
     "text": [
      "0.06835757748318111\n",
      "75.5\n"
     ]
    }
   ],
   "source": [
    "# Checking if less\n",
    "stat, p = wilcoxon(df_results[\"Think that using the model is an effective method of identifying violations of the PDPA?.1\"], \n",
    "df_results[\"Think that using the model is an effective method of identifying violations of the PDPA?.4\"],\n",
    "alternative= \"greater\")\n",
    "\n",
    "print(p)\n",
    "print(stat)"
   ]
  },
  {
   "attachments": {},
   "cell_type": "markdown",
   "metadata": {},
   "source": [
    "#### Second context, second question: Is model fair?\n",
    "\n",
    "p < .05 for both instances, so cannot conclude that the difference is statistically significant.\n",
    "\n",
    "BUT p = 0.1 when testing for \"greater\", so initial mean > final mean, indicates that there is also a drop of perception as to whether model is fair."
   ]
  },
  {
   "cell_type": "code",
   "execution_count": 56,
   "metadata": {},
   "outputs": [
    {
     "name": "stdout",
     "output_type": "stream",
     "text": [
      "0.8413447460685429\n",
      "58.5\n"
     ]
    }
   ],
   "source": [
    "# Checking if less\n",
    "stat, p = wilcoxon(df_results[\"Think that using the model is a fair method of identifying violations of the PDPA?.1\"], \n",
    "df_results[\"Think that using the model is a fair method of identifying violations of the PDPA?.4\"],\n",
    "alternative= \"less\")\n",
    "\n",
    "print(p)\n",
    "print(stat)"
   ]
  },
  {
   "cell_type": "code",
   "execution_count": 57,
   "metadata": {},
   "outputs": [
    {
     "name": "stdout",
     "output_type": "stream",
     "text": [
      "0.15865525393145707\n",
      "58.5\n"
     ]
    }
   ],
   "source": [
    "# Checking if less\n",
    "stat, p = wilcoxon(df_results[\"Think that using the model is a fair method of identifying violations of the PDPA?.1\"], \n",
    "df_results[\"Think that using the model is a fair method of identifying violations of the PDPA?.4\"],\n",
    "alternative= \"greater\")\n",
    "\n",
    "print(p)\n",
    "print(stat)"
   ]
  },
  {
   "attachments": {},
   "cell_type": "markdown",
   "metadata": {},
   "source": [
    "#### Second context, third question: Is model a risk to society?\n",
    "\n",
    "No perceptible difference"
   ]
  },
  {
   "cell_type": "code",
   "execution_count": 58,
   "metadata": {},
   "outputs": [
    {
     "name": "stdout",
     "output_type": "stream",
     "text": [
      "0.42775633848452\n",
      "43.0\n"
     ]
    }
   ],
   "source": [
    "stat, p = wilcoxon(df_results[\"Think that using the model is a method that could be a risk to society?.1\"], \n",
    "df_results[\"Think that using the model is a method that could be a risk to society?.4\"],\n",
    "alternative= \"less\")\n",
    "\n",
    "print(p)\n",
    "print(stat)"
   ]
  },
  {
   "cell_type": "code",
   "execution_count": 59,
   "metadata": {},
   "outputs": [
    {
     "name": "stdout",
     "output_type": "stream",
     "text": [
      "0.57224366151548\n",
      "43.0\n"
     ]
    }
   ],
   "source": [
    "stat, p = wilcoxon(df_results[\"Think that using the model is a method that could be a risk to society?.1\"], \n",
    "df_results[\"Think that using the model is a method that could be a risk to society?.4\"],\n",
    "alternative= \"greater\")\n",
    "\n",
    "print(p)\n",
    "print(stat)"
   ]
  },
  {
   "attachments": {},
   "cell_type": "markdown",
   "metadata": {},
   "source": [
    "#### Second context, fourth question: Do you trust results of model?\n",
    "\n",
    "Trust has dropped significantly p < 0.009"
   ]
  },
  {
   "cell_type": "code",
   "execution_count": 60,
   "metadata": {},
   "outputs": [
    {
     "name": "stdout",
     "output_type": "stream",
     "text": [
      "0.9450001638630365\n",
      "146.0\n"
     ]
    }
   ],
   "source": [
    "stat, p = wilcoxon(df_results[\"Trust the prediction made by the model?.1\"], \n",
    "df_results[\"Trust the prediction made by the model?.4\"],\n",
    "alternative= \"less\")\n",
    "\n",
    "print(p)\n",
    "print(stat)"
   ]
  },
  {
   "cell_type": "code",
   "execution_count": 61,
   "metadata": {},
   "outputs": [
    {
     "name": "stdout",
     "output_type": "stream",
     "text": [
      "0.054999836136963416\n",
      "146.0\n"
     ]
    }
   ],
   "source": [
    "stat, p = wilcoxon(df_results[\"Trust the prediction made by the model?.1\"], \n",
    "df_results[\"Trust the prediction made by the model?.4\"],\n",
    "alternative= \"greater\")\n",
    "\n",
    "print(p)\n",
    "print(stat)"
   ]
  },
  {
   "attachments": {},
   "cell_type": "markdown",
   "metadata": {},
   "source": [
    "#### Third context, first question: Is model effective?"
   ]
  },
  {
   "cell_type": "code",
   "execution_count": 62,
   "metadata": {},
   "outputs": [
    {
     "name": "stdout",
     "output_type": "stream",
     "text": [
      "0.8555778168267576\n",
      "87.5\n"
     ]
    }
   ],
   "source": [
    "stat, p = wilcoxon(df_results[\"Think that using the model is an effective method of identifying violations of the PDPA?.2\"], \n",
    "df_results[\"Think that using the model is an effective method of identifying violations of the PDPA?.5\"],\n",
    "alternative= \"less\")\n",
    "\n",
    "print(p)\n",
    "print(stat)"
   ]
  },
  {
   "cell_type": "code",
   "execution_count": 63,
   "metadata": {},
   "outputs": [
    {
     "name": "stdout",
     "output_type": "stream",
     "text": [
      "0.14442218317324246\n",
      "87.5\n"
     ]
    }
   ],
   "source": [
    "stat, p = wilcoxon(df_results[\"Think that using the model is an effective method of identifying violations of the PDPA?.2\"], \n",
    "df_results[\"Think that using the model is an effective method of identifying violations of the PDPA?.5\"],\n",
    "alternative= \"greater\")\n",
    "\n",
    "print(p)\n",
    "print(stat)"
   ]
  },
  {
   "attachments": {},
   "cell_type": "markdown",
   "metadata": {},
   "source": [
    "#### Third context, second question: Is model fair?"
   ]
  },
  {
   "cell_type": "code",
   "execution_count": 64,
   "metadata": {},
   "outputs": [
    {
     "name": "stdout",
     "output_type": "stream",
     "text": [
      "0.9329360318937546\n",
      "95.5\n"
     ]
    }
   ],
   "source": [
    "stat, p = wilcoxon(df_results[\"Think that using the model is a fair method of identifying violations of the PDPA?.2\"], \n",
    "df_results[\"Think that using the model is a fair method of identifying violations of the PDPA?.5\"],\n",
    "alternative= \"less\")\n",
    "\n",
    "print(p)\n",
    "print(stat)"
   ]
  },
  {
   "cell_type": "code",
   "execution_count": 65,
   "metadata": {},
   "outputs": [
    {
     "name": "stdout",
     "output_type": "stream",
     "text": [
      "0.06706396810624535\n",
      "95.5\n"
     ]
    }
   ],
   "source": [
    "stat, p = wilcoxon(df_results[\"Think that using the model is a fair method of identifying violations of the PDPA?.2\"], \n",
    "df_results[\"Think that using the model is a fair method of identifying violations of the PDPA?.5\"],\n",
    "alternative= \"greater\")\n",
    "\n",
    "print(p)\n",
    "print(stat)"
   ]
  },
  {
   "attachments": {},
   "cell_type": "markdown",
   "metadata": {},
   "source": [
    "#### Third context, third question: Is model a risk to society?"
   ]
  },
  {
   "cell_type": "code",
   "execution_count": 66,
   "metadata": {},
   "outputs": [
    {
     "name": "stdout",
     "output_type": "stream",
     "text": [
      "0.8254815027875261\n",
      "67.0\n"
     ]
    }
   ],
   "source": [
    "stat, p = wilcoxon(df_results[\"Think that using the model is a method that could be a risk to society?.2\"], \n",
    "df_results[\"Think that using the model is a method that could be a risk to society?.5\"],\n",
    "alternative= \"less\")\n",
    "\n",
    "print(p)\n",
    "print(stat)"
   ]
  },
  {
   "cell_type": "code",
   "execution_count": 67,
   "metadata": {},
   "outputs": [
    {
     "name": "stdout",
     "output_type": "stream",
     "text": [
      "0.17451849721247392\n",
      "67.0\n"
     ]
    }
   ],
   "source": [
    "stat, p = wilcoxon(df_results[\"Think that using the model is a method that could be a risk to society?.2\"], \n",
    "df_results[\"Think that using the model is a method that could be a risk to society?.5\"],\n",
    "alternative= \"greater\")\n",
    "\n",
    "print(p)\n",
    "print(stat)"
   ]
  },
  {
   "attachments": {},
   "cell_type": "markdown",
   "metadata": {},
   "source": [
    "#### Third context, fourth question: Do you trust the model?"
   ]
  },
  {
   "cell_type": "code",
   "execution_count": 68,
   "metadata": {},
   "outputs": [
    {
     "name": "stdout",
     "output_type": "stream",
     "text": [
      "0.8374102599508361\n",
      "76.5\n"
     ]
    }
   ],
   "source": [
    "stat, p = wilcoxon(df_results[\"Trust the prediction made by the model?.2\"], \n",
    "df_results[\"Trust the prediction made by the model?.5\"],\n",
    "alternative= \"less\")\n",
    "\n",
    "print(p)\n",
    "print(stat)"
   ]
  },
  {
   "cell_type": "code",
   "execution_count": 69,
   "metadata": {},
   "outputs": [
    {
     "name": "stdout",
     "output_type": "stream",
     "text": [
      "0.16258974004916393\n",
      "76.5\n"
     ]
    }
   ],
   "source": [
    "stat, p = wilcoxon(df_results[\"Trust the prediction made by the model?.2\"], \n",
    "df_results[\"Trust the prediction made by the model?.5\"],\n",
    "alternative= \"greater\")\n",
    "\n",
    "print(p)\n",
    "print(stat)"
   ]
  },
  {
   "attachments": {},
   "cell_type": "markdown",
   "metadata": {},
   "source": [
    "### Comparing whether there was a significant difference in interpretability and understanding after viewing the 4 explanations"
   ]
  },
  {
   "cell_type": "code",
   "execution_count": 14,
   "metadata": {},
   "outputs": [
    {
     "name": "stdout",
     "output_type": "stream",
     "text": [
      "0.13232547554523982\n",
      "88.5\n"
     ]
    }
   ],
   "source": [
    "stat, p = wilcoxon(df_results[\"Did you find the visualisation easy to interpret?\"], \n",
    "df_results[\"Did you find the visualisation easy to interpret?.3\"],\n",
    "alternative= \"greater\")\n",
    "\n",
    "print(p)\n",
    "print(stat)"
   ]
  },
  {
   "cell_type": "code",
   "execution_count": 15,
   "metadata": {},
   "outputs": [
    {
     "name": "stdout",
     "output_type": "stream",
     "text": [
      "0.8676745244547601\n",
      "88.5\n"
     ]
    }
   ],
   "source": [
    "stat, p = wilcoxon(df_results[\"Did you find the visualisation easy to interpret?\"], \n",
    "df_results[\"Did you find the visualisation easy to interpret?.3\"],\n",
    "alternative= \"less\")\n",
    "\n",
    "print(p)\n",
    "print(stat)"
   ]
  },
  {
   "cell_type": "code",
   "execution_count": 16,
   "metadata": {},
   "outputs": [
    {
     "name": "stdout",
     "output_type": "stream",
     "text": [
      "0.0004894688017076002\n",
      "159.0\n"
     ]
    }
   ],
   "source": [
    "stat, p = wilcoxon(df_results[\"Do you understand why the model made the prediction?\"], \n",
    "df_results[\"Do you understand why the model made the prediction?.3\"],\n",
    "alternative= \"greater\")\n",
    "\n",
    "print(p)\n",
    "print(stat)"
   ]
  },
  {
   "cell_type": "code",
   "execution_count": 17,
   "metadata": {},
   "outputs": [
    {
     "name": "stdout",
     "output_type": "stream",
     "text": [
      "0.9995105311982924\n",
      "159.0\n"
     ]
    }
   ],
   "source": [
    "stat, p = wilcoxon(df_results[\"Do you understand why the model made the prediction?\"], \n",
    "df_results[\"Do you understand why the model made the prediction?.3\"],\n",
    "alternative= \"less\")\n",
    "\n",
    "print(p)\n",
    "print(stat)"
   ]
  },
  {
   "attachments": {},
   "cell_type": "markdown",
   "metadata": {},
   "source": [
    "#### Plotting the differences in scores for the three contexts\n",
    "\n",
    "Using the mean"
   ]
  },
  {
   "cell_type": "code",
   "execution_count": 6,
   "metadata": {},
   "outputs": [
    {
     "name": "stdout",
     "output_type": "stream",
     "text": [
      "Index(['Think that using the model is an effective method of identifying violations of the PDPA?',\n",
      "       'Think that using the model is a fair method of identifying violations of the PDPA?',\n",
      "       'Think that using the model is a method that could be a risk to society?',\n",
      "       'Trust the prediction made by the model?',\n",
      "       'Think that using the model is an effective method of identifying violations of the PDPA?.1',\n",
      "       'Think that using the model is a fair method of identifying violations of the PDPA?.1',\n",
      "       'Think that using the model is a method that could be a risk to society?.1',\n",
      "       'Trust the prediction made by the model?.1',\n",
      "       'Think that using the model is an effective method of identifying violations of the PDPA?.2',\n",
      "       'Think that using the model is a fair method of identifying violations of the PDPA?.2',\n",
      "       'Think that using the model is a method that could be a risk to society?.2',\n",
      "       'Trust the prediction made by the model?.2'],\n",
      "      dtype='object')\n",
      "Index(['Think that using the model is an effective method of identifying violations of the PDPA?.3',\n",
      "       'Think that using the model is a fair method of identifying violations of the PDPA?.3',\n",
      "       'Think that using the model is a method that could be a risk to society?.3',\n",
      "       'Trust the prediction made by the model?.3',\n",
      "       'Think that using the model is an effective method of identifying violations of the PDPA?.4',\n",
      "       'Think that using the model is a fair method of identifying violations of the PDPA?.4',\n",
      "       'Think that using the model is a method that could be a risk to society?.4',\n",
      "       'Trust the prediction made by the model?.4',\n",
      "       'Think that using the model is an effective method of identifying violations of the PDPA?.5',\n",
      "       'Think that using the model is a fair method of identifying violations of the PDPA?.5',\n",
      "       'Think that using the model is a method that could be a risk to society?.5',\n",
      "       'Trust the prediction made by the model?.5'],\n",
      "      dtype='object')\n"
     ]
    }
   ],
   "source": [
    "feature_names = [\"Effective\", \"Fair\", \"Risk to society\", \"Trust\"]\n",
    "\n",
    "print(df_results.columns[13:25])\n",
    "print(df_results.columns[46:-2])"
   ]
  },
  {
   "cell_type": "code",
   "execution_count": 36,
   "metadata": {},
   "outputs": [],
   "source": [
    "mean_context1_before = []\n",
    "\n",
    "for col in df_results.columns[13:17] :\n",
    "    mean_context1_before.append(df_results[col].mean())\n",
    "\n",
    "mean_context1_after = []\n",
    "\n",
    "for col in df_results.columns[46:50] :\n",
    "    mean_context1_after.append(df_results[col].mean())"
   ]
  },
  {
   "cell_type": "code",
   "execution_count": 8,
   "metadata": {},
   "outputs": [],
   "source": [
    "mean_context2_before = []\n",
    "\n",
    "for col in df_results.columns[17:21] :\n",
    "    mean_context2_before.append(df_results[col].mean())\n",
    "\n",
    "mean_context2_after = []\n",
    "\n",
    "for col in df_results.columns[50:54] :\n",
    "    mean_context2_after.append(df_results[col].mean())"
   ]
  },
  {
   "cell_type": "code",
   "execution_count": 9,
   "metadata": {},
   "outputs": [],
   "source": [
    "mean_context3_before = []\n",
    "\n",
    "for col in df_results.columns[21:25] :\n",
    "    mean_context3_before.append(df_results[col].mean())\n",
    "\n",
    "mean_context3_after = []\n",
    "\n",
    "for col in df_results.columns[54:58] :\n",
    "    mean_context3_after.append(df_results[col].mean())"
   ]
  },
  {
   "cell_type": "code",
   "execution_count": 17,
   "metadata": {},
   "outputs": [],
   "source": [
    "df_mean_context = pd.DataFrame(\n",
    "    {\"metric\" : [\"Effective\", \"Fair\", \"Risk\", \"Trust\"],\n",
    "    \"context1_before\" : mean_context1_before,\n",
    "     \"context2_before\" : mean_context2_before,\n",
    "     \"context3_before\" : mean_context3_before,\n",
    "     \"context1_after\" : mean_context1_after,\n",
    "     \"context2_after\" : mean_context2_after,\n",
    "     \"context3_after\" : mean_context3_after\n",
    "    }\n",
    ")"
   ]
  },
  {
   "cell_type": "code",
   "execution_count": 18,
   "metadata": {},
   "outputs": [
    {
     "data": {
      "text/html": [
       "<div>\n",
       "<style scoped>\n",
       "    .dataframe tbody tr th:only-of-type {\n",
       "        vertical-align: middle;\n",
       "    }\n",
       "\n",
       "    .dataframe tbody tr th {\n",
       "        vertical-align: top;\n",
       "    }\n",
       "\n",
       "    .dataframe thead th {\n",
       "        text-align: right;\n",
       "    }\n",
       "</style>\n",
       "<table border=\"1\" class=\"dataframe\">\n",
       "  <thead>\n",
       "    <tr style=\"text-align: right;\">\n",
       "      <th></th>\n",
       "      <th>metric</th>\n",
       "      <th>context1_before</th>\n",
       "      <th>context2_before</th>\n",
       "      <th>context3_before</th>\n",
       "      <th>context1_after</th>\n",
       "      <th>context2_after</th>\n",
       "      <th>context3_after</th>\n",
       "    </tr>\n",
       "  </thead>\n",
       "  <tbody>\n",
       "    <tr>\n",
       "      <th>0</th>\n",
       "      <td>Effective</td>\n",
       "      <td>2.806452</td>\n",
       "      <td>2.967742</td>\n",
       "      <td>3.290323</td>\n",
       "      <td>3.225806</td>\n",
       "      <td>2.709677</td>\n",
       "      <td>3.096774</td>\n",
       "    </tr>\n",
       "    <tr>\n",
       "      <th>1</th>\n",
       "      <td>Fair</td>\n",
       "      <td>2.935484</td>\n",
       "      <td>2.806452</td>\n",
       "      <td>3.258065</td>\n",
       "      <td>2.967742</td>\n",
       "      <td>2.645161</td>\n",
       "      <td>3.000000</td>\n",
       "    </tr>\n",
       "    <tr>\n",
       "      <th>2</th>\n",
       "      <td>Risk</td>\n",
       "      <td>2.806452</td>\n",
       "      <td>2.516129</td>\n",
       "      <td>3.000000</td>\n",
       "      <td>2.677419</td>\n",
       "      <td>2.548387</td>\n",
       "      <td>2.838710</td>\n",
       "    </tr>\n",
       "    <tr>\n",
       "      <th>3</th>\n",
       "      <td>Trust</td>\n",
       "      <td>2.967742</td>\n",
       "      <td>2.935484</td>\n",
       "      <td>3.129032</td>\n",
       "      <td>2.741935</td>\n",
       "      <td>2.580645</td>\n",
       "      <td>2.967742</td>\n",
       "    </tr>\n",
       "  </tbody>\n",
       "</table>\n",
       "</div>"
      ],
      "text/plain": [
       "      metric  context1_before  context2_before  context3_before  \\\n",
       "0  Effective         2.806452         2.967742         3.290323   \n",
       "1       Fair         2.935484         2.806452         3.258065   \n",
       "2       Risk         2.806452         2.516129         3.000000   \n",
       "3      Trust         2.967742         2.935484         3.129032   \n",
       "\n",
       "   context1_after  context2_after  context3_after  \n",
       "0        3.225806        2.709677        3.096774  \n",
       "1        2.967742        2.645161        3.000000  \n",
       "2        2.677419        2.548387        2.838710  \n",
       "3        2.741935        2.580645        2.967742  "
      ]
     },
     "execution_count": 18,
     "metadata": {},
     "output_type": "execute_result"
    }
   ],
   "source": [
    "df_mean_context"
   ]
  },
  {
   "cell_type": "code",
   "execution_count": 24,
   "metadata": {},
   "outputs": [
    {
     "data": {
      "text/html": [
       "<div>\n",
       "<style scoped>\n",
       "    .dataframe tbody tr th:only-of-type {\n",
       "        vertical-align: middle;\n",
       "    }\n",
       "\n",
       "    .dataframe tbody tr th {\n",
       "        vertical-align: top;\n",
       "    }\n",
       "\n",
       "    .dataframe thead th {\n",
       "        text-align: right;\n",
       "    }\n",
       "</style>\n",
       "<table border=\"1\" class=\"dataframe\">\n",
       "  <thead>\n",
       "    <tr style=\"text-align: right;\">\n",
       "      <th></th>\n",
       "      <th>metric</th>\n",
       "      <th>context</th>\n",
       "      <th>mean score</th>\n",
       "    </tr>\n",
       "  </thead>\n",
       "  <tbody>\n",
       "    <tr>\n",
       "      <th>0</th>\n",
       "      <td>Effective</td>\n",
       "      <td>context1_before</td>\n",
       "      <td>2.806452</td>\n",
       "    </tr>\n",
       "    <tr>\n",
       "      <th>1</th>\n",
       "      <td>Fair</td>\n",
       "      <td>context1_before</td>\n",
       "      <td>2.935484</td>\n",
       "    </tr>\n",
       "    <tr>\n",
       "      <th>2</th>\n",
       "      <td>Risk</td>\n",
       "      <td>context1_before</td>\n",
       "      <td>2.806452</td>\n",
       "    </tr>\n",
       "    <tr>\n",
       "      <th>3</th>\n",
       "      <td>Trust</td>\n",
       "      <td>context1_before</td>\n",
       "      <td>2.967742</td>\n",
       "    </tr>\n",
       "    <tr>\n",
       "      <th>4</th>\n",
       "      <td>Effective</td>\n",
       "      <td>context2_before</td>\n",
       "      <td>2.967742</td>\n",
       "    </tr>\n",
       "  </tbody>\n",
       "</table>\n",
       "</div>"
      ],
      "text/plain": [
       "      metric          context  mean score\n",
       "0  Effective  context1_before    2.806452\n",
       "1       Fair  context1_before    2.935484\n",
       "2       Risk  context1_before    2.806452\n",
       "3      Trust  context1_before    2.967742\n",
       "4  Effective  context2_before    2.967742"
      ]
     },
     "execution_count": 24,
     "metadata": {},
     "output_type": "execute_result"
    }
   ],
   "source": [
    "df_mean_compare = pd.melt(df_mean_context, id_vars = [\"metric\"], value_vars = list(df_mean_context.columns), var_name=\"context\", value_name=\"mean score\")\n",
    "\n",
    "df_mean_compare.head()"
   ]
  },
  {
   "cell_type": "code",
   "execution_count": 35,
   "metadata": {},
   "outputs": [
    {
     "data": {
      "image/png": "[encoded data removed]",
      "text/plain": [
       "<Figure size 779.792x400 with 1 Axes>"
      ]
     },
     "metadata": {},
     "output_type": "display_data"
    }
   ],
   "source": [
    "sns.set(rc={'figure.figsize':(10,6)})\n",
    "\n",
    "plot = sns.catplot(df_mean_compare, x = \"context\", y = \"mean score\", hue = \"metric\", kind = \"point\", height = 4, aspect = 10/6)\n",
    "\n",
    "for axes in plot.axes.flat:\n",
    "    _ = axes.set_xticklabels(axes.get_xticklabels(), rotation=90)"
   ]
  },
  {
   "attachments": {},
   "cell_type": "markdown",
   "metadata": {},
   "source": [
    "### Whether there is a significant preference between the two models in part 4 and part 5\n",
    "\n",
    "#### For Log + glove vs svc + glove"
   ]
  },
  {
   "cell_type": "code",
   "execution_count": 77,
   "metadata": {},
   "outputs": [
    {
     "name": "stdout",
     "output_type": "stream",
     "text": [
      "Index(['Which explanation did you find easier to interpret?',\n",
      "       'Which explanation did you find easier to interpret?.1',\n",
      "       'Which explanation did you find easier to interpret?.2'],\n",
      "      dtype='object')\n"
     ]
    }
   ],
   "source": [
    "# Part 4: Comparing between log + glove vs svc + glove\n",
    "print(df_results.columns[40:43])"
   ]
  },
  {
   "cell_type": "code",
   "execution_count": 78,
   "metadata": {},
   "outputs": [],
   "source": [
    "ls = []\n",
    "for col in df_results.columns[40:43]:\n",
    "    ls.append(df_results[col])"
   ]
  },
  {
   "cell_type": "code",
   "execution_count": 79,
   "metadata": {},
   "outputs": [
    {
     "data": {
      "text/plain": [
       "array(['No difference', '4.1(ii)', '4.1(i)', '4.2(ii)', '4.2(i)',\n",
       "       '4.3(i)', '4.3(ii)'], dtype=object)"
      ]
     },
     "execution_count": 79,
     "metadata": {},
     "output_type": "execute_result"
    }
   ],
   "source": [
    "part4_votes = pd.concat(ls)\n",
    "part4_votes.unique()"
   ]
  },
  {
   "cell_type": "code",
   "execution_count": 80,
   "metadata": {},
   "outputs": [],
   "source": [
    "part4_votes = part4_votes.replace({\n",
    "    \"4.1(i)\" : \"log+glove\",\n",
    "    \"4.1(ii)\" : \"svc+glove\",\n",
    "    \"4.2(i)\" : \"log+glove\",\n",
    "    \"4.2(ii)\" : \"svc+glove\",\n",
    "    \"4.3(i)\" : \"log+glove\",\n",
    "    \"4.3(ii)\" : \"svc+glove\"\n",
    "    })"
   ]
  },
  {
   "cell_type": "code",
   "execution_count": 81,
   "metadata": {},
   "outputs": [],
   "source": [
    "df_part4_votes = part4_votes.value_counts().rename_axis('vote').reset_index(name='counts')"
   ]
  },
  {
   "cell_type": "code",
   "execution_count": 101,
   "metadata": {},
   "outputs": [
    {
     "data": {
      "text/plain": [
       "[Text(0, 0, '74'), Text(0, 0, '11'), Text(0, 0, '8')]"
      ]
     },
     "execution_count": 101,
     "metadata": {},
     "output_type": "execute_result"
    },
    {
     "data": {
      "image/png": "[encoded data removed]",
      "text/plain": [
       "<Figure size 500x400 with 1 Axes>"
      ]
     },
     "metadata": {},
     "output_type": "display_data"
    }
   ],
   "source": [
    "# Overall votes\n",
    "sns.set(rc={'figure.figsize':(5,4)})\n",
    "ax = sns.barplot(data = df_part4_votes, x = \"vote\", y = \"counts\")\n",
    "ax.bar_label(ax.containers[0])"
   ]
  },
  {
   "cell_type": "code",
   "execution_count": 115,
   "metadata": {},
   "outputs": [
    {
     "data": {
      "image/png": "[encoded data removed]",
      "text/plain": [
       "<Figure size 1200x500 with 3 Axes>"
      ]
     },
     "metadata": {},
     "output_type": "display_data"
    }
   ],
   "source": [
    "# Per question\n",
    "fig, ax = plt.subplots(1, 3)\n",
    "sns.set(rc={'figure.figsize':(12,5)})\n",
    "\n",
    "df_temp = pd.DataFrame(\n",
    "    {\"qn_1\" : df_results[\"Which explanation did you find easier to interpret?\"],\n",
    "     \"qn_2\" : df_results[\"Which explanation did you find easier to interpret?.1\"],\n",
    "    \"qn_3\" : df_results[\"Which explanation did you find easier to interpret?.2\"]\n",
    "    }\n",
    ")\n",
    "\n",
    "df_temp = df_temp.replace({\n",
    "    \"4.1(i)\" : \"log+glove\",\n",
    "    \"4.1(ii)\" : \"svc+glove\",\n",
    "    \"4.2(i)\" : \"log+glove\",\n",
    "    \"4.2(ii)\" : \"svc+glove\",\n",
    "    \"4.3(i)\" : \"log+glove\",\n",
    "    \"4.3(ii)\" : \"svc+glove\"\n",
    "    })\n",
    "\n",
    "cat_order = [\"No difference\", \"svc+glove\", \"log+glove\"]\n",
    "\n",
    "sns.countplot(x = 'qn_1', data = df_temp, ax = ax[0], order = cat_order)\n",
    "sns.countplot(x = 'qn_2', data = df_temp, ax = ax[1], order = cat_order)\n",
    "sns.countplot(x = 'qn_3', data = df_temp, ax = ax[2], order = cat_order)\n",
    "\n",
    "plt.setp(ax, ylim=(0, 30))\n",
    "plt.show()"
   ]
  },
  {
   "attachments": {},
   "cell_type": "markdown",
   "metadata": {},
   "source": [
    "### Part 5: Comparing between svc + tfidf vs svc + glove\n",
    "\n",
    "#### Total no. of votes across the questions\n",
    "\n",
    "1st model: 9 + 5 + 4 = 29\n",
    "\n",
    "2nd model: 5 + 10 + 10 = 30\n",
    "\n",
    "No difference: 6 + 5 + 4 = 25"
   ]
  },
  {
   "cell_type": "code",
   "execution_count": 84,
   "metadata": {},
   "outputs": [],
   "source": [
    "ls = []\n",
    "for col in df_results.columns[43:46]:\n",
    "    ls.append(df_results[col])"
   ]
  },
  {
   "cell_type": "code",
   "execution_count": 85,
   "metadata": {},
   "outputs": [
    {
     "data": {
      "text/plain": [
       "array(['5.1(ii)', '5.1(i)', 'No difference', '5.2(ii)', '5.2(i)',\n",
       "       '5.3(ii)', '5.3(i)'], dtype=object)"
      ]
     },
     "execution_count": 85,
     "metadata": {},
     "output_type": "execute_result"
    }
   ],
   "source": [
    "part5_votes = pd.concat(ls)\n",
    "part5_votes.unique()"
   ]
  },
  {
   "cell_type": "code",
   "execution_count": 122,
   "metadata": {},
   "outputs": [],
   "source": [
    "part5_votes = part5_votes.replace({\n",
    "    \"5.1(i)\" : \"svc+tfidf\",\n",
    "    \"5.1(ii)\" : \"svc+glove\",\n",
    "    \"5.2(i)\" : \"svc+tfidf\",\n",
    "    \"5.2(ii)\" : \"svc+glove\",\n",
    "    \"5.3(i)\" : \"svc+tfidf\",\n",
    "    \"5.3(ii)\" : \"svc+glove\"\n",
    "    })"
   ]
  },
  {
   "cell_type": "code",
   "execution_count": 87,
   "metadata": {},
   "outputs": [],
   "source": [
    "df_part5_votes = part5_votes.value_counts().rename_axis('vote').reset_index(name='counts')"
   ]
  },
  {
   "cell_type": "code",
   "execution_count": 124,
   "metadata": {},
   "outputs": [
    {
     "data": {
      "text/plain": [
       "[Text(0, 0, '30'), Text(0, 0, '30'), Text(0, 0, '33')]"
      ]
     },
     "execution_count": 124,
     "metadata": {},
     "output_type": "execute_result"
    },
    {
     "data": {
      "image/png": "[encoded data removed]",
      "text/plain": [
       "<Figure size 600x400 with 1 Axes>"
      ]
     },
     "metadata": {},
     "output_type": "display_data"
    }
   ],
   "source": [
    "# Overall votes\n",
    "cat_order = [\"No difference\", \"svc+tfidf\", \"svc+glove\"]\n",
    "\n",
    "sns.set(rc={'figure.figsize':(6,4)})\n",
    "ax = sns.barplot(data = df_part5_votes, x = \"vote\", y = \"counts\", order = cat_order)\n",
    "ax.bar_label(ax.containers[0])"
   ]
  },
  {
   "cell_type": "code",
   "execution_count": 164,
   "metadata": {},
   "outputs": [
    {
     "data": {
      "image/png": "[encoded data removed]",
      "text/plain": [
       "<Figure size 1400x500 with 3 Axes>"
      ]
     },
     "metadata": {},
     "output_type": "display_data"
    }
   ],
   "source": [
    "fig, ax = plt.subplots(1, 3, sharey=True)\n",
    "sns.set(rc={'figure.figsize':(14,5)})\n",
    "\n",
    "cat_order = [\"No difference\", \"svc+tfidf\", \"svc+glove\"]\n",
    "\n",
    "df_temp = pd.DataFrame(\n",
    "    {\"qn_1\" : df_results[\"Which explanation did you find easier to interpret?.3\"],\n",
    "     \"qn_2\" : df_results[\"Which explanation did you find easier to interpret?.4\"],\n",
    "    \"qn_3\" : df_results[\"Which explanation did you find easier to interpret?.5\"]\n",
    "    }\n",
    ")\n",
    "\n",
    "df_temp = df_temp.replace({\n",
    "    \"5.1(i)\" : \"svc+tfidf\",\n",
    "    \"5.1(ii)\" : \"svc+glove\",\n",
    "    \"5.2(i)\" : \"svc+tfidf\",\n",
    "    \"5.2(ii)\" : \"svc+glove\",\n",
    "    \"5.3(i)\" : \"svc+tfidf\",\n",
    "    \"5.3(ii)\" : \"svc+glove\"\n",
    "    })\n",
    "\n",
    "subplot1 = sns.countplot(x = 'qn_1', data = df_temp, ax = ax[0], order = cat_order)\n",
    "subplot2 = sns.countplot(x = 'qn_2', data = df_temp, ax = ax[1], order = cat_order)\n",
    "subplot3 = sns.countplot(x = 'qn_3', data = df_temp, ax = ax[2], order = cat_order)\n",
    "\n",
    "plt.setp(ax, ylim=(0, 15))\n",
    "\n",
    "subplot1.bar_label(ax[0].containers[0])\n",
    "subplot2.bar_label(ax[1].containers[0])\n",
    "subplot3.bar_label(ax[2].containers[0])\n",
    "\n",
    "plt.show()"
   ]
  },
  {
   "attachments": {},
   "cell_type": "markdown",
   "metadata": {},
   "source": [
    "### Part 3: Looking at whether the metrics of understanding increased over the questions "
   ]
  },
  {
   "cell_type": "code",
   "execution_count": 90,
   "metadata": {},
   "outputs": [
    {
     "name": "stdout",
     "output_type": "stream",
     "text": [
      "Index(['Do you understand why the model made the prediction?',\n",
      "       'Why do you think the model made this prediction? ',\n",
      "       'Did you find the visualisation easy to interpret?',\n",
      "       'Do you understand why the model made the prediction?.1',\n",
      "       'Why do you think the model made this prediction? .1',\n",
      "       'Did you find the visualisation easy to interpret?.1',\n",
      "       'Based on your current understanding, do you think that the sentence below would be predicted to be \"Identifier_Cookie_or_Similar_Tech_1stParty\"?\\n\\n\"We also use tracking technologies to keep records, store your preferences, improve our advertising, and collect Non-Identifying Information, including Device Data and information about your interaction with the Site and our Business Partners' web sites.\"',\n",
      "       'Do you understand why the model made the prediction?.2',\n",
      "       'Why do you think the model made this prediction?',\n",
      "       'Did you find the visualisation easy to interpret?.2',\n",
      "       'Based on your current understanding, do you think the sentence below would be predicted to be in \"Identifier_Cookie_or_Similar_Tech_1stParty?\"\\n\\n\"As explained above, you may either volunteer to us certain information (such as your phone number), or we may automatically collect certain information, such as through the use of your mobile device system's permissions, or through the use of cookies or similar tracking technologies.\"',\n",
      "       'Do you understand why the model made the prediction?.3',\n",
      "       'Why do you think the model made this prediction?.1',\n",
      "       'Did you find the visualisation easy to interpret?.3',\n",
      "       'Based on your current understanding, do you think the sentence below would be predicted to be in \"Identifier_Cookie_or_Similar_Tech_1stParty?\"\\n\\n\"These cookies and other such tracking technologies allow the collection of data, such as your device's model, operating system and screen size, the other applications installed on your device, and information about how you use our services.\"'],\n",
      "      dtype='object')\n"
     ]
    }
   ],
   "source": [
    "# Part 3: Assessing understandability of log + tfidf\n",
    "print(df_results.columns[25:40])"
   ]
  },
  {
   "cell_type": "code",
   "execution_count": 19,
   "metadata": {},
   "outputs": [],
   "source": [
    "# Plot a scatterplot with confidence interval\n",
    "part3_understand = []\n",
    "part3_interpret = []\n",
    "\n",
    "part3_understand.append(df_results[\"Do you understand why the model made the prediction?\"])\n",
    "part3_understand.append(df_results[\"Do you understand why the model made the prediction?.1\"])\n",
    "part3_understand.append(df_results[\"Do you understand why the model made the prediction?.2\"])\n",
    "part3_understand.append(df_results[\"Do you understand why the model made the prediction?.3\"])\n",
    "\n",
    "part3_interpret.append(df_results[\"Did you find the visualisation easy to interpret?\"])\n",
    "part3_interpret.append(df_results[\"Did you find the visualisation easy to interpret?.1\"])\n",
    "part3_interpret.append(df_results[\"Did you find the visualisation easy to interpret?.2\"])\n",
    "part3_interpret.append(df_results[\"Did you find the visualisation easy to interpret?.3\"])\n",
    "\n",
    "part3_understand_series = pd.concat(part3_understand, ignore_index=True)\n",
    "part3_interpret_series = pd.concat(part3_interpret, ignore_index=True)"
   ]
  },
  {
   "cell_type": "code",
   "execution_count": 20,
   "metadata": {},
   "outputs": [],
   "source": [
    "num_qns = len(part3_interpret[0])\n",
    "question_no = [1] * num_qns + [2] * num_qns + [3] * num_qns + [4] * num_qns"
   ]
  },
  {
   "cell_type": "code",
   "execution_count": 21,
   "metadata": {},
   "outputs": [],
   "source": [
    "df_part3 = pd.DataFrame(\n",
    "    data = {\n",
    "        \"question_no\" : question_no,\n",
    "        \"understand\" : part3_understand_series,\n",
    "        \"interpret\" : part3_interpret_series\n",
    "    }\n",
    ")"
   ]
  },
  {
   "cell_type": "code",
   "execution_count": 22,
   "metadata": {},
   "outputs": [
    {
     "data": {
      "text/html": [
       "<div>\n",
       "<style scoped>\n",
       "    .dataframe tbody tr th:only-of-type {\n",
       "        vertical-align: middle;\n",
       "    }\n",
       "\n",
       "    .dataframe tbody tr th {\n",
       "        vertical-align: top;\n",
       "    }\n",
       "\n",
       "    .dataframe thead th {\n",
       "        text-align: right;\n",
       "    }\n",
       "</style>\n",
       "<table border=\"1\" class=\"dataframe\">\n",
       "  <thead>\n",
       "    <tr style=\"text-align: right;\">\n",
       "      <th></th>\n",
       "      <th>question_no</th>\n",
       "      <th>metric</th>\n",
       "      <th>score</th>\n",
       "    </tr>\n",
       "  </thead>\n",
       "  <tbody>\n",
       "    <tr>\n",
       "      <th>0</th>\n",
       "      <td>1</td>\n",
       "      <td>understand</td>\n",
       "      <td>5</td>\n",
       "    </tr>\n",
       "    <tr>\n",
       "      <th>1</th>\n",
       "      <td>1</td>\n",
       "      <td>understand</td>\n",
       "      <td>4</td>\n",
       "    </tr>\n",
       "    <tr>\n",
       "      <th>2</th>\n",
       "      <td>1</td>\n",
       "      <td>understand</td>\n",
       "      <td>3</td>\n",
       "    </tr>\n",
       "    <tr>\n",
       "      <th>3</th>\n",
       "      <td>1</td>\n",
       "      <td>understand</td>\n",
       "      <td>5</td>\n",
       "    </tr>\n",
       "    <tr>\n",
       "      <th>4</th>\n",
       "      <td>1</td>\n",
       "      <td>understand</td>\n",
       "      <td>4</td>\n",
       "    </tr>\n",
       "  </tbody>\n",
       "</table>\n",
       "</div>"
      ],
      "text/plain": [
       "   question_no      metric  score\n",
       "0            1  understand      5\n",
       "1            1  understand      4\n",
       "2            1  understand      3\n",
       "3            1  understand      5\n",
       "4            1  understand      4"
      ]
     },
     "execution_count": 22,
     "metadata": {},
     "output_type": "execute_result"
    }
   ],
   "source": [
    "df_part3 = pd.melt(df_part3, id_vars = [\"question_no\"], value_vars = [\"understand\", \"interpret\"], value_name=\"score\", var_name = \"metric\")\n",
    "df_part3.head()"
   ]
  },
  {
   "cell_type": "code",
   "execution_count": 30,
   "metadata": {},
   "outputs": [
    {
     "data": {
      "text/plain": [
       "<seaborn.axisgrid.FacetGrid at 0x12ca748f708>"
      ]
     },
     "execution_count": 30,
     "metadata": {},
     "output_type": "execute_result"
    },
    {
     "data": {
      "image/png": "[encoded data removed]",
      "text/plain": [
       "<Figure size 631.5x500 with 1 Axes>"
      ]
     },
     "metadata": {},
     "output_type": "display_data"
    }
   ],
   "source": [
    "sns.set(rc={'figure.figsize':(6,3)})\n",
    "\n",
    "sns.catplot(x = \"question_no\", y = \"score\", data = df_part3, hue = \"metric\", kind = \"point\").set(title = \"Mean scores of understandability and interpretability after viewing each explanation\")"
   ]
  },
  {
   "cell_type": "markdown",
   "metadata": {},
   "source": [
    "#### Looking at whether counterfactuals were correctly predicted"
   ]
  },
  {
   "cell_type": "code",
   "execution_count": 96,
   "metadata": {},
   "outputs": [],
   "source": [
    "df_counterfactuals = df_results.iloc[:, [31, 35, 39]]"
   ]
  },
  {
   "cell_type": "code",
   "execution_count": 137,
   "metadata": {},
   "outputs": [],
   "source": [
    "df_counterfactuals = df_counterfactuals.set_axis([\"qn_1\", \"qn_2\", \"qn_3\"], axis = 1)"
   ]
  },
  {
   "cell_type": "code",
   "execution_count": 161,
   "metadata": {},
   "outputs": [
    {
     "data": {
      "text/plain": [
       "[0.0, 30.0, 0.0, 30.0, 0.0, 30.0]"
      ]
     },
     "execution_count": 161,
     "metadata": {},
     "output_type": "execute_result"
    },
    {
     "data": {
      "image/png": "[encoded data removed]",
      "text/plain": [
       "<Figure size 700x500 with 3 Axes>"
      ]
     },
     "metadata": {},
     "output_type": "display_data"
    }
   ],
   "source": [
    "fig, ax = plt.subplots(1, 3, sharey = True)\n",
    "sns.set(rc={'figure.figsize':(7,5)})\n",
    "\n",
    "cat_order = [\"Yes\", \"No\"]\n",
    "\n",
    "subplot1 = sns.countplot(data = df_counterfactuals, x = \"qn_1\", ax = ax[0], order = cat_order)\n",
    "subplot2 = sns.countplot(x = df_counterfactuals.iloc[: ,1], ax = ax[1], order = cat_order)\n",
    "subplot3 = sns.countplot(x = df_counterfactuals.iloc[: ,2], ax = ax[2], order = cat_order)\n",
    "\n",
    "ax[1].yaxis.label.set_visible(False)\n",
    "ax[2].yaxis.label.set_visible(False)\n",
    "\n",
    "subplot1.bar_label(ax[0].containers[0])\n",
    "subplot2.bar_label(ax[1].containers[0])\n",
    "subplot3.bar_label(ax[2].containers[0])\n",
    "\n",
    "plt.setp(ax, ylim=(0, 30))\n",
    "\n",
    "# ax.set(xlabel = \"\")\n",
    "# ax.bar_label(ax.containers[0])"
   ]
  },
  {
   "cell_type": "code",
   "execution_count": 98,
   "metadata": {},
   "outputs": [
    {
     "data": {
      "text/plain": [
       "[Text(0, 0, '20'), Text(0, 0, '11')]"
      ]
     },
     "execution_count": 98,
     "metadata": {},
     "output_type": "execute_result"
    },
    {
     "data": {
      "image/png": "[encoded data removed]",
      "text/plain": [
       "<Figure size 400x400 with 1 Axes>"
      ]
     },
     "metadata": {},
     "output_type": "display_data"
    }
   ],
   "source": [
    "ax = sns.countplot(x = df_counterfactuals.iloc[: ,1])\n",
    "ax.set(xlabel = \"\")\n",
    "ax.bar_label(ax.containers[0])"
   ]
  },
  {
   "cell_type": "code",
   "execution_count": 99,
   "metadata": {},
   "outputs": [
    {
     "data": {
      "text/plain": [
       "[Text(0, 0, '26'), Text(0, 0, '5')]"
      ]
     },
     "execution_count": 99,
     "metadata": {},
     "output_type": "execute_result"
    },
    {
     "data": {
      "image/png": "[encoded data removed]",
      "text/plain": [
       "<Figure size 400x400 with 1 Axes>"
      ]
     },
     "metadata": {},
     "output_type": "display_data"
    }
   ],
   "source": [
    "ax = sns.countplot(x = df_counterfactuals.iloc[: ,2])\n",
    "ax.set(xlabel = \"\")\n",
    "ax.bar_label(ax.containers[0])"
   ]
  }
 ],
 "metadata": {
  "kernelspec": {
   "display_name": "capstone",
   "language": "python",
   "name": "python3"
  },
  "language_info": {
   "codemirror_mode": {
    "name": "ipython",
    "version": 3
   },
   "file_extension": ".py",
   "mimetype": "text/x-python",
   "name": "python",
   "nbconvert_exporter": "python",
   "pygments_lexer": "ipython3",
   "version": "3.7.5"
  },
  "orig_nbformat": 4,
  "vscode": {
   "interpreter": {
    "hash": "074bdd6634e7f1aa4b2736abb42d11700918ff161bbb44ab231e1fb03af01ff7"
   }
  }
 },
 "nbformat": 4,
 "nbformat_minor": 2
}
